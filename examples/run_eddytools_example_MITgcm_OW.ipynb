{
 "cells": [
  {
   "cell_type": "code",
   "execution_count": 1,
   "metadata": {},
   "outputs": [],
   "source": [
    "from glob import glob\n",
    "import numpy as np\n",
    "import xarray as xr\n",
    "from matplotlib import pyplot as plt\n",
    "import xmitgcm as xmit\n",
    "import convertMITgcmTime.convertMITgcmTime as cmt\n",
    "import xgcm\n",
    "import pickle\n",
    "import eddytools as et\n",
    "from cmocean import cm\n",
    "\n",
    "import warnings\n",
    "warnings.simplefilter(action='ignore', category=RuntimeWarning)\n",
    "# Obviously it is not a great idea to ignore warnings, however there are quite many\n",
    "# RuntimeWarnings because of division by 0 in some parts of this notebook. To keep\n",
    "# the instructive nature of this example notebook, these warnings are ignored."
   ]
  },
  {
   "cell_type": "markdown",
   "metadata": {},
   "source": [
    "Uncomment the following cell to use `dask distributed` (i.e. when using `dask.bags` in the detection).  \n",
    "__This is experimental not thouroughly tested__"
   ]
  },
  {
   "cell_type": "code",
   "execution_count": 2,
   "metadata": {},
   "outputs": [],
   "source": [
    "#from dask.distributed import Client, LocalCluster\n",
    "#cluster = LocalCluster(n_workers=1, threads_per_worker=4)\n",
    "#client = Client(cluster)\n",
    "#client"
   ]
  },
  {
   "cell_type": "code",
   "execution_count": 3,
   "metadata": {},
   "outputs": [],
   "source": [
    "# paths\n",
    "datapath = '/home/jan/Data/MITgcm_test_data/'\n",
    "gridpath = '/home/jan/Data/MITgcm_test_data/grid/'"
   ]
  },
  {
   "cell_type": "markdown",
   "metadata": {},
   "source": [
    "### Loading data\n",
    "In case the MITgcm output is in binary format (`*.meta` and `*.data`), use `xmitgcm` to load the data. If the data is in `netCDF` format, make sure that you define all the necessary grid information for `xgcm` to work properly! Because the time dimension of the MITgcm model calendar does not really contain information about the calendar used, we create a new time dimension that can be understood by `xarray` with [`convertMITgcmTime`](https://github.com/jk-rieck/convertMITgcmTime)."
   ]
  },
  {
   "cell_type": "code",
<<<<<<< HEAD
<<<<<<< HEAD
   "execution_count": 6,
=======
   "execution_count": 4,
>>>>>>> updated example notebooks based on MITgcm
=======
   "execution_count": 4,
>>>>>>> 496ab6eb83f621cecad47543189988d9da46342e
   "metadata": {},
   "outputs": [],
   "source": [
    "# load data\n",
    "start = 1555200\n",
    "end = 1580760\n",
    "step = 360\n",
    "dt = 1200.\n",
    "data = xmit.open_mdsdataset(datapath, iters=list(np.arange(start, end + 1, step)), delta_t=dt,\n",
    "                            ignore_unknown_vars=True, grid_dir=gridpath, \n",
    "                            geometry=\"cartesian\", calendar=\"360_day\", ref_date=\"0000-12-28 12:00:00\", \n",
    "                            prefix=\"3D_diags_5d\")\n",
    "data = data.chunk({'time': 1, 'Z': 55, 'Zl': 55, 'Zu': 55, 'Zp1': 56, 'XC': 250, 'XG': 250, 'YC': 300, 'YG': 300})"
   ]
  },
  {
   "cell_type": "code",
<<<<<<< HEAD
<<<<<<< HEAD
   "execution_count": 8,
=======
   "execution_count": 5,
>>>>>>> updated example notebooks based on MITgcm
=======
   "execution_count": 5,
>>>>>>> 496ab6eb83f621cecad47543189988d9da46342e
   "metadata": {},
   "outputs": [],
   "source": [
    "# define metrics for xgcm (not strictly necessary)\n",
    "data['drW'] = data.hFacW * data.drF #vertical cell size at u point\n",
    "data['drS'] = data.hFacS * data.drF #vertical cell size at v point\n",
    "data['drC'] = data.hFacC * data.drF #vertical cell size at tracer point\n",
    "data = data.set_coords([\"drW\", \"drS\", \"drC\"])\n",
    "\n",
    "metrics = {\n",
    "    ('X'): ['dxC', 'dxG', 'dxF', 'dxV'], # X distances\n",
    "    ('Y'): ['dyC', 'dyG', 'dyF', 'dyU'], # Y distances\n",
    "    ('Z'): ['drF', 'drW', 'drS', 'drC'], # Z distances\n",
    "    ('X', 'Y'): ['rAw', 'rAs', 'rA', 'rAz'] # Areas in x-y plane\n",
    "}"
   ]
  },
  {
   "cell_type": "code",
<<<<<<< HEAD
<<<<<<< HEAD
   "execution_count": 9,
=======
   "execution_count": 6,
>>>>>>> updated example notebooks based on MITgcm
=======
   "execution_count": 6,
>>>>>>> 496ab6eb83f621cecad47543189988d9da46342e
   "metadata": {},
   "outputs": [
    {
     "data": {
      "text/html": [
       "<div><svg style=\"position: absolute; width: 0; height: 0; overflow: hidden\">\n",
       "<defs>\n",
       "<symbol id=\"icon-database\" viewBox=\"0 0 32 32\">\n",
       "<path d=\"M16 0c-8.837 0-16 2.239-16 5v4c0 2.761 7.163 5 16 5s16-2.239 16-5v-4c0-2.761-7.163-5-16-5z\"></path>\n",
       "<path d=\"M16 17c-8.837 0-16-2.239-16-5v6c0 2.761 7.163 5 16 5s16-2.239 16-5v-6c0 2.761-7.163 5-16 5z\"></path>\n",
       "<path d=\"M16 26c-8.837 0-16-2.239-16-5v6c0 2.761 7.163 5 16 5s16-2.239 16-5v-6c0 2.761-7.163 5-16 5z\"></path>\n",
       "</symbol>\n",
       "<symbol id=\"icon-file-text2\" viewBox=\"0 0 32 32\">\n",
       "<path d=\"M28.681 7.159c-0.694-0.947-1.662-2.053-2.724-3.116s-2.169-2.030-3.116-2.724c-1.612-1.182-2.393-1.319-2.841-1.319h-15.5c-1.378 0-2.5 1.121-2.5 2.5v27c0 1.378 1.122 2.5 2.5 2.5h23c1.378 0 2.5-1.122 2.5-2.5v-19.5c0-0.448-0.137-1.23-1.319-2.841zM24.543 5.457c0.959 0.959 1.712 1.825 2.268 2.543h-4.811v-4.811c0.718 0.556 1.584 1.309 2.543 2.268zM28 29.5c0 0.271-0.229 0.5-0.5 0.5h-23c-0.271 0-0.5-0.229-0.5-0.5v-27c0-0.271 0.229-0.5 0.5-0.5 0 0 15.499-0 15.5 0v7c0 0.552 0.448 1 1 1h7v19.5z\"></path>\n",
       "<path d=\"M23 26h-14c-0.552 0-1-0.448-1-1s0.448-1 1-1h14c0.552 0 1 0.448 1 1s-0.448 1-1 1z\"></path>\n",
       "<path d=\"M23 22h-14c-0.552 0-1-0.448-1-1s0.448-1 1-1h14c0.552 0 1 0.448 1 1s-0.448 1-1 1z\"></path>\n",
       "<path d=\"M23 18h-14c-0.552 0-1-0.448-1-1s0.448-1 1-1h14c0.552 0 1 0.448 1 1s-0.448 1-1 1z\"></path>\n",
       "</symbol>\n",
       "</defs>\n",
       "</svg>\n",
       "<style>/* CSS stylesheet for displaying xarray objects in jupyterlab.\n",
       " *\n",
       " */\n",
       "\n",
       ":root {\n",
       "  --xr-font-color0: var(--jp-content-font-color0, rgba(0, 0, 0, 1));\n",
       "  --xr-font-color2: var(--jp-content-font-color2, rgba(0, 0, 0, 0.54));\n",
       "  --xr-font-color3: var(--jp-content-font-color3, rgba(0, 0, 0, 0.38));\n",
       "  --xr-border-color: var(--jp-border-color2, #e0e0e0);\n",
       "  --xr-disabled-color: var(--jp-layout-color3, #bdbdbd);\n",
       "  --xr-background-color: var(--jp-layout-color0, white);\n",
       "  --xr-background-color-row-even: var(--jp-layout-color1, white);\n",
       "  --xr-background-color-row-odd: var(--jp-layout-color2, #eeeeee);\n",
       "}\n",
       "\n",
       "html[theme=dark],\n",
       "body.vscode-dark {\n",
       "  --xr-font-color0: rgba(255, 255, 255, 1);\n",
       "  --xr-font-color2: rgba(255, 255, 255, 0.54);\n",
       "  --xr-font-color3: rgba(255, 255, 255, 0.38);\n",
       "  --xr-border-color: #1F1F1F;\n",
       "  --xr-disabled-color: #515151;\n",
       "  --xr-background-color: #111111;\n",
       "  --xr-background-color-row-even: #111111;\n",
       "  --xr-background-color-row-odd: #313131;\n",
       "}\n",
       "\n",
       ".xr-wrap {\n",
       "  display: block;\n",
       "  min-width: 300px;\n",
       "  max-width: 700px;\n",
       "}\n",
       "\n",
       ".xr-text-repr-fallback {\n",
       "  /* fallback to plain text repr when CSS is not injected (untrusted notebook) */\n",
       "  display: none;\n",
       "}\n",
       "\n",
       ".xr-header {\n",
       "  padding-top: 6px;\n",
       "  padding-bottom: 6px;\n",
       "  margin-bottom: 4px;\n",
       "  border-bottom: solid 1px var(--xr-border-color);\n",
       "}\n",
       "\n",
       ".xr-header > div,\n",
       ".xr-header > ul {\n",
       "  display: inline;\n",
       "  margin-top: 0;\n",
       "  margin-bottom: 0;\n",
       "}\n",
       "\n",
       ".xr-obj-type,\n",
       ".xr-array-name {\n",
       "  margin-left: 2px;\n",
       "  margin-right: 10px;\n",
       "}\n",
       "\n",
       ".xr-obj-type {\n",
       "  color: var(--xr-font-color2);\n",
       "}\n",
       "\n",
       ".xr-sections {\n",
       "  padding-left: 0 !important;\n",
       "  display: grid;\n",
       "  grid-template-columns: 150px auto auto 1fr 20px 20px;\n",
       "}\n",
       "\n",
       ".xr-section-item {\n",
       "  display: contents;\n",
       "}\n",
       "\n",
       ".xr-section-item input {\n",
       "  display: none;\n",
       "}\n",
       "\n",
       ".xr-section-item input + label {\n",
       "  color: var(--xr-disabled-color);\n",
       "}\n",
       "\n",
       ".xr-section-item input:enabled + label {\n",
       "  cursor: pointer;\n",
       "  color: var(--xr-font-color2);\n",
       "}\n",
       "\n",
       ".xr-section-item input:enabled + label:hover {\n",
       "  color: var(--xr-font-color0);\n",
       "}\n",
       "\n",
       ".xr-section-summary {\n",
       "  grid-column: 1;\n",
       "  color: var(--xr-font-color2);\n",
       "  font-weight: 500;\n",
       "}\n",
       "\n",
       ".xr-section-summary > span {\n",
       "  display: inline-block;\n",
       "  padding-left: 0.5em;\n",
       "}\n",
       "\n",
       ".xr-section-summary-in:disabled + label {\n",
       "  color: var(--xr-font-color2);\n",
       "}\n",
       "\n",
       ".xr-section-summary-in + label:before {\n",
       "  display: inline-block;\n",
       "  content: '►';\n",
       "  font-size: 11px;\n",
       "  width: 15px;\n",
       "  text-align: center;\n",
       "}\n",
       "\n",
       ".xr-section-summary-in:disabled + label:before {\n",
       "  color: var(--xr-disabled-color);\n",
       "}\n",
       "\n",
       ".xr-section-summary-in:checked + label:before {\n",
       "  content: '▼';\n",
       "}\n",
       "\n",
       ".xr-section-summary-in:checked + label > span {\n",
       "  display: none;\n",
       "}\n",
       "\n",
       ".xr-section-summary,\n",
       ".xr-section-inline-details {\n",
       "  padding-top: 4px;\n",
       "  padding-bottom: 4px;\n",
       "}\n",
       "\n",
       ".xr-section-inline-details {\n",
       "  grid-column: 2 / -1;\n",
       "}\n",
       "\n",
       ".xr-section-details {\n",
       "  display: none;\n",
       "  grid-column: 1 / -1;\n",
       "  margin-bottom: 5px;\n",
       "}\n",
       "\n",
       ".xr-section-summary-in:checked ~ .xr-section-details {\n",
       "  display: contents;\n",
       "}\n",
       "\n",
       ".xr-array-wrap {\n",
       "  grid-column: 1 / -1;\n",
       "  display: grid;\n",
       "  grid-template-columns: 20px auto;\n",
       "}\n",
       "\n",
       ".xr-array-wrap > label {\n",
       "  grid-column: 1;\n",
       "  vertical-align: top;\n",
       "}\n",
       "\n",
       ".xr-preview {\n",
       "  color: var(--xr-font-color3);\n",
       "}\n",
       "\n",
       ".xr-array-preview,\n",
       ".xr-array-data {\n",
       "  padding: 0 5px !important;\n",
       "  grid-column: 2;\n",
       "}\n",
       "\n",
       ".xr-array-data,\n",
       ".xr-array-in:checked ~ .xr-array-preview {\n",
       "  display: none;\n",
       "}\n",
       "\n",
       ".xr-array-in:checked ~ .xr-array-data,\n",
       ".xr-array-preview {\n",
       "  display: inline-block;\n",
       "}\n",
       "\n",
       ".xr-dim-list {\n",
       "  display: inline-block !important;\n",
       "  list-style: none;\n",
       "  padding: 0 !important;\n",
       "  margin: 0;\n",
       "}\n",
       "\n",
       ".xr-dim-list li {\n",
       "  display: inline-block;\n",
       "  padding: 0;\n",
       "  margin: 0;\n",
       "}\n",
       "\n",
       ".xr-dim-list:before {\n",
       "  content: '(';\n",
       "}\n",
       "\n",
       ".xr-dim-list:after {\n",
       "  content: ')';\n",
       "}\n",
       "\n",
       ".xr-dim-list li:not(:last-child):after {\n",
       "  content: ',';\n",
       "  padding-right: 5px;\n",
       "}\n",
       "\n",
       ".xr-has-index {\n",
       "  font-weight: bold;\n",
       "}\n",
       "\n",
       ".xr-var-list,\n",
       ".xr-var-item {\n",
       "  display: contents;\n",
       "}\n",
       "\n",
       ".xr-var-item > div,\n",
       ".xr-var-item label,\n",
       ".xr-var-item > .xr-var-name span {\n",
       "  background-color: var(--xr-background-color-row-even);\n",
       "  margin-bottom: 0;\n",
       "}\n",
       "\n",
       ".xr-var-item > .xr-var-name:hover span {\n",
       "  padding-right: 5px;\n",
       "}\n",
       "\n",
       ".xr-var-list > li:nth-child(odd) > div,\n",
       ".xr-var-list > li:nth-child(odd) > label,\n",
       ".xr-var-list > li:nth-child(odd) > .xr-var-name span {\n",
       "  background-color: var(--xr-background-color-row-odd);\n",
       "}\n",
       "\n",
       ".xr-var-name {\n",
       "  grid-column: 1;\n",
       "}\n",
       "\n",
       ".xr-var-dims {\n",
       "  grid-column: 2;\n",
       "}\n",
       "\n",
       ".xr-var-dtype {\n",
       "  grid-column: 3;\n",
       "  text-align: right;\n",
       "  color: var(--xr-font-color2);\n",
       "}\n",
       "\n",
       ".xr-var-preview {\n",
       "  grid-column: 4;\n",
       "}\n",
       "\n",
       ".xr-var-name,\n",
       ".xr-var-dims,\n",
       ".xr-var-dtype,\n",
       ".xr-preview,\n",
       ".xr-attrs dt {\n",
       "  white-space: nowrap;\n",
       "  overflow: hidden;\n",
       "  text-overflow: ellipsis;\n",
       "  padding-right: 10px;\n",
       "}\n",
       "\n",
       ".xr-var-name:hover,\n",
       ".xr-var-dims:hover,\n",
       ".xr-var-dtype:hover,\n",
       ".xr-attrs dt:hover {\n",
       "  overflow: visible;\n",
       "  width: auto;\n",
       "  z-index: 1;\n",
       "}\n",
       "\n",
       ".xr-var-attrs,\n",
       ".xr-var-data {\n",
       "  display: none;\n",
       "  background-color: var(--xr-background-color) !important;\n",
       "  padding-bottom: 5px !important;\n",
       "}\n",
       "\n",
       ".xr-var-attrs-in:checked ~ .xr-var-attrs,\n",
       ".xr-var-data-in:checked ~ .xr-var-data {\n",
       "  display: block;\n",
       "}\n",
       "\n",
       ".xr-var-data > table {\n",
       "  float: right;\n",
       "}\n",
       "\n",
       ".xr-var-name span,\n",
       ".xr-var-data,\n",
       ".xr-attrs {\n",
       "  padding-left: 25px !important;\n",
       "}\n",
       "\n",
       ".xr-attrs,\n",
       ".xr-var-attrs,\n",
       ".xr-var-data {\n",
       "  grid-column: 1 / -1;\n",
       "}\n",
       "\n",
       "dl.xr-attrs {\n",
       "  padding: 0;\n",
       "  margin: 0;\n",
       "  display: grid;\n",
       "  grid-template-columns: 125px auto;\n",
       "}\n",
       "\n",
       ".xr-attrs dt,\n",
       ".xr-attrs dd {\n",
       "  padding: 0;\n",
       "  margin: 0;\n",
       "  float: left;\n",
       "  padding-right: 10px;\n",
       "  width: auto;\n",
       "}\n",
       "\n",
       ".xr-attrs dt {\n",
       "  font-weight: normal;\n",
       "  grid-column: 1;\n",
       "}\n",
       "\n",
       ".xr-attrs dt:hover span {\n",
       "  display: inline-block;\n",
       "  background: var(--xr-background-color);\n",
       "  padding-right: 10px;\n",
       "}\n",
       "\n",
       ".xr-attrs dd {\n",
       "  grid-column: 2;\n",
       "  white-space: pre-wrap;\n",
       "  word-break: break-all;\n",
       "}\n",
       "\n",
       ".xr-icon-database,\n",
       ".xr-icon-file-text2 {\n",
       "  display: inline-block;\n",
       "  vertical-align: middle;\n",
       "  width: 1em;\n",
       "  height: 1.5em !important;\n",
       "  stroke-width: 0;\n",
       "  stroke: currentColor;\n",
       "  fill: currentColor;\n",
       "}\n",
       "</style><pre class='xr-text-repr-fallback'>&lt;xarray.Dataset&gt;\n",
       "Dimensions:   (XC: 250, XG: 250, YC: 300, YG: 300, Z: 55, Zl: 55, Zp1: 56, Zu: 55, time: 72)\n",
       "Coordinates: (12/36)\n",
       "  * XC        (XC) &gt;f4 5e+03 1.5e+04 2.5e+04 ... 2.475e+06 2.485e+06 2.495e+06\n",
       "  * YC        (YC) &gt;f4 5e+03 1.5e+04 2.5e+04 ... 2.975e+06 2.985e+06 2.995e+06\n",
       "  * XG        (XG) &gt;f4 0.0 1e+04 2e+04 3e+04 ... 2.47e+06 2.48e+06 2.49e+06\n",
       "  * YG        (YG) &gt;f4 0.0 1e+04 2e+04 3e+04 ... 2.97e+06 2.98e+06 2.99e+06\n",
       "  * Z         (Z) &gt;f4 -1.065 -3.345 -5.948 ... -3.728e+03 -3.877e+03 -4.027e+03\n",
       "  * Zp1       (Zp1) &gt;f4 0.0 -2.13 -4.56 ... -3.803e+03 -3.952e+03 -4.102e+03\n",
       "    ...        ...\n",
       "    dxV       (YG, XG) &gt;f4 dask.array&lt;chunksize=(300, 250), meta=np.ndarray&gt;\n",
       "    dyU       (YG, XG) &gt;f4 dask.array&lt;chunksize=(300, 250), meta=np.ndarray&gt;\n",
       "    iter      (time) int64 dask.array&lt;chunksize=(1,), meta=np.ndarray&gt;\n",
       "  * time      (time) object 0060-12-28 12:00:00 ... 0061-12-23 12:00:00\n",
       "    drW       (Z, YC, XG) float32 dask.array&lt;chunksize=(55, 300, 250), meta=np.ndarray&gt;\n",
       "    drS       (Z, YG, XC) float32 dask.array&lt;chunksize=(55, 300, 250), meta=np.ndarray&gt;\n",
       "Data variables:\n",
       "    THETA     (time, Z, YC, XC) float32 dask.array&lt;chunksize=(1, 55, 300, 250), meta=np.ndarray&gt;\n",
       "    SALT      (time, Z, YC, XC) float32 dask.array&lt;chunksize=(1, 55, 300, 250), meta=np.ndarray&gt;\n",
       "    RHOAnoma  (time, Z, YC, XC) float32 dask.array&lt;chunksize=(1, 55, 300, 250), meta=np.ndarray&gt;\n",
       "    VVEL      (time, Z, YG, XC) float32 dask.array&lt;chunksize=(1, 55, 300, 250), meta=np.ndarray&gt;\n",
       "    UVEL      (time, Z, YC, XG) float32 dask.array&lt;chunksize=(1, 55, 300, 250), meta=np.ndarray&gt;\n",
       "    WVEL      (time, Zl, YC, XC) float32 dask.array&lt;chunksize=(1, 55, 300, 250), meta=np.ndarray&gt;\n",
       "    momHDiv   (time, Z, YC, XC) float32 dask.array&lt;chunksize=(1, 55, 300, 250), meta=np.ndarray&gt;\n",
       "    PHIHYD    (time, Z, YC, XC) float32 dask.array&lt;chunksize=(1, 55, 300, 250), meta=np.ndarray&gt;\n",
       "Attributes:\n",
       "    Conventions:  CF-1.6\n",
       "    title:        netCDF wrapper of MITgcm MDS binary data\n",
       "    source:       MITgcm\n",
<<<<<<< HEAD
<<<<<<< HEAD
       "    history:      Created by calling `open_mdsdataset(grid_dir=&#x27;/home/jan/Dat...</pre><div class='xr-wrap' hidden><div class='xr-header'><div class='xr-obj-type'>xarray.Dataset</div></div><ul class='xr-sections'><li class='xr-section-item'><input id='section-a937fc97-4471-4116-a288-b0a2b874f32f' class='xr-section-summary-in' type='checkbox' disabled ><label for='section-a937fc97-4471-4116-a288-b0a2b874f32f' class='xr-section-summary'  title='Expand/collapse section'>Dimensions:</label><div class='xr-section-inline-details'><ul class='xr-dim-list'><li><span class='xr-has-index'>XC</span>: 250</li><li><span class='xr-has-index'>XG</span>: 250</li><li><span class='xr-has-index'>YC</span>: 300</li><li><span class='xr-has-index'>YG</span>: 300</li><li><span class='xr-has-index'>Z</span>: 55</li><li><span class='xr-has-index'>Zl</span>: 55</li><li><span class='xr-has-index'>Zp1</span>: 56</li><li><span class='xr-has-index'>Zu</span>: 55</li><li><span class='xr-has-index'>time</span>: 72</li></ul></div><div class='xr-section-details'></div></li><li class='xr-section-item'><input id='section-862ad3ef-60b9-4095-aa9c-1aea50af88e8' class='xr-section-summary-in' type='checkbox'  ><label for='section-862ad3ef-60b9-4095-aa9c-1aea50af88e8' class='xr-section-summary' >Coordinates: <span>(36)</span></label><div class='xr-section-inline-details'></div><div class='xr-section-details'><ul class='xr-var-list'><li class='xr-var-item'><div class='xr-var-name'><span class='xr-has-index'>XC</span></div><div class='xr-var-dims'>(XC)</div><div class='xr-var-dtype'>&gt;f4</div><div class='xr-var-preview xr-preview'>5e+03 1.5e+04 ... 2.495e+06</div><input id='attrs-5d4be1fd-f635-4a0a-958e-fb19b410fe8d' class='xr-var-attrs-in' type='checkbox' ><label for='attrs-5d4be1fd-f635-4a0a-958e-fb19b410fe8d' title='Show/Hide attributes'><svg class='icon xr-icon-file-text2'><use xlink:href='#icon-file-text2'></use></svg></label><input id='data-91c7785d-8253-4110-8e88-0e09644a8721' class='xr-var-data-in' type='checkbox'><label for='data-91c7785d-8253-4110-8e88-0e09644a8721' title='Show/Hide data repr'><svg class='icon xr-icon-database'><use xlink:href='#icon-database'></use></svg></label><div class='xr-var-attrs'><dl class='xr-attrs'><dt><span>standard_name :</span></dt><dd>plane_x_coordinate</dd><dt><span>long_name :</span></dt><dd>x coordinate</dd><dt><span>units :</span></dt><dd>m</dd><dt><span>coordinate :</span></dt><dd>YC XC</dd><dt><span>axis :</span></dt><dd>X</dd></dl></div><div class='xr-var-data'><pre>array([   5000.,   15000.,   25000., ..., 2475000., 2485000., 2495000.],\n",
       "      dtype=float32)</pre></div></li><li class='xr-var-item'><div class='xr-var-name'><span class='xr-has-index'>YC</span></div><div class='xr-var-dims'>(YC)</div><div class='xr-var-dtype'>&gt;f4</div><div class='xr-var-preview xr-preview'>5e+03 1.5e+04 ... 2.995e+06</div><input id='attrs-8e46d818-799c-4805-9d13-ec54cccd0bac' class='xr-var-attrs-in' type='checkbox' ><label for='attrs-8e46d818-799c-4805-9d13-ec54cccd0bac' title='Show/Hide attributes'><svg class='icon xr-icon-file-text2'><use xlink:href='#icon-file-text2'></use></svg></label><input id='data-7033270a-51fb-4871-962f-11e6a7b6b0bf' class='xr-var-data-in' type='checkbox'><label for='data-7033270a-51fb-4871-962f-11e6a7b6b0bf' title='Show/Hide data repr'><svg class='icon xr-icon-database'><use xlink:href='#icon-database'></use></svg></label><div class='xr-var-attrs'><dl class='xr-attrs'><dt><span>standard_name :</span></dt><dd>plane_y_coordinate</dd><dt><span>long_name :</span></dt><dd>y coordinate</dd><dt><span>units :</span></dt><dd>m</dd><dt><span>coordinate :</span></dt><dd>YC XC</dd><dt><span>axis :</span></dt><dd>Y</dd></dl></div><div class='xr-var-data'><pre>array([   5000.,   15000.,   25000., ..., 2975000., 2985000., 2995000.],\n",
       "      dtype=float32)</pre></div></li><li class='xr-var-item'><div class='xr-var-name'><span class='xr-has-index'>XG</span></div><div class='xr-var-dims'>(XG)</div><div class='xr-var-dtype'>&gt;f4</div><div class='xr-var-preview xr-preview'>0.0 1e+04 ... 2.48e+06 2.49e+06</div><input id='attrs-dec89a26-03e2-4e01-9416-a0b904419b51' class='xr-var-attrs-in' type='checkbox' ><label for='attrs-dec89a26-03e2-4e01-9416-a0b904419b51' title='Show/Hide attributes'><svg class='icon xr-icon-file-text2'><use xlink:href='#icon-file-text2'></use></svg></label><input id='data-760706ca-1679-4f4c-ae05-6d9c2a4d2217' class='xr-var-data-in' type='checkbox'><label for='data-760706ca-1679-4f4c-ae05-6d9c2a4d2217' title='Show/Hide data repr'><svg class='icon xr-icon-database'><use xlink:href='#icon-database'></use></svg></label><div class='xr-var-attrs'><dl class='xr-attrs'><dt><span>standard_name :</span></dt><dd>plane_x_coordinate_at_f_location</dd><dt><span>long_name :</span></dt><dd>x coordinate</dd><dt><span>units :</span></dt><dd>m</dd><dt><span>coordinate :</span></dt><dd>YG XG</dd><dt><span>axis :</span></dt><dd>X</dd><dt><span>c_grid_axis_shift :</span></dt><dd>-0.5</dd></dl></div><div class='xr-var-data'><pre>array([      0.,   10000.,   20000., ..., 2470000., 2480000., 2490000.],\n",
       "      dtype=float32)</pre></div></li><li class='xr-var-item'><div class='xr-var-name'><span class='xr-has-index'>YG</span></div><div class='xr-var-dims'>(YG)</div><div class='xr-var-dtype'>&gt;f4</div><div class='xr-var-preview xr-preview'>0.0 1e+04 ... 2.98e+06 2.99e+06</div><input id='attrs-af4b9383-437f-4935-84bb-2baa0a86781d' class='xr-var-attrs-in' type='checkbox' ><label for='attrs-af4b9383-437f-4935-84bb-2baa0a86781d' title='Show/Hide attributes'><svg class='icon xr-icon-file-text2'><use xlink:href='#icon-file-text2'></use></svg></label><input id='data-e00eb41d-9e49-4d2f-a807-0cb021028a89' class='xr-var-data-in' type='checkbox'><label for='data-e00eb41d-9e49-4d2f-a807-0cb021028a89' title='Show/Hide data repr'><svg class='icon xr-icon-database'><use xlink:href='#icon-database'></use></svg></label><div class='xr-var-attrs'><dl class='xr-attrs'><dt><span>standard_name :</span></dt><dd>plane_y_coordinate_at_f_location</dd><dt><span>long_name :</span></dt><dd>y coordinate</dd><dt><span>units :</span></dt><dd>m</dd><dt><span>coordinate :</span></dt><dd>YG XG</dd><dt><span>axis :</span></dt><dd>Y</dd><dt><span>c_grid_axis_shift :</span></dt><dd>-0.5</dd></dl></div><div class='xr-var-data'><pre>array([      0.,   10000.,   20000., ..., 2970000., 2980000., 2990000.],\n",
       "      dtype=float32)</pre></div></li><li class='xr-var-item'><div class='xr-var-name'><span class='xr-has-index'>Z</span></div><div class='xr-var-dims'>(Z)</div><div class='xr-var-dtype'>&gt;f4</div><div class='xr-var-preview xr-preview'>-1.065 -3.345 ... -4.027e+03</div><input id='attrs-05d44cc9-5b1e-42e8-b9f5-a92ffa618b72' class='xr-var-attrs-in' type='checkbox' ><label for='attrs-05d44cc9-5b1e-42e8-b9f5-a92ffa618b72' title='Show/Hide attributes'><svg class='icon xr-icon-file-text2'><use xlink:href='#icon-file-text2'></use></svg></label><input id='data-82b7276d-52e6-42b8-a911-6968aeb7f1c2' class='xr-var-data-in' type='checkbox'><label for='data-82b7276d-52e6-42b8-a911-6968aeb7f1c2' title='Show/Hide data repr'><svg class='icon xr-icon-database'><use xlink:href='#icon-database'></use></svg></label><div class='xr-var-attrs'><dl class='xr-attrs'><dt><span>standard_name :</span></dt><dd>depth</dd><dt><span>long_name :</span></dt><dd>vertical coordinate of cell center</dd><dt><span>units :</span></dt><dd>m</dd><dt><span>positive :</span></dt><dd>down</dd><dt><span>axis :</span></dt><dd>Z</dd></dl></div><div class='xr-var-data'><pre>array([-1.064752e+00, -3.344950e+00, -5.947847e+00, -8.919078e+00,\n",
=======
=======
>>>>>>> 496ab6eb83f621cecad47543189988d9da46342e
       "    history:      Created by calling `open_mdsdataset(grid_dir=&#x27;/home/jan/Dat...</pre><div class='xr-wrap' hidden><div class='xr-header'><div class='xr-obj-type'>xarray.Dataset</div></div><ul class='xr-sections'><li class='xr-section-item'><input id='section-6332e914-2f07-44c7-8b60-2aef77527aab' class='xr-section-summary-in' type='checkbox' disabled ><label for='section-6332e914-2f07-44c7-8b60-2aef77527aab' class='xr-section-summary'  title='Expand/collapse section'>Dimensions:</label><div class='xr-section-inline-details'><ul class='xr-dim-list'><li><span class='xr-has-index'>XC</span>: 250</li><li><span class='xr-has-index'>XG</span>: 250</li><li><span class='xr-has-index'>YC</span>: 300</li><li><span class='xr-has-index'>YG</span>: 300</li><li><span class='xr-has-index'>Z</span>: 55</li><li><span class='xr-has-index'>Zl</span>: 55</li><li><span class='xr-has-index'>Zp1</span>: 56</li><li><span class='xr-has-index'>Zu</span>: 55</li><li><span class='xr-has-index'>time</span>: 72</li></ul></div><div class='xr-section-details'></div></li><li class='xr-section-item'><input id='section-89f59f62-fb97-4efb-95ce-f88c1bd66807' class='xr-section-summary-in' type='checkbox'  ><label for='section-89f59f62-fb97-4efb-95ce-f88c1bd66807' class='xr-section-summary' >Coordinates: <span>(36)</span></label><div class='xr-section-inline-details'></div><div class='xr-section-details'><ul class='xr-var-list'><li class='xr-var-item'><div class='xr-var-name'><span class='xr-has-index'>XC</span></div><div class='xr-var-dims'>(XC)</div><div class='xr-var-dtype'>&gt;f4</div><div class='xr-var-preview xr-preview'>5e+03 1.5e+04 ... 2.495e+06</div><input id='attrs-eae86cd8-370a-4f54-b5ca-e943ed05e8d5' class='xr-var-attrs-in' type='checkbox' ><label for='attrs-eae86cd8-370a-4f54-b5ca-e943ed05e8d5' title='Show/Hide attributes'><svg class='icon xr-icon-file-text2'><use xlink:href='#icon-file-text2'></use></svg></label><input id='data-2799ae07-42bf-4243-9845-69dcfc66cc8f' class='xr-var-data-in' type='checkbox'><label for='data-2799ae07-42bf-4243-9845-69dcfc66cc8f' title='Show/Hide data repr'><svg class='icon xr-icon-database'><use xlink:href='#icon-database'></use></svg></label><div class='xr-var-attrs'><dl class='xr-attrs'><dt><span>standard_name :</span></dt><dd>plane_x_coordinate</dd><dt><span>long_name :</span></dt><dd>x coordinate</dd><dt><span>units :</span></dt><dd>m</dd><dt><span>coordinate :</span></dt><dd>YC XC</dd><dt><span>axis :</span></dt><dd>X</dd></dl></div><div class='xr-var-data'><pre>array([   5000.,   15000.,   25000., ..., 2475000., 2485000., 2495000.],\n",
       "      dtype=float32)</pre></div></li><li class='xr-var-item'><div class='xr-var-name'><span class='xr-has-index'>YC</span></div><div class='xr-var-dims'>(YC)</div><div class='xr-var-dtype'>&gt;f4</div><div class='xr-var-preview xr-preview'>5e+03 1.5e+04 ... 2.995e+06</div><input id='attrs-4cee09c2-9409-4115-9837-02ed1d1701e6' class='xr-var-attrs-in' type='checkbox' ><label for='attrs-4cee09c2-9409-4115-9837-02ed1d1701e6' title='Show/Hide attributes'><svg class='icon xr-icon-file-text2'><use xlink:href='#icon-file-text2'></use></svg></label><input id='data-0a4f7e69-0244-4e50-ba91-a6fef5e5e518' class='xr-var-data-in' type='checkbox'><label for='data-0a4f7e69-0244-4e50-ba91-a6fef5e5e518' title='Show/Hide data repr'><svg class='icon xr-icon-database'><use xlink:href='#icon-database'></use></svg></label><div class='xr-var-attrs'><dl class='xr-attrs'><dt><span>standard_name :</span></dt><dd>plane_y_coordinate</dd><dt><span>long_name :</span></dt><dd>y coordinate</dd><dt><span>units :</span></dt><dd>m</dd><dt><span>coordinate :</span></dt><dd>YC XC</dd><dt><span>axis :</span></dt><dd>Y</dd></dl></div><div class='xr-var-data'><pre>array([   5000.,   15000.,   25000., ..., 2975000., 2985000., 2995000.],\n",
       "      dtype=float32)</pre></div></li><li class='xr-var-item'><div class='xr-var-name'><span class='xr-has-index'>XG</span></div><div class='xr-var-dims'>(XG)</div><div class='xr-var-dtype'>&gt;f4</div><div class='xr-var-preview xr-preview'>0.0 1e+04 ... 2.48e+06 2.49e+06</div><input id='attrs-4f92da73-79aa-45fe-874e-96be703144ba' class='xr-var-attrs-in' type='checkbox' ><label for='attrs-4f92da73-79aa-45fe-874e-96be703144ba' title='Show/Hide attributes'><svg class='icon xr-icon-file-text2'><use xlink:href='#icon-file-text2'></use></svg></label><input id='data-eb4d392d-a9f9-4645-ad4d-c8ddb1d12598' class='xr-var-data-in' type='checkbox'><label for='data-eb4d392d-a9f9-4645-ad4d-c8ddb1d12598' title='Show/Hide data repr'><svg class='icon xr-icon-database'><use xlink:href='#icon-database'></use></svg></label><div class='xr-var-attrs'><dl class='xr-attrs'><dt><span>standard_name :</span></dt><dd>plane_x_coordinate_at_f_location</dd><dt><span>long_name :</span></dt><dd>x coordinate</dd><dt><span>units :</span></dt><dd>m</dd><dt><span>coordinate :</span></dt><dd>YG XG</dd><dt><span>axis :</span></dt><dd>X</dd><dt><span>c_grid_axis_shift :</span></dt><dd>-0.5</dd></dl></div><div class='xr-var-data'><pre>array([      0.,   10000.,   20000., ..., 2470000., 2480000., 2490000.],\n",
       "      dtype=float32)</pre></div></li><li class='xr-var-item'><div class='xr-var-name'><span class='xr-has-index'>YG</span></div><div class='xr-var-dims'>(YG)</div><div class='xr-var-dtype'>&gt;f4</div><div class='xr-var-preview xr-preview'>0.0 1e+04 ... 2.98e+06 2.99e+06</div><input id='attrs-e9bd623e-1bc9-4753-8302-b7e7bd7d4c5a' class='xr-var-attrs-in' type='checkbox' ><label for='attrs-e9bd623e-1bc9-4753-8302-b7e7bd7d4c5a' title='Show/Hide attributes'><svg class='icon xr-icon-file-text2'><use xlink:href='#icon-file-text2'></use></svg></label><input id='data-57cb6905-22da-423c-9274-6231cf35c606' class='xr-var-data-in' type='checkbox'><label for='data-57cb6905-22da-423c-9274-6231cf35c606' title='Show/Hide data repr'><svg class='icon xr-icon-database'><use xlink:href='#icon-database'></use></svg></label><div class='xr-var-attrs'><dl class='xr-attrs'><dt><span>standard_name :</span></dt><dd>plane_y_coordinate_at_f_location</dd><dt><span>long_name :</span></dt><dd>y coordinate</dd><dt><span>units :</span></dt><dd>m</dd><dt><span>coordinate :</span></dt><dd>YG XG</dd><dt><span>axis :</span></dt><dd>Y</dd><dt><span>c_grid_axis_shift :</span></dt><dd>-0.5</dd></dl></div><div class='xr-var-data'><pre>array([      0.,   10000.,   20000., ..., 2970000., 2980000., 2990000.],\n",
       "      dtype=float32)</pre></div></li><li class='xr-var-item'><div class='xr-var-name'><span class='xr-has-index'>Z</span></div><div class='xr-var-dims'>(Z)</div><div class='xr-var-dtype'>&gt;f4</div><div class='xr-var-preview xr-preview'>-1.065 -3.345 ... -4.027e+03</div><input id='attrs-10a9a1a4-61ef-4b4d-9cea-1494cbd9c707' class='xr-var-attrs-in' type='checkbox' ><label for='attrs-10a9a1a4-61ef-4b4d-9cea-1494cbd9c707' title='Show/Hide attributes'><svg class='icon xr-icon-file-text2'><use xlink:href='#icon-file-text2'></use></svg></label><input id='data-fee65d58-3f8a-43af-b57a-69acee15e679' class='xr-var-data-in' type='checkbox'><label for='data-fee65d58-3f8a-43af-b57a-69acee15e679' title='Show/Hide data repr'><svg class='icon xr-icon-database'><use xlink:href='#icon-database'></use></svg></label><div class='xr-var-attrs'><dl class='xr-attrs'><dt><span>standard_name :</span></dt><dd>depth</dd><dt><span>long_name :</span></dt><dd>vertical coordinate of cell center</dd><dt><span>units :</span></dt><dd>m</dd><dt><span>positive :</span></dt><dd>down</dd><dt><span>axis :</span></dt><dd>Z</dd></dl></div><div class='xr-var-data'><pre>array([-1.064752e+00, -3.344950e+00, -5.947847e+00, -8.919078e+00,\n",
<<<<<<< HEAD
>>>>>>> updated example notebooks based on MITgcm
=======
>>>>>>> 496ab6eb83f621cecad47543189988d9da46342e
       "       -1.231071e+01, -1.618217e+01, -2.060120e+01, -2.564509e+01,\n",
       "       -3.140196e+01, -3.797221e+01, -4.547022e+01, -5.402617e+01,\n",
       "       -6.378813e+01, -7.492429e+01, -8.762543e+01, -1.021076e+02,\n",
       "       -1.186146e+02, -1.374210e+02, -1.588345e+02, -1.831981e+02,\n",
       "       -2.108911e+02, -2.423291e+02, -2.779624e+02, -3.182697e+02,\n",
       "       -3.637502e+02, -4.149087e+02, -4.722364e+02, -5.361846e+02,\n",
       "       -6.071351e+02, -6.853671e+02, -7.710265e+02, -8.641033e+02,\n",
       "       -9.644203e+02, -1.071639e+03, -1.185282e+03, -1.304765e+03,\n",
       "       -1.429442e+03, -1.558643e+03, -1.691713e+03, -1.828039e+03,\n",
       "       -1.967068e+03, -2.108312e+03, -2.251357e+03, -2.395852e+03,\n",
       "       -2.541508e+03, -2.688088e+03, -2.835400e+03, -2.983292e+03,\n",
       "       -3.131639e+03, -3.280346e+03, -3.429334e+03, -3.578543e+03,\n",
<<<<<<< HEAD
<<<<<<< HEAD
       "       -3.727925e+03, -3.877442e+03, -4.027065e+03], dtype=float32)</pre></div></li><li class='xr-var-item'><div class='xr-var-name'><span class='xr-has-index'>Zp1</span></div><div class='xr-var-dims'>(Zp1)</div><div class='xr-var-dtype'>&gt;f4</div><div class='xr-var-preview xr-preview'>0.0 -2.13 ... -3.952e+03 -4.102e+03</div><input id='attrs-16147bc2-c78b-46b0-b2e9-709822c96e8b' class='xr-var-attrs-in' type='checkbox' ><label for='attrs-16147bc2-c78b-46b0-b2e9-709822c96e8b' title='Show/Hide attributes'><svg class='icon xr-icon-file-text2'><use xlink:href='#icon-file-text2'></use></svg></label><input id='data-6049ab8a-6f9c-4ae6-90c9-a006c5d9069f' class='xr-var-data-in' type='checkbox'><label for='data-6049ab8a-6f9c-4ae6-90c9-a006c5d9069f' title='Show/Hide data repr'><svg class='icon xr-icon-database'><use xlink:href='#icon-database'></use></svg></label><div class='xr-var-attrs'><dl class='xr-attrs'><dt><span>standard_name :</span></dt><dd>depth_at_w_location</dd><dt><span>long_name :</span></dt><dd>vertical coordinate of cell interface</dd><dt><span>units :</span></dt><dd>m</dd><dt><span>positive :</span></dt><dd>down</dd><dt><span>axis :</span></dt><dd>Z</dd><dt><span>c_grid_axis_shift :</span></dt><dd>(-0.5, 0.5)</dd></dl></div><div class='xr-var-data'><pre>array([ 0.000000e+00, -2.129505e+00, -4.560395e+00, -7.335299e+00,\n",
=======
       "       -3.727925e+03, -3.877442e+03, -4.027065e+03], dtype=float32)</pre></div></li><li class='xr-var-item'><div class='xr-var-name'><span class='xr-has-index'>Zp1</span></div><div class='xr-var-dims'>(Zp1)</div><div class='xr-var-dtype'>&gt;f4</div><div class='xr-var-preview xr-preview'>0.0 -2.13 ... -3.952e+03 -4.102e+03</div><input id='attrs-c8fdbacd-76bb-437c-9591-d838052d9964' class='xr-var-attrs-in' type='checkbox' ><label for='attrs-c8fdbacd-76bb-437c-9591-d838052d9964' title='Show/Hide attributes'><svg class='icon xr-icon-file-text2'><use xlink:href='#icon-file-text2'></use></svg></label><input id='data-c2d9d5d4-4d76-4181-933e-d008bef769bb' class='xr-var-data-in' type='checkbox'><label for='data-c2d9d5d4-4d76-4181-933e-d008bef769bb' title='Show/Hide data repr'><svg class='icon xr-icon-database'><use xlink:href='#icon-database'></use></svg></label><div class='xr-var-attrs'><dl class='xr-attrs'><dt><span>standard_name :</span></dt><dd>depth_at_w_location</dd><dt><span>long_name :</span></dt><dd>vertical coordinate of cell interface</dd><dt><span>units :</span></dt><dd>m</dd><dt><span>positive :</span></dt><dd>down</dd><dt><span>axis :</span></dt><dd>Z</dd><dt><span>c_grid_axis_shift :</span></dt><dd>(-0.5, 0.5)</dd></dl></div><div class='xr-var-data'><pre>array([ 0.000000e+00, -2.129505e+00, -4.560395e+00, -7.335299e+00,\n",
>>>>>>> updated example notebooks based on MITgcm
=======
       "       -3.727925e+03, -3.877442e+03, -4.027065e+03], dtype=float32)</pre></div></li><li class='xr-var-item'><div class='xr-var-name'><span class='xr-has-index'>Zp1</span></div><div class='xr-var-dims'>(Zp1)</div><div class='xr-var-dtype'>&gt;f4</div><div class='xr-var-preview xr-preview'>0.0 -2.13 ... -3.952e+03 -4.102e+03</div><input id='attrs-c8fdbacd-76bb-437c-9591-d838052d9964' class='xr-var-attrs-in' type='checkbox' ><label for='attrs-c8fdbacd-76bb-437c-9591-d838052d9964' title='Show/Hide attributes'><svg class='icon xr-icon-file-text2'><use xlink:href='#icon-file-text2'></use></svg></label><input id='data-c2d9d5d4-4d76-4181-933e-d008bef769bb' class='xr-var-data-in' type='checkbox'><label for='data-c2d9d5d4-4d76-4181-933e-d008bef769bb' title='Show/Hide data repr'><svg class='icon xr-icon-database'><use xlink:href='#icon-database'></use></svg></label><div class='xr-var-attrs'><dl class='xr-attrs'><dt><span>standard_name :</span></dt><dd>depth_at_w_location</dd><dt><span>long_name :</span></dt><dd>vertical coordinate of cell interface</dd><dt><span>units :</span></dt><dd>m</dd><dt><span>positive :</span></dt><dd>down</dd><dt><span>axis :</span></dt><dd>Z</dd><dt><span>c_grid_axis_shift :</span></dt><dd>(-0.5, 0.5)</dd></dl></div><div class='xr-var-data'><pre>array([ 0.000000e+00, -2.129505e+00, -4.560395e+00, -7.335299e+00,\n",
>>>>>>> 496ab6eb83f621cecad47543189988d9da46342e
       "       -1.050286e+01, -1.411857e+01, -1.824576e+01, -2.295664e+01,\n",
       "       -2.833355e+01, -3.447037e+01, -4.147405e+01, -4.946638e+01,\n",
       "       -5.858596e+01, -6.899030e+01, -8.085827e+01, -9.439259e+01,\n",
       "       -1.098225e+02, -1.274066e+02, -1.474354e+02, -1.702337e+02,\n",
       "       -1.961625e+02, -2.256196e+02, -2.590387e+02, -2.968860e+02,\n",
       "       -3.396534e+02, -3.878470e+02, -4.419705e+02, -5.025022e+02,\n",
       "       -5.698669e+02, -6.444033e+02, -7.263309e+02, -8.157222e+02,\n",
       "       -9.124844e+02, -1.016356e+03, -1.126922e+03, -1.243642e+03,\n",
       "       -1.365889e+03, -1.492995e+03, -1.624290e+03, -1.759135e+03,\n",
       "       -1.896943e+03, -2.037192e+03, -2.179433e+03, -2.323282e+03,\n",
       "       -2.468423e+03, -2.614593e+03, -2.761582e+03, -2.909218e+03,\n",
       "       -3.057365e+03, -3.205914e+03, -3.354778e+03, -3.503890e+03,\n",
       "       -3.653196e+03, -3.802654e+03, -3.952231e+03, -4.101900e+03],\n",
<<<<<<< HEAD
<<<<<<< HEAD
       "      dtype=float32)</pre></div></li><li class='xr-var-item'><div class='xr-var-name'><span class='xr-has-index'>Zu</span></div><div class='xr-var-dims'>(Zu)</div><div class='xr-var-dtype'>&gt;f4</div><div class='xr-var-preview xr-preview'>-2.13 -4.56 ... -4.102e+03</div><input id='attrs-8de6b410-eeab-4b98-8c95-2a9be216e085' class='xr-var-attrs-in' type='checkbox' ><label for='attrs-8de6b410-eeab-4b98-8c95-2a9be216e085' title='Show/Hide attributes'><svg class='icon xr-icon-file-text2'><use xlink:href='#icon-file-text2'></use></svg></label><input id='data-0c98d026-94bb-4f24-8503-191dbdb8f0be' class='xr-var-data-in' type='checkbox'><label for='data-0c98d026-94bb-4f24-8503-191dbdb8f0be' title='Show/Hide data repr'><svg class='icon xr-icon-database'><use xlink:href='#icon-database'></use></svg></label><div class='xr-var-attrs'><dl class='xr-attrs'><dt><span>standard_name :</span></dt><dd>depth_at_upper_w_location</dd><dt><span>long_name :</span></dt><dd>vertical coordinate of upper cell interface</dd><dt><span>units :</span></dt><dd>m</dd><dt><span>positive :</span></dt><dd>down</dd><dt><span>axis :</span></dt><dd>Z</dd><dt><span>c_grid_axis_shift :</span></dt><dd>0.5</dd></dl></div><div class='xr-var-data'><pre>array([-2.129505e+00, -4.560395e+00, -7.335299e+00, -1.050286e+01,\n",
=======
       "      dtype=float32)</pre></div></li><li class='xr-var-item'><div class='xr-var-name'><span class='xr-has-index'>Zu</span></div><div class='xr-var-dims'>(Zu)</div><div class='xr-var-dtype'>&gt;f4</div><div class='xr-var-preview xr-preview'>-2.13 -4.56 ... -4.102e+03</div><input id='attrs-d46a0426-fef1-45f2-99ca-acb20f22e7ba' class='xr-var-attrs-in' type='checkbox' ><label for='attrs-d46a0426-fef1-45f2-99ca-acb20f22e7ba' title='Show/Hide attributes'><svg class='icon xr-icon-file-text2'><use xlink:href='#icon-file-text2'></use></svg></label><input id='data-99dd98d5-2757-4d18-94d6-18e10edb3d20' class='xr-var-data-in' type='checkbox'><label for='data-99dd98d5-2757-4d18-94d6-18e10edb3d20' title='Show/Hide data repr'><svg class='icon xr-icon-database'><use xlink:href='#icon-database'></use></svg></label><div class='xr-var-attrs'><dl class='xr-attrs'><dt><span>standard_name :</span></dt><dd>depth_at_upper_w_location</dd><dt><span>long_name :</span></dt><dd>vertical coordinate of upper cell interface</dd><dt><span>units :</span></dt><dd>m</dd><dt><span>positive :</span></dt><dd>down</dd><dt><span>axis :</span></dt><dd>Z</dd><dt><span>c_grid_axis_shift :</span></dt><dd>0.5</dd></dl></div><div class='xr-var-data'><pre>array([-2.129505e+00, -4.560395e+00, -7.335299e+00, -1.050286e+01,\n",
>>>>>>> updated example notebooks based on MITgcm
=======
       "      dtype=float32)</pre></div></li><li class='xr-var-item'><div class='xr-var-name'><span class='xr-has-index'>Zu</span></div><div class='xr-var-dims'>(Zu)</div><div class='xr-var-dtype'>&gt;f4</div><div class='xr-var-preview xr-preview'>-2.13 -4.56 ... -4.102e+03</div><input id='attrs-d46a0426-fef1-45f2-99ca-acb20f22e7ba' class='xr-var-attrs-in' type='checkbox' ><label for='attrs-d46a0426-fef1-45f2-99ca-acb20f22e7ba' title='Show/Hide attributes'><svg class='icon xr-icon-file-text2'><use xlink:href='#icon-file-text2'></use></svg></label><input id='data-99dd98d5-2757-4d18-94d6-18e10edb3d20' class='xr-var-data-in' type='checkbox'><label for='data-99dd98d5-2757-4d18-94d6-18e10edb3d20' title='Show/Hide data repr'><svg class='icon xr-icon-database'><use xlink:href='#icon-database'></use></svg></label><div class='xr-var-attrs'><dl class='xr-attrs'><dt><span>standard_name :</span></dt><dd>depth_at_upper_w_location</dd><dt><span>long_name :</span></dt><dd>vertical coordinate of upper cell interface</dd><dt><span>units :</span></dt><dd>m</dd><dt><span>positive :</span></dt><dd>down</dd><dt><span>axis :</span></dt><dd>Z</dd><dt><span>c_grid_axis_shift :</span></dt><dd>0.5</dd></dl></div><div class='xr-var-data'><pre>array([-2.129505e+00, -4.560395e+00, -7.335299e+00, -1.050286e+01,\n",
>>>>>>> 496ab6eb83f621cecad47543189988d9da46342e
       "       -1.411857e+01, -1.824576e+01, -2.295664e+01, -2.833355e+01,\n",
       "       -3.447037e+01, -4.147405e+01, -4.946638e+01, -5.858596e+01,\n",
       "       -6.899030e+01, -8.085827e+01, -9.439259e+01, -1.098225e+02,\n",
       "       -1.274066e+02, -1.474354e+02, -1.702337e+02, -1.961625e+02,\n",
       "       -2.256196e+02, -2.590387e+02, -2.968860e+02, -3.396534e+02,\n",
       "       -3.878470e+02, -4.419705e+02, -5.025022e+02, -5.698669e+02,\n",
       "       -6.444033e+02, -7.263309e+02, -8.157222e+02, -9.124844e+02,\n",
       "       -1.016356e+03, -1.126922e+03, -1.243642e+03, -1.365889e+03,\n",
       "       -1.492995e+03, -1.624290e+03, -1.759135e+03, -1.896943e+03,\n",
       "       -2.037192e+03, -2.179433e+03, -2.323282e+03, -2.468423e+03,\n",
       "       -2.614593e+03, -2.761582e+03, -2.909218e+03, -3.057365e+03,\n",
       "       -3.205914e+03, -3.354778e+03, -3.503890e+03, -3.653196e+03,\n",
<<<<<<< HEAD
<<<<<<< HEAD
       "       -3.802654e+03, -3.952231e+03, -4.101900e+03], dtype=float32)</pre></div></li><li class='xr-var-item'><div class='xr-var-name'><span class='xr-has-index'>Zl</span></div><div class='xr-var-dims'>(Zl)</div><div class='xr-var-dtype'>&gt;f4</div><div class='xr-var-preview xr-preview'>0.0 -2.13 ... -3.803e+03 -3.952e+03</div><input id='attrs-da58101d-f6bb-48e4-bbe7-cac2a0971f69' class='xr-var-attrs-in' type='checkbox' ><label for='attrs-da58101d-f6bb-48e4-bbe7-cac2a0971f69' title='Show/Hide attributes'><svg class='icon xr-icon-file-text2'><use xlink:href='#icon-file-text2'></use></svg></label><input id='data-d0e853e8-0ace-4beb-b54e-52608468ba09' class='xr-var-data-in' type='checkbox'><label for='data-d0e853e8-0ace-4beb-b54e-52608468ba09' title='Show/Hide data repr'><svg class='icon xr-icon-database'><use xlink:href='#icon-database'></use></svg></label><div class='xr-var-attrs'><dl class='xr-attrs'><dt><span>standard_name :</span></dt><dd>depth_at_lower_w_location</dd><dt><span>long_name :</span></dt><dd>vertical coordinate of lower cell interface</dd><dt><span>units :</span></dt><dd>m</dd><dt><span>positive :</span></dt><dd>down</dd><dt><span>axis :</span></dt><dd>Z</dd><dt><span>c_grid_axis_shift :</span></dt><dd>-0.5</dd></dl></div><div class='xr-var-data'><pre>array([ 0.000000e+00, -2.129505e+00, -4.560395e+00, -7.335299e+00,\n",
=======
       "       -3.802654e+03, -3.952231e+03, -4.101900e+03], dtype=float32)</pre></div></li><li class='xr-var-item'><div class='xr-var-name'><span class='xr-has-index'>Zl</span></div><div class='xr-var-dims'>(Zl)</div><div class='xr-var-dtype'>&gt;f4</div><div class='xr-var-preview xr-preview'>0.0 -2.13 ... -3.803e+03 -3.952e+03</div><input id='attrs-e60f4723-fd03-49bd-8d80-9a3a776a4b38' class='xr-var-attrs-in' type='checkbox' ><label for='attrs-e60f4723-fd03-49bd-8d80-9a3a776a4b38' title='Show/Hide attributes'><svg class='icon xr-icon-file-text2'><use xlink:href='#icon-file-text2'></use></svg></label><input id='data-aa01dfe7-8d3e-4c3e-826f-0e8b2f065722' class='xr-var-data-in' type='checkbox'><label for='data-aa01dfe7-8d3e-4c3e-826f-0e8b2f065722' title='Show/Hide data repr'><svg class='icon xr-icon-database'><use xlink:href='#icon-database'></use></svg></label><div class='xr-var-attrs'><dl class='xr-attrs'><dt><span>standard_name :</span></dt><dd>depth_at_lower_w_location</dd><dt><span>long_name :</span></dt><dd>vertical coordinate of lower cell interface</dd><dt><span>units :</span></dt><dd>m</dd><dt><span>positive :</span></dt><dd>down</dd><dt><span>axis :</span></dt><dd>Z</dd><dt><span>c_grid_axis_shift :</span></dt><dd>-0.5</dd></dl></div><div class='xr-var-data'><pre>array([ 0.000000e+00, -2.129505e+00, -4.560395e+00, -7.335299e+00,\n",
>>>>>>> updated example notebooks based on MITgcm
=======
       "       -3.802654e+03, -3.952231e+03, -4.101900e+03], dtype=float32)</pre></div></li><li class='xr-var-item'><div class='xr-var-name'><span class='xr-has-index'>Zl</span></div><div class='xr-var-dims'>(Zl)</div><div class='xr-var-dtype'>&gt;f4</div><div class='xr-var-preview xr-preview'>0.0 -2.13 ... -3.803e+03 -3.952e+03</div><input id='attrs-e60f4723-fd03-49bd-8d80-9a3a776a4b38' class='xr-var-attrs-in' type='checkbox' ><label for='attrs-e60f4723-fd03-49bd-8d80-9a3a776a4b38' title='Show/Hide attributes'><svg class='icon xr-icon-file-text2'><use xlink:href='#icon-file-text2'></use></svg></label><input id='data-aa01dfe7-8d3e-4c3e-826f-0e8b2f065722' class='xr-var-data-in' type='checkbox'><label for='data-aa01dfe7-8d3e-4c3e-826f-0e8b2f065722' title='Show/Hide data repr'><svg class='icon xr-icon-database'><use xlink:href='#icon-database'></use></svg></label><div class='xr-var-attrs'><dl class='xr-attrs'><dt><span>standard_name :</span></dt><dd>depth_at_lower_w_location</dd><dt><span>long_name :</span></dt><dd>vertical coordinate of lower cell interface</dd><dt><span>units :</span></dt><dd>m</dd><dt><span>positive :</span></dt><dd>down</dd><dt><span>axis :</span></dt><dd>Z</dd><dt><span>c_grid_axis_shift :</span></dt><dd>-0.5</dd></dl></div><div class='xr-var-data'><pre>array([ 0.000000e+00, -2.129505e+00, -4.560395e+00, -7.335299e+00,\n",
>>>>>>> 496ab6eb83f621cecad47543189988d9da46342e
       "       -1.050286e+01, -1.411857e+01, -1.824576e+01, -2.295664e+01,\n",
       "       -2.833355e+01, -3.447037e+01, -4.147405e+01, -4.946638e+01,\n",
       "       -5.858596e+01, -6.899030e+01, -8.085827e+01, -9.439259e+01,\n",
       "       -1.098225e+02, -1.274066e+02, -1.474354e+02, -1.702337e+02,\n",
       "       -1.961625e+02, -2.256196e+02, -2.590387e+02, -2.968860e+02,\n",
       "       -3.396534e+02, -3.878470e+02, -4.419705e+02, -5.025022e+02,\n",
       "       -5.698669e+02, -6.444033e+02, -7.263309e+02, -8.157222e+02,\n",
       "       -9.124844e+02, -1.016356e+03, -1.126922e+03, -1.243642e+03,\n",
       "       -1.365889e+03, -1.492995e+03, -1.624290e+03, -1.759135e+03,\n",
       "       -1.896943e+03, -2.037192e+03, -2.179433e+03, -2.323282e+03,\n",
       "       -2.468423e+03, -2.614593e+03, -2.761582e+03, -2.909218e+03,\n",
       "       -3.057365e+03, -3.205914e+03, -3.354778e+03, -3.503890e+03,\n",
<<<<<<< HEAD
<<<<<<< HEAD
       "       -3.653196e+03, -3.802654e+03, -3.952231e+03], dtype=float32)</pre></div></li><li class='xr-var-item'><div class='xr-var-name'><span>rA</span></div><div class='xr-var-dims'>(YC, XC)</div><div class='xr-var-dtype'>&gt;f4</div><div class='xr-var-preview xr-preview'>dask.array&lt;chunksize=(300, 250), meta=np.ndarray&gt;</div><input id='attrs-6c49484e-9f8b-445d-966e-12a7a08b9974' class='xr-var-attrs-in' type='checkbox' ><label for='attrs-6c49484e-9f8b-445d-966e-12a7a08b9974' title='Show/Hide attributes'><svg class='icon xr-icon-file-text2'><use xlink:href='#icon-file-text2'></use></svg></label><input id='data-96150435-3084-48cb-aa90-68616d46f77d' class='xr-var-data-in' type='checkbox'><label for='data-96150435-3084-48cb-aa90-68616d46f77d' title='Show/Hide data repr'><svg class='icon xr-icon-database'><use xlink:href='#icon-database'></use></svg></label><div class='xr-var-attrs'><dl class='xr-attrs'><dt><span>standard_name :</span></dt><dd>cell_area</dd><dt><span>long_name :</span></dt><dd>cell area</dd><dt><span>units :</span></dt><dd>m2</dd><dt><span>coordinate :</span></dt><dd>YC XC</dd></dl></div><div class='xr-var-data'><table>\n",
=======
       "       -3.653196e+03, -3.802654e+03, -3.952231e+03], dtype=float32)</pre></div></li><li class='xr-var-item'><div class='xr-var-name'><span>rA</span></div><div class='xr-var-dims'>(YC, XC)</div><div class='xr-var-dtype'>&gt;f4</div><div class='xr-var-preview xr-preview'>dask.array&lt;chunksize=(300, 250), meta=np.ndarray&gt;</div><input id='attrs-186024f4-a420-44e5-a998-3b81173b7fbf' class='xr-var-attrs-in' type='checkbox' ><label for='attrs-186024f4-a420-44e5-a998-3b81173b7fbf' title='Show/Hide attributes'><svg class='icon xr-icon-file-text2'><use xlink:href='#icon-file-text2'></use></svg></label><input id='data-cde25b1c-5bdc-4aa7-af37-13071ee08643' class='xr-var-data-in' type='checkbox'><label for='data-cde25b1c-5bdc-4aa7-af37-13071ee08643' title='Show/Hide data repr'><svg class='icon xr-icon-database'><use xlink:href='#icon-database'></use></svg></label><div class='xr-var-attrs'><dl class='xr-attrs'><dt><span>standard_name :</span></dt><dd>cell_area</dd><dt><span>long_name :</span></dt><dd>cell area</dd><dt><span>units :</span></dt><dd>m2</dd><dt><span>coordinate :</span></dt><dd>YC XC</dd></dl></div><div class='xr-var-data'><table>\n",
>>>>>>> updated example notebooks based on MITgcm
=======
       "       -3.653196e+03, -3.802654e+03, -3.952231e+03], dtype=float32)</pre></div></li><li class='xr-var-item'><div class='xr-var-name'><span>rA</span></div><div class='xr-var-dims'>(YC, XC)</div><div class='xr-var-dtype'>&gt;f4</div><div class='xr-var-preview xr-preview'>dask.array&lt;chunksize=(300, 250), meta=np.ndarray&gt;</div><input id='attrs-186024f4-a420-44e5-a998-3b81173b7fbf' class='xr-var-attrs-in' type='checkbox' ><label for='attrs-186024f4-a420-44e5-a998-3b81173b7fbf' title='Show/Hide attributes'><svg class='icon xr-icon-file-text2'><use xlink:href='#icon-file-text2'></use></svg></label><input id='data-cde25b1c-5bdc-4aa7-af37-13071ee08643' class='xr-var-data-in' type='checkbox'><label for='data-cde25b1c-5bdc-4aa7-af37-13071ee08643' title='Show/Hide data repr'><svg class='icon xr-icon-database'><use xlink:href='#icon-database'></use></svg></label><div class='xr-var-attrs'><dl class='xr-attrs'><dt><span>standard_name :</span></dt><dd>cell_area</dd><dt><span>long_name :</span></dt><dd>cell area</dd><dt><span>units :</span></dt><dd>m2</dd><dt><span>coordinate :</span></dt><dd>YC XC</dd></dl></div><div class='xr-var-data'><table>\n",
>>>>>>> 496ab6eb83f621cecad47543189988d9da46342e
       "<tr>\n",
       "<td>\n",
       "<table>\n",
       "  <thead>\n",
       "    <tr><td> </td><th> Array </th><th> Chunk </th></tr>\n",
       "  </thead>\n",
       "  <tbody>\n",
       "    <tr><th> Bytes </th><td> 292.97 kiB </td> <td> 292.97 kiB </td></tr>\n",
       "    <tr><th> Shape </th><td> (300, 250) </td> <td> (300, 250) </td></tr>\n",
       "    <tr><th> Count </th><td> 3 Tasks </td><td> 1 Chunks </td></tr>\n",
       "    <tr><th> Type </th><td> >f4 </td><td> numpy.ndarray </td></tr>\n",
       "  </tbody>\n",
       "</table>\n",
       "</td>\n",
       "<td>\n",
       "<svg width=\"150\" height=\"170\" style=\"stroke:rgb(0,0,0);stroke-width:1\" >\n",
       "\n",
       "  <!-- Horizontal lines -->\n",
       "  <line x1=\"0\" y1=\"0\" x2=\"100\" y2=\"0\" style=\"stroke-width:2\" />\n",
       "  <line x1=\"0\" y1=\"120\" x2=\"100\" y2=\"120\" style=\"stroke-width:2\" />\n",
       "\n",
       "  <!-- Vertical lines -->\n",
       "  <line x1=\"0\" y1=\"0\" x2=\"0\" y2=\"120\" style=\"stroke-width:2\" />\n",
       "  <line x1=\"100\" y1=\"0\" x2=\"100\" y2=\"120\" style=\"stroke-width:2\" />\n",
       "\n",
       "  <!-- Colored Rectangle -->\n",
       "  <polygon points=\"0.0,0.0 100.0,0.0 100.0,120.0 0.0,120.0\" style=\"fill:#ECB172A0;stroke-width:0\"/>\n",
       "\n",
       "  <!-- Text -->\n",
       "  <text x=\"50.000000\" y=\"140.000000\" font-size=\"1.0rem\" font-weight=\"100\" text-anchor=\"middle\" >250</text>\n",
       "  <text x=\"120.000000\" y=\"60.000000\" font-size=\"1.0rem\" font-weight=\"100\" text-anchor=\"middle\" transform=\"rotate(-90,120.000000,60.000000)\">300</text>\n",
       "</svg>\n",
       "</td>\n",
       "</tr>\n",
<<<<<<< HEAD
<<<<<<< HEAD
       "</table></div></li><li class='xr-var-item'><div class='xr-var-name'><span>dxG</span></div><div class='xr-var-dims'>(YG, XC)</div><div class='xr-var-dtype'>&gt;f4</div><div class='xr-var-preview xr-preview'>dask.array&lt;chunksize=(300, 250), meta=np.ndarray&gt;</div><input id='attrs-d862990b-f1fb-44ea-950d-9674663db428' class='xr-var-attrs-in' type='checkbox' ><label for='attrs-d862990b-f1fb-44ea-950d-9674663db428' title='Show/Hide attributes'><svg class='icon xr-icon-file-text2'><use xlink:href='#icon-file-text2'></use></svg></label><input id='data-8585d28e-18dd-4548-b740-50b991592659' class='xr-var-data-in' type='checkbox'><label for='data-8585d28e-18dd-4548-b740-50b991592659' title='Show/Hide data repr'><svg class='icon xr-icon-database'><use xlink:href='#icon-database'></use></svg></label><div class='xr-var-attrs'><dl class='xr-attrs'><dt><span>standard_name :</span></dt><dd>cell_x_size_at_v_location</dd><dt><span>long_name :</span></dt><dd>cell x size</dd><dt><span>units :</span></dt><dd>m</dd><dt><span>coordinate :</span></dt><dd>YG XC</dd></dl></div><div class='xr-var-data'><table>\n",
=======
       "</table></div></li><li class='xr-var-item'><div class='xr-var-name'><span>dxG</span></div><div class='xr-var-dims'>(YG, XC)</div><div class='xr-var-dtype'>&gt;f4</div><div class='xr-var-preview xr-preview'>dask.array&lt;chunksize=(300, 250), meta=np.ndarray&gt;</div><input id='attrs-050db367-72f5-48fa-a13c-5591b4a9460f' class='xr-var-attrs-in' type='checkbox' ><label for='attrs-050db367-72f5-48fa-a13c-5591b4a9460f' title='Show/Hide attributes'><svg class='icon xr-icon-file-text2'><use xlink:href='#icon-file-text2'></use></svg></label><input id='data-2260b8b0-d833-4039-bb96-521a302bfb50' class='xr-var-data-in' type='checkbox'><label for='data-2260b8b0-d833-4039-bb96-521a302bfb50' title='Show/Hide data repr'><svg class='icon xr-icon-database'><use xlink:href='#icon-database'></use></svg></label><div class='xr-var-attrs'><dl class='xr-attrs'><dt><span>standard_name :</span></dt><dd>cell_x_size_at_v_location</dd><dt><span>long_name :</span></dt><dd>cell x size</dd><dt><span>units :</span></dt><dd>m</dd><dt><span>coordinate :</span></dt><dd>YG XC</dd></dl></div><div class='xr-var-data'><table>\n",
>>>>>>> updated example notebooks based on MITgcm
=======
       "</table></div></li><li class='xr-var-item'><div class='xr-var-name'><span>dxG</span></div><div class='xr-var-dims'>(YG, XC)</div><div class='xr-var-dtype'>&gt;f4</div><div class='xr-var-preview xr-preview'>dask.array&lt;chunksize=(300, 250), meta=np.ndarray&gt;</div><input id='attrs-050db367-72f5-48fa-a13c-5591b4a9460f' class='xr-var-attrs-in' type='checkbox' ><label for='attrs-050db367-72f5-48fa-a13c-5591b4a9460f' title='Show/Hide attributes'><svg class='icon xr-icon-file-text2'><use xlink:href='#icon-file-text2'></use></svg></label><input id='data-2260b8b0-d833-4039-bb96-521a302bfb50' class='xr-var-data-in' type='checkbox'><label for='data-2260b8b0-d833-4039-bb96-521a302bfb50' title='Show/Hide data repr'><svg class='icon xr-icon-database'><use xlink:href='#icon-database'></use></svg></label><div class='xr-var-attrs'><dl class='xr-attrs'><dt><span>standard_name :</span></dt><dd>cell_x_size_at_v_location</dd><dt><span>long_name :</span></dt><dd>cell x size</dd><dt><span>units :</span></dt><dd>m</dd><dt><span>coordinate :</span></dt><dd>YG XC</dd></dl></div><div class='xr-var-data'><table>\n",
>>>>>>> 496ab6eb83f621cecad47543189988d9da46342e
       "<tr>\n",
       "<td>\n",
       "<table>\n",
       "  <thead>\n",
       "    <tr><td> </td><th> Array </th><th> Chunk </th></tr>\n",
       "  </thead>\n",
       "  <tbody>\n",
       "    <tr><th> Bytes </th><td> 292.97 kiB </td> <td> 292.97 kiB </td></tr>\n",
       "    <tr><th> Shape </th><td> (300, 250) </td> <td> (300, 250) </td></tr>\n",
       "    <tr><th> Count </th><td> 3 Tasks </td><td> 1 Chunks </td></tr>\n",
       "    <tr><th> Type </th><td> >f4 </td><td> numpy.ndarray </td></tr>\n",
       "  </tbody>\n",
       "</table>\n",
       "</td>\n",
       "<td>\n",
       "<svg width=\"150\" height=\"170\" style=\"stroke:rgb(0,0,0);stroke-width:1\" >\n",
       "\n",
       "  <!-- Horizontal lines -->\n",
       "  <line x1=\"0\" y1=\"0\" x2=\"100\" y2=\"0\" style=\"stroke-width:2\" />\n",
       "  <line x1=\"0\" y1=\"120\" x2=\"100\" y2=\"120\" style=\"stroke-width:2\" />\n",
       "\n",
       "  <!-- Vertical lines -->\n",
       "  <line x1=\"0\" y1=\"0\" x2=\"0\" y2=\"120\" style=\"stroke-width:2\" />\n",
       "  <line x1=\"100\" y1=\"0\" x2=\"100\" y2=\"120\" style=\"stroke-width:2\" />\n",
       "\n",
       "  <!-- Colored Rectangle -->\n",
       "  <polygon points=\"0.0,0.0 100.0,0.0 100.0,120.0 0.0,120.0\" style=\"fill:#ECB172A0;stroke-width:0\"/>\n",
       "\n",
       "  <!-- Text -->\n",
       "  <text x=\"50.000000\" y=\"140.000000\" font-size=\"1.0rem\" font-weight=\"100\" text-anchor=\"middle\" >250</text>\n",
       "  <text x=\"120.000000\" y=\"60.000000\" font-size=\"1.0rem\" font-weight=\"100\" text-anchor=\"middle\" transform=\"rotate(-90,120.000000,60.000000)\">300</text>\n",
       "</svg>\n",
       "</td>\n",
       "</tr>\n",
<<<<<<< HEAD
<<<<<<< HEAD
       "</table></div></li><li class='xr-var-item'><div class='xr-var-name'><span>dyG</span></div><div class='xr-var-dims'>(YC, XG)</div><div class='xr-var-dtype'>&gt;f4</div><div class='xr-var-preview xr-preview'>dask.array&lt;chunksize=(300, 250), meta=np.ndarray&gt;</div><input id='attrs-9b083239-fba7-4d72-a83d-d928ccd2c29b' class='xr-var-attrs-in' type='checkbox' ><label for='attrs-9b083239-fba7-4d72-a83d-d928ccd2c29b' title='Show/Hide attributes'><svg class='icon xr-icon-file-text2'><use xlink:href='#icon-file-text2'></use></svg></label><input id='data-ebc77fd1-0e49-4fab-8597-6b7dea0c4c5f' class='xr-var-data-in' type='checkbox'><label for='data-ebc77fd1-0e49-4fab-8597-6b7dea0c4c5f' title='Show/Hide data repr'><svg class='icon xr-icon-database'><use xlink:href='#icon-database'></use></svg></label><div class='xr-var-attrs'><dl class='xr-attrs'><dt><span>standard_name :</span></dt><dd>cell_y_size_at_u_location</dd><dt><span>long_name :</span></dt><dd>cell y size</dd><dt><span>units :</span></dt><dd>m</dd><dt><span>coordinate :</span></dt><dd>YC XG</dd></dl></div><div class='xr-var-data'><table>\n",
=======
       "</table></div></li><li class='xr-var-item'><div class='xr-var-name'><span>dyG</span></div><div class='xr-var-dims'>(YC, XG)</div><div class='xr-var-dtype'>&gt;f4</div><div class='xr-var-preview xr-preview'>dask.array&lt;chunksize=(300, 250), meta=np.ndarray&gt;</div><input id='attrs-4f9180bb-16ee-4837-929d-77f817b64a9f' class='xr-var-attrs-in' type='checkbox' ><label for='attrs-4f9180bb-16ee-4837-929d-77f817b64a9f' title='Show/Hide attributes'><svg class='icon xr-icon-file-text2'><use xlink:href='#icon-file-text2'></use></svg></label><input id='data-c3836e83-f415-4a59-8572-bd70b9af6367' class='xr-var-data-in' type='checkbox'><label for='data-c3836e83-f415-4a59-8572-bd70b9af6367' title='Show/Hide data repr'><svg class='icon xr-icon-database'><use xlink:href='#icon-database'></use></svg></label><div class='xr-var-attrs'><dl class='xr-attrs'><dt><span>standard_name :</span></dt><dd>cell_y_size_at_u_location</dd><dt><span>long_name :</span></dt><dd>cell y size</dd><dt><span>units :</span></dt><dd>m</dd><dt><span>coordinate :</span></dt><dd>YC XG</dd></dl></div><div class='xr-var-data'><table>\n",
>>>>>>> updated example notebooks based on MITgcm
=======
       "</table></div></li><li class='xr-var-item'><div class='xr-var-name'><span>dyG</span></div><div class='xr-var-dims'>(YC, XG)</div><div class='xr-var-dtype'>&gt;f4</div><div class='xr-var-preview xr-preview'>dask.array&lt;chunksize=(300, 250), meta=np.ndarray&gt;</div><input id='attrs-4f9180bb-16ee-4837-929d-77f817b64a9f' class='xr-var-attrs-in' type='checkbox' ><label for='attrs-4f9180bb-16ee-4837-929d-77f817b64a9f' title='Show/Hide attributes'><svg class='icon xr-icon-file-text2'><use xlink:href='#icon-file-text2'></use></svg></label><input id='data-c3836e83-f415-4a59-8572-bd70b9af6367' class='xr-var-data-in' type='checkbox'><label for='data-c3836e83-f415-4a59-8572-bd70b9af6367' title='Show/Hide data repr'><svg class='icon xr-icon-database'><use xlink:href='#icon-database'></use></svg></label><div class='xr-var-attrs'><dl class='xr-attrs'><dt><span>standard_name :</span></dt><dd>cell_y_size_at_u_location</dd><dt><span>long_name :</span></dt><dd>cell y size</dd><dt><span>units :</span></dt><dd>m</dd><dt><span>coordinate :</span></dt><dd>YC XG</dd></dl></div><div class='xr-var-data'><table>\n",
>>>>>>> 496ab6eb83f621cecad47543189988d9da46342e
       "<tr>\n",
       "<td>\n",
       "<table>\n",
       "  <thead>\n",
       "    <tr><td> </td><th> Array </th><th> Chunk </th></tr>\n",
       "  </thead>\n",
       "  <tbody>\n",
       "    <tr><th> Bytes </th><td> 292.97 kiB </td> <td> 292.97 kiB </td></tr>\n",
       "    <tr><th> Shape </th><td> (300, 250) </td> <td> (300, 250) </td></tr>\n",
       "    <tr><th> Count </th><td> 3 Tasks </td><td> 1 Chunks </td></tr>\n",
       "    <tr><th> Type </th><td> >f4 </td><td> numpy.ndarray </td></tr>\n",
       "  </tbody>\n",
       "</table>\n",
       "</td>\n",
       "<td>\n",
       "<svg width=\"150\" height=\"170\" style=\"stroke:rgb(0,0,0);stroke-width:1\" >\n",
       "\n",
       "  <!-- Horizontal lines -->\n",
       "  <line x1=\"0\" y1=\"0\" x2=\"100\" y2=\"0\" style=\"stroke-width:2\" />\n",
       "  <line x1=\"0\" y1=\"120\" x2=\"100\" y2=\"120\" style=\"stroke-width:2\" />\n",
       "\n",
       "  <!-- Vertical lines -->\n",
       "  <line x1=\"0\" y1=\"0\" x2=\"0\" y2=\"120\" style=\"stroke-width:2\" />\n",
       "  <line x1=\"100\" y1=\"0\" x2=\"100\" y2=\"120\" style=\"stroke-width:2\" />\n",
       "\n",
       "  <!-- Colored Rectangle -->\n",
       "  <polygon points=\"0.0,0.0 100.0,0.0 100.0,120.0 0.0,120.0\" style=\"fill:#ECB172A0;stroke-width:0\"/>\n",
       "\n",
       "  <!-- Text -->\n",
       "  <text x=\"50.000000\" y=\"140.000000\" font-size=\"1.0rem\" font-weight=\"100\" text-anchor=\"middle\" >250</text>\n",
       "  <text x=\"120.000000\" y=\"60.000000\" font-size=\"1.0rem\" font-weight=\"100\" text-anchor=\"middle\" transform=\"rotate(-90,120.000000,60.000000)\">300</text>\n",
       "</svg>\n",
       "</td>\n",
       "</tr>\n",
<<<<<<< HEAD
<<<<<<< HEAD
       "</table></div></li><li class='xr-var-item'><div class='xr-var-name'><span>Depth</span></div><div class='xr-var-dims'>(YC, XC)</div><div class='xr-var-dtype'>&gt;f4</div><div class='xr-var-preview xr-preview'>dask.array&lt;chunksize=(300, 250), meta=np.ndarray&gt;</div><input id='attrs-cb99e903-60e4-46d0-bebe-057b601ebbcf' class='xr-var-attrs-in' type='checkbox' ><label for='attrs-cb99e903-60e4-46d0-bebe-057b601ebbcf' title='Show/Hide attributes'><svg class='icon xr-icon-file-text2'><use xlink:href='#icon-file-text2'></use></svg></label><input id='data-95a08b82-d725-489b-bb4a-bb5e2c0e9224' class='xr-var-data-in' type='checkbox'><label for='data-95a08b82-d725-489b-bb4a-bb5e2c0e9224' title='Show/Hide data repr'><svg class='icon xr-icon-database'><use xlink:href='#icon-database'></use></svg></label><div class='xr-var-attrs'><dl class='xr-attrs'><dt><span>standard_name :</span></dt><dd>ocean_depth</dd><dt><span>long_name :</span></dt><dd>ocean depth</dd><dt><span>units :</span></dt><dd>m</dd><dt><span>coordinate :</span></dt><dd>XC YC</dd></dl></div><div class='xr-var-data'><table>\n",
=======
       "</table></div></li><li class='xr-var-item'><div class='xr-var-name'><span>Depth</span></div><div class='xr-var-dims'>(YC, XC)</div><div class='xr-var-dtype'>&gt;f4</div><div class='xr-var-preview xr-preview'>dask.array&lt;chunksize=(300, 250), meta=np.ndarray&gt;</div><input id='attrs-75e5bd61-09d3-4fa2-b3f2-aec807c43991' class='xr-var-attrs-in' type='checkbox' ><label for='attrs-75e5bd61-09d3-4fa2-b3f2-aec807c43991' title='Show/Hide attributes'><svg class='icon xr-icon-file-text2'><use xlink:href='#icon-file-text2'></use></svg></label><input id='data-5a6c3948-652e-4a76-acba-ed904b0f5dc0' class='xr-var-data-in' type='checkbox'><label for='data-5a6c3948-652e-4a76-acba-ed904b0f5dc0' title='Show/Hide data repr'><svg class='icon xr-icon-database'><use xlink:href='#icon-database'></use></svg></label><div class='xr-var-attrs'><dl class='xr-attrs'><dt><span>standard_name :</span></dt><dd>ocean_depth</dd><dt><span>long_name :</span></dt><dd>ocean depth</dd><dt><span>units :</span></dt><dd>m</dd><dt><span>coordinate :</span></dt><dd>XC YC</dd></dl></div><div class='xr-var-data'><table>\n",
>>>>>>> updated example notebooks based on MITgcm
=======
       "</table></div></li><li class='xr-var-item'><div class='xr-var-name'><span>Depth</span></div><div class='xr-var-dims'>(YC, XC)</div><div class='xr-var-dtype'>&gt;f4</div><div class='xr-var-preview xr-preview'>dask.array&lt;chunksize=(300, 250), meta=np.ndarray&gt;</div><input id='attrs-75e5bd61-09d3-4fa2-b3f2-aec807c43991' class='xr-var-attrs-in' type='checkbox' ><label for='attrs-75e5bd61-09d3-4fa2-b3f2-aec807c43991' title='Show/Hide attributes'><svg class='icon xr-icon-file-text2'><use xlink:href='#icon-file-text2'></use></svg></label><input id='data-5a6c3948-652e-4a76-acba-ed904b0f5dc0' class='xr-var-data-in' type='checkbox'><label for='data-5a6c3948-652e-4a76-acba-ed904b0f5dc0' title='Show/Hide data repr'><svg class='icon xr-icon-database'><use xlink:href='#icon-database'></use></svg></label><div class='xr-var-attrs'><dl class='xr-attrs'><dt><span>standard_name :</span></dt><dd>ocean_depth</dd><dt><span>long_name :</span></dt><dd>ocean depth</dd><dt><span>units :</span></dt><dd>m</dd><dt><span>coordinate :</span></dt><dd>XC YC</dd></dl></div><div class='xr-var-data'><table>\n",
>>>>>>> 496ab6eb83f621cecad47543189988d9da46342e
       "<tr>\n",
       "<td>\n",
       "<table>\n",
       "  <thead>\n",
       "    <tr><td> </td><th> Array </th><th> Chunk </th></tr>\n",
       "  </thead>\n",
       "  <tbody>\n",
       "    <tr><th> Bytes </th><td> 292.97 kiB </td> <td> 292.97 kiB </td></tr>\n",
       "    <tr><th> Shape </th><td> (300, 250) </td> <td> (300, 250) </td></tr>\n",
       "    <tr><th> Count </th><td> 3 Tasks </td><td> 1 Chunks </td></tr>\n",
       "    <tr><th> Type </th><td> >f4 </td><td> numpy.ndarray </td></tr>\n",
       "  </tbody>\n",
       "</table>\n",
       "</td>\n",
       "<td>\n",
       "<svg width=\"150\" height=\"170\" style=\"stroke:rgb(0,0,0);stroke-width:1\" >\n",
       "\n",
       "  <!-- Horizontal lines -->\n",
       "  <line x1=\"0\" y1=\"0\" x2=\"100\" y2=\"0\" style=\"stroke-width:2\" />\n",
       "  <line x1=\"0\" y1=\"120\" x2=\"100\" y2=\"120\" style=\"stroke-width:2\" />\n",
       "\n",
       "  <!-- Vertical lines -->\n",
       "  <line x1=\"0\" y1=\"0\" x2=\"0\" y2=\"120\" style=\"stroke-width:2\" />\n",
       "  <line x1=\"100\" y1=\"0\" x2=\"100\" y2=\"120\" style=\"stroke-width:2\" />\n",
       "\n",
       "  <!-- Colored Rectangle -->\n",
       "  <polygon points=\"0.0,0.0 100.0,0.0 100.0,120.0 0.0,120.0\" style=\"fill:#ECB172A0;stroke-width:0\"/>\n",
       "\n",
       "  <!-- Text -->\n",
       "  <text x=\"50.000000\" y=\"140.000000\" font-size=\"1.0rem\" font-weight=\"100\" text-anchor=\"middle\" >250</text>\n",
       "  <text x=\"120.000000\" y=\"60.000000\" font-size=\"1.0rem\" font-weight=\"100\" text-anchor=\"middle\" transform=\"rotate(-90,120.000000,60.000000)\">300</text>\n",
       "</svg>\n",
       "</td>\n",
       "</tr>\n",
<<<<<<< HEAD
<<<<<<< HEAD
       "</table></div></li><li class='xr-var-item'><div class='xr-var-name'><span>rAz</span></div><div class='xr-var-dims'>(YG, XG)</div><div class='xr-var-dtype'>&gt;f4</div><div class='xr-var-preview xr-preview'>dask.array&lt;chunksize=(300, 250), meta=np.ndarray&gt;</div><input id='attrs-d041fd6f-9e06-4255-a013-dd14a8f3d8f5' class='xr-var-attrs-in' type='checkbox' ><label for='attrs-d041fd6f-9e06-4255-a013-dd14a8f3d8f5' title='Show/Hide attributes'><svg class='icon xr-icon-file-text2'><use xlink:href='#icon-file-text2'></use></svg></label><input id='data-ef6ee25c-37f1-4cb3-9b8d-7d94e49cc7cf' class='xr-var-data-in' type='checkbox'><label for='data-ef6ee25c-37f1-4cb3-9b8d-7d94e49cc7cf' title='Show/Hide data repr'><svg class='icon xr-icon-database'><use xlink:href='#icon-database'></use></svg></label><div class='xr-var-attrs'><dl class='xr-attrs'><dt><span>standard_name :</span></dt><dd>cell_area_at_f_location</dd><dt><span>long_name :</span></dt><dd>cell area</dd><dt><span>units :</span></dt><dd>m</dd><dt><span>coordinate :</span></dt><dd>YG XG</dd></dl></div><div class='xr-var-data'><table>\n",
=======
       "</table></div></li><li class='xr-var-item'><div class='xr-var-name'><span>rAz</span></div><div class='xr-var-dims'>(YG, XG)</div><div class='xr-var-dtype'>&gt;f4</div><div class='xr-var-preview xr-preview'>dask.array&lt;chunksize=(300, 250), meta=np.ndarray&gt;</div><input id='attrs-f7ec332e-4a99-4811-bda4-05cf8f8d746e' class='xr-var-attrs-in' type='checkbox' ><label for='attrs-f7ec332e-4a99-4811-bda4-05cf8f8d746e' title='Show/Hide attributes'><svg class='icon xr-icon-file-text2'><use xlink:href='#icon-file-text2'></use></svg></label><input id='data-2b34f040-1cfc-4dac-beac-5376add6687d' class='xr-var-data-in' type='checkbox'><label for='data-2b34f040-1cfc-4dac-beac-5376add6687d' title='Show/Hide data repr'><svg class='icon xr-icon-database'><use xlink:href='#icon-database'></use></svg></label><div class='xr-var-attrs'><dl class='xr-attrs'><dt><span>standard_name :</span></dt><dd>cell_area_at_f_location</dd><dt><span>long_name :</span></dt><dd>cell area</dd><dt><span>units :</span></dt><dd>m</dd><dt><span>coordinate :</span></dt><dd>YG XG</dd></dl></div><div class='xr-var-data'><table>\n",
>>>>>>> updated example notebooks based on MITgcm
=======
       "</table></div></li><li class='xr-var-item'><div class='xr-var-name'><span>rAz</span></div><div class='xr-var-dims'>(YG, XG)</div><div class='xr-var-dtype'>&gt;f4</div><div class='xr-var-preview xr-preview'>dask.array&lt;chunksize=(300, 250), meta=np.ndarray&gt;</div><input id='attrs-f7ec332e-4a99-4811-bda4-05cf8f8d746e' class='xr-var-attrs-in' type='checkbox' ><label for='attrs-f7ec332e-4a99-4811-bda4-05cf8f8d746e' title='Show/Hide attributes'><svg class='icon xr-icon-file-text2'><use xlink:href='#icon-file-text2'></use></svg></label><input id='data-2b34f040-1cfc-4dac-beac-5376add6687d' class='xr-var-data-in' type='checkbox'><label for='data-2b34f040-1cfc-4dac-beac-5376add6687d' title='Show/Hide data repr'><svg class='icon xr-icon-database'><use xlink:href='#icon-database'></use></svg></label><div class='xr-var-attrs'><dl class='xr-attrs'><dt><span>standard_name :</span></dt><dd>cell_area_at_f_location</dd><dt><span>long_name :</span></dt><dd>cell area</dd><dt><span>units :</span></dt><dd>m</dd><dt><span>coordinate :</span></dt><dd>YG XG</dd></dl></div><div class='xr-var-data'><table>\n",
>>>>>>> 496ab6eb83f621cecad47543189988d9da46342e
       "<tr>\n",
       "<td>\n",
       "<table>\n",
       "  <thead>\n",
       "    <tr><td> </td><th> Array </th><th> Chunk </th></tr>\n",
       "  </thead>\n",
       "  <tbody>\n",
       "    <tr><th> Bytes </th><td> 292.97 kiB </td> <td> 292.97 kiB </td></tr>\n",
       "    <tr><th> Shape </th><td> (300, 250) </td> <td> (300, 250) </td></tr>\n",
       "    <tr><th> Count </th><td> 3 Tasks </td><td> 1 Chunks </td></tr>\n",
       "    <tr><th> Type </th><td> >f4 </td><td> numpy.ndarray </td></tr>\n",
       "  </tbody>\n",
       "</table>\n",
       "</td>\n",
       "<td>\n",
       "<svg width=\"150\" height=\"170\" style=\"stroke:rgb(0,0,0);stroke-width:1\" >\n",
       "\n",
       "  <!-- Horizontal lines -->\n",
       "  <line x1=\"0\" y1=\"0\" x2=\"100\" y2=\"0\" style=\"stroke-width:2\" />\n",
       "  <line x1=\"0\" y1=\"120\" x2=\"100\" y2=\"120\" style=\"stroke-width:2\" />\n",
       "\n",
       "  <!-- Vertical lines -->\n",
       "  <line x1=\"0\" y1=\"0\" x2=\"0\" y2=\"120\" style=\"stroke-width:2\" />\n",
       "  <line x1=\"100\" y1=\"0\" x2=\"100\" y2=\"120\" style=\"stroke-width:2\" />\n",
       "\n",
       "  <!-- Colored Rectangle -->\n",
       "  <polygon points=\"0.0,0.0 100.0,0.0 100.0,120.0 0.0,120.0\" style=\"fill:#ECB172A0;stroke-width:0\"/>\n",
       "\n",
       "  <!-- Text -->\n",
       "  <text x=\"50.000000\" y=\"140.000000\" font-size=\"1.0rem\" font-weight=\"100\" text-anchor=\"middle\" >250</text>\n",
       "  <text x=\"120.000000\" y=\"60.000000\" font-size=\"1.0rem\" font-weight=\"100\" text-anchor=\"middle\" transform=\"rotate(-90,120.000000,60.000000)\">300</text>\n",
       "</svg>\n",
       "</td>\n",
       "</tr>\n",
<<<<<<< HEAD
<<<<<<< HEAD
       "</table></div></li><li class='xr-var-item'><div class='xr-var-name'><span>dxC</span></div><div class='xr-var-dims'>(YC, XG)</div><div class='xr-var-dtype'>&gt;f4</div><div class='xr-var-preview xr-preview'>dask.array&lt;chunksize=(300, 250), meta=np.ndarray&gt;</div><input id='attrs-1f18008e-7382-4373-9bfc-f6634d80212f' class='xr-var-attrs-in' type='checkbox' ><label for='attrs-1f18008e-7382-4373-9bfc-f6634d80212f' title='Show/Hide attributes'><svg class='icon xr-icon-file-text2'><use xlink:href='#icon-file-text2'></use></svg></label><input id='data-cb71a6de-6873-4bf7-af3f-2108c9d96d86' class='xr-var-data-in' type='checkbox'><label for='data-cb71a6de-6873-4bf7-af3f-2108c9d96d86' title='Show/Hide data repr'><svg class='icon xr-icon-database'><use xlink:href='#icon-database'></use></svg></label><div class='xr-var-attrs'><dl class='xr-attrs'><dt><span>standard_name :</span></dt><dd>cell_x_size_at_u_location</dd><dt><span>long_name :</span></dt><dd>cell x size</dd><dt><span>units :</span></dt><dd>m</dd><dt><span>coordinate :</span></dt><dd>YC XG</dd></dl></div><div class='xr-var-data'><table>\n",
=======
       "</table></div></li><li class='xr-var-item'><div class='xr-var-name'><span>dxC</span></div><div class='xr-var-dims'>(YC, XG)</div><div class='xr-var-dtype'>&gt;f4</div><div class='xr-var-preview xr-preview'>dask.array&lt;chunksize=(300, 250), meta=np.ndarray&gt;</div><input id='attrs-cf74186a-9d34-4444-8143-66fdc946ed34' class='xr-var-attrs-in' type='checkbox' ><label for='attrs-cf74186a-9d34-4444-8143-66fdc946ed34' title='Show/Hide attributes'><svg class='icon xr-icon-file-text2'><use xlink:href='#icon-file-text2'></use></svg></label><input id='data-ac6f7c31-6727-426f-9571-1bc98a50d59c' class='xr-var-data-in' type='checkbox'><label for='data-ac6f7c31-6727-426f-9571-1bc98a50d59c' title='Show/Hide data repr'><svg class='icon xr-icon-database'><use xlink:href='#icon-database'></use></svg></label><div class='xr-var-attrs'><dl class='xr-attrs'><dt><span>standard_name :</span></dt><dd>cell_x_size_at_u_location</dd><dt><span>long_name :</span></dt><dd>cell x size</dd><dt><span>units :</span></dt><dd>m</dd><dt><span>coordinate :</span></dt><dd>YC XG</dd></dl></div><div class='xr-var-data'><table>\n",
>>>>>>> updated example notebooks based on MITgcm
=======
       "</table></div></li><li class='xr-var-item'><div class='xr-var-name'><span>dxC</span></div><div class='xr-var-dims'>(YC, XG)</div><div class='xr-var-dtype'>&gt;f4</div><div class='xr-var-preview xr-preview'>dask.array&lt;chunksize=(300, 250), meta=np.ndarray&gt;</div><input id='attrs-cf74186a-9d34-4444-8143-66fdc946ed34' class='xr-var-attrs-in' type='checkbox' ><label for='attrs-cf74186a-9d34-4444-8143-66fdc946ed34' title='Show/Hide attributes'><svg class='icon xr-icon-file-text2'><use xlink:href='#icon-file-text2'></use></svg></label><input id='data-ac6f7c31-6727-426f-9571-1bc98a50d59c' class='xr-var-data-in' type='checkbox'><label for='data-ac6f7c31-6727-426f-9571-1bc98a50d59c' title='Show/Hide data repr'><svg class='icon xr-icon-database'><use xlink:href='#icon-database'></use></svg></label><div class='xr-var-attrs'><dl class='xr-attrs'><dt><span>standard_name :</span></dt><dd>cell_x_size_at_u_location</dd><dt><span>long_name :</span></dt><dd>cell x size</dd><dt><span>units :</span></dt><dd>m</dd><dt><span>coordinate :</span></dt><dd>YC XG</dd></dl></div><div class='xr-var-data'><table>\n",
>>>>>>> 496ab6eb83f621cecad47543189988d9da46342e
       "<tr>\n",
       "<td>\n",
       "<table>\n",
       "  <thead>\n",
       "    <tr><td> </td><th> Array </th><th> Chunk </th></tr>\n",
       "  </thead>\n",
       "  <tbody>\n",
       "    <tr><th> Bytes </th><td> 292.97 kiB </td> <td> 292.97 kiB </td></tr>\n",
       "    <tr><th> Shape </th><td> (300, 250) </td> <td> (300, 250) </td></tr>\n",
       "    <tr><th> Count </th><td> 3 Tasks </td><td> 1 Chunks </td></tr>\n",
       "    <tr><th> Type </th><td> >f4 </td><td> numpy.ndarray </td></tr>\n",
       "  </tbody>\n",
       "</table>\n",
       "</td>\n",
       "<td>\n",
       "<svg width=\"150\" height=\"170\" style=\"stroke:rgb(0,0,0);stroke-width:1\" >\n",
       "\n",
       "  <!-- Horizontal lines -->\n",
       "  <line x1=\"0\" y1=\"0\" x2=\"100\" y2=\"0\" style=\"stroke-width:2\" />\n",
       "  <line x1=\"0\" y1=\"120\" x2=\"100\" y2=\"120\" style=\"stroke-width:2\" />\n",
       "\n",
       "  <!-- Vertical lines -->\n",
       "  <line x1=\"0\" y1=\"0\" x2=\"0\" y2=\"120\" style=\"stroke-width:2\" />\n",
       "  <line x1=\"100\" y1=\"0\" x2=\"100\" y2=\"120\" style=\"stroke-width:2\" />\n",
       "\n",
       "  <!-- Colored Rectangle -->\n",
       "  <polygon points=\"0.0,0.0 100.0,0.0 100.0,120.0 0.0,120.0\" style=\"fill:#ECB172A0;stroke-width:0\"/>\n",
       "\n",
       "  <!-- Text -->\n",
       "  <text x=\"50.000000\" y=\"140.000000\" font-size=\"1.0rem\" font-weight=\"100\" text-anchor=\"middle\" >250</text>\n",
       "  <text x=\"120.000000\" y=\"60.000000\" font-size=\"1.0rem\" font-weight=\"100\" text-anchor=\"middle\" transform=\"rotate(-90,120.000000,60.000000)\">300</text>\n",
       "</svg>\n",
       "</td>\n",
       "</tr>\n",
<<<<<<< HEAD
<<<<<<< HEAD
       "</table></div></li><li class='xr-var-item'><div class='xr-var-name'><span>dyC</span></div><div class='xr-var-dims'>(YG, XC)</div><div class='xr-var-dtype'>&gt;f4</div><div class='xr-var-preview xr-preview'>dask.array&lt;chunksize=(300, 250), meta=np.ndarray&gt;</div><input id='attrs-b1f9a886-c659-4b3c-afd9-67f8f77a4b90' class='xr-var-attrs-in' type='checkbox' ><label for='attrs-b1f9a886-c659-4b3c-afd9-67f8f77a4b90' title='Show/Hide attributes'><svg class='icon xr-icon-file-text2'><use xlink:href='#icon-file-text2'></use></svg></label><input id='data-23ecb4bd-3e34-4024-a298-224386d7a29e' class='xr-var-data-in' type='checkbox'><label for='data-23ecb4bd-3e34-4024-a298-224386d7a29e' title='Show/Hide data repr'><svg class='icon xr-icon-database'><use xlink:href='#icon-database'></use></svg></label><div class='xr-var-attrs'><dl class='xr-attrs'><dt><span>standard_name :</span></dt><dd>cell_y_size_at_v_location</dd><dt><span>long_name :</span></dt><dd>cell y size</dd><dt><span>units :</span></dt><dd>m</dd><dt><span>coordinate :</span></dt><dd>YG XC</dd></dl></div><div class='xr-var-data'><table>\n",
=======
       "</table></div></li><li class='xr-var-item'><div class='xr-var-name'><span>dyC</span></div><div class='xr-var-dims'>(YG, XC)</div><div class='xr-var-dtype'>&gt;f4</div><div class='xr-var-preview xr-preview'>dask.array&lt;chunksize=(300, 250), meta=np.ndarray&gt;</div><input id='attrs-e3590749-974e-4a5d-9c59-08daadab6f92' class='xr-var-attrs-in' type='checkbox' ><label for='attrs-e3590749-974e-4a5d-9c59-08daadab6f92' title='Show/Hide attributes'><svg class='icon xr-icon-file-text2'><use xlink:href='#icon-file-text2'></use></svg></label><input id='data-5b489c90-0770-4b65-b47b-b6c0c0474e14' class='xr-var-data-in' type='checkbox'><label for='data-5b489c90-0770-4b65-b47b-b6c0c0474e14' title='Show/Hide data repr'><svg class='icon xr-icon-database'><use xlink:href='#icon-database'></use></svg></label><div class='xr-var-attrs'><dl class='xr-attrs'><dt><span>standard_name :</span></dt><dd>cell_y_size_at_v_location</dd><dt><span>long_name :</span></dt><dd>cell y size</dd><dt><span>units :</span></dt><dd>m</dd><dt><span>coordinate :</span></dt><dd>YG XC</dd></dl></div><div class='xr-var-data'><table>\n",
>>>>>>> updated example notebooks based on MITgcm
=======
       "</table></div></li><li class='xr-var-item'><div class='xr-var-name'><span>dyC</span></div><div class='xr-var-dims'>(YG, XC)</div><div class='xr-var-dtype'>&gt;f4</div><div class='xr-var-preview xr-preview'>dask.array&lt;chunksize=(300, 250), meta=np.ndarray&gt;</div><input id='attrs-e3590749-974e-4a5d-9c59-08daadab6f92' class='xr-var-attrs-in' type='checkbox' ><label for='attrs-e3590749-974e-4a5d-9c59-08daadab6f92' title='Show/Hide attributes'><svg class='icon xr-icon-file-text2'><use xlink:href='#icon-file-text2'></use></svg></label><input id='data-5b489c90-0770-4b65-b47b-b6c0c0474e14' class='xr-var-data-in' type='checkbox'><label for='data-5b489c90-0770-4b65-b47b-b6c0c0474e14' title='Show/Hide data repr'><svg class='icon xr-icon-database'><use xlink:href='#icon-database'></use></svg></label><div class='xr-var-attrs'><dl class='xr-attrs'><dt><span>standard_name :</span></dt><dd>cell_y_size_at_v_location</dd><dt><span>long_name :</span></dt><dd>cell y size</dd><dt><span>units :</span></dt><dd>m</dd><dt><span>coordinate :</span></dt><dd>YG XC</dd></dl></div><div class='xr-var-data'><table>\n",
>>>>>>> 496ab6eb83f621cecad47543189988d9da46342e
       "<tr>\n",
       "<td>\n",
       "<table>\n",
       "  <thead>\n",
       "    <tr><td> </td><th> Array </th><th> Chunk </th></tr>\n",
       "  </thead>\n",
       "  <tbody>\n",
       "    <tr><th> Bytes </th><td> 292.97 kiB </td> <td> 292.97 kiB </td></tr>\n",
       "    <tr><th> Shape </th><td> (300, 250) </td> <td> (300, 250) </td></tr>\n",
       "    <tr><th> Count </th><td> 3 Tasks </td><td> 1 Chunks </td></tr>\n",
       "    <tr><th> Type </th><td> >f4 </td><td> numpy.ndarray </td></tr>\n",
       "  </tbody>\n",
       "</table>\n",
       "</td>\n",
       "<td>\n",
       "<svg width=\"150\" height=\"170\" style=\"stroke:rgb(0,0,0);stroke-width:1\" >\n",
       "\n",
       "  <!-- Horizontal lines -->\n",
       "  <line x1=\"0\" y1=\"0\" x2=\"100\" y2=\"0\" style=\"stroke-width:2\" />\n",
       "  <line x1=\"0\" y1=\"120\" x2=\"100\" y2=\"120\" style=\"stroke-width:2\" />\n",
       "\n",
       "  <!-- Vertical lines -->\n",
       "  <line x1=\"0\" y1=\"0\" x2=\"0\" y2=\"120\" style=\"stroke-width:2\" />\n",
       "  <line x1=\"100\" y1=\"0\" x2=\"100\" y2=\"120\" style=\"stroke-width:2\" />\n",
       "\n",
       "  <!-- Colored Rectangle -->\n",
       "  <polygon points=\"0.0,0.0 100.0,0.0 100.0,120.0 0.0,120.0\" style=\"fill:#ECB172A0;stroke-width:0\"/>\n",
       "\n",
       "  <!-- Text -->\n",
       "  <text x=\"50.000000\" y=\"140.000000\" font-size=\"1.0rem\" font-weight=\"100\" text-anchor=\"middle\" >250</text>\n",
       "  <text x=\"120.000000\" y=\"60.000000\" font-size=\"1.0rem\" font-weight=\"100\" text-anchor=\"middle\" transform=\"rotate(-90,120.000000,60.000000)\">300</text>\n",
       "</svg>\n",
       "</td>\n",
       "</tr>\n",
<<<<<<< HEAD
<<<<<<< HEAD
       "</table></div></li><li class='xr-var-item'><div class='xr-var-name'><span>rAw</span></div><div class='xr-var-dims'>(YC, XG)</div><div class='xr-var-dtype'>&gt;f4</div><div class='xr-var-preview xr-preview'>dask.array&lt;chunksize=(300, 250), meta=np.ndarray&gt;</div><input id='attrs-898620b5-98d8-4a93-b04f-ddff136c5739' class='xr-var-attrs-in' type='checkbox' ><label for='attrs-898620b5-98d8-4a93-b04f-ddff136c5739' title='Show/Hide attributes'><svg class='icon xr-icon-file-text2'><use xlink:href='#icon-file-text2'></use></svg></label><input id='data-f816f259-d43a-445e-b5e9-d2532876bc9b' class='xr-var-data-in' type='checkbox'><label for='data-f816f259-d43a-445e-b5e9-d2532876bc9b' title='Show/Hide data repr'><svg class='icon xr-icon-database'><use xlink:href='#icon-database'></use></svg></label><div class='xr-var-attrs'><dl class='xr-attrs'><dt><span>standard_name :</span></dt><dd>cell_area_at_u_location</dd><dt><span>long_name :</span></dt><dd>cell area</dd><dt><span>units :</span></dt><dd>m2</dd><dt><span>coordinate :</span></dt><dd>YG XC</dd></dl></div><div class='xr-var-data'><table>\n",
=======
       "</table></div></li><li class='xr-var-item'><div class='xr-var-name'><span>rAw</span></div><div class='xr-var-dims'>(YC, XG)</div><div class='xr-var-dtype'>&gt;f4</div><div class='xr-var-preview xr-preview'>dask.array&lt;chunksize=(300, 250), meta=np.ndarray&gt;</div><input id='attrs-06765ae0-b69c-4d3b-91cc-f1f4496f1b52' class='xr-var-attrs-in' type='checkbox' ><label for='attrs-06765ae0-b69c-4d3b-91cc-f1f4496f1b52' title='Show/Hide attributes'><svg class='icon xr-icon-file-text2'><use xlink:href='#icon-file-text2'></use></svg></label><input id='data-8154ea44-0aa3-4ff4-95b8-3c46d1601f5e' class='xr-var-data-in' type='checkbox'><label for='data-8154ea44-0aa3-4ff4-95b8-3c46d1601f5e' title='Show/Hide data repr'><svg class='icon xr-icon-database'><use xlink:href='#icon-database'></use></svg></label><div class='xr-var-attrs'><dl class='xr-attrs'><dt><span>standard_name :</span></dt><dd>cell_area_at_u_location</dd><dt><span>long_name :</span></dt><dd>cell area</dd><dt><span>units :</span></dt><dd>m2</dd><dt><span>coordinate :</span></dt><dd>YG XC</dd></dl></div><div class='xr-var-data'><table>\n",
>>>>>>> updated example notebooks based on MITgcm
=======
       "</table></div></li><li class='xr-var-item'><div class='xr-var-name'><span>rAw</span></div><div class='xr-var-dims'>(YC, XG)</div><div class='xr-var-dtype'>&gt;f4</div><div class='xr-var-preview xr-preview'>dask.array&lt;chunksize=(300, 250), meta=np.ndarray&gt;</div><input id='attrs-06765ae0-b69c-4d3b-91cc-f1f4496f1b52' class='xr-var-attrs-in' type='checkbox' ><label for='attrs-06765ae0-b69c-4d3b-91cc-f1f4496f1b52' title='Show/Hide attributes'><svg class='icon xr-icon-file-text2'><use xlink:href='#icon-file-text2'></use></svg></label><input id='data-8154ea44-0aa3-4ff4-95b8-3c46d1601f5e' class='xr-var-data-in' type='checkbox'><label for='data-8154ea44-0aa3-4ff4-95b8-3c46d1601f5e' title='Show/Hide data repr'><svg class='icon xr-icon-database'><use xlink:href='#icon-database'></use></svg></label><div class='xr-var-attrs'><dl class='xr-attrs'><dt><span>standard_name :</span></dt><dd>cell_area_at_u_location</dd><dt><span>long_name :</span></dt><dd>cell area</dd><dt><span>units :</span></dt><dd>m2</dd><dt><span>coordinate :</span></dt><dd>YG XC</dd></dl></div><div class='xr-var-data'><table>\n",
>>>>>>> 496ab6eb83f621cecad47543189988d9da46342e
       "<tr>\n",
       "<td>\n",
       "<table>\n",
       "  <thead>\n",
       "    <tr><td> </td><th> Array </th><th> Chunk </th></tr>\n",
       "  </thead>\n",
       "  <tbody>\n",
       "    <tr><th> Bytes </th><td> 292.97 kiB </td> <td> 292.97 kiB </td></tr>\n",
       "    <tr><th> Shape </th><td> (300, 250) </td> <td> (300, 250) </td></tr>\n",
       "    <tr><th> Count </th><td> 3 Tasks </td><td> 1 Chunks </td></tr>\n",
       "    <tr><th> Type </th><td> >f4 </td><td> numpy.ndarray </td></tr>\n",
       "  </tbody>\n",
       "</table>\n",
       "</td>\n",
       "<td>\n",
       "<svg width=\"150\" height=\"170\" style=\"stroke:rgb(0,0,0);stroke-width:1\" >\n",
       "\n",
       "  <!-- Horizontal lines -->\n",
       "  <line x1=\"0\" y1=\"0\" x2=\"100\" y2=\"0\" style=\"stroke-width:2\" />\n",
       "  <line x1=\"0\" y1=\"120\" x2=\"100\" y2=\"120\" style=\"stroke-width:2\" />\n",
       "\n",
       "  <!-- Vertical lines -->\n",
       "  <line x1=\"0\" y1=\"0\" x2=\"0\" y2=\"120\" style=\"stroke-width:2\" />\n",
       "  <line x1=\"100\" y1=\"0\" x2=\"100\" y2=\"120\" style=\"stroke-width:2\" />\n",
       "\n",
       "  <!-- Colored Rectangle -->\n",
       "  <polygon points=\"0.0,0.0 100.0,0.0 100.0,120.0 0.0,120.0\" style=\"fill:#ECB172A0;stroke-width:0\"/>\n",
       "\n",
       "  <!-- Text -->\n",
       "  <text x=\"50.000000\" y=\"140.000000\" font-size=\"1.0rem\" font-weight=\"100\" text-anchor=\"middle\" >250</text>\n",
       "  <text x=\"120.000000\" y=\"60.000000\" font-size=\"1.0rem\" font-weight=\"100\" text-anchor=\"middle\" transform=\"rotate(-90,120.000000,60.000000)\">300</text>\n",
       "</svg>\n",
       "</td>\n",
       "</tr>\n",
<<<<<<< HEAD
<<<<<<< HEAD
       "</table></div></li><li class='xr-var-item'><div class='xr-var-name'><span>rAs</span></div><div class='xr-var-dims'>(YG, XC)</div><div class='xr-var-dtype'>&gt;f4</div><div class='xr-var-preview xr-preview'>dask.array&lt;chunksize=(300, 250), meta=np.ndarray&gt;</div><input id='attrs-92a4fc3b-8b0a-4c97-b05a-8f3e6bb8610d' class='xr-var-attrs-in' type='checkbox' ><label for='attrs-92a4fc3b-8b0a-4c97-b05a-8f3e6bb8610d' title='Show/Hide attributes'><svg class='icon xr-icon-file-text2'><use xlink:href='#icon-file-text2'></use></svg></label><input id='data-c30fb68f-0141-4b2b-a301-129ae321d44c' class='xr-var-data-in' type='checkbox'><label for='data-c30fb68f-0141-4b2b-a301-129ae321d44c' title='Show/Hide data repr'><svg class='icon xr-icon-database'><use xlink:href='#icon-database'></use></svg></label><div class='xr-var-attrs'><dl class='xr-attrs'><dt><span>standard_name :</span></dt><dd>cell_area_at_v_location</dd><dt><span>long_name :</span></dt><dd>cell area</dd><dt><span>units :</span></dt><dd>m2</dd><dt><span>coordinate :</span></dt><dd>YG XC</dd></dl></div><div class='xr-var-data'><table>\n",
=======
       "</table></div></li><li class='xr-var-item'><div class='xr-var-name'><span>rAs</span></div><div class='xr-var-dims'>(YG, XC)</div><div class='xr-var-dtype'>&gt;f4</div><div class='xr-var-preview xr-preview'>dask.array&lt;chunksize=(300, 250), meta=np.ndarray&gt;</div><input id='attrs-d9549b4d-208e-4d9a-87b5-f45a0ef65cd2' class='xr-var-attrs-in' type='checkbox' ><label for='attrs-d9549b4d-208e-4d9a-87b5-f45a0ef65cd2' title='Show/Hide attributes'><svg class='icon xr-icon-file-text2'><use xlink:href='#icon-file-text2'></use></svg></label><input id='data-a75dd72b-1c9a-4390-a297-fdfb872a6ef7' class='xr-var-data-in' type='checkbox'><label for='data-a75dd72b-1c9a-4390-a297-fdfb872a6ef7' title='Show/Hide data repr'><svg class='icon xr-icon-database'><use xlink:href='#icon-database'></use></svg></label><div class='xr-var-attrs'><dl class='xr-attrs'><dt><span>standard_name :</span></dt><dd>cell_area_at_v_location</dd><dt><span>long_name :</span></dt><dd>cell area</dd><dt><span>units :</span></dt><dd>m2</dd><dt><span>coordinate :</span></dt><dd>YG XC</dd></dl></div><div class='xr-var-data'><table>\n",
>>>>>>> updated example notebooks based on MITgcm
=======
       "</table></div></li><li class='xr-var-item'><div class='xr-var-name'><span>rAs</span></div><div class='xr-var-dims'>(YG, XC)</div><div class='xr-var-dtype'>&gt;f4</div><div class='xr-var-preview xr-preview'>dask.array&lt;chunksize=(300, 250), meta=np.ndarray&gt;</div><input id='attrs-d9549b4d-208e-4d9a-87b5-f45a0ef65cd2' class='xr-var-attrs-in' type='checkbox' ><label for='attrs-d9549b4d-208e-4d9a-87b5-f45a0ef65cd2' title='Show/Hide attributes'><svg class='icon xr-icon-file-text2'><use xlink:href='#icon-file-text2'></use></svg></label><input id='data-a75dd72b-1c9a-4390-a297-fdfb872a6ef7' class='xr-var-data-in' type='checkbox'><label for='data-a75dd72b-1c9a-4390-a297-fdfb872a6ef7' title='Show/Hide data repr'><svg class='icon xr-icon-database'><use xlink:href='#icon-database'></use></svg></label><div class='xr-var-attrs'><dl class='xr-attrs'><dt><span>standard_name :</span></dt><dd>cell_area_at_v_location</dd><dt><span>long_name :</span></dt><dd>cell area</dd><dt><span>units :</span></dt><dd>m2</dd><dt><span>coordinate :</span></dt><dd>YG XC</dd></dl></div><div class='xr-var-data'><table>\n",
>>>>>>> 496ab6eb83f621cecad47543189988d9da46342e
       "<tr>\n",
       "<td>\n",
       "<table>\n",
       "  <thead>\n",
       "    <tr><td> </td><th> Array </th><th> Chunk </th></tr>\n",
       "  </thead>\n",
       "  <tbody>\n",
       "    <tr><th> Bytes </th><td> 292.97 kiB </td> <td> 292.97 kiB </td></tr>\n",
       "    <tr><th> Shape </th><td> (300, 250) </td> <td> (300, 250) </td></tr>\n",
       "    <tr><th> Count </th><td> 3 Tasks </td><td> 1 Chunks </td></tr>\n",
       "    <tr><th> Type </th><td> >f4 </td><td> numpy.ndarray </td></tr>\n",
       "  </tbody>\n",
       "</table>\n",
       "</td>\n",
       "<td>\n",
       "<svg width=\"150\" height=\"170\" style=\"stroke:rgb(0,0,0);stroke-width:1\" >\n",
       "\n",
       "  <!-- Horizontal lines -->\n",
       "  <line x1=\"0\" y1=\"0\" x2=\"100\" y2=\"0\" style=\"stroke-width:2\" />\n",
       "  <line x1=\"0\" y1=\"120\" x2=\"100\" y2=\"120\" style=\"stroke-width:2\" />\n",
       "\n",
       "  <!-- Vertical lines -->\n",
       "  <line x1=\"0\" y1=\"0\" x2=\"0\" y2=\"120\" style=\"stroke-width:2\" />\n",
       "  <line x1=\"100\" y1=\"0\" x2=\"100\" y2=\"120\" style=\"stroke-width:2\" />\n",
       "\n",
       "  <!-- Colored Rectangle -->\n",
       "  <polygon points=\"0.0,0.0 100.0,0.0 100.0,120.0 0.0,120.0\" style=\"fill:#ECB172A0;stroke-width:0\"/>\n",
       "\n",
       "  <!-- Text -->\n",
       "  <text x=\"50.000000\" y=\"140.000000\" font-size=\"1.0rem\" font-weight=\"100\" text-anchor=\"middle\" >250</text>\n",
       "  <text x=\"120.000000\" y=\"60.000000\" font-size=\"1.0rem\" font-weight=\"100\" text-anchor=\"middle\" transform=\"rotate(-90,120.000000,60.000000)\">300</text>\n",
       "</svg>\n",
       "</td>\n",
       "</tr>\n",
<<<<<<< HEAD
<<<<<<< HEAD
       "</table></div></li><li class='xr-var-item'><div class='xr-var-name'><span>drC</span></div><div class='xr-var-dims'>(Z, YC, XC)</div><div class='xr-var-dtype'>float32</div><div class='xr-var-preview xr-preview'>dask.array&lt;chunksize=(55, 300, 250), meta=np.ndarray&gt;</div><input id='attrs-23f8c091-8014-4ffb-a955-b5d8610929de' class='xr-var-attrs-in' type='checkbox' disabled><label for='attrs-23f8c091-8014-4ffb-a955-b5d8610929de' title='Show/Hide attributes'><svg class='icon xr-icon-file-text2'><use xlink:href='#icon-file-text2'></use></svg></label><input id='data-8e3e974a-649d-4cfc-808e-33a84722d672' class='xr-var-data-in' type='checkbox'><label for='data-8e3e974a-649d-4cfc-808e-33a84722d672' title='Show/Hide data repr'><svg class='icon xr-icon-database'><use xlink:href='#icon-database'></use></svg></label><div class='xr-var-attrs'><dl class='xr-attrs'></dl></div><div class='xr-var-data'><table>\n",
=======
       "</table></div></li><li class='xr-var-item'><div class='xr-var-name'><span>drC</span></div><div class='xr-var-dims'>(Z, YC, XC)</div><div class='xr-var-dtype'>float32</div><div class='xr-var-preview xr-preview'>dask.array&lt;chunksize=(55, 300, 250), meta=np.ndarray&gt;</div><input id='attrs-f32c58f0-44bd-4e3f-b87b-8760bfb3ab0a' class='xr-var-attrs-in' type='checkbox' disabled><label for='attrs-f32c58f0-44bd-4e3f-b87b-8760bfb3ab0a' title='Show/Hide attributes'><svg class='icon xr-icon-file-text2'><use xlink:href='#icon-file-text2'></use></svg></label><input id='data-2dfe91d1-1c11-4845-b25b-099d03b9e578' class='xr-var-data-in' type='checkbox'><label for='data-2dfe91d1-1c11-4845-b25b-099d03b9e578' title='Show/Hide data repr'><svg class='icon xr-icon-database'><use xlink:href='#icon-database'></use></svg></label><div class='xr-var-attrs'><dl class='xr-attrs'></dl></div><div class='xr-var-data'><table>\n",
>>>>>>> updated example notebooks based on MITgcm
=======
       "</table></div></li><li class='xr-var-item'><div class='xr-var-name'><span>drC</span></div><div class='xr-var-dims'>(Z, YC, XC)</div><div class='xr-var-dtype'>float32</div><div class='xr-var-preview xr-preview'>dask.array&lt;chunksize=(55, 300, 250), meta=np.ndarray&gt;</div><input id='attrs-f32c58f0-44bd-4e3f-b87b-8760bfb3ab0a' class='xr-var-attrs-in' type='checkbox' disabled><label for='attrs-f32c58f0-44bd-4e3f-b87b-8760bfb3ab0a' title='Show/Hide attributes'><svg class='icon xr-icon-file-text2'><use xlink:href='#icon-file-text2'></use></svg></label><input id='data-2dfe91d1-1c11-4845-b25b-099d03b9e578' class='xr-var-data-in' type='checkbox'><label for='data-2dfe91d1-1c11-4845-b25b-099d03b9e578' title='Show/Hide data repr'><svg class='icon xr-icon-database'><use xlink:href='#icon-database'></use></svg></label><div class='xr-var-attrs'><dl class='xr-attrs'></dl></div><div class='xr-var-data'><table>\n",
>>>>>>> 496ab6eb83f621cecad47543189988d9da46342e
       "<tr>\n",
       "<td>\n",
       "<table>\n",
       "  <thead>\n",
       "    <tr><td> </td><th> Array </th><th> Chunk </th></tr>\n",
       "  </thead>\n",
       "  <tbody>\n",
       "    <tr><th> Bytes </th><td> 15.74 MiB </td> <td> 15.74 MiB </td></tr>\n",
       "    <tr><th> Shape </th><td> (55, 300, 250) </td> <td> (55, 300, 250) </td></tr>\n",
       "    <tr><th> Count </th><td> 6 Tasks </td><td> 1 Chunks </td></tr>\n",
       "    <tr><th> Type </th><td> float32 </td><td> numpy.ndarray </td></tr>\n",
       "  </tbody>\n",
       "</table>\n",
       "</td>\n",
       "<td>\n",
       "<svg width=\"184\" height=\"194\" style=\"stroke:rgb(0,0,0);stroke-width:1\" >\n",
       "\n",
       "  <!-- Horizontal lines -->\n",
       "  <line x1=\"10\" y1=\"0\" x2=\"34\" y2=\"24\" style=\"stroke-width:2\" />\n",
       "  <line x1=\"10\" y1=\"120\" x2=\"34\" y2=\"144\" style=\"stroke-width:2\" />\n",
       "\n",
       "  <!-- Vertical lines -->\n",
       "  <line x1=\"10\" y1=\"0\" x2=\"10\" y2=\"120\" style=\"stroke-width:2\" />\n",
       "  <line x1=\"34\" y1=\"24\" x2=\"34\" y2=\"144\" style=\"stroke-width:2\" />\n",
       "\n",
       "  <!-- Colored Rectangle -->\n",
       "  <polygon points=\"10.0,0.0 34.49060156265884,24.490601562658835 34.49060156265884,144.49060156265884 10.0,120.0\" style=\"fill:#ECB172A0;stroke-width:0\"/>\n",
       "\n",
       "  <!-- Horizontal lines -->\n",
       "  <line x1=\"10\" y1=\"0\" x2=\"110\" y2=\"0\" style=\"stroke-width:2\" />\n",
       "  <line x1=\"34\" y1=\"24\" x2=\"134\" y2=\"24\" style=\"stroke-width:2\" />\n",
       "\n",
       "  <!-- Vertical lines -->\n",
       "  <line x1=\"10\" y1=\"0\" x2=\"34\" y2=\"24\" style=\"stroke-width:2\" />\n",
       "  <line x1=\"110\" y1=\"0\" x2=\"134\" y2=\"24\" style=\"stroke-width:2\" />\n",
       "\n",
       "  <!-- Colored Rectangle -->\n",
       "  <polygon points=\"10.0,0.0 110.0,0.0 134.49060156265884,24.490601562658835 34.49060156265884,24.490601562658835\" style=\"fill:#ECB172A0;stroke-width:0\"/>\n",
       "\n",
       "  <!-- Horizontal lines -->\n",
       "  <line x1=\"34\" y1=\"24\" x2=\"134\" y2=\"24\" style=\"stroke-width:2\" />\n",
       "  <line x1=\"34\" y1=\"144\" x2=\"134\" y2=\"144\" style=\"stroke-width:2\" />\n",
       "\n",
       "  <!-- Vertical lines -->\n",
       "  <line x1=\"34\" y1=\"24\" x2=\"34\" y2=\"144\" style=\"stroke-width:2\" />\n",
       "  <line x1=\"134\" y1=\"24\" x2=\"134\" y2=\"144\" style=\"stroke-width:2\" />\n",
       "\n",
       "  <!-- Colored Rectangle -->\n",
       "  <polygon points=\"34.49060156265884,24.490601562658835 134.49060156265884,24.490601562658835 134.49060156265884,144.49060156265884 34.49060156265884,144.49060156265884\" style=\"fill:#ECB172A0;stroke-width:0\"/>\n",
       "\n",
       "  <!-- Text -->\n",
       "  <text x=\"84.490602\" y=\"164.490602\" font-size=\"1.0rem\" font-weight=\"100\" text-anchor=\"middle\" >250</text>\n",
       "  <text x=\"154.490602\" y=\"84.490602\" font-size=\"1.0rem\" font-weight=\"100\" text-anchor=\"middle\" transform=\"rotate(-90,154.490602,84.490602)\">300</text>\n",
       "  <text x=\"12.245301\" y=\"152.245301\" font-size=\"1.0rem\" font-weight=\"100\" text-anchor=\"middle\" transform=\"rotate(45,12.245301,152.245301)\">55</text>\n",
       "</svg>\n",
       "</td>\n",
       "</tr>\n",
<<<<<<< HEAD
<<<<<<< HEAD
       "</table></div></li><li class='xr-var-item'><div class='xr-var-name'><span>drF</span></div><div class='xr-var-dims'>(Z)</div><div class='xr-var-dtype'>&gt;f4</div><div class='xr-var-preview xr-preview'>dask.array&lt;chunksize=(55,), meta=np.ndarray&gt;</div><input id='attrs-44c594ff-cfb5-4861-849c-577bdc482de1' class='xr-var-attrs-in' type='checkbox' ><label for='attrs-44c594ff-cfb5-4861-849c-577bdc482de1' title='Show/Hide attributes'><svg class='icon xr-icon-file-text2'><use xlink:href='#icon-file-text2'></use></svg></label><input id='data-4bf4b370-e898-45e5-a6bc-c539527f0062' class='xr-var-data-in' type='checkbox'><label for='data-4bf4b370-e898-45e5-a6bc-c539527f0062' title='Show/Hide data repr'><svg class='icon xr-icon-database'><use xlink:href='#icon-database'></use></svg></label><div class='xr-var-attrs'><dl class='xr-attrs'><dt><span>standard_name :</span></dt><dd>cell_z_size</dd><dt><span>long_name :</span></dt><dd>cell z size</dd><dt><span>units :</span></dt><dd>m</dd></dl></div><div class='xr-var-data'><table>\n",
=======
       "</table></div></li><li class='xr-var-item'><div class='xr-var-name'><span>drF</span></div><div class='xr-var-dims'>(Z)</div><div class='xr-var-dtype'>&gt;f4</div><div class='xr-var-preview xr-preview'>dask.array&lt;chunksize=(55,), meta=np.ndarray&gt;</div><input id='attrs-80689c65-6d08-4979-ab1b-e9b867837ca8' class='xr-var-attrs-in' type='checkbox' ><label for='attrs-80689c65-6d08-4979-ab1b-e9b867837ca8' title='Show/Hide attributes'><svg class='icon xr-icon-file-text2'><use xlink:href='#icon-file-text2'></use></svg></label><input id='data-5bb40599-e9f2-45c2-8643-37e21a8df00d' class='xr-var-data-in' type='checkbox'><label for='data-5bb40599-e9f2-45c2-8643-37e21a8df00d' title='Show/Hide data repr'><svg class='icon xr-icon-database'><use xlink:href='#icon-database'></use></svg></label><div class='xr-var-attrs'><dl class='xr-attrs'><dt><span>standard_name :</span></dt><dd>cell_z_size</dd><dt><span>long_name :</span></dt><dd>cell z size</dd><dt><span>units :</span></dt><dd>m</dd></dl></div><div class='xr-var-data'><table>\n",
>>>>>>> updated example notebooks based on MITgcm
=======
       "</table></div></li><li class='xr-var-item'><div class='xr-var-name'><span>drF</span></div><div class='xr-var-dims'>(Z)</div><div class='xr-var-dtype'>&gt;f4</div><div class='xr-var-preview xr-preview'>dask.array&lt;chunksize=(55,), meta=np.ndarray&gt;</div><input id='attrs-80689c65-6d08-4979-ab1b-e9b867837ca8' class='xr-var-attrs-in' type='checkbox' ><label for='attrs-80689c65-6d08-4979-ab1b-e9b867837ca8' title='Show/Hide attributes'><svg class='icon xr-icon-file-text2'><use xlink:href='#icon-file-text2'></use></svg></label><input id='data-5bb40599-e9f2-45c2-8643-37e21a8df00d' class='xr-var-data-in' type='checkbox'><label for='data-5bb40599-e9f2-45c2-8643-37e21a8df00d' title='Show/Hide data repr'><svg class='icon xr-icon-database'><use xlink:href='#icon-database'></use></svg></label><div class='xr-var-attrs'><dl class='xr-attrs'><dt><span>standard_name :</span></dt><dd>cell_z_size</dd><dt><span>long_name :</span></dt><dd>cell z size</dd><dt><span>units :</span></dt><dd>m</dd></dl></div><div class='xr-var-data'><table>\n",
>>>>>>> 496ab6eb83f621cecad47543189988d9da46342e
       "<tr>\n",
       "<td>\n",
       "<table>\n",
       "  <thead>\n",
       "    <tr><td> </td><th> Array </th><th> Chunk </th></tr>\n",
       "  </thead>\n",
       "  <tbody>\n",
       "    <tr><th> Bytes </th><td> 220 B </td> <td> 220 B </td></tr>\n",
       "    <tr><th> Shape </th><td> (55,) </td> <td> (55,) </td></tr>\n",
       "    <tr><th> Count </th><td> 1 Tasks </td><td> 1 Chunks </td></tr>\n",
       "    <tr><th> Type </th><td> >f4 </td><td> numpy.ndarray </td></tr>\n",
       "  </tbody>\n",
       "</table>\n",
       "</td>\n",
       "<td>\n",
       "<svg width=\"170\" height=\"78\" style=\"stroke:rgb(0,0,0);stroke-width:1\" >\n",
       "\n",
       "  <!-- Horizontal lines -->\n",
       "  <line x1=\"0\" y1=\"0\" x2=\"120\" y2=\"0\" style=\"stroke-width:2\" />\n",
       "  <line x1=\"0\" y1=\"28\" x2=\"120\" y2=\"28\" style=\"stroke-width:2\" />\n",
       "\n",
       "  <!-- Vertical lines -->\n",
       "  <line x1=\"0\" y1=\"0\" x2=\"0\" y2=\"28\" style=\"stroke-width:2\" />\n",
       "  <line x1=\"120\" y1=\"0\" x2=\"120\" y2=\"28\" style=\"stroke-width:2\" />\n",
       "\n",
       "  <!-- Colored Rectangle -->\n",
       "  <polygon points=\"0.0,0.0 120.0,0.0 120.0,28.499196557616223 0.0,28.499196557616223\" style=\"fill:#ECB172A0;stroke-width:0\"/>\n",
       "\n",
       "  <!-- Text -->\n",
       "  <text x=\"60.000000\" y=\"48.499197\" font-size=\"1.0rem\" font-weight=\"100\" text-anchor=\"middle\" >55</text>\n",
       "  <text x=\"140.000000\" y=\"14.249598\" font-size=\"1.0rem\" font-weight=\"100\" text-anchor=\"middle\" transform=\"rotate(0,140.000000,14.249598)\">1</text>\n",
       "</svg>\n",
       "</td>\n",
       "</tr>\n",
<<<<<<< HEAD
<<<<<<< HEAD
       "</table></div></li><li class='xr-var-item'><div class='xr-var-name'><span>PHrefC</span></div><div class='xr-var-dims'>(Z)</div><div class='xr-var-dtype'>&gt;f4</div><div class='xr-var-preview xr-preview'>dask.array&lt;chunksize=(55,), meta=np.ndarray&gt;</div><input id='attrs-babe275c-9876-4a1e-ba49-46c4fe2a8b08' class='xr-var-attrs-in' type='checkbox' ><label for='attrs-babe275c-9876-4a1e-ba49-46c4fe2a8b08' title='Show/Hide attributes'><svg class='icon xr-icon-file-text2'><use xlink:href='#icon-file-text2'></use></svg></label><input id='data-f21c41a3-1664-4f44-81bb-560ba5248760' class='xr-var-data-in' type='checkbox'><label for='data-f21c41a3-1664-4f44-81bb-560ba5248760' title='Show/Hide data repr'><svg class='icon xr-icon-database'><use xlink:href='#icon-database'></use></svg></label><div class='xr-var-attrs'><dl class='xr-attrs'><dt><span>standard_name :</span></dt><dd>cell_reference_pressure</dd><dt><span>long_name :</span></dt><dd>Reference Hydrostatic Pressure</dd><dt><span>units :</span></dt><dd>m2 s-2</dd></dl></div><div class='xr-var-data'><table>\n",
=======
       "</table></div></li><li class='xr-var-item'><div class='xr-var-name'><span>PHrefC</span></div><div class='xr-var-dims'>(Z)</div><div class='xr-var-dtype'>&gt;f4</div><div class='xr-var-preview xr-preview'>dask.array&lt;chunksize=(55,), meta=np.ndarray&gt;</div><input id='attrs-443fa102-729d-44f3-b053-7366d72b7dd5' class='xr-var-attrs-in' type='checkbox' ><label for='attrs-443fa102-729d-44f3-b053-7366d72b7dd5' title='Show/Hide attributes'><svg class='icon xr-icon-file-text2'><use xlink:href='#icon-file-text2'></use></svg></label><input id='data-71229f72-63e9-4c16-a19f-f075ba147ad3' class='xr-var-data-in' type='checkbox'><label for='data-71229f72-63e9-4c16-a19f-f075ba147ad3' title='Show/Hide data repr'><svg class='icon xr-icon-database'><use xlink:href='#icon-database'></use></svg></label><div class='xr-var-attrs'><dl class='xr-attrs'><dt><span>standard_name :</span></dt><dd>cell_reference_pressure</dd><dt><span>long_name :</span></dt><dd>Reference Hydrostatic Pressure</dd><dt><span>units :</span></dt><dd>m2 s-2</dd></dl></div><div class='xr-var-data'><table>\n",
>>>>>>> updated example notebooks based on MITgcm
=======
       "</table></div></li><li class='xr-var-item'><div class='xr-var-name'><span>PHrefC</span></div><div class='xr-var-dims'>(Z)</div><div class='xr-var-dtype'>&gt;f4</div><div class='xr-var-preview xr-preview'>dask.array&lt;chunksize=(55,), meta=np.ndarray&gt;</div><input id='attrs-443fa102-729d-44f3-b053-7366d72b7dd5' class='xr-var-attrs-in' type='checkbox' ><label for='attrs-443fa102-729d-44f3-b053-7366d72b7dd5' title='Show/Hide attributes'><svg class='icon xr-icon-file-text2'><use xlink:href='#icon-file-text2'></use></svg></label><input id='data-71229f72-63e9-4c16-a19f-f075ba147ad3' class='xr-var-data-in' type='checkbox'><label for='data-71229f72-63e9-4c16-a19f-f075ba147ad3' title='Show/Hide data repr'><svg class='icon xr-icon-database'><use xlink:href='#icon-database'></use></svg></label><div class='xr-var-attrs'><dl class='xr-attrs'><dt><span>standard_name :</span></dt><dd>cell_reference_pressure</dd><dt><span>long_name :</span></dt><dd>Reference Hydrostatic Pressure</dd><dt><span>units :</span></dt><dd>m2 s-2</dd></dl></div><div class='xr-var-data'><table>\n",
>>>>>>> 496ab6eb83f621cecad47543189988d9da46342e
       "<tr>\n",
       "<td>\n",
       "<table>\n",
       "  <thead>\n",
       "    <tr><td> </td><th> Array </th><th> Chunk </th></tr>\n",
       "  </thead>\n",
       "  <tbody>\n",
       "    <tr><th> Bytes </th><td> 220 B </td> <td> 220 B </td></tr>\n",
       "    <tr><th> Shape </th><td> (55,) </td> <td> (55,) </td></tr>\n",
       "    <tr><th> Count </th><td> 1 Tasks </td><td> 1 Chunks </td></tr>\n",
       "    <tr><th> Type </th><td> >f4 </td><td> numpy.ndarray </td></tr>\n",
       "  </tbody>\n",
       "</table>\n",
       "</td>\n",
       "<td>\n",
       "<svg width=\"170\" height=\"78\" style=\"stroke:rgb(0,0,0);stroke-width:1\" >\n",
       "\n",
       "  <!-- Horizontal lines -->\n",
       "  <line x1=\"0\" y1=\"0\" x2=\"120\" y2=\"0\" style=\"stroke-width:2\" />\n",
       "  <line x1=\"0\" y1=\"28\" x2=\"120\" y2=\"28\" style=\"stroke-width:2\" />\n",
       "\n",
       "  <!-- Vertical lines -->\n",
       "  <line x1=\"0\" y1=\"0\" x2=\"0\" y2=\"28\" style=\"stroke-width:2\" />\n",
       "  <line x1=\"120\" y1=\"0\" x2=\"120\" y2=\"28\" style=\"stroke-width:2\" />\n",
       "\n",
       "  <!-- Colored Rectangle -->\n",
       "  <polygon points=\"0.0,0.0 120.0,0.0 120.0,28.499196557616223 0.0,28.499196557616223\" style=\"fill:#ECB172A0;stroke-width:0\"/>\n",
       "\n",
       "  <!-- Text -->\n",
       "  <text x=\"60.000000\" y=\"48.499197\" font-size=\"1.0rem\" font-weight=\"100\" text-anchor=\"middle\" >55</text>\n",
       "  <text x=\"140.000000\" y=\"14.249598\" font-size=\"1.0rem\" font-weight=\"100\" text-anchor=\"middle\" transform=\"rotate(0,140.000000,14.249598)\">1</text>\n",
       "</svg>\n",
       "</td>\n",
       "</tr>\n",
<<<<<<< HEAD
<<<<<<< HEAD
       "</table></div></li><li class='xr-var-item'><div class='xr-var-name'><span>PHrefF</span></div><div class='xr-var-dims'>(Zp1)</div><div class='xr-var-dtype'>&gt;f4</div><div class='xr-var-preview xr-preview'>dask.array&lt;chunksize=(56,), meta=np.ndarray&gt;</div><input id='attrs-8e9b4bc4-d8ec-416b-b56b-c19e3464a644' class='xr-var-attrs-in' type='checkbox' ><label for='attrs-8e9b4bc4-d8ec-416b-b56b-c19e3464a644' title='Show/Hide attributes'><svg class='icon xr-icon-file-text2'><use xlink:href='#icon-file-text2'></use></svg></label><input id='data-3e7a8a35-6f97-4f03-9c3d-188fbf036cf1' class='xr-var-data-in' type='checkbox'><label for='data-3e7a8a35-6f97-4f03-9c3d-188fbf036cf1' title='Show/Hide data repr'><svg class='icon xr-icon-database'><use xlink:href='#icon-database'></use></svg></label><div class='xr-var-attrs'><dl class='xr-attrs'><dt><span>standard_name :</span></dt><dd>cell_reference_pressure</dd><dt><span>long_name :</span></dt><dd>Reference Hydrostatic Pressure</dd><dt><span>units :</span></dt><dd>m2 s-2</dd></dl></div><div class='xr-var-data'><table>\n",
=======
       "</table></div></li><li class='xr-var-item'><div class='xr-var-name'><span>PHrefF</span></div><div class='xr-var-dims'>(Zp1)</div><div class='xr-var-dtype'>&gt;f4</div><div class='xr-var-preview xr-preview'>dask.array&lt;chunksize=(56,), meta=np.ndarray&gt;</div><input id='attrs-3b41c550-1893-4631-8b1c-3095f5722337' class='xr-var-attrs-in' type='checkbox' ><label for='attrs-3b41c550-1893-4631-8b1c-3095f5722337' title='Show/Hide attributes'><svg class='icon xr-icon-file-text2'><use xlink:href='#icon-file-text2'></use></svg></label><input id='data-851b330c-069c-495d-b2bd-ee4b35ec1b7f' class='xr-var-data-in' type='checkbox'><label for='data-851b330c-069c-495d-b2bd-ee4b35ec1b7f' title='Show/Hide data repr'><svg class='icon xr-icon-database'><use xlink:href='#icon-database'></use></svg></label><div class='xr-var-attrs'><dl class='xr-attrs'><dt><span>standard_name :</span></dt><dd>cell_reference_pressure</dd><dt><span>long_name :</span></dt><dd>Reference Hydrostatic Pressure</dd><dt><span>units :</span></dt><dd>m2 s-2</dd></dl></div><div class='xr-var-data'><table>\n",
>>>>>>> updated example notebooks based on MITgcm
=======
       "</table></div></li><li class='xr-var-item'><div class='xr-var-name'><span>PHrefF</span></div><div class='xr-var-dims'>(Zp1)</div><div class='xr-var-dtype'>&gt;f4</div><div class='xr-var-preview xr-preview'>dask.array&lt;chunksize=(56,), meta=np.ndarray&gt;</div><input id='attrs-3b41c550-1893-4631-8b1c-3095f5722337' class='xr-var-attrs-in' type='checkbox' ><label for='attrs-3b41c550-1893-4631-8b1c-3095f5722337' title='Show/Hide attributes'><svg class='icon xr-icon-file-text2'><use xlink:href='#icon-file-text2'></use></svg></label><input id='data-851b330c-069c-495d-b2bd-ee4b35ec1b7f' class='xr-var-data-in' type='checkbox'><label for='data-851b330c-069c-495d-b2bd-ee4b35ec1b7f' title='Show/Hide data repr'><svg class='icon xr-icon-database'><use xlink:href='#icon-database'></use></svg></label><div class='xr-var-attrs'><dl class='xr-attrs'><dt><span>standard_name :</span></dt><dd>cell_reference_pressure</dd><dt><span>long_name :</span></dt><dd>Reference Hydrostatic Pressure</dd><dt><span>units :</span></dt><dd>m2 s-2</dd></dl></div><div class='xr-var-data'><table>\n",
>>>>>>> 496ab6eb83f621cecad47543189988d9da46342e
       "<tr>\n",
       "<td>\n",
       "<table>\n",
       "  <thead>\n",
       "    <tr><td> </td><th> Array </th><th> Chunk </th></tr>\n",
       "  </thead>\n",
       "  <tbody>\n",
       "    <tr><th> Bytes </th><td> 224 B </td> <td> 224 B </td></tr>\n",
       "    <tr><th> Shape </th><td> (56,) </td> <td> (56,) </td></tr>\n",
       "    <tr><th> Count </th><td> 1 Tasks </td><td> 1 Chunks </td></tr>\n",
       "    <tr><th> Type </th><td> >f4 </td><td> numpy.ndarray </td></tr>\n",
       "  </tbody>\n",
       "</table>\n",
       "</td>\n",
       "<td>\n",
       "<svg width=\"170\" height=\"78\" style=\"stroke:rgb(0,0,0);stroke-width:1\" >\n",
       "\n",
       "  <!-- Horizontal lines -->\n",
       "  <line x1=\"0\" y1=\"0\" x2=\"120\" y2=\"0\" style=\"stroke-width:2\" />\n",
       "  <line x1=\"0\" y1=\"28\" x2=\"120\" y2=\"28\" style=\"stroke-width:2\" />\n",
       "\n",
       "  <!-- Vertical lines -->\n",
       "  <line x1=\"0\" y1=\"0\" x2=\"0\" y2=\"28\" style=\"stroke-width:2\" />\n",
       "  <line x1=\"120\" y1=\"0\" x2=\"120\" y2=\"28\" style=\"stroke-width:2\" />\n",
       "\n",
       "  <!-- Colored Rectangle -->\n",
       "  <polygon points=\"0.0,0.0 120.0,0.0 120.0,28.399860788745997 0.0,28.399860788745997\" style=\"fill:#ECB172A0;stroke-width:0\"/>\n",
       "\n",
       "  <!-- Text -->\n",
       "  <text x=\"60.000000\" y=\"48.399861\" font-size=\"1.0rem\" font-weight=\"100\" text-anchor=\"middle\" >56</text>\n",
       "  <text x=\"140.000000\" y=\"14.199930\" font-size=\"1.0rem\" font-weight=\"100\" text-anchor=\"middle\" transform=\"rotate(0,140.000000,14.199930)\">1</text>\n",
       "</svg>\n",
       "</td>\n",
       "</tr>\n",
<<<<<<< HEAD
<<<<<<< HEAD
       "</table></div></li><li class='xr-var-item'><div class='xr-var-name'><span>hFacC</span></div><div class='xr-var-dims'>(Z, YC, XC)</div><div class='xr-var-dtype'>&gt;f4</div><div class='xr-var-preview xr-preview'>dask.array&lt;chunksize=(55, 300, 250), meta=np.ndarray&gt;</div><input id='attrs-b17b6953-0e5b-4492-a632-092650d16ff5' class='xr-var-attrs-in' type='checkbox' ><label for='attrs-b17b6953-0e5b-4492-a632-092650d16ff5' title='Show/Hide attributes'><svg class='icon xr-icon-file-text2'><use xlink:href='#icon-file-text2'></use></svg></label><input id='data-a91e9e01-2036-4d51-b3d5-203660a7a87a' class='xr-var-data-in' type='checkbox'><label for='data-a91e9e01-2036-4d51-b3d5-203660a7a87a' title='Show/Hide data repr'><svg class='icon xr-icon-database'><use xlink:href='#icon-database'></use></svg></label><div class='xr-var-attrs'><dl class='xr-attrs'><dt><span>standard_name :</span></dt><dd>cell_vertical_fraction</dd><dt><span>long_name :</span></dt><dd>vertical fraction of open cell</dd></dl></div><div class='xr-var-data'><table>\n",
=======
       "</table></div></li><li class='xr-var-item'><div class='xr-var-name'><span>hFacC</span></div><div class='xr-var-dims'>(Z, YC, XC)</div><div class='xr-var-dtype'>&gt;f4</div><div class='xr-var-preview xr-preview'>dask.array&lt;chunksize=(55, 300, 250), meta=np.ndarray&gt;</div><input id='attrs-ef44e8da-fd33-4739-8dc5-8bdd3042fadf' class='xr-var-attrs-in' type='checkbox' ><label for='attrs-ef44e8da-fd33-4739-8dc5-8bdd3042fadf' title='Show/Hide attributes'><svg class='icon xr-icon-file-text2'><use xlink:href='#icon-file-text2'></use></svg></label><input id='data-62a6565f-3773-4fa3-8eb4-69eb2da3396f' class='xr-var-data-in' type='checkbox'><label for='data-62a6565f-3773-4fa3-8eb4-69eb2da3396f' title='Show/Hide data repr'><svg class='icon xr-icon-database'><use xlink:href='#icon-database'></use></svg></label><div class='xr-var-attrs'><dl class='xr-attrs'><dt><span>standard_name :</span></dt><dd>cell_vertical_fraction</dd><dt><span>long_name :</span></dt><dd>vertical fraction of open cell</dd></dl></div><div class='xr-var-data'><table>\n",
>>>>>>> updated example notebooks based on MITgcm
=======
       "</table></div></li><li class='xr-var-item'><div class='xr-var-name'><span>hFacC</span></div><div class='xr-var-dims'>(Z, YC, XC)</div><div class='xr-var-dtype'>&gt;f4</div><div class='xr-var-preview xr-preview'>dask.array&lt;chunksize=(55, 300, 250), meta=np.ndarray&gt;</div><input id='attrs-ef44e8da-fd33-4739-8dc5-8bdd3042fadf' class='xr-var-attrs-in' type='checkbox' ><label for='attrs-ef44e8da-fd33-4739-8dc5-8bdd3042fadf' title='Show/Hide attributes'><svg class='icon xr-icon-file-text2'><use xlink:href='#icon-file-text2'></use></svg></label><input id='data-62a6565f-3773-4fa3-8eb4-69eb2da3396f' class='xr-var-data-in' type='checkbox'><label for='data-62a6565f-3773-4fa3-8eb4-69eb2da3396f' title='Show/Hide data repr'><svg class='icon xr-icon-database'><use xlink:href='#icon-database'></use></svg></label><div class='xr-var-attrs'><dl class='xr-attrs'><dt><span>standard_name :</span></dt><dd>cell_vertical_fraction</dd><dt><span>long_name :</span></dt><dd>vertical fraction of open cell</dd></dl></div><div class='xr-var-data'><table>\n",
>>>>>>> 496ab6eb83f621cecad47543189988d9da46342e
       "<tr>\n",
       "<td>\n",
       "<table>\n",
       "  <thead>\n",
       "    <tr><td> </td><th> Array </th><th> Chunk </th></tr>\n",
       "  </thead>\n",
       "  <tbody>\n",
       "    <tr><th> Bytes </th><td> 15.74 MiB </td> <td> 15.74 MiB </td></tr>\n",
       "    <tr><th> Shape </th><td> (55, 300, 250) </td> <td> (55, 300, 250) </td></tr>\n",
       "    <tr><th> Count </th><td> 2 Tasks </td><td> 1 Chunks </td></tr>\n",
       "    <tr><th> Type </th><td> >f4 </td><td> numpy.ndarray </td></tr>\n",
       "  </tbody>\n",
       "</table>\n",
       "</td>\n",
       "<td>\n",
       "<svg width=\"184\" height=\"194\" style=\"stroke:rgb(0,0,0);stroke-width:1\" >\n",
       "\n",
       "  <!-- Horizontal lines -->\n",
       "  <line x1=\"10\" y1=\"0\" x2=\"34\" y2=\"24\" style=\"stroke-width:2\" />\n",
       "  <line x1=\"10\" y1=\"120\" x2=\"34\" y2=\"144\" style=\"stroke-width:2\" />\n",
       "\n",
       "  <!-- Vertical lines -->\n",
       "  <line x1=\"10\" y1=\"0\" x2=\"10\" y2=\"120\" style=\"stroke-width:2\" />\n",
       "  <line x1=\"34\" y1=\"24\" x2=\"34\" y2=\"144\" style=\"stroke-width:2\" />\n",
       "\n",
       "  <!-- Colored Rectangle -->\n",
       "  <polygon points=\"10.0,0.0 34.49060156265884,24.490601562658835 34.49060156265884,144.49060156265884 10.0,120.0\" style=\"fill:#ECB172A0;stroke-width:0\"/>\n",
       "\n",
       "  <!-- Horizontal lines -->\n",
       "  <line x1=\"10\" y1=\"0\" x2=\"110\" y2=\"0\" style=\"stroke-width:2\" />\n",
       "  <line x1=\"34\" y1=\"24\" x2=\"134\" y2=\"24\" style=\"stroke-width:2\" />\n",
       "\n",
       "  <!-- Vertical lines -->\n",
       "  <line x1=\"10\" y1=\"0\" x2=\"34\" y2=\"24\" style=\"stroke-width:2\" />\n",
       "  <line x1=\"110\" y1=\"0\" x2=\"134\" y2=\"24\" style=\"stroke-width:2\" />\n",
       "\n",
       "  <!-- Colored Rectangle -->\n",
       "  <polygon points=\"10.0,0.0 110.0,0.0 134.49060156265884,24.490601562658835 34.49060156265884,24.490601562658835\" style=\"fill:#ECB172A0;stroke-width:0\"/>\n",
       "\n",
       "  <!-- Horizontal lines -->\n",
       "  <line x1=\"34\" y1=\"24\" x2=\"134\" y2=\"24\" style=\"stroke-width:2\" />\n",
       "  <line x1=\"34\" y1=\"144\" x2=\"134\" y2=\"144\" style=\"stroke-width:2\" />\n",
       "\n",
       "  <!-- Vertical lines -->\n",
       "  <line x1=\"34\" y1=\"24\" x2=\"34\" y2=\"144\" style=\"stroke-width:2\" />\n",
       "  <line x1=\"134\" y1=\"24\" x2=\"134\" y2=\"144\" style=\"stroke-width:2\" />\n",
       "\n",
       "  <!-- Colored Rectangle -->\n",
       "  <polygon points=\"34.49060156265884,24.490601562658835 134.49060156265884,24.490601562658835 134.49060156265884,144.49060156265884 34.49060156265884,144.49060156265884\" style=\"fill:#ECB172A0;stroke-width:0\"/>\n",
       "\n",
       "  <!-- Text -->\n",
       "  <text x=\"84.490602\" y=\"164.490602\" font-size=\"1.0rem\" font-weight=\"100\" text-anchor=\"middle\" >250</text>\n",
       "  <text x=\"154.490602\" y=\"84.490602\" font-size=\"1.0rem\" font-weight=\"100\" text-anchor=\"middle\" transform=\"rotate(-90,154.490602,84.490602)\">300</text>\n",
       "  <text x=\"12.245301\" y=\"152.245301\" font-size=\"1.0rem\" font-weight=\"100\" text-anchor=\"middle\" transform=\"rotate(45,12.245301,152.245301)\">55</text>\n",
       "</svg>\n",
       "</td>\n",
       "</tr>\n",
<<<<<<< HEAD
<<<<<<< HEAD
       "</table></div></li><li class='xr-var-item'><div class='xr-var-name'><span>hFacW</span></div><div class='xr-var-dims'>(Z, YC, XG)</div><div class='xr-var-dtype'>&gt;f4</div><div class='xr-var-preview xr-preview'>dask.array&lt;chunksize=(55, 300, 250), meta=np.ndarray&gt;</div><input id='attrs-d79bb92b-115d-4e28-9b62-33c7a6c857e6' class='xr-var-attrs-in' type='checkbox' ><label for='attrs-d79bb92b-115d-4e28-9b62-33c7a6c857e6' title='Show/Hide attributes'><svg class='icon xr-icon-file-text2'><use xlink:href='#icon-file-text2'></use></svg></label><input id='data-bf3b3bbd-9093-4796-a6cb-4819bfca2874' class='xr-var-data-in' type='checkbox'><label for='data-bf3b3bbd-9093-4796-a6cb-4819bfca2874' title='Show/Hide data repr'><svg class='icon xr-icon-database'><use xlink:href='#icon-database'></use></svg></label><div class='xr-var-attrs'><dl class='xr-attrs'><dt><span>standard_name :</span></dt><dd>cell_vertical_fraction_at_u_location</dd><dt><span>long_name :</span></dt><dd>vertical fraction of open cell</dd></dl></div><div class='xr-var-data'><table>\n",
=======
       "</table></div></li><li class='xr-var-item'><div class='xr-var-name'><span>hFacW</span></div><div class='xr-var-dims'>(Z, YC, XG)</div><div class='xr-var-dtype'>&gt;f4</div><div class='xr-var-preview xr-preview'>dask.array&lt;chunksize=(55, 300, 250), meta=np.ndarray&gt;</div><input id='attrs-ec102058-c28d-4712-b24a-5fe51f4ae7df' class='xr-var-attrs-in' type='checkbox' ><label for='attrs-ec102058-c28d-4712-b24a-5fe51f4ae7df' title='Show/Hide attributes'><svg class='icon xr-icon-file-text2'><use xlink:href='#icon-file-text2'></use></svg></label><input id='data-6558c735-f4ea-46a2-b8f4-139ffe434ddd' class='xr-var-data-in' type='checkbox'><label for='data-6558c735-f4ea-46a2-b8f4-139ffe434ddd' title='Show/Hide data repr'><svg class='icon xr-icon-database'><use xlink:href='#icon-database'></use></svg></label><div class='xr-var-attrs'><dl class='xr-attrs'><dt><span>standard_name :</span></dt><dd>cell_vertical_fraction_at_u_location</dd><dt><span>long_name :</span></dt><dd>vertical fraction of open cell</dd></dl></div><div class='xr-var-data'><table>\n",
>>>>>>> updated example notebooks based on MITgcm
=======
       "</table></div></li><li class='xr-var-item'><div class='xr-var-name'><span>hFacW</span></div><div class='xr-var-dims'>(Z, YC, XG)</div><div class='xr-var-dtype'>&gt;f4</div><div class='xr-var-preview xr-preview'>dask.array&lt;chunksize=(55, 300, 250), meta=np.ndarray&gt;</div><input id='attrs-ec102058-c28d-4712-b24a-5fe51f4ae7df' class='xr-var-attrs-in' type='checkbox' ><label for='attrs-ec102058-c28d-4712-b24a-5fe51f4ae7df' title='Show/Hide attributes'><svg class='icon xr-icon-file-text2'><use xlink:href='#icon-file-text2'></use></svg></label><input id='data-6558c735-f4ea-46a2-b8f4-139ffe434ddd' class='xr-var-data-in' type='checkbox'><label for='data-6558c735-f4ea-46a2-b8f4-139ffe434ddd' title='Show/Hide data repr'><svg class='icon xr-icon-database'><use xlink:href='#icon-database'></use></svg></label><div class='xr-var-attrs'><dl class='xr-attrs'><dt><span>standard_name :</span></dt><dd>cell_vertical_fraction_at_u_location</dd><dt><span>long_name :</span></dt><dd>vertical fraction of open cell</dd></dl></div><div class='xr-var-data'><table>\n",
>>>>>>> 496ab6eb83f621cecad47543189988d9da46342e
       "<tr>\n",
       "<td>\n",
       "<table>\n",
       "  <thead>\n",
       "    <tr><td> </td><th> Array </th><th> Chunk </th></tr>\n",
       "  </thead>\n",
       "  <tbody>\n",
       "    <tr><th> Bytes </th><td> 15.74 MiB </td> <td> 15.74 MiB </td></tr>\n",
       "    <tr><th> Shape </th><td> (55, 300, 250) </td> <td> (55, 300, 250) </td></tr>\n",
       "    <tr><th> Count </th><td> 2 Tasks </td><td> 1 Chunks </td></tr>\n",
       "    <tr><th> Type </th><td> >f4 </td><td> numpy.ndarray </td></tr>\n",
       "  </tbody>\n",
       "</table>\n",
       "</td>\n",
       "<td>\n",
       "<svg width=\"184\" height=\"194\" style=\"stroke:rgb(0,0,0);stroke-width:1\" >\n",
       "\n",
       "  <!-- Horizontal lines -->\n",
       "  <line x1=\"10\" y1=\"0\" x2=\"34\" y2=\"24\" style=\"stroke-width:2\" />\n",
       "  <line x1=\"10\" y1=\"120\" x2=\"34\" y2=\"144\" style=\"stroke-width:2\" />\n",
       "\n",
       "  <!-- Vertical lines -->\n",
       "  <line x1=\"10\" y1=\"0\" x2=\"10\" y2=\"120\" style=\"stroke-width:2\" />\n",
       "  <line x1=\"34\" y1=\"24\" x2=\"34\" y2=\"144\" style=\"stroke-width:2\" />\n",
       "\n",
       "  <!-- Colored Rectangle -->\n",
       "  <polygon points=\"10.0,0.0 34.49060156265884,24.490601562658835 34.49060156265884,144.49060156265884 10.0,120.0\" style=\"fill:#ECB172A0;stroke-width:0\"/>\n",
       "\n",
       "  <!-- Horizontal lines -->\n",
       "  <line x1=\"10\" y1=\"0\" x2=\"110\" y2=\"0\" style=\"stroke-width:2\" />\n",
       "  <line x1=\"34\" y1=\"24\" x2=\"134\" y2=\"24\" style=\"stroke-width:2\" />\n",
       "\n",
       "  <!-- Vertical lines -->\n",
       "  <line x1=\"10\" y1=\"0\" x2=\"34\" y2=\"24\" style=\"stroke-width:2\" />\n",
       "  <line x1=\"110\" y1=\"0\" x2=\"134\" y2=\"24\" style=\"stroke-width:2\" />\n",
       "\n",
       "  <!-- Colored Rectangle -->\n",
       "  <polygon points=\"10.0,0.0 110.0,0.0 134.49060156265884,24.490601562658835 34.49060156265884,24.490601562658835\" style=\"fill:#ECB172A0;stroke-width:0\"/>\n",
       "\n",
       "  <!-- Horizontal lines -->\n",
       "  <line x1=\"34\" y1=\"24\" x2=\"134\" y2=\"24\" style=\"stroke-width:2\" />\n",
       "  <line x1=\"34\" y1=\"144\" x2=\"134\" y2=\"144\" style=\"stroke-width:2\" />\n",
       "\n",
       "  <!-- Vertical lines -->\n",
       "  <line x1=\"34\" y1=\"24\" x2=\"34\" y2=\"144\" style=\"stroke-width:2\" />\n",
       "  <line x1=\"134\" y1=\"24\" x2=\"134\" y2=\"144\" style=\"stroke-width:2\" />\n",
       "\n",
       "  <!-- Colored Rectangle -->\n",
       "  <polygon points=\"34.49060156265884,24.490601562658835 134.49060156265884,24.490601562658835 134.49060156265884,144.49060156265884 34.49060156265884,144.49060156265884\" style=\"fill:#ECB172A0;stroke-width:0\"/>\n",
       "\n",
       "  <!-- Text -->\n",
       "  <text x=\"84.490602\" y=\"164.490602\" font-size=\"1.0rem\" font-weight=\"100\" text-anchor=\"middle\" >250</text>\n",
       "  <text x=\"154.490602\" y=\"84.490602\" font-size=\"1.0rem\" font-weight=\"100\" text-anchor=\"middle\" transform=\"rotate(-90,154.490602,84.490602)\">300</text>\n",
       "  <text x=\"12.245301\" y=\"152.245301\" font-size=\"1.0rem\" font-weight=\"100\" text-anchor=\"middle\" transform=\"rotate(45,12.245301,152.245301)\">55</text>\n",
       "</svg>\n",
       "</td>\n",
       "</tr>\n",
<<<<<<< HEAD
<<<<<<< HEAD
       "</table></div></li><li class='xr-var-item'><div class='xr-var-name'><span>hFacS</span></div><div class='xr-var-dims'>(Z, YG, XC)</div><div class='xr-var-dtype'>&gt;f4</div><div class='xr-var-preview xr-preview'>dask.array&lt;chunksize=(55, 300, 250), meta=np.ndarray&gt;</div><input id='attrs-795c265b-7235-47e4-b131-3d05b98520b1' class='xr-var-attrs-in' type='checkbox' ><label for='attrs-795c265b-7235-47e4-b131-3d05b98520b1' title='Show/Hide attributes'><svg class='icon xr-icon-file-text2'><use xlink:href='#icon-file-text2'></use></svg></label><input id='data-1dda16a8-060e-42ff-9346-3cf83bd70c60' class='xr-var-data-in' type='checkbox'><label for='data-1dda16a8-060e-42ff-9346-3cf83bd70c60' title='Show/Hide data repr'><svg class='icon xr-icon-database'><use xlink:href='#icon-database'></use></svg></label><div class='xr-var-attrs'><dl class='xr-attrs'><dt><span>standard_name :</span></dt><dd>cell_vertical_fraction_at_v_location</dd><dt><span>long_name :</span></dt><dd>vertical fraction of open cell</dd></dl></div><div class='xr-var-data'><table>\n",
=======
       "</table></div></li><li class='xr-var-item'><div class='xr-var-name'><span>hFacS</span></div><div class='xr-var-dims'>(Z, YG, XC)</div><div class='xr-var-dtype'>&gt;f4</div><div class='xr-var-preview xr-preview'>dask.array&lt;chunksize=(55, 300, 250), meta=np.ndarray&gt;</div><input id='attrs-6761cf98-f862-4603-86f4-be51e8c700d2' class='xr-var-attrs-in' type='checkbox' ><label for='attrs-6761cf98-f862-4603-86f4-be51e8c700d2' title='Show/Hide attributes'><svg class='icon xr-icon-file-text2'><use xlink:href='#icon-file-text2'></use></svg></label><input id='data-9f824615-a4eb-4a16-bcb7-55ab4d3f4389' class='xr-var-data-in' type='checkbox'><label for='data-9f824615-a4eb-4a16-bcb7-55ab4d3f4389' title='Show/Hide data repr'><svg class='icon xr-icon-database'><use xlink:href='#icon-database'></use></svg></label><div class='xr-var-attrs'><dl class='xr-attrs'><dt><span>standard_name :</span></dt><dd>cell_vertical_fraction_at_v_location</dd><dt><span>long_name :</span></dt><dd>vertical fraction of open cell</dd></dl></div><div class='xr-var-data'><table>\n",
>>>>>>> updated example notebooks based on MITgcm
=======
       "</table></div></li><li class='xr-var-item'><div class='xr-var-name'><span>hFacS</span></div><div class='xr-var-dims'>(Z, YG, XC)</div><div class='xr-var-dtype'>&gt;f4</div><div class='xr-var-preview xr-preview'>dask.array&lt;chunksize=(55, 300, 250), meta=np.ndarray&gt;</div><input id='attrs-6761cf98-f862-4603-86f4-be51e8c700d2' class='xr-var-attrs-in' type='checkbox' ><label for='attrs-6761cf98-f862-4603-86f4-be51e8c700d2' title='Show/Hide attributes'><svg class='icon xr-icon-file-text2'><use xlink:href='#icon-file-text2'></use></svg></label><input id='data-9f824615-a4eb-4a16-bcb7-55ab4d3f4389' class='xr-var-data-in' type='checkbox'><label for='data-9f824615-a4eb-4a16-bcb7-55ab4d3f4389' title='Show/Hide data repr'><svg class='icon xr-icon-database'><use xlink:href='#icon-database'></use></svg></label><div class='xr-var-attrs'><dl class='xr-attrs'><dt><span>standard_name :</span></dt><dd>cell_vertical_fraction_at_v_location</dd><dt><span>long_name :</span></dt><dd>vertical fraction of open cell</dd></dl></div><div class='xr-var-data'><table>\n",
>>>>>>> 496ab6eb83f621cecad47543189988d9da46342e
       "<tr>\n",
       "<td>\n",
       "<table>\n",
       "  <thead>\n",
       "    <tr><td> </td><th> Array </th><th> Chunk </th></tr>\n",
       "  </thead>\n",
       "  <tbody>\n",
       "    <tr><th> Bytes </th><td> 15.74 MiB </td> <td> 15.74 MiB </td></tr>\n",
       "    <tr><th> Shape </th><td> (55, 300, 250) </td> <td> (55, 300, 250) </td></tr>\n",
       "    <tr><th> Count </th><td> 2 Tasks </td><td> 1 Chunks </td></tr>\n",
       "    <tr><th> Type </th><td> >f4 </td><td> numpy.ndarray </td></tr>\n",
       "  </tbody>\n",
       "</table>\n",
       "</td>\n",
       "<td>\n",
       "<svg width=\"184\" height=\"194\" style=\"stroke:rgb(0,0,0);stroke-width:1\" >\n",
       "\n",
       "  <!-- Horizontal lines -->\n",
       "  <line x1=\"10\" y1=\"0\" x2=\"34\" y2=\"24\" style=\"stroke-width:2\" />\n",
       "  <line x1=\"10\" y1=\"120\" x2=\"34\" y2=\"144\" style=\"stroke-width:2\" />\n",
       "\n",
       "  <!-- Vertical lines -->\n",
       "  <line x1=\"10\" y1=\"0\" x2=\"10\" y2=\"120\" style=\"stroke-width:2\" />\n",
       "  <line x1=\"34\" y1=\"24\" x2=\"34\" y2=\"144\" style=\"stroke-width:2\" />\n",
       "\n",
       "  <!-- Colored Rectangle -->\n",
       "  <polygon points=\"10.0,0.0 34.49060156265884,24.490601562658835 34.49060156265884,144.49060156265884 10.0,120.0\" style=\"fill:#ECB172A0;stroke-width:0\"/>\n",
       "\n",
       "  <!-- Horizontal lines -->\n",
       "  <line x1=\"10\" y1=\"0\" x2=\"110\" y2=\"0\" style=\"stroke-width:2\" />\n",
       "  <line x1=\"34\" y1=\"24\" x2=\"134\" y2=\"24\" style=\"stroke-width:2\" />\n",
       "\n",
       "  <!-- Vertical lines -->\n",
       "  <line x1=\"10\" y1=\"0\" x2=\"34\" y2=\"24\" style=\"stroke-width:2\" />\n",
       "  <line x1=\"110\" y1=\"0\" x2=\"134\" y2=\"24\" style=\"stroke-width:2\" />\n",
       "\n",
       "  <!-- Colored Rectangle -->\n",
       "  <polygon points=\"10.0,0.0 110.0,0.0 134.49060156265884,24.490601562658835 34.49060156265884,24.490601562658835\" style=\"fill:#ECB172A0;stroke-width:0\"/>\n",
       "\n",
       "  <!-- Horizontal lines -->\n",
       "  <line x1=\"34\" y1=\"24\" x2=\"134\" y2=\"24\" style=\"stroke-width:2\" />\n",
       "  <line x1=\"34\" y1=\"144\" x2=\"134\" y2=\"144\" style=\"stroke-width:2\" />\n",
       "\n",
       "  <!-- Vertical lines -->\n",
       "  <line x1=\"34\" y1=\"24\" x2=\"34\" y2=\"144\" style=\"stroke-width:2\" />\n",
       "  <line x1=\"134\" y1=\"24\" x2=\"134\" y2=\"144\" style=\"stroke-width:2\" />\n",
       "\n",
       "  <!-- Colored Rectangle -->\n",
       "  <polygon points=\"34.49060156265884,24.490601562658835 134.49060156265884,24.490601562658835 134.49060156265884,144.49060156265884 34.49060156265884,144.49060156265884\" style=\"fill:#ECB172A0;stroke-width:0\"/>\n",
       "\n",
       "  <!-- Text -->\n",
       "  <text x=\"84.490602\" y=\"164.490602\" font-size=\"1.0rem\" font-weight=\"100\" text-anchor=\"middle\" >250</text>\n",
       "  <text x=\"154.490602\" y=\"84.490602\" font-size=\"1.0rem\" font-weight=\"100\" text-anchor=\"middle\" transform=\"rotate(-90,154.490602,84.490602)\">300</text>\n",
       "  <text x=\"12.245301\" y=\"152.245301\" font-size=\"1.0rem\" font-weight=\"100\" text-anchor=\"middle\" transform=\"rotate(45,12.245301,152.245301)\">55</text>\n",
       "</svg>\n",
       "</td>\n",
       "</tr>\n",
<<<<<<< HEAD
<<<<<<< HEAD
       "</table></div></li><li class='xr-var-item'><div class='xr-var-name'><span>maskC</span></div><div class='xr-var-dims'>(Z, YC, XC)</div><div class='xr-var-dtype'>bool</div><div class='xr-var-preview xr-preview'>dask.array&lt;chunksize=(55, 300, 250), meta=np.ndarray&gt;</div><input id='attrs-877cfb76-6996-4186-a287-fd70422705c2' class='xr-var-attrs-in' type='checkbox' ><label for='attrs-877cfb76-6996-4186-a287-fd70422705c2' title='Show/Hide attributes'><svg class='icon xr-icon-file-text2'><use xlink:href='#icon-file-text2'></use></svg></label><input id='data-1ac58bbe-d387-4d97-93bc-928b0b96145c' class='xr-var-data-in' type='checkbox'><label for='data-1ac58bbe-d387-4d97-93bc-928b0b96145c' title='Show/Hide data repr'><svg class='icon xr-icon-database'><use xlink:href='#icon-database'></use></svg></label><div class='xr-var-attrs'><dl class='xr-attrs'><dt><span>standard_name :</span></dt><dd>sea_binary_mask_at_t_location</dd><dt><span>long_name :</span></dt><dd>mask denoting wet point at center</dd></dl></div><div class='xr-var-data'><table>\n",
=======
       "</table></div></li><li class='xr-var-item'><div class='xr-var-name'><span>maskC</span></div><div class='xr-var-dims'>(Z, YC, XC)</div><div class='xr-var-dtype'>bool</div><div class='xr-var-preview xr-preview'>dask.array&lt;chunksize=(55, 300, 250), meta=np.ndarray&gt;</div><input id='attrs-43b1ede2-ac3f-47b5-82d9-b04e5b70ce7f' class='xr-var-attrs-in' type='checkbox' ><label for='attrs-43b1ede2-ac3f-47b5-82d9-b04e5b70ce7f' title='Show/Hide attributes'><svg class='icon xr-icon-file-text2'><use xlink:href='#icon-file-text2'></use></svg></label><input id='data-a890c33f-26a4-47b0-be7f-0cb10ce9532f' class='xr-var-data-in' type='checkbox'><label for='data-a890c33f-26a4-47b0-be7f-0cb10ce9532f' title='Show/Hide data repr'><svg class='icon xr-icon-database'><use xlink:href='#icon-database'></use></svg></label><div class='xr-var-attrs'><dl class='xr-attrs'><dt><span>standard_name :</span></dt><dd>sea_binary_mask_at_t_location</dd><dt><span>long_name :</span></dt><dd>mask denoting wet point at center</dd></dl></div><div class='xr-var-data'><table>\n",
>>>>>>> updated example notebooks based on MITgcm
=======
       "</table></div></li><li class='xr-var-item'><div class='xr-var-name'><span>maskC</span></div><div class='xr-var-dims'>(Z, YC, XC)</div><div class='xr-var-dtype'>bool</div><div class='xr-var-preview xr-preview'>dask.array&lt;chunksize=(55, 300, 250), meta=np.ndarray&gt;</div><input id='attrs-43b1ede2-ac3f-47b5-82d9-b04e5b70ce7f' class='xr-var-attrs-in' type='checkbox' ><label for='attrs-43b1ede2-ac3f-47b5-82d9-b04e5b70ce7f' title='Show/Hide attributes'><svg class='icon xr-icon-file-text2'><use xlink:href='#icon-file-text2'></use></svg></label><input id='data-a890c33f-26a4-47b0-be7f-0cb10ce9532f' class='xr-var-data-in' type='checkbox'><label for='data-a890c33f-26a4-47b0-be7f-0cb10ce9532f' title='Show/Hide data repr'><svg class='icon xr-icon-database'><use xlink:href='#icon-database'></use></svg></label><div class='xr-var-attrs'><dl class='xr-attrs'><dt><span>standard_name :</span></dt><dd>sea_binary_mask_at_t_location</dd><dt><span>long_name :</span></dt><dd>mask denoting wet point at center</dd></dl></div><div class='xr-var-data'><table>\n",
>>>>>>> 496ab6eb83f621cecad47543189988d9da46342e
       "<tr>\n",
       "<td>\n",
       "<table>\n",
       "  <thead>\n",
       "    <tr><td> </td><th> Array </th><th> Chunk </th></tr>\n",
       "  </thead>\n",
       "  <tbody>\n",
       "    <tr><th> Bytes </th><td> 3.93 MiB </td> <td> 3.93 MiB </td></tr>\n",
       "    <tr><th> Shape </th><td> (55, 300, 250) </td> <td> (55, 300, 250) </td></tr>\n",
       "    <tr><th> Count </th><td> 3 Tasks </td><td> 1 Chunks </td></tr>\n",
       "    <tr><th> Type </th><td> bool </td><td> numpy.ndarray </td></tr>\n",
       "  </tbody>\n",
       "</table>\n",
       "</td>\n",
       "<td>\n",
       "<svg width=\"184\" height=\"194\" style=\"stroke:rgb(0,0,0);stroke-width:1\" >\n",
       "\n",
       "  <!-- Horizontal lines -->\n",
       "  <line x1=\"10\" y1=\"0\" x2=\"34\" y2=\"24\" style=\"stroke-width:2\" />\n",
       "  <line x1=\"10\" y1=\"120\" x2=\"34\" y2=\"144\" style=\"stroke-width:2\" />\n",
       "\n",
       "  <!-- Vertical lines -->\n",
       "  <line x1=\"10\" y1=\"0\" x2=\"10\" y2=\"120\" style=\"stroke-width:2\" />\n",
       "  <line x1=\"34\" y1=\"24\" x2=\"34\" y2=\"144\" style=\"stroke-width:2\" />\n",
       "\n",
       "  <!-- Colored Rectangle -->\n",
       "  <polygon points=\"10.0,0.0 34.49060156265884,24.490601562658835 34.49060156265884,144.49060156265884 10.0,120.0\" style=\"fill:#ECB172A0;stroke-width:0\"/>\n",
       "\n",
       "  <!-- Horizontal lines -->\n",
       "  <line x1=\"10\" y1=\"0\" x2=\"110\" y2=\"0\" style=\"stroke-width:2\" />\n",
       "  <line x1=\"34\" y1=\"24\" x2=\"134\" y2=\"24\" style=\"stroke-width:2\" />\n",
       "\n",
       "  <!-- Vertical lines -->\n",
       "  <line x1=\"10\" y1=\"0\" x2=\"34\" y2=\"24\" style=\"stroke-width:2\" />\n",
       "  <line x1=\"110\" y1=\"0\" x2=\"134\" y2=\"24\" style=\"stroke-width:2\" />\n",
       "\n",
       "  <!-- Colored Rectangle -->\n",
       "  <polygon points=\"10.0,0.0 110.0,0.0 134.49060156265884,24.490601562658835 34.49060156265884,24.490601562658835\" style=\"fill:#ECB172A0;stroke-width:0\"/>\n",
       "\n",
       "  <!-- Horizontal lines -->\n",
       "  <line x1=\"34\" y1=\"24\" x2=\"134\" y2=\"24\" style=\"stroke-width:2\" />\n",
       "  <line x1=\"34\" y1=\"144\" x2=\"134\" y2=\"144\" style=\"stroke-width:2\" />\n",
       "\n",
       "  <!-- Vertical lines -->\n",
       "  <line x1=\"34\" y1=\"24\" x2=\"34\" y2=\"144\" style=\"stroke-width:2\" />\n",
       "  <line x1=\"134\" y1=\"24\" x2=\"134\" y2=\"144\" style=\"stroke-width:2\" />\n",
       "\n",
       "  <!-- Colored Rectangle -->\n",
       "  <polygon points=\"34.49060156265884,24.490601562658835 134.49060156265884,24.490601562658835 134.49060156265884,144.49060156265884 34.49060156265884,144.49060156265884\" style=\"fill:#ECB172A0;stroke-width:0\"/>\n",
       "\n",
       "  <!-- Text -->\n",
       "  <text x=\"84.490602\" y=\"164.490602\" font-size=\"1.0rem\" font-weight=\"100\" text-anchor=\"middle\" >250</text>\n",
       "  <text x=\"154.490602\" y=\"84.490602\" font-size=\"1.0rem\" font-weight=\"100\" text-anchor=\"middle\" transform=\"rotate(-90,154.490602,84.490602)\">300</text>\n",
       "  <text x=\"12.245301\" y=\"152.245301\" font-size=\"1.0rem\" font-weight=\"100\" text-anchor=\"middle\" transform=\"rotate(45,12.245301,152.245301)\">55</text>\n",
       "</svg>\n",
       "</td>\n",
       "</tr>\n",
<<<<<<< HEAD
<<<<<<< HEAD
       "</table></div></li><li class='xr-var-item'><div class='xr-var-name'><span>maskW</span></div><div class='xr-var-dims'>(Z, YC, XG)</div><div class='xr-var-dtype'>bool</div><div class='xr-var-preview xr-preview'>dask.array&lt;chunksize=(55, 300, 250), meta=np.ndarray&gt;</div><input id='attrs-60cc059a-84ec-41f1-9995-a3dfeac2f648' class='xr-var-attrs-in' type='checkbox' ><label for='attrs-60cc059a-84ec-41f1-9995-a3dfeac2f648' title='Show/Hide attributes'><svg class='icon xr-icon-file-text2'><use xlink:href='#icon-file-text2'></use></svg></label><input id='data-95873e09-1b24-4103-ba1f-dc7d5bc0d1b1' class='xr-var-data-in' type='checkbox'><label for='data-95873e09-1b24-4103-ba1f-dc7d5bc0d1b1' title='Show/Hide data repr'><svg class='icon xr-icon-database'><use xlink:href='#icon-database'></use></svg></label><div class='xr-var-attrs'><dl class='xr-attrs'><dt><span>standard_name :</span></dt><dd>cell_vertical_fraction_at_u_location</dd><dt><span>long_name :</span></dt><dd>mask denoting wet point at interface</dd></dl></div><div class='xr-var-data'><table>\n",
=======
       "</table></div></li><li class='xr-var-item'><div class='xr-var-name'><span>maskW</span></div><div class='xr-var-dims'>(Z, YC, XG)</div><div class='xr-var-dtype'>bool</div><div class='xr-var-preview xr-preview'>dask.array&lt;chunksize=(55, 300, 250), meta=np.ndarray&gt;</div><input id='attrs-6f23be2c-690c-4e59-86c9-8cc1295d8aa9' class='xr-var-attrs-in' type='checkbox' ><label for='attrs-6f23be2c-690c-4e59-86c9-8cc1295d8aa9' title='Show/Hide attributes'><svg class='icon xr-icon-file-text2'><use xlink:href='#icon-file-text2'></use></svg></label><input id='data-b17ede7a-cf97-4a5e-a6b2-e91c359aed15' class='xr-var-data-in' type='checkbox'><label for='data-b17ede7a-cf97-4a5e-a6b2-e91c359aed15' title='Show/Hide data repr'><svg class='icon xr-icon-database'><use xlink:href='#icon-database'></use></svg></label><div class='xr-var-attrs'><dl class='xr-attrs'><dt><span>standard_name :</span></dt><dd>cell_vertical_fraction_at_u_location</dd><dt><span>long_name :</span></dt><dd>mask denoting wet point at interface</dd></dl></div><div class='xr-var-data'><table>\n",
>>>>>>> updated example notebooks based on MITgcm
=======
       "</table></div></li><li class='xr-var-item'><div class='xr-var-name'><span>maskW</span></div><div class='xr-var-dims'>(Z, YC, XG)</div><div class='xr-var-dtype'>bool</div><div class='xr-var-preview xr-preview'>dask.array&lt;chunksize=(55, 300, 250), meta=np.ndarray&gt;</div><input id='attrs-6f23be2c-690c-4e59-86c9-8cc1295d8aa9' class='xr-var-attrs-in' type='checkbox' ><label for='attrs-6f23be2c-690c-4e59-86c9-8cc1295d8aa9' title='Show/Hide attributes'><svg class='icon xr-icon-file-text2'><use xlink:href='#icon-file-text2'></use></svg></label><input id='data-b17ede7a-cf97-4a5e-a6b2-e91c359aed15' class='xr-var-data-in' type='checkbox'><label for='data-b17ede7a-cf97-4a5e-a6b2-e91c359aed15' title='Show/Hide data repr'><svg class='icon xr-icon-database'><use xlink:href='#icon-database'></use></svg></label><div class='xr-var-attrs'><dl class='xr-attrs'><dt><span>standard_name :</span></dt><dd>cell_vertical_fraction_at_u_location</dd><dt><span>long_name :</span></dt><dd>mask denoting wet point at interface</dd></dl></div><div class='xr-var-data'><table>\n",
>>>>>>> 496ab6eb83f621cecad47543189988d9da46342e
       "<tr>\n",
       "<td>\n",
       "<table>\n",
       "  <thead>\n",
       "    <tr><td> </td><th> Array </th><th> Chunk </th></tr>\n",
       "  </thead>\n",
       "  <tbody>\n",
       "    <tr><th> Bytes </th><td> 3.93 MiB </td> <td> 3.93 MiB </td></tr>\n",
       "    <tr><th> Shape </th><td> (55, 300, 250) </td> <td> (55, 300, 250) </td></tr>\n",
       "    <tr><th> Count </th><td> 3 Tasks </td><td> 1 Chunks </td></tr>\n",
       "    <tr><th> Type </th><td> bool </td><td> numpy.ndarray </td></tr>\n",
       "  </tbody>\n",
       "</table>\n",
       "</td>\n",
       "<td>\n",
       "<svg width=\"184\" height=\"194\" style=\"stroke:rgb(0,0,0);stroke-width:1\" >\n",
       "\n",
       "  <!-- Horizontal lines -->\n",
       "  <line x1=\"10\" y1=\"0\" x2=\"34\" y2=\"24\" style=\"stroke-width:2\" />\n",
       "  <line x1=\"10\" y1=\"120\" x2=\"34\" y2=\"144\" style=\"stroke-width:2\" />\n",
       "\n",
       "  <!-- Vertical lines -->\n",
       "  <line x1=\"10\" y1=\"0\" x2=\"10\" y2=\"120\" style=\"stroke-width:2\" />\n",
       "  <line x1=\"34\" y1=\"24\" x2=\"34\" y2=\"144\" style=\"stroke-width:2\" />\n",
       "\n",
       "  <!-- Colored Rectangle -->\n",
       "  <polygon points=\"10.0,0.0 34.49060156265884,24.490601562658835 34.49060156265884,144.49060156265884 10.0,120.0\" style=\"fill:#ECB172A0;stroke-width:0\"/>\n",
       "\n",
       "  <!-- Horizontal lines -->\n",
       "  <line x1=\"10\" y1=\"0\" x2=\"110\" y2=\"0\" style=\"stroke-width:2\" />\n",
       "  <line x1=\"34\" y1=\"24\" x2=\"134\" y2=\"24\" style=\"stroke-width:2\" />\n",
       "\n",
       "  <!-- Vertical lines -->\n",
       "  <line x1=\"10\" y1=\"0\" x2=\"34\" y2=\"24\" style=\"stroke-width:2\" />\n",
       "  <line x1=\"110\" y1=\"0\" x2=\"134\" y2=\"24\" style=\"stroke-width:2\" />\n",
       "\n",
       "  <!-- Colored Rectangle -->\n",
       "  <polygon points=\"10.0,0.0 110.0,0.0 134.49060156265884,24.490601562658835 34.49060156265884,24.490601562658835\" style=\"fill:#ECB172A0;stroke-width:0\"/>\n",
       "\n",
       "  <!-- Horizontal lines -->\n",
       "  <line x1=\"34\" y1=\"24\" x2=\"134\" y2=\"24\" style=\"stroke-width:2\" />\n",
       "  <line x1=\"34\" y1=\"144\" x2=\"134\" y2=\"144\" style=\"stroke-width:2\" />\n",
       "\n",
       "  <!-- Vertical lines -->\n",
       "  <line x1=\"34\" y1=\"24\" x2=\"34\" y2=\"144\" style=\"stroke-width:2\" />\n",
       "  <line x1=\"134\" y1=\"24\" x2=\"134\" y2=\"144\" style=\"stroke-width:2\" />\n",
       "\n",
       "  <!-- Colored Rectangle -->\n",
       "  <polygon points=\"34.49060156265884,24.490601562658835 134.49060156265884,24.490601562658835 134.49060156265884,144.49060156265884 34.49060156265884,144.49060156265884\" style=\"fill:#ECB172A0;stroke-width:0\"/>\n",
       "\n",
       "  <!-- Text -->\n",
       "  <text x=\"84.490602\" y=\"164.490602\" font-size=\"1.0rem\" font-weight=\"100\" text-anchor=\"middle\" >250</text>\n",
       "  <text x=\"154.490602\" y=\"84.490602\" font-size=\"1.0rem\" font-weight=\"100\" text-anchor=\"middle\" transform=\"rotate(-90,154.490602,84.490602)\">300</text>\n",
       "  <text x=\"12.245301\" y=\"152.245301\" font-size=\"1.0rem\" font-weight=\"100\" text-anchor=\"middle\" transform=\"rotate(45,12.245301,152.245301)\">55</text>\n",
       "</svg>\n",
       "</td>\n",
       "</tr>\n",
<<<<<<< HEAD
<<<<<<< HEAD
       "</table></div></li><li class='xr-var-item'><div class='xr-var-name'><span>maskS</span></div><div class='xr-var-dims'>(Z, YG, XC)</div><div class='xr-var-dtype'>bool</div><div class='xr-var-preview xr-preview'>dask.array&lt;chunksize=(55, 300, 250), meta=np.ndarray&gt;</div><input id='attrs-641e4c6d-16c5-435b-913c-d25f73cbb936' class='xr-var-attrs-in' type='checkbox' ><label for='attrs-641e4c6d-16c5-435b-913c-d25f73cbb936' title='Show/Hide attributes'><svg class='icon xr-icon-file-text2'><use xlink:href='#icon-file-text2'></use></svg></label><input id='data-5da8c7eb-4074-4df9-aaa7-077ba314bbdd' class='xr-var-data-in' type='checkbox'><label for='data-5da8c7eb-4074-4df9-aaa7-077ba314bbdd' title='Show/Hide data repr'><svg class='icon xr-icon-database'><use xlink:href='#icon-database'></use></svg></label><div class='xr-var-attrs'><dl class='xr-attrs'><dt><span>standard_name :</span></dt><dd>cell_vertical_fraction_at_v_location</dd><dt><span>long_name :</span></dt><dd>mask denoting wet point at interface</dd></dl></div><div class='xr-var-data'><table>\n",
=======
       "</table></div></li><li class='xr-var-item'><div class='xr-var-name'><span>maskS</span></div><div class='xr-var-dims'>(Z, YG, XC)</div><div class='xr-var-dtype'>bool</div><div class='xr-var-preview xr-preview'>dask.array&lt;chunksize=(55, 300, 250), meta=np.ndarray&gt;</div><input id='attrs-123faf8f-db18-4f53-8f78-0a475b8ee9c2' class='xr-var-attrs-in' type='checkbox' ><label for='attrs-123faf8f-db18-4f53-8f78-0a475b8ee9c2' title='Show/Hide attributes'><svg class='icon xr-icon-file-text2'><use xlink:href='#icon-file-text2'></use></svg></label><input id='data-09fe7bed-1101-4d45-ae90-f02df0cbda35' class='xr-var-data-in' type='checkbox'><label for='data-09fe7bed-1101-4d45-ae90-f02df0cbda35' title='Show/Hide data repr'><svg class='icon xr-icon-database'><use xlink:href='#icon-database'></use></svg></label><div class='xr-var-attrs'><dl class='xr-attrs'><dt><span>standard_name :</span></dt><dd>cell_vertical_fraction_at_v_location</dd><dt><span>long_name :</span></dt><dd>mask denoting wet point at interface</dd></dl></div><div class='xr-var-data'><table>\n",
>>>>>>> updated example notebooks based on MITgcm
=======
       "</table></div></li><li class='xr-var-item'><div class='xr-var-name'><span>maskS</span></div><div class='xr-var-dims'>(Z, YG, XC)</div><div class='xr-var-dtype'>bool</div><div class='xr-var-preview xr-preview'>dask.array&lt;chunksize=(55, 300, 250), meta=np.ndarray&gt;</div><input id='attrs-123faf8f-db18-4f53-8f78-0a475b8ee9c2' class='xr-var-attrs-in' type='checkbox' ><label for='attrs-123faf8f-db18-4f53-8f78-0a475b8ee9c2' title='Show/Hide attributes'><svg class='icon xr-icon-file-text2'><use xlink:href='#icon-file-text2'></use></svg></label><input id='data-09fe7bed-1101-4d45-ae90-f02df0cbda35' class='xr-var-data-in' type='checkbox'><label for='data-09fe7bed-1101-4d45-ae90-f02df0cbda35' title='Show/Hide data repr'><svg class='icon xr-icon-database'><use xlink:href='#icon-database'></use></svg></label><div class='xr-var-attrs'><dl class='xr-attrs'><dt><span>standard_name :</span></dt><dd>cell_vertical_fraction_at_v_location</dd><dt><span>long_name :</span></dt><dd>mask denoting wet point at interface</dd></dl></div><div class='xr-var-data'><table>\n",
>>>>>>> 496ab6eb83f621cecad47543189988d9da46342e
       "<tr>\n",
       "<td>\n",
       "<table>\n",
       "  <thead>\n",
       "    <tr><td> </td><th> Array </th><th> Chunk </th></tr>\n",
       "  </thead>\n",
       "  <tbody>\n",
       "    <tr><th> Bytes </th><td> 3.93 MiB </td> <td> 3.93 MiB </td></tr>\n",
       "    <tr><th> Shape </th><td> (55, 300, 250) </td> <td> (55, 300, 250) </td></tr>\n",
       "    <tr><th> Count </th><td> 3 Tasks </td><td> 1 Chunks </td></tr>\n",
       "    <tr><th> Type </th><td> bool </td><td> numpy.ndarray </td></tr>\n",
       "  </tbody>\n",
       "</table>\n",
       "</td>\n",
       "<td>\n",
       "<svg width=\"184\" height=\"194\" style=\"stroke:rgb(0,0,0);stroke-width:1\" >\n",
       "\n",
       "  <!-- Horizontal lines -->\n",
       "  <line x1=\"10\" y1=\"0\" x2=\"34\" y2=\"24\" style=\"stroke-width:2\" />\n",
       "  <line x1=\"10\" y1=\"120\" x2=\"34\" y2=\"144\" style=\"stroke-width:2\" />\n",
       "\n",
       "  <!-- Vertical lines -->\n",
       "  <line x1=\"10\" y1=\"0\" x2=\"10\" y2=\"120\" style=\"stroke-width:2\" />\n",
       "  <line x1=\"34\" y1=\"24\" x2=\"34\" y2=\"144\" style=\"stroke-width:2\" />\n",
       "\n",
       "  <!-- Colored Rectangle -->\n",
       "  <polygon points=\"10.0,0.0 34.49060156265884,24.490601562658835 34.49060156265884,144.49060156265884 10.0,120.0\" style=\"fill:#ECB172A0;stroke-width:0\"/>\n",
       "\n",
       "  <!-- Horizontal lines -->\n",
       "  <line x1=\"10\" y1=\"0\" x2=\"110\" y2=\"0\" style=\"stroke-width:2\" />\n",
       "  <line x1=\"34\" y1=\"24\" x2=\"134\" y2=\"24\" style=\"stroke-width:2\" />\n",
       "\n",
       "  <!-- Vertical lines -->\n",
       "  <line x1=\"10\" y1=\"0\" x2=\"34\" y2=\"24\" style=\"stroke-width:2\" />\n",
       "  <line x1=\"110\" y1=\"0\" x2=\"134\" y2=\"24\" style=\"stroke-width:2\" />\n",
       "\n",
       "  <!-- Colored Rectangle -->\n",
       "  <polygon points=\"10.0,0.0 110.0,0.0 134.49060156265884,24.490601562658835 34.49060156265884,24.490601562658835\" style=\"fill:#ECB172A0;stroke-width:0\"/>\n",
       "\n",
       "  <!-- Horizontal lines -->\n",
       "  <line x1=\"34\" y1=\"24\" x2=\"134\" y2=\"24\" style=\"stroke-width:2\" />\n",
       "  <line x1=\"34\" y1=\"144\" x2=\"134\" y2=\"144\" style=\"stroke-width:2\" />\n",
       "\n",
       "  <!-- Vertical lines -->\n",
       "  <line x1=\"34\" y1=\"24\" x2=\"34\" y2=\"144\" style=\"stroke-width:2\" />\n",
       "  <line x1=\"134\" y1=\"24\" x2=\"134\" y2=\"144\" style=\"stroke-width:2\" />\n",
       "\n",
       "  <!-- Colored Rectangle -->\n",
       "  <polygon points=\"34.49060156265884,24.490601562658835 134.49060156265884,24.490601562658835 134.49060156265884,144.49060156265884 34.49060156265884,144.49060156265884\" style=\"fill:#ECB172A0;stroke-width:0\"/>\n",
       "\n",
       "  <!-- Text -->\n",
       "  <text x=\"84.490602\" y=\"164.490602\" font-size=\"1.0rem\" font-weight=\"100\" text-anchor=\"middle\" >250</text>\n",
       "  <text x=\"154.490602\" y=\"84.490602\" font-size=\"1.0rem\" font-weight=\"100\" text-anchor=\"middle\" transform=\"rotate(-90,154.490602,84.490602)\">300</text>\n",
       "  <text x=\"12.245301\" y=\"152.245301\" font-size=\"1.0rem\" font-weight=\"100\" text-anchor=\"middle\" transform=\"rotate(45,12.245301,152.245301)\">55</text>\n",
       "</svg>\n",
       "</td>\n",
       "</tr>\n",
<<<<<<< HEAD
<<<<<<< HEAD
       "</table></div></li><li class='xr-var-item'><div class='xr-var-name'><span>rhoRef</span></div><div class='xr-var-dims'>(Z)</div><div class='xr-var-dtype'>&gt;f4</div><div class='xr-var-preview xr-preview'>dask.array&lt;chunksize=(55,), meta=np.ndarray&gt;</div><input id='attrs-02a87912-d6d7-4c4f-85d0-5729598fb8bd' class='xr-var-attrs-in' type='checkbox' ><label for='attrs-02a87912-d6d7-4c4f-85d0-5729598fb8bd' title='Show/Hide attributes'><svg class='icon xr-icon-file-text2'><use xlink:href='#icon-file-text2'></use></svg></label><input id='data-add4bd48-924b-417a-b44e-a3d497c52314' class='xr-var-data-in' type='checkbox'><label for='data-add4bd48-924b-417a-b44e-a3d497c52314' title='Show/Hide data repr'><svg class='icon xr-icon-database'><use xlink:href='#icon-database'></use></svg></label><div class='xr-var-attrs'><dl class='xr-attrs'><dt><span>standard_name :</span></dt><dd>reference_density_profile</dd><dt><span>long_name :</span></dt><dd>1D, vertical reference density profile</dd><dt><span>coordinate :</span></dt><dd>Z</dd><dt><span>units :</span></dt><dd>kg m-3</dd></dl></div><div class='xr-var-data'><table>\n",
=======
       "</table></div></li><li class='xr-var-item'><div class='xr-var-name'><span>rhoRef</span></div><div class='xr-var-dims'>(Z)</div><div class='xr-var-dtype'>&gt;f4</div><div class='xr-var-preview xr-preview'>dask.array&lt;chunksize=(55,), meta=np.ndarray&gt;</div><input id='attrs-13587c29-8b07-40cc-a323-f0a26468d8ec' class='xr-var-attrs-in' type='checkbox' ><label for='attrs-13587c29-8b07-40cc-a323-f0a26468d8ec' title='Show/Hide attributes'><svg class='icon xr-icon-file-text2'><use xlink:href='#icon-file-text2'></use></svg></label><input id='data-d353d217-0c66-4f22-bc6c-d843a687e614' class='xr-var-data-in' type='checkbox'><label for='data-d353d217-0c66-4f22-bc6c-d843a687e614' title='Show/Hide data repr'><svg class='icon xr-icon-database'><use xlink:href='#icon-database'></use></svg></label><div class='xr-var-attrs'><dl class='xr-attrs'><dt><span>standard_name :</span></dt><dd>reference_density_profile</dd><dt><span>long_name :</span></dt><dd>1D, vertical reference density profile</dd><dt><span>coordinate :</span></dt><dd>Z</dd><dt><span>units :</span></dt><dd>kg m-3</dd></dl></div><div class='xr-var-data'><table>\n",
>>>>>>> updated example notebooks based on MITgcm
=======
       "</table></div></li><li class='xr-var-item'><div class='xr-var-name'><span>rhoRef</span></div><div class='xr-var-dims'>(Z)</div><div class='xr-var-dtype'>&gt;f4</div><div class='xr-var-preview xr-preview'>dask.array&lt;chunksize=(55,), meta=np.ndarray&gt;</div><input id='attrs-13587c29-8b07-40cc-a323-f0a26468d8ec' class='xr-var-attrs-in' type='checkbox' ><label for='attrs-13587c29-8b07-40cc-a323-f0a26468d8ec' title='Show/Hide attributes'><svg class='icon xr-icon-file-text2'><use xlink:href='#icon-file-text2'></use></svg></label><input id='data-d353d217-0c66-4f22-bc6c-d843a687e614' class='xr-var-data-in' type='checkbox'><label for='data-d353d217-0c66-4f22-bc6c-d843a687e614' title='Show/Hide data repr'><svg class='icon xr-icon-database'><use xlink:href='#icon-database'></use></svg></label><div class='xr-var-attrs'><dl class='xr-attrs'><dt><span>standard_name :</span></dt><dd>reference_density_profile</dd><dt><span>long_name :</span></dt><dd>1D, vertical reference density profile</dd><dt><span>coordinate :</span></dt><dd>Z</dd><dt><span>units :</span></dt><dd>kg m-3</dd></dl></div><div class='xr-var-data'><table>\n",
>>>>>>> 496ab6eb83f621cecad47543189988d9da46342e
       "<tr>\n",
       "<td>\n",
       "<table>\n",
       "  <thead>\n",
       "    <tr><td> </td><th> Array </th><th> Chunk </th></tr>\n",
       "  </thead>\n",
       "  <tbody>\n",
       "    <tr><th> Bytes </th><td> 220 B </td> <td> 220 B </td></tr>\n",
       "    <tr><th> Shape </th><td> (55,) </td> <td> (55,) </td></tr>\n",
       "    <tr><th> Count </th><td> 1 Tasks </td><td> 1 Chunks </td></tr>\n",
       "    <tr><th> Type </th><td> >f4 </td><td> numpy.ndarray </td></tr>\n",
       "  </tbody>\n",
       "</table>\n",
       "</td>\n",
       "<td>\n",
       "<svg width=\"170\" height=\"78\" style=\"stroke:rgb(0,0,0);stroke-width:1\" >\n",
       "\n",
       "  <!-- Horizontal lines -->\n",
       "  <line x1=\"0\" y1=\"0\" x2=\"120\" y2=\"0\" style=\"stroke-width:2\" />\n",
       "  <line x1=\"0\" y1=\"28\" x2=\"120\" y2=\"28\" style=\"stroke-width:2\" />\n",
       "\n",
       "  <!-- Vertical lines -->\n",
       "  <line x1=\"0\" y1=\"0\" x2=\"0\" y2=\"28\" style=\"stroke-width:2\" />\n",
       "  <line x1=\"120\" y1=\"0\" x2=\"120\" y2=\"28\" style=\"stroke-width:2\" />\n",
       "\n",
       "  <!-- Colored Rectangle -->\n",
       "  <polygon points=\"0.0,0.0 120.0,0.0 120.0,28.499196557616223 0.0,28.499196557616223\" style=\"fill:#ECB172A0;stroke-width:0\"/>\n",
       "\n",
       "  <!-- Text -->\n",
       "  <text x=\"60.000000\" y=\"48.499197\" font-size=\"1.0rem\" font-weight=\"100\" text-anchor=\"middle\" >55</text>\n",
       "  <text x=\"140.000000\" y=\"14.249598\" font-size=\"1.0rem\" font-weight=\"100\" text-anchor=\"middle\" transform=\"rotate(0,140.000000,14.249598)\">1</text>\n",
       "</svg>\n",
       "</td>\n",
       "</tr>\n",
<<<<<<< HEAD
<<<<<<< HEAD
       "</table></div></li><li class='xr-var-item'><div class='xr-var-name'><span>dxF</span></div><div class='xr-var-dims'>(YC, XC)</div><div class='xr-var-dtype'>&gt;f4</div><div class='xr-var-preview xr-preview'>dask.array&lt;chunksize=(300, 250), meta=np.ndarray&gt;</div><input id='attrs-6afe397f-0349-431d-8500-e96afc401404' class='xr-var-attrs-in' type='checkbox' ><label for='attrs-6afe397f-0349-431d-8500-e96afc401404' title='Show/Hide attributes'><svg class='icon xr-icon-file-text2'><use xlink:href='#icon-file-text2'></use></svg></label><input id='data-3bd6a986-b972-4ba7-9472-251dbaec2340' class='xr-var-data-in' type='checkbox'><label for='data-3bd6a986-b972-4ba7-9472-251dbaec2340' title='Show/Hide data repr'><svg class='icon xr-icon-database'><use xlink:href='#icon-database'></use></svg></label><div class='xr-var-attrs'><dl class='xr-attrs'><dt><span>standard_name :</span></dt><dd>cell_x_size_at_t_location</dd><dt><span>long_name :</span></dt><dd>cell x size</dd><dt><span>units :</span></dt><dd>m</dd><dt><span>coordinate :</span></dt><dd>YC XC</dd></dl></div><div class='xr-var-data'><table>\n",
=======
       "</table></div></li><li class='xr-var-item'><div class='xr-var-name'><span>dxF</span></div><div class='xr-var-dims'>(YC, XC)</div><div class='xr-var-dtype'>&gt;f4</div><div class='xr-var-preview xr-preview'>dask.array&lt;chunksize=(300, 250), meta=np.ndarray&gt;</div><input id='attrs-8fde2aa7-4e29-46f6-a0bb-c04ccac120ca' class='xr-var-attrs-in' type='checkbox' ><label for='attrs-8fde2aa7-4e29-46f6-a0bb-c04ccac120ca' title='Show/Hide attributes'><svg class='icon xr-icon-file-text2'><use xlink:href='#icon-file-text2'></use></svg></label><input id='data-8bce1658-790a-4793-b249-69093bf7c1d1' class='xr-var-data-in' type='checkbox'><label for='data-8bce1658-790a-4793-b249-69093bf7c1d1' title='Show/Hide data repr'><svg class='icon xr-icon-database'><use xlink:href='#icon-database'></use></svg></label><div class='xr-var-attrs'><dl class='xr-attrs'><dt><span>standard_name :</span></dt><dd>cell_x_size_at_t_location</dd><dt><span>long_name :</span></dt><dd>cell x size</dd><dt><span>units :</span></dt><dd>m</dd><dt><span>coordinate :</span></dt><dd>YC XC</dd></dl></div><div class='xr-var-data'><table>\n",
>>>>>>> updated example notebooks based on MITgcm
=======
       "</table></div></li><li class='xr-var-item'><div class='xr-var-name'><span>dxF</span></div><div class='xr-var-dims'>(YC, XC)</div><div class='xr-var-dtype'>&gt;f4</div><div class='xr-var-preview xr-preview'>dask.array&lt;chunksize=(300, 250), meta=np.ndarray&gt;</div><input id='attrs-8fde2aa7-4e29-46f6-a0bb-c04ccac120ca' class='xr-var-attrs-in' type='checkbox' ><label for='attrs-8fde2aa7-4e29-46f6-a0bb-c04ccac120ca' title='Show/Hide attributes'><svg class='icon xr-icon-file-text2'><use xlink:href='#icon-file-text2'></use></svg></label><input id='data-8bce1658-790a-4793-b249-69093bf7c1d1' class='xr-var-data-in' type='checkbox'><label for='data-8bce1658-790a-4793-b249-69093bf7c1d1' title='Show/Hide data repr'><svg class='icon xr-icon-database'><use xlink:href='#icon-database'></use></svg></label><div class='xr-var-attrs'><dl class='xr-attrs'><dt><span>standard_name :</span></dt><dd>cell_x_size_at_t_location</dd><dt><span>long_name :</span></dt><dd>cell x size</dd><dt><span>units :</span></dt><dd>m</dd><dt><span>coordinate :</span></dt><dd>YC XC</dd></dl></div><div class='xr-var-data'><table>\n",
>>>>>>> 496ab6eb83f621cecad47543189988d9da46342e
       "<tr>\n",
       "<td>\n",
       "<table>\n",
       "  <thead>\n",
       "    <tr><td> </td><th> Array </th><th> Chunk </th></tr>\n",
       "  </thead>\n",
       "  <tbody>\n",
       "    <tr><th> Bytes </th><td> 292.97 kiB </td> <td> 292.97 kiB </td></tr>\n",
       "    <tr><th> Shape </th><td> (300, 250) </td> <td> (300, 250) </td></tr>\n",
       "    <tr><th> Count </th><td> 3 Tasks </td><td> 1 Chunks </td></tr>\n",
       "    <tr><th> Type </th><td> >f4 </td><td> numpy.ndarray </td></tr>\n",
       "  </tbody>\n",
       "</table>\n",
       "</td>\n",
       "<td>\n",
       "<svg width=\"150\" height=\"170\" style=\"stroke:rgb(0,0,0);stroke-width:1\" >\n",
       "\n",
       "  <!-- Horizontal lines -->\n",
       "  <line x1=\"0\" y1=\"0\" x2=\"100\" y2=\"0\" style=\"stroke-width:2\" />\n",
       "  <line x1=\"0\" y1=\"120\" x2=\"100\" y2=\"120\" style=\"stroke-width:2\" />\n",
       "\n",
       "  <!-- Vertical lines -->\n",
       "  <line x1=\"0\" y1=\"0\" x2=\"0\" y2=\"120\" style=\"stroke-width:2\" />\n",
       "  <line x1=\"100\" y1=\"0\" x2=\"100\" y2=\"120\" style=\"stroke-width:2\" />\n",
       "\n",
       "  <!-- Colored Rectangle -->\n",
       "  <polygon points=\"0.0,0.0 100.0,0.0 100.0,120.0 0.0,120.0\" style=\"fill:#ECB172A0;stroke-width:0\"/>\n",
       "\n",
       "  <!-- Text -->\n",
       "  <text x=\"50.000000\" y=\"140.000000\" font-size=\"1.0rem\" font-weight=\"100\" text-anchor=\"middle\" >250</text>\n",
       "  <text x=\"120.000000\" y=\"60.000000\" font-size=\"1.0rem\" font-weight=\"100\" text-anchor=\"middle\" transform=\"rotate(-90,120.000000,60.000000)\">300</text>\n",
       "</svg>\n",
       "</td>\n",
       "</tr>\n",
<<<<<<< HEAD
<<<<<<< HEAD
       "</table></div></li><li class='xr-var-item'><div class='xr-var-name'><span>dyF</span></div><div class='xr-var-dims'>(YC, XC)</div><div class='xr-var-dtype'>&gt;f4</div><div class='xr-var-preview xr-preview'>dask.array&lt;chunksize=(300, 250), meta=np.ndarray&gt;</div><input id='attrs-635ce6cc-f023-4df9-9548-00d385e4d8fe' class='xr-var-attrs-in' type='checkbox' ><label for='attrs-635ce6cc-f023-4df9-9548-00d385e4d8fe' title='Show/Hide attributes'><svg class='icon xr-icon-file-text2'><use xlink:href='#icon-file-text2'></use></svg></label><input id='data-7cac0063-ef7f-4c61-95ab-eb20084e743e' class='xr-var-data-in' type='checkbox'><label for='data-7cac0063-ef7f-4c61-95ab-eb20084e743e' title='Show/Hide data repr'><svg class='icon xr-icon-database'><use xlink:href='#icon-database'></use></svg></label><div class='xr-var-attrs'><dl class='xr-attrs'><dt><span>standard_name :</span></dt><dd>cell_y_size_at_t_location</dd><dt><span>long_name :</span></dt><dd>cell y size</dd><dt><span>units :</span></dt><dd>m</dd><dt><span>coordinate :</span></dt><dd>YC XC</dd></dl></div><div class='xr-var-data'><table>\n",
=======
       "</table></div></li><li class='xr-var-item'><div class='xr-var-name'><span>dyF</span></div><div class='xr-var-dims'>(YC, XC)</div><div class='xr-var-dtype'>&gt;f4</div><div class='xr-var-preview xr-preview'>dask.array&lt;chunksize=(300, 250), meta=np.ndarray&gt;</div><input id='attrs-78583ef9-f53e-4f51-bbaa-0ee8ec6a0625' class='xr-var-attrs-in' type='checkbox' ><label for='attrs-78583ef9-f53e-4f51-bbaa-0ee8ec6a0625' title='Show/Hide attributes'><svg class='icon xr-icon-file-text2'><use xlink:href='#icon-file-text2'></use></svg></label><input id='data-11d2377e-3213-435e-8f94-f8c112a84196' class='xr-var-data-in' type='checkbox'><label for='data-11d2377e-3213-435e-8f94-f8c112a84196' title='Show/Hide data repr'><svg class='icon xr-icon-database'><use xlink:href='#icon-database'></use></svg></label><div class='xr-var-attrs'><dl class='xr-attrs'><dt><span>standard_name :</span></dt><dd>cell_y_size_at_t_location</dd><dt><span>long_name :</span></dt><dd>cell y size</dd><dt><span>units :</span></dt><dd>m</dd><dt><span>coordinate :</span></dt><dd>YC XC</dd></dl></div><div class='xr-var-data'><table>\n",
>>>>>>> updated example notebooks based on MITgcm
=======
       "</table></div></li><li class='xr-var-item'><div class='xr-var-name'><span>dyF</span></div><div class='xr-var-dims'>(YC, XC)</div><div class='xr-var-dtype'>&gt;f4</div><div class='xr-var-preview xr-preview'>dask.array&lt;chunksize=(300, 250), meta=np.ndarray&gt;</div><input id='attrs-78583ef9-f53e-4f51-bbaa-0ee8ec6a0625' class='xr-var-attrs-in' type='checkbox' ><label for='attrs-78583ef9-f53e-4f51-bbaa-0ee8ec6a0625' title='Show/Hide attributes'><svg class='icon xr-icon-file-text2'><use xlink:href='#icon-file-text2'></use></svg></label><input id='data-11d2377e-3213-435e-8f94-f8c112a84196' class='xr-var-data-in' type='checkbox'><label for='data-11d2377e-3213-435e-8f94-f8c112a84196' title='Show/Hide data repr'><svg class='icon xr-icon-database'><use xlink:href='#icon-database'></use></svg></label><div class='xr-var-attrs'><dl class='xr-attrs'><dt><span>standard_name :</span></dt><dd>cell_y_size_at_t_location</dd><dt><span>long_name :</span></dt><dd>cell y size</dd><dt><span>units :</span></dt><dd>m</dd><dt><span>coordinate :</span></dt><dd>YC XC</dd></dl></div><div class='xr-var-data'><table>\n",
>>>>>>> 496ab6eb83f621cecad47543189988d9da46342e
       "<tr>\n",
       "<td>\n",
       "<table>\n",
       "  <thead>\n",
       "    <tr><td> </td><th> Array </th><th> Chunk </th></tr>\n",
       "  </thead>\n",
       "  <tbody>\n",
       "    <tr><th> Bytes </th><td> 292.97 kiB </td> <td> 292.97 kiB </td></tr>\n",
       "    <tr><th> Shape </th><td> (300, 250) </td> <td> (300, 250) </td></tr>\n",
       "    <tr><th> Count </th><td> 3 Tasks </td><td> 1 Chunks </td></tr>\n",
       "    <tr><th> Type </th><td> >f4 </td><td> numpy.ndarray </td></tr>\n",
       "  </tbody>\n",
       "</table>\n",
       "</td>\n",
       "<td>\n",
       "<svg width=\"150\" height=\"170\" style=\"stroke:rgb(0,0,0);stroke-width:1\" >\n",
       "\n",
       "  <!-- Horizontal lines -->\n",
       "  <line x1=\"0\" y1=\"0\" x2=\"100\" y2=\"0\" style=\"stroke-width:2\" />\n",
       "  <line x1=\"0\" y1=\"120\" x2=\"100\" y2=\"120\" style=\"stroke-width:2\" />\n",
       "\n",
       "  <!-- Vertical lines -->\n",
       "  <line x1=\"0\" y1=\"0\" x2=\"0\" y2=\"120\" style=\"stroke-width:2\" />\n",
       "  <line x1=\"100\" y1=\"0\" x2=\"100\" y2=\"120\" style=\"stroke-width:2\" />\n",
       "\n",
       "  <!-- Colored Rectangle -->\n",
       "  <polygon points=\"0.0,0.0 100.0,0.0 100.0,120.0 0.0,120.0\" style=\"fill:#ECB172A0;stroke-width:0\"/>\n",
       "\n",
       "  <!-- Text -->\n",
       "  <text x=\"50.000000\" y=\"140.000000\" font-size=\"1.0rem\" font-weight=\"100\" text-anchor=\"middle\" >250</text>\n",
       "  <text x=\"120.000000\" y=\"60.000000\" font-size=\"1.0rem\" font-weight=\"100\" text-anchor=\"middle\" transform=\"rotate(-90,120.000000,60.000000)\">300</text>\n",
       "</svg>\n",
       "</td>\n",
       "</tr>\n",
<<<<<<< HEAD
<<<<<<< HEAD
       "</table></div></li><li class='xr-var-item'><div class='xr-var-name'><span>dxV</span></div><div class='xr-var-dims'>(YG, XG)</div><div class='xr-var-dtype'>&gt;f4</div><div class='xr-var-preview xr-preview'>dask.array&lt;chunksize=(300, 250), meta=np.ndarray&gt;</div><input id='attrs-329b20e9-9c82-46a3-b578-0cbf7fd4d39c' class='xr-var-attrs-in' type='checkbox' ><label for='attrs-329b20e9-9c82-46a3-b578-0cbf7fd4d39c' title='Show/Hide attributes'><svg class='icon xr-icon-file-text2'><use xlink:href='#icon-file-text2'></use></svg></label><input id='data-91b9b716-465a-4aad-93ec-5b8876cd7b68' class='xr-var-data-in' type='checkbox'><label for='data-91b9b716-465a-4aad-93ec-5b8876cd7b68' title='Show/Hide data repr'><svg class='icon xr-icon-database'><use xlink:href='#icon-database'></use></svg></label><div class='xr-var-attrs'><dl class='xr-attrs'><dt><span>standard_name :</span></dt><dd>cell_x_size_at_f_location</dd><dt><span>long_name :</span></dt><dd>cell x size</dd><dt><span>units :</span></dt><dd>m</dd><dt><span>coordinate :</span></dt><dd>YG XG</dd></dl></div><div class='xr-var-data'><table>\n",
=======
       "</table></div></li><li class='xr-var-item'><div class='xr-var-name'><span>dxV</span></div><div class='xr-var-dims'>(YG, XG)</div><div class='xr-var-dtype'>&gt;f4</div><div class='xr-var-preview xr-preview'>dask.array&lt;chunksize=(300, 250), meta=np.ndarray&gt;</div><input id='attrs-37383f31-3cdd-4973-93be-91b08221818d' class='xr-var-attrs-in' type='checkbox' ><label for='attrs-37383f31-3cdd-4973-93be-91b08221818d' title='Show/Hide attributes'><svg class='icon xr-icon-file-text2'><use xlink:href='#icon-file-text2'></use></svg></label><input id='data-da8869c6-8743-4c0c-b8a6-5b6295858a15' class='xr-var-data-in' type='checkbox'><label for='data-da8869c6-8743-4c0c-b8a6-5b6295858a15' title='Show/Hide data repr'><svg class='icon xr-icon-database'><use xlink:href='#icon-database'></use></svg></label><div class='xr-var-attrs'><dl class='xr-attrs'><dt><span>standard_name :</span></dt><dd>cell_x_size_at_f_location</dd><dt><span>long_name :</span></dt><dd>cell x size</dd><dt><span>units :</span></dt><dd>m</dd><dt><span>coordinate :</span></dt><dd>YG XG</dd></dl></div><div class='xr-var-data'><table>\n",
>>>>>>> updated example notebooks based on MITgcm
=======
       "</table></div></li><li class='xr-var-item'><div class='xr-var-name'><span>dxV</span></div><div class='xr-var-dims'>(YG, XG)</div><div class='xr-var-dtype'>&gt;f4</div><div class='xr-var-preview xr-preview'>dask.array&lt;chunksize=(300, 250), meta=np.ndarray&gt;</div><input id='attrs-37383f31-3cdd-4973-93be-91b08221818d' class='xr-var-attrs-in' type='checkbox' ><label for='attrs-37383f31-3cdd-4973-93be-91b08221818d' title='Show/Hide attributes'><svg class='icon xr-icon-file-text2'><use xlink:href='#icon-file-text2'></use></svg></label><input id='data-da8869c6-8743-4c0c-b8a6-5b6295858a15' class='xr-var-data-in' type='checkbox'><label for='data-da8869c6-8743-4c0c-b8a6-5b6295858a15' title='Show/Hide data repr'><svg class='icon xr-icon-database'><use xlink:href='#icon-database'></use></svg></label><div class='xr-var-attrs'><dl class='xr-attrs'><dt><span>standard_name :</span></dt><dd>cell_x_size_at_f_location</dd><dt><span>long_name :</span></dt><dd>cell x size</dd><dt><span>units :</span></dt><dd>m</dd><dt><span>coordinate :</span></dt><dd>YG XG</dd></dl></div><div class='xr-var-data'><table>\n",
>>>>>>> 496ab6eb83f621cecad47543189988d9da46342e
       "<tr>\n",
       "<td>\n",
       "<table>\n",
       "  <thead>\n",
       "    <tr><td> </td><th> Array </th><th> Chunk </th></tr>\n",
       "  </thead>\n",
       "  <tbody>\n",
       "    <tr><th> Bytes </th><td> 292.97 kiB </td> <td> 292.97 kiB </td></tr>\n",
       "    <tr><th> Shape </th><td> (300, 250) </td> <td> (300, 250) </td></tr>\n",
       "    <tr><th> Count </th><td> 3 Tasks </td><td> 1 Chunks </td></tr>\n",
       "    <tr><th> Type </th><td> >f4 </td><td> numpy.ndarray </td></tr>\n",
       "  </tbody>\n",
       "</table>\n",
       "</td>\n",
       "<td>\n",
       "<svg width=\"150\" height=\"170\" style=\"stroke:rgb(0,0,0);stroke-width:1\" >\n",
       "\n",
       "  <!-- Horizontal lines -->\n",
       "  <line x1=\"0\" y1=\"0\" x2=\"100\" y2=\"0\" style=\"stroke-width:2\" />\n",
       "  <line x1=\"0\" y1=\"120\" x2=\"100\" y2=\"120\" style=\"stroke-width:2\" />\n",
       "\n",
       "  <!-- Vertical lines -->\n",
       "  <line x1=\"0\" y1=\"0\" x2=\"0\" y2=\"120\" style=\"stroke-width:2\" />\n",
       "  <line x1=\"100\" y1=\"0\" x2=\"100\" y2=\"120\" style=\"stroke-width:2\" />\n",
       "\n",
       "  <!-- Colored Rectangle -->\n",
       "  <polygon points=\"0.0,0.0 100.0,0.0 100.0,120.0 0.0,120.0\" style=\"fill:#ECB172A0;stroke-width:0\"/>\n",
       "\n",
       "  <!-- Text -->\n",
       "  <text x=\"50.000000\" y=\"140.000000\" font-size=\"1.0rem\" font-weight=\"100\" text-anchor=\"middle\" >250</text>\n",
       "  <text x=\"120.000000\" y=\"60.000000\" font-size=\"1.0rem\" font-weight=\"100\" text-anchor=\"middle\" transform=\"rotate(-90,120.000000,60.000000)\">300</text>\n",
       "</svg>\n",
       "</td>\n",
       "</tr>\n",
<<<<<<< HEAD
<<<<<<< HEAD
       "</table></div></li><li class='xr-var-item'><div class='xr-var-name'><span>dyU</span></div><div class='xr-var-dims'>(YG, XG)</div><div class='xr-var-dtype'>&gt;f4</div><div class='xr-var-preview xr-preview'>dask.array&lt;chunksize=(300, 250), meta=np.ndarray&gt;</div><input id='attrs-2aea3bdf-ef34-40a6-8c13-4088f3bd82b5' class='xr-var-attrs-in' type='checkbox' ><label for='attrs-2aea3bdf-ef34-40a6-8c13-4088f3bd82b5' title='Show/Hide attributes'><svg class='icon xr-icon-file-text2'><use xlink:href='#icon-file-text2'></use></svg></label><input id='data-8a09e973-fb0c-463c-b6e4-eec1a93dbc83' class='xr-var-data-in' type='checkbox'><label for='data-8a09e973-fb0c-463c-b6e4-eec1a93dbc83' title='Show/Hide data repr'><svg class='icon xr-icon-database'><use xlink:href='#icon-database'></use></svg></label><div class='xr-var-attrs'><dl class='xr-attrs'><dt><span>standard_name :</span></dt><dd>cell_y_size_at_f_location</dd><dt><span>long_name :</span></dt><dd>cell y size</dd><dt><span>units :</span></dt><dd>m</dd><dt><span>coordinate :</span></dt><dd>YG XG</dd></dl></div><div class='xr-var-data'><table>\n",
=======
       "</table></div></li><li class='xr-var-item'><div class='xr-var-name'><span>dyU</span></div><div class='xr-var-dims'>(YG, XG)</div><div class='xr-var-dtype'>&gt;f4</div><div class='xr-var-preview xr-preview'>dask.array&lt;chunksize=(300, 250), meta=np.ndarray&gt;</div><input id='attrs-2ef1dfda-82a0-4ddb-ad50-399edfbaab35' class='xr-var-attrs-in' type='checkbox' ><label for='attrs-2ef1dfda-82a0-4ddb-ad50-399edfbaab35' title='Show/Hide attributes'><svg class='icon xr-icon-file-text2'><use xlink:href='#icon-file-text2'></use></svg></label><input id='data-cd6ac53a-0dae-496e-b449-69a1cbed9e94' class='xr-var-data-in' type='checkbox'><label for='data-cd6ac53a-0dae-496e-b449-69a1cbed9e94' title='Show/Hide data repr'><svg class='icon xr-icon-database'><use xlink:href='#icon-database'></use></svg></label><div class='xr-var-attrs'><dl class='xr-attrs'><dt><span>standard_name :</span></dt><dd>cell_y_size_at_f_location</dd><dt><span>long_name :</span></dt><dd>cell y size</dd><dt><span>units :</span></dt><dd>m</dd><dt><span>coordinate :</span></dt><dd>YG XG</dd></dl></div><div class='xr-var-data'><table>\n",
>>>>>>> updated example notebooks based on MITgcm
=======
       "</table></div></li><li class='xr-var-item'><div class='xr-var-name'><span>dyU</span></div><div class='xr-var-dims'>(YG, XG)</div><div class='xr-var-dtype'>&gt;f4</div><div class='xr-var-preview xr-preview'>dask.array&lt;chunksize=(300, 250), meta=np.ndarray&gt;</div><input id='attrs-2ef1dfda-82a0-4ddb-ad50-399edfbaab35' class='xr-var-attrs-in' type='checkbox' ><label for='attrs-2ef1dfda-82a0-4ddb-ad50-399edfbaab35' title='Show/Hide attributes'><svg class='icon xr-icon-file-text2'><use xlink:href='#icon-file-text2'></use></svg></label><input id='data-cd6ac53a-0dae-496e-b449-69a1cbed9e94' class='xr-var-data-in' type='checkbox'><label for='data-cd6ac53a-0dae-496e-b449-69a1cbed9e94' title='Show/Hide data repr'><svg class='icon xr-icon-database'><use xlink:href='#icon-database'></use></svg></label><div class='xr-var-attrs'><dl class='xr-attrs'><dt><span>standard_name :</span></dt><dd>cell_y_size_at_f_location</dd><dt><span>long_name :</span></dt><dd>cell y size</dd><dt><span>units :</span></dt><dd>m</dd><dt><span>coordinate :</span></dt><dd>YG XG</dd></dl></div><div class='xr-var-data'><table>\n",
>>>>>>> 496ab6eb83f621cecad47543189988d9da46342e
       "<tr>\n",
       "<td>\n",
       "<table>\n",
       "  <thead>\n",
       "    <tr><td> </td><th> Array </th><th> Chunk </th></tr>\n",
       "  </thead>\n",
       "  <tbody>\n",
       "    <tr><th> Bytes </th><td> 292.97 kiB </td> <td> 292.97 kiB </td></tr>\n",
       "    <tr><th> Shape </th><td> (300, 250) </td> <td> (300, 250) </td></tr>\n",
       "    <tr><th> Count </th><td> 3 Tasks </td><td> 1 Chunks </td></tr>\n",
       "    <tr><th> Type </th><td> >f4 </td><td> numpy.ndarray </td></tr>\n",
       "  </tbody>\n",
       "</table>\n",
       "</td>\n",
       "<td>\n",
       "<svg width=\"150\" height=\"170\" style=\"stroke:rgb(0,0,0);stroke-width:1\" >\n",
       "\n",
       "  <!-- Horizontal lines -->\n",
       "  <line x1=\"0\" y1=\"0\" x2=\"100\" y2=\"0\" style=\"stroke-width:2\" />\n",
       "  <line x1=\"0\" y1=\"120\" x2=\"100\" y2=\"120\" style=\"stroke-width:2\" />\n",
       "\n",
       "  <!-- Vertical lines -->\n",
       "  <line x1=\"0\" y1=\"0\" x2=\"0\" y2=\"120\" style=\"stroke-width:2\" />\n",
       "  <line x1=\"100\" y1=\"0\" x2=\"100\" y2=\"120\" style=\"stroke-width:2\" />\n",
       "\n",
       "  <!-- Colored Rectangle -->\n",
       "  <polygon points=\"0.0,0.0 100.0,0.0 100.0,120.0 0.0,120.0\" style=\"fill:#ECB172A0;stroke-width:0\"/>\n",
       "\n",
       "  <!-- Text -->\n",
       "  <text x=\"50.000000\" y=\"140.000000\" font-size=\"1.0rem\" font-weight=\"100\" text-anchor=\"middle\" >250</text>\n",
       "  <text x=\"120.000000\" y=\"60.000000\" font-size=\"1.0rem\" font-weight=\"100\" text-anchor=\"middle\" transform=\"rotate(-90,120.000000,60.000000)\">300</text>\n",
       "</svg>\n",
       "</td>\n",
       "</tr>\n",
<<<<<<< HEAD
<<<<<<< HEAD
       "</table></div></li><li class='xr-var-item'><div class='xr-var-name'><span>iter</span></div><div class='xr-var-dims'>(time)</div><div class='xr-var-dtype'>int64</div><div class='xr-var-preview xr-preview'>dask.array&lt;chunksize=(1,), meta=np.ndarray&gt;</div><input id='attrs-cc29f637-7e4b-4d3e-b344-926c2b3f58cd' class='xr-var-attrs-in' type='checkbox' ><label for='attrs-cc29f637-7e4b-4d3e-b344-926c2b3f58cd' title='Show/Hide attributes'><svg class='icon xr-icon-file-text2'><use xlink:href='#icon-file-text2'></use></svg></label><input id='data-28db184e-ac6e-4b70-a9fd-2495a3a68051' class='xr-var-data-in' type='checkbox'><label for='data-28db184e-ac6e-4b70-a9fd-2495a3a68051' title='Show/Hide data repr'><svg class='icon xr-icon-database'><use xlink:href='#icon-database'></use></svg></label><div class='xr-var-attrs'><dl class='xr-attrs'><dt><span>standard_name :</span></dt><dd>timestep</dd><dt><span>long_name :</span></dt><dd>model timestep number</dd></dl></div><div class='xr-var-data'><table>\n",
=======
       "</table></div></li><li class='xr-var-item'><div class='xr-var-name'><span>iter</span></div><div class='xr-var-dims'>(time)</div><div class='xr-var-dtype'>int64</div><div class='xr-var-preview xr-preview'>dask.array&lt;chunksize=(1,), meta=np.ndarray&gt;</div><input id='attrs-4ffc205b-3b62-4fef-a64d-ee8f21241dd7' class='xr-var-attrs-in' type='checkbox' ><label for='attrs-4ffc205b-3b62-4fef-a64d-ee8f21241dd7' title='Show/Hide attributes'><svg class='icon xr-icon-file-text2'><use xlink:href='#icon-file-text2'></use></svg></label><input id='data-0a8d645d-45be-405d-a049-bcb6a96d243b' class='xr-var-data-in' type='checkbox'><label for='data-0a8d645d-45be-405d-a049-bcb6a96d243b' title='Show/Hide data repr'><svg class='icon xr-icon-database'><use xlink:href='#icon-database'></use></svg></label><div class='xr-var-attrs'><dl class='xr-attrs'><dt><span>standard_name :</span></dt><dd>timestep</dd><dt><span>long_name :</span></dt><dd>model timestep number</dd></dl></div><div class='xr-var-data'><table>\n",
>>>>>>> updated example notebooks based on MITgcm
=======
       "</table></div></li><li class='xr-var-item'><div class='xr-var-name'><span>iter</span></div><div class='xr-var-dims'>(time)</div><div class='xr-var-dtype'>int64</div><div class='xr-var-preview xr-preview'>dask.array&lt;chunksize=(1,), meta=np.ndarray&gt;</div><input id='attrs-4ffc205b-3b62-4fef-a64d-ee8f21241dd7' class='xr-var-attrs-in' type='checkbox' ><label for='attrs-4ffc205b-3b62-4fef-a64d-ee8f21241dd7' title='Show/Hide attributes'><svg class='icon xr-icon-file-text2'><use xlink:href='#icon-file-text2'></use></svg></label><input id='data-0a8d645d-45be-405d-a049-bcb6a96d243b' class='xr-var-data-in' type='checkbox'><label for='data-0a8d645d-45be-405d-a049-bcb6a96d243b' title='Show/Hide data repr'><svg class='icon xr-icon-database'><use xlink:href='#icon-database'></use></svg></label><div class='xr-var-attrs'><dl class='xr-attrs'><dt><span>standard_name :</span></dt><dd>timestep</dd><dt><span>long_name :</span></dt><dd>model timestep number</dd></dl></div><div class='xr-var-data'><table>\n",
>>>>>>> 496ab6eb83f621cecad47543189988d9da46342e
       "<tr>\n",
       "<td>\n",
       "<table>\n",
       "  <thead>\n",
       "    <tr><td> </td><th> Array </th><th> Chunk </th></tr>\n",
       "  </thead>\n",
       "  <tbody>\n",
       "    <tr><th> Bytes </th><td> 576 B </td> <td> 8 B </td></tr>\n",
       "    <tr><th> Shape </th><td> (72,) </td> <td> (1,) </td></tr>\n",
       "    <tr><th> Count </th><td> 144 Tasks </td><td> 72 Chunks </td></tr>\n",
       "    <tr><th> Type </th><td> int64 </td><td> numpy.ndarray </td></tr>\n",
       "  </tbody>\n",
       "</table>\n",
       "</td>\n",
       "<td>\n",
       "<svg width=\"170\" height=\"77\" style=\"stroke:rgb(0,0,0);stroke-width:1\" >\n",
       "\n",
       "  <!-- Horizontal lines -->\n",
       "  <line x1=\"0\" y1=\"0\" x2=\"120\" y2=\"0\" style=\"stroke-width:2\" />\n",
       "  <line x1=\"0\" y1=\"27\" x2=\"120\" y2=\"27\" style=\"stroke-width:2\" />\n",
       "\n",
       "  <!-- Vertical lines -->\n",
       "  <line x1=\"0\" y1=\"0\" x2=\"0\" y2=\"27\" style=\"stroke-width:2\" />\n",
       "  <line x1=\"5\" y1=\"0\" x2=\"5\" y2=\"27\" />\n",
       "  <line x1=\"11\" y1=\"0\" x2=\"11\" y2=\"27\" />\n",
       "  <line x1=\"18\" y1=\"0\" x2=\"18\" y2=\"27\" />\n",
       "  <line x1=\"25\" y1=\"0\" x2=\"25\" y2=\"27\" />\n",
       "  <line x1=\"30\" y1=\"0\" x2=\"30\" y2=\"27\" />\n",
       "  <line x1=\"36\" y1=\"0\" x2=\"36\" y2=\"27\" />\n",
       "  <line x1=\"43\" y1=\"0\" x2=\"43\" y2=\"27\" />\n",
       "  <line x1=\"50\" y1=\"0\" x2=\"50\" y2=\"27\" />\n",
       "  <line x1=\"56\" y1=\"0\" x2=\"56\" y2=\"27\" />\n",
       "  <line x1=\"61\" y1=\"0\" x2=\"61\" y2=\"27\" />\n",
       "  <line x1=\"68\" y1=\"0\" x2=\"68\" y2=\"27\" />\n",
       "  <line x1=\"75\" y1=\"0\" x2=\"75\" y2=\"27\" />\n",
       "  <line x1=\"81\" y1=\"0\" x2=\"81\" y2=\"27\" />\n",
       "  <line x1=\"88\" y1=\"0\" x2=\"88\" y2=\"27\" />\n",
       "  <line x1=\"93\" y1=\"0\" x2=\"93\" y2=\"27\" />\n",
       "  <line x1=\"100\" y1=\"0\" x2=\"100\" y2=\"27\" />\n",
       "  <line x1=\"106\" y1=\"0\" x2=\"106\" y2=\"27\" />\n",
       "  <line x1=\"113\" y1=\"0\" x2=\"113\" y2=\"27\" />\n",
       "  <line x1=\"120\" y1=\"0\" x2=\"120\" y2=\"27\" style=\"stroke-width:2\" />\n",
       "\n",
       "  <!-- Colored Rectangle -->\n",
       "  <polygon points=\"0.0,0.0 120.0,0.0 120.0,27.054035963169408 0.0,27.054035963169408\" style=\"fill:#8B4903A0;stroke-width:0\"/>\n",
       "\n",
       "  <!-- Text -->\n",
       "  <text x=\"60.000000\" y=\"47.054036\" font-size=\"1.0rem\" font-weight=\"100\" text-anchor=\"middle\" >72</text>\n",
       "  <text x=\"140.000000\" y=\"13.527018\" font-size=\"1.0rem\" font-weight=\"100\" text-anchor=\"middle\" transform=\"rotate(0,140.000000,13.527018)\">1</text>\n",
       "</svg>\n",
       "</td>\n",
       "</tr>\n",
<<<<<<< HEAD
<<<<<<< HEAD
       "</table></div></li><li class='xr-var-item'><div class='xr-var-name'><span class='xr-has-index'>time</span></div><div class='xr-var-dims'>(time)</div><div class='xr-var-dtype'>object</div><div class='xr-var-preview xr-preview'>0060-12-28 12:00:00 ... 0061-12-...</div><input id='attrs-9997ebba-e4cb-43fa-ac95-9fd5914985cb' class='xr-var-attrs-in' type='checkbox' ><label for='attrs-9997ebba-e4cb-43fa-ac95-9fd5914985cb' title='Show/Hide attributes'><svg class='icon xr-icon-file-text2'><use xlink:href='#icon-file-text2'></use></svg></label><input id='data-f342f8cd-2269-4b68-993f-df21f0e524ef' class='xr-var-data-in' type='checkbox'><label for='data-f342f8cd-2269-4b68-993f-df21f0e524ef' title='Show/Hide data repr'><svg class='icon xr-icon-database'><use xlink:href='#icon-database'></use></svg></label><div class='xr-var-attrs'><dl class='xr-attrs'><dt><span>standard_name :</span></dt><dd>time</dd><dt><span>long_name :</span></dt><dd>Time</dd><dt><span>axis :</span></dt><dd>T</dd></dl></div><div class='xr-var-data'><pre>array([cftime.Datetime360Day(60, 12, 28, 12, 0, 0, 0, has_year_zero=False),\n",
       "       cftime.Datetime360Day(61, 1, 3, 12, 0, 0, 0, has_year_zero=False),\n",
       "       cftime.Datetime360Day(61, 1, 8, 12, 0, 0, 0, has_year_zero=False),\n",
       "       cftime.Datetime360Day(61, 1, 13, 12, 0, 0, 0, has_year_zero=False),\n",
       "       cftime.Datetime360Day(61, 1, 18, 12, 0, 0, 0, has_year_zero=False),\n",
       "       cftime.Datetime360Day(61, 1, 23, 12, 0, 0, 0, has_year_zero=False),\n",
       "       cftime.Datetime360Day(61, 1, 28, 12, 0, 0, 0, has_year_zero=False),\n",
       "       cftime.Datetime360Day(61, 2, 3, 12, 0, 0, 0, has_year_zero=False),\n",
       "       cftime.Datetime360Day(61, 2, 8, 12, 0, 0, 0, has_year_zero=False),\n",
       "       cftime.Datetime360Day(61, 2, 13, 12, 0, 0, 0, has_year_zero=False),\n",
       "       cftime.Datetime360Day(61, 2, 18, 12, 0, 0, 0, has_year_zero=False),\n",
       "       cftime.Datetime360Day(61, 2, 23, 12, 0, 0, 0, has_year_zero=False),\n",
       "       cftime.Datetime360Day(61, 2, 28, 12, 0, 0, 0, has_year_zero=False),\n",
       "       cftime.Datetime360Day(61, 3, 3, 12, 0, 0, 0, has_year_zero=False),\n",
       "       cftime.Datetime360Day(61, 3, 8, 12, 0, 0, 0, has_year_zero=False),\n",
       "       cftime.Datetime360Day(61, 3, 13, 12, 0, 0, 0, has_year_zero=False),\n",
       "       cftime.Datetime360Day(61, 3, 18, 12, 0, 0, 0, has_year_zero=False),\n",
       "       cftime.Datetime360Day(61, 3, 23, 12, 0, 0, 0, has_year_zero=False),\n",
       "       cftime.Datetime360Day(61, 3, 28, 12, 0, 0, 0, has_year_zero=False),\n",
       "       cftime.Datetime360Day(61, 4, 3, 12, 0, 0, 0, has_year_zero=False),\n",
       "       cftime.Datetime360Day(61, 4, 8, 12, 0, 0, 0, has_year_zero=False),\n",
       "       cftime.Datetime360Day(61, 4, 13, 12, 0, 0, 0, has_year_zero=False),\n",
       "       cftime.Datetime360Day(61, 4, 18, 12, 0, 0, 0, has_year_zero=False),\n",
       "       cftime.Datetime360Day(61, 4, 23, 12, 0, 0, 0, has_year_zero=False),\n",
       "       cftime.Datetime360Day(61, 4, 28, 12, 0, 0, 0, has_year_zero=False),\n",
       "       cftime.Datetime360Day(61, 5, 3, 12, 0, 0, 0, has_year_zero=False),\n",
       "       cftime.Datetime360Day(61, 5, 8, 12, 0, 0, 0, has_year_zero=False),\n",
       "       cftime.Datetime360Day(61, 5, 13, 12, 0, 0, 0, has_year_zero=False),\n",
       "       cftime.Datetime360Day(61, 5, 18, 12, 0, 0, 0, has_year_zero=False),\n",
       "       cftime.Datetime360Day(61, 5, 23, 12, 0, 0, 0, has_year_zero=False),\n",
       "       cftime.Datetime360Day(61, 5, 28, 12, 0, 0, 0, has_year_zero=False),\n",
       "       cftime.Datetime360Day(61, 6, 3, 12, 0, 0, 0, has_year_zero=False),\n",
       "       cftime.Datetime360Day(61, 6, 8, 12, 0, 0, 0, has_year_zero=False),\n",
       "       cftime.Datetime360Day(61, 6, 13, 12, 0, 0, 0, has_year_zero=False),\n",
       "       cftime.Datetime360Day(61, 6, 18, 12, 0, 0, 0, has_year_zero=False),\n",
       "       cftime.Datetime360Day(61, 6, 23, 12, 0, 0, 0, has_year_zero=False),\n",
       "       cftime.Datetime360Day(61, 6, 28, 12, 0, 0, 0, has_year_zero=False),\n",
       "       cftime.Datetime360Day(61, 7, 3, 12, 0, 0, 0, has_year_zero=False),\n",
       "       cftime.Datetime360Day(61, 7, 8, 12, 0, 0, 0, has_year_zero=False),\n",
       "       cftime.Datetime360Day(61, 7, 13, 12, 0, 0, 0, has_year_zero=False),\n",
       "       cftime.Datetime360Day(61, 7, 18, 12, 0, 0, 0, has_year_zero=False),\n",
       "       cftime.Datetime360Day(61, 7, 23, 12, 0, 0, 0, has_year_zero=False),\n",
       "       cftime.Datetime360Day(61, 7, 28, 12, 0, 0, 0, has_year_zero=False),\n",
       "       cftime.Datetime360Day(61, 8, 3, 12, 0, 0, 0, has_year_zero=False),\n",
       "       cftime.Datetime360Day(61, 8, 8, 12, 0, 0, 0, has_year_zero=False),\n",
       "       cftime.Datetime360Day(61, 8, 13, 12, 0, 0, 0, has_year_zero=False),\n",
       "       cftime.Datetime360Day(61, 8, 18, 12, 0, 0, 0, has_year_zero=False),\n",
       "       cftime.Datetime360Day(61, 8, 23, 12, 0, 0, 0, has_year_zero=False),\n",
       "       cftime.Datetime360Day(61, 8, 28, 12, 0, 0, 0, has_year_zero=False),\n",
       "       cftime.Datetime360Day(61, 9, 3, 12, 0, 0, 0, has_year_zero=False),\n",
       "       cftime.Datetime360Day(61, 9, 8, 12, 0, 0, 0, has_year_zero=False),\n",
       "       cftime.Datetime360Day(61, 9, 13, 12, 0, 0, 0, has_year_zero=False),\n",
       "       cftime.Datetime360Day(61, 9, 18, 12, 0, 0, 0, has_year_zero=False),\n",
       "       cftime.Datetime360Day(61, 9, 23, 12, 0, 0, 0, has_year_zero=False),\n",
       "       cftime.Datetime360Day(61, 9, 28, 12, 0, 0, 0, has_year_zero=False),\n",
       "       cftime.Datetime360Day(61, 10, 3, 12, 0, 0, 0, has_year_zero=False),\n",
       "       cftime.Datetime360Day(61, 10, 8, 12, 0, 0, 0, has_year_zero=False),\n",
       "       cftime.Datetime360Day(61, 10, 13, 12, 0, 0, 0, has_year_zero=False),\n",
       "       cftime.Datetime360Day(61, 10, 18, 12, 0, 0, 0, has_year_zero=False),\n",
       "       cftime.Datetime360Day(61, 10, 23, 12, 0, 0, 0, has_year_zero=False),\n",
       "       cftime.Datetime360Day(61, 10, 28, 12, 0, 0, 0, has_year_zero=False),\n",
       "       cftime.Datetime360Day(61, 11, 3, 12, 0, 0, 0, has_year_zero=False),\n",
       "       cftime.Datetime360Day(61, 11, 8, 12, 0, 0, 0, has_year_zero=False),\n",
       "       cftime.Datetime360Day(61, 11, 13, 12, 0, 0, 0, has_year_zero=False),\n",
       "       cftime.Datetime360Day(61, 11, 18, 12, 0, 0, 0, has_year_zero=False),\n",
       "       cftime.Datetime360Day(61, 11, 23, 12, 0, 0, 0, has_year_zero=False),\n",
       "       cftime.Datetime360Day(61, 11, 28, 12, 0, 0, 0, has_year_zero=False),\n",
       "       cftime.Datetime360Day(61, 12, 3, 12, 0, 0, 0, has_year_zero=False),\n",
       "       cftime.Datetime360Day(61, 12, 8, 12, 0, 0, 0, has_year_zero=False),\n",
       "       cftime.Datetime360Day(61, 12, 13, 12, 0, 0, 0, has_year_zero=False),\n",
       "       cftime.Datetime360Day(61, 12, 18, 12, 0, 0, 0, has_year_zero=False),\n",
       "       cftime.Datetime360Day(61, 12, 23, 12, 0, 0, 0, has_year_zero=False)],\n",
       "      dtype=object)</pre></div></li><li class='xr-var-item'><div class='xr-var-name'><span>drW</span></div><div class='xr-var-dims'>(Z, YC, XG)</div><div class='xr-var-dtype'>float32</div><div class='xr-var-preview xr-preview'>dask.array&lt;chunksize=(55, 300, 250), meta=np.ndarray&gt;</div><input id='attrs-7a35095a-284e-4be6-9aca-4a4dc9844bb7' class='xr-var-attrs-in' type='checkbox' disabled><label for='attrs-7a35095a-284e-4be6-9aca-4a4dc9844bb7' title='Show/Hide attributes'><svg class='icon xr-icon-file-text2'><use xlink:href='#icon-file-text2'></use></svg></label><input id='data-02498280-0ca2-4423-987d-c8f9242b1527' class='xr-var-data-in' type='checkbox'><label for='data-02498280-0ca2-4423-987d-c8f9242b1527' title='Show/Hide data repr'><svg class='icon xr-icon-database'><use xlink:href='#icon-database'></use></svg></label><div class='xr-var-attrs'><dl class='xr-attrs'></dl></div><div class='xr-var-data'><table>\n",
=======
=======
>>>>>>> 496ab6eb83f621cecad47543189988d9da46342e
       "</table></div></li><li class='xr-var-item'><div class='xr-var-name'><span class='xr-has-index'>time</span></div><div class='xr-var-dims'>(time)</div><div class='xr-var-dtype'>object</div><div class='xr-var-preview xr-preview'>0060-12-30 00:00:00 ... 0061-12-...</div><input id='attrs-3172ad11-7c1e-445c-b1b1-7d5b62b65f07' class='xr-var-attrs-in' type='checkbox' disabled><label for='attrs-3172ad11-7c1e-445c-b1b1-7d5b62b65f07' title='Show/Hide attributes'><svg class='icon xr-icon-file-text2'><use xlink:href='#icon-file-text2'></use></svg></label><input id='data-dee401d7-3392-4d03-8207-628612f64276' class='xr-var-data-in' type='checkbox'><label for='data-dee401d7-3392-4d03-8207-628612f64276' title='Show/Hide data repr'><svg class='icon xr-icon-database'><use xlink:href='#icon-database'></use></svg></label><div class='xr-var-attrs'><dl class='xr-attrs'></dl></div><div class='xr-var-data'><pre>array([cftime.Datetime360Day(60, 12, 30, 0, 0, 0, 0, has_year_zero=False),\n",
       "       cftime.Datetime360Day(61, 1, 5, 0, 0, 0, 0, has_year_zero=False),\n",
       "       cftime.Datetime360Day(61, 1, 10, 0, 0, 0, 0, has_year_zero=False),\n",
       "       cftime.Datetime360Day(61, 1, 15, 0, 0, 0, 0, has_year_zero=False),\n",
       "       cftime.Datetime360Day(61, 1, 20, 0, 0, 0, 0, has_year_zero=False),\n",
       "       cftime.Datetime360Day(61, 1, 25, 0, 0, 0, 0, has_year_zero=False),\n",
       "       cftime.Datetime360Day(61, 1, 30, 0, 0, 0, 0, has_year_zero=False),\n",
       "       cftime.Datetime360Day(61, 2, 5, 0, 0, 0, 0, has_year_zero=False),\n",
       "       cftime.Datetime360Day(61, 2, 10, 0, 0, 0, 0, has_year_zero=False),\n",
       "       cftime.Datetime360Day(61, 2, 15, 0, 0, 0, 0, has_year_zero=False),\n",
       "       cftime.Datetime360Day(61, 2, 20, 0, 0, 0, 0, has_year_zero=False),\n",
       "       cftime.Datetime360Day(61, 2, 25, 0, 0, 0, 0, has_year_zero=False),\n",
       "       cftime.Datetime360Day(61, 2, 30, 0, 0, 0, 0, has_year_zero=False),\n",
       "       cftime.Datetime360Day(61, 3, 5, 0, 0, 0, 0, has_year_zero=False),\n",
       "       cftime.Datetime360Day(61, 3, 10, 0, 0, 0, 0, has_year_zero=False),\n",
       "       cftime.Datetime360Day(61, 3, 15, 0, 0, 0, 0, has_year_zero=False),\n",
       "       cftime.Datetime360Day(61, 3, 20, 0, 0, 0, 0, has_year_zero=False),\n",
       "       cftime.Datetime360Day(61, 3, 25, 0, 0, 0, 0, has_year_zero=False),\n",
       "       cftime.Datetime360Day(61, 3, 30, 0, 0, 0, 0, has_year_zero=False),\n",
       "       cftime.Datetime360Day(61, 4, 5, 0, 0, 0, 0, has_year_zero=False),\n",
       "       cftime.Datetime360Day(61, 4, 10, 0, 0, 0, 0, has_year_zero=False),\n",
       "       cftime.Datetime360Day(61, 4, 15, 0, 0, 0, 0, has_year_zero=False),\n",
       "       cftime.Datetime360Day(61, 4, 20, 0, 0, 0, 0, has_year_zero=False),\n",
       "       cftime.Datetime360Day(61, 4, 25, 0, 0, 0, 0, has_year_zero=False),\n",
       "       cftime.Datetime360Day(61, 4, 30, 0, 0, 0, 0, has_year_zero=False),\n",
       "       cftime.Datetime360Day(61, 5, 5, 0, 0, 0, 0, has_year_zero=False),\n",
       "       cftime.Datetime360Day(61, 5, 10, 0, 0, 0, 0, has_year_zero=False),\n",
       "       cftime.Datetime360Day(61, 5, 15, 0, 0, 0, 0, has_year_zero=False),\n",
       "       cftime.Datetime360Day(61, 5, 20, 0, 0, 0, 0, has_year_zero=False),\n",
       "       cftime.Datetime360Day(61, 5, 25, 0, 0, 0, 0, has_year_zero=False),\n",
       "       cftime.Datetime360Day(61, 5, 30, 0, 0, 0, 0, has_year_zero=False),\n",
       "       cftime.Datetime360Day(61, 6, 5, 0, 0, 0, 0, has_year_zero=False),\n",
       "       cftime.Datetime360Day(61, 6, 10, 0, 0, 0, 0, has_year_zero=False),\n",
       "       cftime.Datetime360Day(61, 6, 15, 0, 0, 0, 0, has_year_zero=False),\n",
       "       cftime.Datetime360Day(61, 6, 20, 0, 0, 0, 0, has_year_zero=False),\n",
       "       cftime.Datetime360Day(61, 6, 25, 0, 0, 0, 0, has_year_zero=False),\n",
       "       cftime.Datetime360Day(61, 6, 30, 0, 0, 0, 0, has_year_zero=False),\n",
       "       cftime.Datetime360Day(61, 7, 5, 0, 0, 0, 0, has_year_zero=False),\n",
       "       cftime.Datetime360Day(61, 7, 10, 0, 0, 0, 0, has_year_zero=False),\n",
       "       cftime.Datetime360Day(61, 7, 15, 0, 0, 0, 0, has_year_zero=False),\n",
       "       cftime.Datetime360Day(61, 7, 20, 0, 0, 0, 0, has_year_zero=False),\n",
       "       cftime.Datetime360Day(61, 7, 25, 0, 0, 0, 0, has_year_zero=False),\n",
       "       cftime.Datetime360Day(61, 7, 30, 0, 0, 0, 0, has_year_zero=False),\n",
       "       cftime.Datetime360Day(61, 8, 5, 0, 0, 0, 0, has_year_zero=False),\n",
       "       cftime.Datetime360Day(61, 8, 10, 0, 0, 0, 0, has_year_zero=False),\n",
       "       cftime.Datetime360Day(61, 8, 15, 0, 0, 0, 0, has_year_zero=False),\n",
       "       cftime.Datetime360Day(61, 8, 20, 0, 0, 0, 0, has_year_zero=False),\n",
       "       cftime.Datetime360Day(61, 8, 25, 0, 0, 0, 0, has_year_zero=False),\n",
       "       cftime.Datetime360Day(61, 8, 30, 0, 0, 0, 0, has_year_zero=False),\n",
       "       cftime.Datetime360Day(61, 9, 5, 0, 0, 0, 0, has_year_zero=False),\n",
       "       cftime.Datetime360Day(61, 9, 10, 0, 0, 0, 0, has_year_zero=False),\n",
       "       cftime.Datetime360Day(61, 9, 15, 0, 0, 0, 0, has_year_zero=False),\n",
       "       cftime.Datetime360Day(61, 9, 20, 0, 0, 0, 0, has_year_zero=False),\n",
       "       cftime.Datetime360Day(61, 9, 25, 0, 0, 0, 0, has_year_zero=False),\n",
       "       cftime.Datetime360Day(61, 9, 30, 0, 0, 0, 0, has_year_zero=False),\n",
       "       cftime.Datetime360Day(61, 10, 5, 0, 0, 0, 0, has_year_zero=False),\n",
       "       cftime.Datetime360Day(61, 10, 10, 0, 0, 0, 0, has_year_zero=False),\n",
       "       cftime.Datetime360Day(61, 10, 15, 0, 0, 0, 0, has_year_zero=False),\n",
       "       cftime.Datetime360Day(61, 10, 20, 0, 0, 0, 0, has_year_zero=False),\n",
       "       cftime.Datetime360Day(61, 10, 25, 0, 0, 0, 0, has_year_zero=False),\n",
       "       cftime.Datetime360Day(61, 10, 30, 0, 0, 0, 0, has_year_zero=False),\n",
       "       cftime.Datetime360Day(61, 11, 5, 0, 0, 0, 0, has_year_zero=False),\n",
       "       cftime.Datetime360Day(61, 11, 10, 0, 0, 0, 0, has_year_zero=False),\n",
       "       cftime.Datetime360Day(61, 11, 15, 0, 0, 0, 0, has_year_zero=False),\n",
       "       cftime.Datetime360Day(61, 11, 20, 0, 0, 0, 0, has_year_zero=False),\n",
       "       cftime.Datetime360Day(61, 11, 25, 0, 0, 0, 0, has_year_zero=False),\n",
       "       cftime.Datetime360Day(61, 11, 30, 0, 0, 0, 0, has_year_zero=False),\n",
       "       cftime.Datetime360Day(61, 12, 5, 0, 0, 0, 0, has_year_zero=False),\n",
       "       cftime.Datetime360Day(61, 12, 10, 0, 0, 0, 0, has_year_zero=False),\n",
       "       cftime.Datetime360Day(61, 12, 15, 0, 0, 0, 0, has_year_zero=False),\n",
       "       cftime.Datetime360Day(61, 12, 20, 0, 0, 0, 0, has_year_zero=False),\n",
       "       cftime.Datetime360Day(61, 12, 25, 0, 0, 0, 0, has_year_zero=False)],\n",
       "      dtype=object)</pre></div></li><li class='xr-var-item'><div class='xr-var-name'><span>drW</span></div><div class='xr-var-dims'>(Z, YC, XG)</div><div class='xr-var-dtype'>float32</div><div class='xr-var-preview xr-preview'>dask.array&lt;chunksize=(55, 300, 250), meta=np.ndarray&gt;</div><input id='attrs-337c00b1-7f4e-4cc8-8661-f5af9f01c248' class='xr-var-attrs-in' type='checkbox' disabled><label for='attrs-337c00b1-7f4e-4cc8-8661-f5af9f01c248' title='Show/Hide attributes'><svg class='icon xr-icon-file-text2'><use xlink:href='#icon-file-text2'></use></svg></label><input id='data-8b6aa74a-c85e-49f7-9bb0-b44fb132cd20' class='xr-var-data-in' type='checkbox'><label for='data-8b6aa74a-c85e-49f7-9bb0-b44fb132cd20' title='Show/Hide data repr'><svg class='icon xr-icon-database'><use xlink:href='#icon-database'></use></svg></label><div class='xr-var-attrs'><dl class='xr-attrs'></dl></div><div class='xr-var-data'><table>\n",
<<<<<<< HEAD
>>>>>>> updated example notebooks based on MITgcm
=======
>>>>>>> 496ab6eb83f621cecad47543189988d9da46342e
       "<tr>\n",
       "<td>\n",
       "<table>\n",
       "  <thead>\n",
       "    <tr><td> </td><th> Array </th><th> Chunk </th></tr>\n",
       "  </thead>\n",
       "  <tbody>\n",
       "    <tr><th> Bytes </th><td> 15.74 MiB </td> <td> 15.74 MiB </td></tr>\n",
       "    <tr><th> Shape </th><td> (55, 300, 250) </td> <td> (55, 300, 250) </td></tr>\n",
       "    <tr><th> Count </th><td> 6 Tasks </td><td> 1 Chunks </td></tr>\n",
       "    <tr><th> Type </th><td> float32 </td><td> numpy.ndarray </td></tr>\n",
       "  </tbody>\n",
       "</table>\n",
       "</td>\n",
       "<td>\n",
       "<svg width=\"184\" height=\"194\" style=\"stroke:rgb(0,0,0);stroke-width:1\" >\n",
       "\n",
       "  <!-- Horizontal lines -->\n",
       "  <line x1=\"10\" y1=\"0\" x2=\"34\" y2=\"24\" style=\"stroke-width:2\" />\n",
       "  <line x1=\"10\" y1=\"120\" x2=\"34\" y2=\"144\" style=\"stroke-width:2\" />\n",
       "\n",
       "  <!-- Vertical lines -->\n",
       "  <line x1=\"10\" y1=\"0\" x2=\"10\" y2=\"120\" style=\"stroke-width:2\" />\n",
       "  <line x1=\"34\" y1=\"24\" x2=\"34\" y2=\"144\" style=\"stroke-width:2\" />\n",
       "\n",
       "  <!-- Colored Rectangle -->\n",
       "  <polygon points=\"10.0,0.0 34.49060156265884,24.490601562658835 34.49060156265884,144.49060156265884 10.0,120.0\" style=\"fill:#ECB172A0;stroke-width:0\"/>\n",
       "\n",
       "  <!-- Horizontal lines -->\n",
       "  <line x1=\"10\" y1=\"0\" x2=\"110\" y2=\"0\" style=\"stroke-width:2\" />\n",
       "  <line x1=\"34\" y1=\"24\" x2=\"134\" y2=\"24\" style=\"stroke-width:2\" />\n",
       "\n",
       "  <!-- Vertical lines -->\n",
       "  <line x1=\"10\" y1=\"0\" x2=\"34\" y2=\"24\" style=\"stroke-width:2\" />\n",
       "  <line x1=\"110\" y1=\"0\" x2=\"134\" y2=\"24\" style=\"stroke-width:2\" />\n",
       "\n",
       "  <!-- Colored Rectangle -->\n",
       "  <polygon points=\"10.0,0.0 110.0,0.0 134.49060156265884,24.490601562658835 34.49060156265884,24.490601562658835\" style=\"fill:#ECB172A0;stroke-width:0\"/>\n",
       "\n",
       "  <!-- Horizontal lines -->\n",
       "  <line x1=\"34\" y1=\"24\" x2=\"134\" y2=\"24\" style=\"stroke-width:2\" />\n",
       "  <line x1=\"34\" y1=\"144\" x2=\"134\" y2=\"144\" style=\"stroke-width:2\" />\n",
       "\n",
       "  <!-- Vertical lines -->\n",
       "  <line x1=\"34\" y1=\"24\" x2=\"34\" y2=\"144\" style=\"stroke-width:2\" />\n",
       "  <line x1=\"134\" y1=\"24\" x2=\"134\" y2=\"144\" style=\"stroke-width:2\" />\n",
       "\n",
       "  <!-- Colored Rectangle -->\n",
       "  <polygon points=\"34.49060156265884,24.490601562658835 134.49060156265884,24.490601562658835 134.49060156265884,144.49060156265884 34.49060156265884,144.49060156265884\" style=\"fill:#ECB172A0;stroke-width:0\"/>\n",
       "\n",
       "  <!-- Text -->\n",
       "  <text x=\"84.490602\" y=\"164.490602\" font-size=\"1.0rem\" font-weight=\"100\" text-anchor=\"middle\" >250</text>\n",
       "  <text x=\"154.490602\" y=\"84.490602\" font-size=\"1.0rem\" font-weight=\"100\" text-anchor=\"middle\" transform=\"rotate(-90,154.490602,84.490602)\">300</text>\n",
       "  <text x=\"12.245301\" y=\"152.245301\" font-size=\"1.0rem\" font-weight=\"100\" text-anchor=\"middle\" transform=\"rotate(45,12.245301,152.245301)\">55</text>\n",
       "</svg>\n",
       "</td>\n",
       "</tr>\n",
<<<<<<< HEAD
<<<<<<< HEAD
       "</table></div></li><li class='xr-var-item'><div class='xr-var-name'><span>drS</span></div><div class='xr-var-dims'>(Z, YG, XC)</div><div class='xr-var-dtype'>float32</div><div class='xr-var-preview xr-preview'>dask.array&lt;chunksize=(55, 300, 250), meta=np.ndarray&gt;</div><input id='attrs-bb905418-a280-438f-af2d-f7b02bf9f3dc' class='xr-var-attrs-in' type='checkbox' disabled><label for='attrs-bb905418-a280-438f-af2d-f7b02bf9f3dc' title='Show/Hide attributes'><svg class='icon xr-icon-file-text2'><use xlink:href='#icon-file-text2'></use></svg></label><input id='data-8b84d1cd-3dc0-49de-aee0-75c791935e11' class='xr-var-data-in' type='checkbox'><label for='data-8b84d1cd-3dc0-49de-aee0-75c791935e11' title='Show/Hide data repr'><svg class='icon xr-icon-database'><use xlink:href='#icon-database'></use></svg></label><div class='xr-var-attrs'><dl class='xr-attrs'></dl></div><div class='xr-var-data'><table>\n",
=======
       "</table></div></li><li class='xr-var-item'><div class='xr-var-name'><span>drS</span></div><div class='xr-var-dims'>(Z, YG, XC)</div><div class='xr-var-dtype'>float32</div><div class='xr-var-preview xr-preview'>dask.array&lt;chunksize=(55, 300, 250), meta=np.ndarray&gt;</div><input id='attrs-afe2aaba-4fc0-439b-9f1b-194e432938ac' class='xr-var-attrs-in' type='checkbox' disabled><label for='attrs-afe2aaba-4fc0-439b-9f1b-194e432938ac' title='Show/Hide attributes'><svg class='icon xr-icon-file-text2'><use xlink:href='#icon-file-text2'></use></svg></label><input id='data-51dee1e3-31ac-4f98-81b9-c1aedd08fb5e' class='xr-var-data-in' type='checkbox'><label for='data-51dee1e3-31ac-4f98-81b9-c1aedd08fb5e' title='Show/Hide data repr'><svg class='icon xr-icon-database'><use xlink:href='#icon-database'></use></svg></label><div class='xr-var-attrs'><dl class='xr-attrs'></dl></div><div class='xr-var-data'><table>\n",
>>>>>>> updated example notebooks based on MITgcm
=======
       "</table></div></li><li class='xr-var-item'><div class='xr-var-name'><span>drS</span></div><div class='xr-var-dims'>(Z, YG, XC)</div><div class='xr-var-dtype'>float32</div><div class='xr-var-preview xr-preview'>dask.array&lt;chunksize=(55, 300, 250), meta=np.ndarray&gt;</div><input id='attrs-afe2aaba-4fc0-439b-9f1b-194e432938ac' class='xr-var-attrs-in' type='checkbox' disabled><label for='attrs-afe2aaba-4fc0-439b-9f1b-194e432938ac' title='Show/Hide attributes'><svg class='icon xr-icon-file-text2'><use xlink:href='#icon-file-text2'></use></svg></label><input id='data-51dee1e3-31ac-4f98-81b9-c1aedd08fb5e' class='xr-var-data-in' type='checkbox'><label for='data-51dee1e3-31ac-4f98-81b9-c1aedd08fb5e' title='Show/Hide data repr'><svg class='icon xr-icon-database'><use xlink:href='#icon-database'></use></svg></label><div class='xr-var-attrs'><dl class='xr-attrs'></dl></div><div class='xr-var-data'><table>\n",
>>>>>>> 496ab6eb83f621cecad47543189988d9da46342e
       "<tr>\n",
       "<td>\n",
       "<table>\n",
       "  <thead>\n",
       "    <tr><td> </td><th> Array </th><th> Chunk </th></tr>\n",
       "  </thead>\n",
       "  <tbody>\n",
       "    <tr><th> Bytes </th><td> 15.74 MiB </td> <td> 15.74 MiB </td></tr>\n",
       "    <tr><th> Shape </th><td> (55, 300, 250) </td> <td> (55, 300, 250) </td></tr>\n",
       "    <tr><th> Count </th><td> 6 Tasks </td><td> 1 Chunks </td></tr>\n",
       "    <tr><th> Type </th><td> float32 </td><td> numpy.ndarray </td></tr>\n",
       "  </tbody>\n",
       "</table>\n",
       "</td>\n",
       "<td>\n",
       "<svg width=\"184\" height=\"194\" style=\"stroke:rgb(0,0,0);stroke-width:1\" >\n",
       "\n",
       "  <!-- Horizontal lines -->\n",
       "  <line x1=\"10\" y1=\"0\" x2=\"34\" y2=\"24\" style=\"stroke-width:2\" />\n",
       "  <line x1=\"10\" y1=\"120\" x2=\"34\" y2=\"144\" style=\"stroke-width:2\" />\n",
       "\n",
       "  <!-- Vertical lines -->\n",
       "  <line x1=\"10\" y1=\"0\" x2=\"10\" y2=\"120\" style=\"stroke-width:2\" />\n",
       "  <line x1=\"34\" y1=\"24\" x2=\"34\" y2=\"144\" style=\"stroke-width:2\" />\n",
       "\n",
       "  <!-- Colored Rectangle -->\n",
       "  <polygon points=\"10.0,0.0 34.49060156265884,24.490601562658835 34.49060156265884,144.49060156265884 10.0,120.0\" style=\"fill:#ECB172A0;stroke-width:0\"/>\n",
       "\n",
       "  <!-- Horizontal lines -->\n",
       "  <line x1=\"10\" y1=\"0\" x2=\"110\" y2=\"0\" style=\"stroke-width:2\" />\n",
       "  <line x1=\"34\" y1=\"24\" x2=\"134\" y2=\"24\" style=\"stroke-width:2\" />\n",
       "\n",
       "  <!-- Vertical lines -->\n",
       "  <line x1=\"10\" y1=\"0\" x2=\"34\" y2=\"24\" style=\"stroke-width:2\" />\n",
       "  <line x1=\"110\" y1=\"0\" x2=\"134\" y2=\"24\" style=\"stroke-width:2\" />\n",
       "\n",
       "  <!-- Colored Rectangle -->\n",
       "  <polygon points=\"10.0,0.0 110.0,0.0 134.49060156265884,24.490601562658835 34.49060156265884,24.490601562658835\" style=\"fill:#ECB172A0;stroke-width:0\"/>\n",
       "\n",
       "  <!-- Horizontal lines -->\n",
       "  <line x1=\"34\" y1=\"24\" x2=\"134\" y2=\"24\" style=\"stroke-width:2\" />\n",
       "  <line x1=\"34\" y1=\"144\" x2=\"134\" y2=\"144\" style=\"stroke-width:2\" />\n",
       "\n",
       "  <!-- Vertical lines -->\n",
       "  <line x1=\"34\" y1=\"24\" x2=\"34\" y2=\"144\" style=\"stroke-width:2\" />\n",
       "  <line x1=\"134\" y1=\"24\" x2=\"134\" y2=\"144\" style=\"stroke-width:2\" />\n",
       "\n",
       "  <!-- Colored Rectangle -->\n",
       "  <polygon points=\"34.49060156265884,24.490601562658835 134.49060156265884,24.490601562658835 134.49060156265884,144.49060156265884 34.49060156265884,144.49060156265884\" style=\"fill:#ECB172A0;stroke-width:0\"/>\n",
       "\n",
       "  <!-- Text -->\n",
       "  <text x=\"84.490602\" y=\"164.490602\" font-size=\"1.0rem\" font-weight=\"100\" text-anchor=\"middle\" >250</text>\n",
       "  <text x=\"154.490602\" y=\"84.490602\" font-size=\"1.0rem\" font-weight=\"100\" text-anchor=\"middle\" transform=\"rotate(-90,154.490602,84.490602)\">300</text>\n",
       "  <text x=\"12.245301\" y=\"152.245301\" font-size=\"1.0rem\" font-weight=\"100\" text-anchor=\"middle\" transform=\"rotate(45,12.245301,152.245301)\">55</text>\n",
       "</svg>\n",
       "</td>\n",
       "</tr>\n",
<<<<<<< HEAD
<<<<<<< HEAD
       "</table></div></li></ul></div></li><li class='xr-section-item'><input id='section-82bb648e-e2fe-4bfe-b2c7-be6e1d5bb2d1' class='xr-section-summary-in' type='checkbox'  checked><label for='section-82bb648e-e2fe-4bfe-b2c7-be6e1d5bb2d1' class='xr-section-summary' >Data variables: <span>(8)</span></label><div class='xr-section-inline-details'></div><div class='xr-section-details'><ul class='xr-var-list'><li class='xr-var-item'><div class='xr-var-name'><span>THETA</span></div><div class='xr-var-dims'>(time, Z, YC, XC)</div><div class='xr-var-dtype'>float32</div><div class='xr-var-preview xr-preview'>dask.array&lt;chunksize=(1, 55, 300, 250), meta=np.ndarray&gt;</div><input id='attrs-796cb1de-86cf-4ea7-b84e-42700f9a618c' class='xr-var-attrs-in' type='checkbox' ><label for='attrs-796cb1de-86cf-4ea7-b84e-42700f9a618c' title='Show/Hide attributes'><svg class='icon xr-icon-file-text2'><use xlink:href='#icon-file-text2'></use></svg></label><input id='data-82de78cb-6b56-4485-821f-73959f9a93ea' class='xr-var-data-in' type='checkbox'><label for='data-82de78cb-6b56-4485-821f-73959f9a93ea' title='Show/Hide data repr'><svg class='icon xr-icon-database'><use xlink:href='#icon-database'></use></svg></label><div class='xr-var-attrs'><dl class='xr-attrs'><dt><span>standard_name :</span></dt><dd>THETA</dd><dt><span>long_name :</span></dt><dd>Potential Temperature</dd><dt><span>units :</span></dt><dd>degC</dd></dl></div><div class='xr-var-data'><table>\n",
=======
       "</table></div></li></ul></div></li><li class='xr-section-item'><input id='section-7320476c-3399-4bca-a081-58b51f5ee4ab' class='xr-section-summary-in' type='checkbox'  checked><label for='section-7320476c-3399-4bca-a081-58b51f5ee4ab' class='xr-section-summary' >Data variables: <span>(8)</span></label><div class='xr-section-inline-details'></div><div class='xr-section-details'><ul class='xr-var-list'><li class='xr-var-item'><div class='xr-var-name'><span>THETA</span></div><div class='xr-var-dims'>(time, Z, YC, XC)</div><div class='xr-var-dtype'>float32</div><div class='xr-var-preview xr-preview'>dask.array&lt;chunksize=(1, 55, 300, 250), meta=np.ndarray&gt;</div><input id='attrs-44b88e4e-d828-43b7-ae22-dfaab88972c6' class='xr-var-attrs-in' type='checkbox' ><label for='attrs-44b88e4e-d828-43b7-ae22-dfaab88972c6' title='Show/Hide attributes'><svg class='icon xr-icon-file-text2'><use xlink:href='#icon-file-text2'></use></svg></label><input id='data-714f24df-f4ec-47ae-96f2-523f45080437' class='xr-var-data-in' type='checkbox'><label for='data-714f24df-f4ec-47ae-96f2-523f45080437' title='Show/Hide data repr'><svg class='icon xr-icon-database'><use xlink:href='#icon-database'></use></svg></label><div class='xr-var-attrs'><dl class='xr-attrs'><dt><span>standard_name :</span></dt><dd>THETA</dd><dt><span>long_name :</span></dt><dd>Potential Temperature</dd><dt><span>units :</span></dt><dd>degC</dd></dl></div><div class='xr-var-data'><table>\n",
>>>>>>> updated example notebooks based on MITgcm
=======
       "</table></div></li></ul></div></li><li class='xr-section-item'><input id='section-7320476c-3399-4bca-a081-58b51f5ee4ab' class='xr-section-summary-in' type='checkbox'  checked><label for='section-7320476c-3399-4bca-a081-58b51f5ee4ab' class='xr-section-summary' >Data variables: <span>(8)</span></label><div class='xr-section-inline-details'></div><div class='xr-section-details'><ul class='xr-var-list'><li class='xr-var-item'><div class='xr-var-name'><span>THETA</span></div><div class='xr-var-dims'>(time, Z, YC, XC)</div><div class='xr-var-dtype'>float32</div><div class='xr-var-preview xr-preview'>dask.array&lt;chunksize=(1, 55, 300, 250), meta=np.ndarray&gt;</div><input id='attrs-44b88e4e-d828-43b7-ae22-dfaab88972c6' class='xr-var-attrs-in' type='checkbox' ><label for='attrs-44b88e4e-d828-43b7-ae22-dfaab88972c6' title='Show/Hide attributes'><svg class='icon xr-icon-file-text2'><use xlink:href='#icon-file-text2'></use></svg></label><input id='data-714f24df-f4ec-47ae-96f2-523f45080437' class='xr-var-data-in' type='checkbox'><label for='data-714f24df-f4ec-47ae-96f2-523f45080437' title='Show/Hide data repr'><svg class='icon xr-icon-database'><use xlink:href='#icon-database'></use></svg></label><div class='xr-var-attrs'><dl class='xr-attrs'><dt><span>standard_name :</span></dt><dd>THETA</dd><dt><span>long_name :</span></dt><dd>Potential Temperature</dd><dt><span>units :</span></dt><dd>degC</dd></dl></div><div class='xr-var-data'><table>\n",
>>>>>>> 496ab6eb83f621cecad47543189988d9da46342e
       "<tr>\n",
       "<td>\n",
       "<table>\n",
       "  <thead>\n",
       "    <tr><td> </td><th> Array </th><th> Chunk </th></tr>\n",
       "  </thead>\n",
       "  <tbody>\n",
       "    <tr><th> Bytes </th><td> 1.11 GiB </td> <td> 15.74 MiB </td></tr>\n",
       "    <tr><th> Shape </th><td> (72, 55, 300, 250) </td> <td> (1, 55, 300, 250) </td></tr>\n",
       "    <tr><th> Count </th><td> 360 Tasks </td><td> 72 Chunks </td></tr>\n",
       "    <tr><th> Type </th><td> float32 </td><td> numpy.ndarray </td></tr>\n",
       "  </tbody>\n",
       "</table>\n",
       "</td>\n",
       "<td>\n",
       "<svg width=\"398\" height=\"194\" style=\"stroke:rgb(0,0,0);stroke-width:1\" >\n",
       "\n",
       "  <!-- Horizontal lines -->\n",
       "  <line x1=\"0\" y1=\"0\" x2=\"42\" y2=\"0\" style=\"stroke-width:2\" />\n",
       "  <line x1=\"0\" y1=\"25\" x2=\"42\" y2=\"25\" style=\"stroke-width:2\" />\n",
       "\n",
       "  <!-- Vertical lines -->\n",
       "  <line x1=\"0\" y1=\"0\" x2=\"0\" y2=\"25\" style=\"stroke-width:2\" />\n",
       "  <line x1=\"1\" y1=\"0\" x2=\"1\" y2=\"25\" />\n",
       "  <line x1=\"2\" y1=\"0\" x2=\"2\" y2=\"25\" />\n",
       "  <line x1=\"3\" y1=\"0\" x2=\"3\" y2=\"25\" />\n",
       "  <line x1=\"5\" y1=\"0\" x2=\"5\" y2=\"25\" />\n",
       "  <line x1=\"6\" y1=\"0\" x2=\"6\" y2=\"25\" />\n",
       "  <line x1=\"7\" y1=\"0\" x2=\"7\" y2=\"25\" />\n",
       "  <line x1=\"8\" y1=\"0\" x2=\"8\" y2=\"25\" />\n",
       "  <line x1=\"10\" y1=\"0\" x2=\"10\" y2=\"25\" />\n",
       "  <line x1=\"11\" y1=\"0\" x2=\"11\" y2=\"25\" />\n",
       "  <line x1=\"13\" y1=\"0\" x2=\"13\" y2=\"25\" />\n",
       "  <line x1=\"14\" y1=\"0\" x2=\"14\" y2=\"25\" />\n",
       "  <line x1=\"16\" y1=\"0\" x2=\"16\" y2=\"25\" />\n",
       "  <line x1=\"17\" y1=\"0\" x2=\"17\" y2=\"25\" />\n",
       "  <line x1=\"18\" y1=\"0\" x2=\"18\" y2=\"25\" />\n",
       "  <line x1=\"19\" y1=\"0\" x2=\"19\" y2=\"25\" />\n",
       "  <line x1=\"21\" y1=\"0\" x2=\"21\" y2=\"25\" />\n",
       "  <line x1=\"22\" y1=\"0\" x2=\"22\" y2=\"25\" />\n",
       "  <line x1=\"23\" y1=\"0\" x2=\"23\" y2=\"25\" />\n",
       "  <line x1=\"24\" y1=\"0\" x2=\"24\" y2=\"25\" />\n",
       "  <line x1=\"26\" y1=\"0\" x2=\"26\" y2=\"25\" />\n",
       "  <line x1=\"27\" y1=\"0\" x2=\"27\" y2=\"25\" />\n",
       "  <line x1=\"29\" y1=\"0\" x2=\"29\" y2=\"25\" />\n",
       "  <line x1=\"30\" y1=\"0\" x2=\"30\" y2=\"25\" />\n",
       "  <line x1=\"32\" y1=\"0\" x2=\"32\" y2=\"25\" />\n",
       "  <line x1=\"33\" y1=\"0\" x2=\"33\" y2=\"25\" />\n",
       "  <line x1=\"34\" y1=\"0\" x2=\"34\" y2=\"25\" />\n",
       "  <line x1=\"35\" y1=\"0\" x2=\"35\" y2=\"25\" />\n",
       "  <line x1=\"37\" y1=\"0\" x2=\"37\" y2=\"25\" />\n",
       "  <line x1=\"38\" y1=\"0\" x2=\"38\" y2=\"25\" />\n",
       "  <line x1=\"39\" y1=\"0\" x2=\"39\" y2=\"25\" />\n",
       "  <line x1=\"40\" y1=\"0\" x2=\"40\" y2=\"25\" />\n",
       "  <line x1=\"42\" y1=\"0\" x2=\"42\" y2=\"25\" style=\"stroke-width:2\" />\n",
       "\n",
       "  <!-- Colored Rectangle -->\n",
       "  <polygon points=\"0.0,0.0 42.74428809874332,0.0 42.74428809874332,25.412616514582485 0.0,25.412616514582485\" style=\"fill:#8B4903A0;stroke-width:0\"/>\n",
       "\n",
       "  <!-- Text -->\n",
       "  <text x=\"21.372144\" y=\"45.412617\" font-size=\"1.0rem\" font-weight=\"100\" text-anchor=\"middle\" >72</text>\n",
       "  <text x=\"62.744288\" y=\"12.706308\" font-size=\"1.0rem\" font-weight=\"100\" text-anchor=\"middle\" transform=\"rotate(0,62.744288,12.706308)\">1</text>\n",
       "\n",
       "\n",
       "  <!-- Horizontal lines -->\n",
       "  <line x1=\"112\" y1=\"0\" x2=\"136\" y2=\"24\" style=\"stroke-width:2\" />\n",
       "  <line x1=\"112\" y1=\"120\" x2=\"136\" y2=\"144\" style=\"stroke-width:2\" />\n",
       "\n",
       "  <!-- Vertical lines -->\n",
       "  <line x1=\"112\" y1=\"0\" x2=\"112\" y2=\"120\" style=\"stroke-width:2\" />\n",
       "  <line x1=\"136\" y1=\"24\" x2=\"136\" y2=\"144\" style=\"stroke-width:2\" />\n",
       "\n",
       "  <!-- Colored Rectangle -->\n",
       "  <polygon points=\"112.0,0.0 136.49060156265884,24.490601562658835 136.49060156265884,144.49060156265884 112.0,120.0\" style=\"fill:#ECB172A0;stroke-width:0\"/>\n",
       "\n",
       "  <!-- Horizontal lines -->\n",
       "  <line x1=\"112\" y1=\"0\" x2=\"212\" y2=\"0\" style=\"stroke-width:2\" />\n",
       "  <line x1=\"136\" y1=\"24\" x2=\"236\" y2=\"24\" style=\"stroke-width:2\" />\n",
       "\n",
       "  <!-- Vertical lines -->\n",
       "  <line x1=\"112\" y1=\"0\" x2=\"136\" y2=\"24\" style=\"stroke-width:2\" />\n",
       "  <line x1=\"212\" y1=\"0\" x2=\"236\" y2=\"24\" style=\"stroke-width:2\" />\n",
       "\n",
       "  <!-- Colored Rectangle -->\n",
       "  <polygon points=\"112.0,0.0 212.0,0.0 236.49060156265884,24.490601562658835 136.49060156265884,24.490601562658835\" style=\"fill:#ECB172A0;stroke-width:0\"/>\n",
       "\n",
       "  <!-- Horizontal lines -->\n",
       "  <line x1=\"136\" y1=\"24\" x2=\"236\" y2=\"24\" style=\"stroke-width:2\" />\n",
       "  <line x1=\"136\" y1=\"144\" x2=\"236\" y2=\"144\" style=\"stroke-width:2\" />\n",
       "\n",
       "  <!-- Vertical lines -->\n",
       "  <line x1=\"136\" y1=\"24\" x2=\"136\" y2=\"144\" style=\"stroke-width:2\" />\n",
       "  <line x1=\"236\" y1=\"24\" x2=\"236\" y2=\"144\" style=\"stroke-width:2\" />\n",
       "\n",
       "  <!-- Colored Rectangle -->\n",
       "  <polygon points=\"136.49060156265884,24.490601562658835 236.49060156265884,24.490601562658835 236.49060156265884,144.49060156265884 136.49060156265884,144.49060156265884\" style=\"fill:#ECB172A0;stroke-width:0\"/>\n",
       "\n",
       "  <!-- Text -->\n",
       "  <text x=\"186.490602\" y=\"164.490602\" font-size=\"1.0rem\" font-weight=\"100\" text-anchor=\"middle\" >250</text>\n",
       "  <text x=\"256.490602\" y=\"84.490602\" font-size=\"1.0rem\" font-weight=\"100\" text-anchor=\"middle\" transform=\"rotate(-90,256.490602,84.490602)\">300</text>\n",
       "  <text x=\"114.245301\" y=\"152.245301\" font-size=\"1.0rem\" font-weight=\"100\" text-anchor=\"middle\" transform=\"rotate(45,114.245301,152.245301)\">55</text>\n",
       "</svg>\n",
       "</td>\n",
       "</tr>\n",
<<<<<<< HEAD
<<<<<<< HEAD
       "</table></div></li><li class='xr-var-item'><div class='xr-var-name'><span>SALT</span></div><div class='xr-var-dims'>(time, Z, YC, XC)</div><div class='xr-var-dtype'>float32</div><div class='xr-var-preview xr-preview'>dask.array&lt;chunksize=(1, 55, 300, 250), meta=np.ndarray&gt;</div><input id='attrs-afd98463-ef73-491c-803e-5d707a630f00' class='xr-var-attrs-in' type='checkbox' ><label for='attrs-afd98463-ef73-491c-803e-5d707a630f00' title='Show/Hide attributes'><svg class='icon xr-icon-file-text2'><use xlink:href='#icon-file-text2'></use></svg></label><input id='data-5302f214-1f2c-4e2a-b126-0c45d90148e5' class='xr-var-data-in' type='checkbox'><label for='data-5302f214-1f2c-4e2a-b126-0c45d90148e5' title='Show/Hide data repr'><svg class='icon xr-icon-database'><use xlink:href='#icon-database'></use></svg></label><div class='xr-var-attrs'><dl class='xr-attrs'><dt><span>standard_name :</span></dt><dd>SALT</dd><dt><span>long_name :</span></dt><dd>Salinity</dd><dt><span>units :</span></dt><dd>g/kg</dd></dl></div><div class='xr-var-data'><table>\n",
=======
       "</table></div></li><li class='xr-var-item'><div class='xr-var-name'><span>SALT</span></div><div class='xr-var-dims'>(time, Z, YC, XC)</div><div class='xr-var-dtype'>float32</div><div class='xr-var-preview xr-preview'>dask.array&lt;chunksize=(1, 55, 300, 250), meta=np.ndarray&gt;</div><input id='attrs-f08a6500-d0e8-4dd7-bdb2-44609a67e82d' class='xr-var-attrs-in' type='checkbox' ><label for='attrs-f08a6500-d0e8-4dd7-bdb2-44609a67e82d' title='Show/Hide attributes'><svg class='icon xr-icon-file-text2'><use xlink:href='#icon-file-text2'></use></svg></label><input id='data-752b6e49-d06c-4644-bbbb-94ea55b32c50' class='xr-var-data-in' type='checkbox'><label for='data-752b6e49-d06c-4644-bbbb-94ea55b32c50' title='Show/Hide data repr'><svg class='icon xr-icon-database'><use xlink:href='#icon-database'></use></svg></label><div class='xr-var-attrs'><dl class='xr-attrs'><dt><span>standard_name :</span></dt><dd>SALT</dd><dt><span>long_name :</span></dt><dd>Salinity</dd><dt><span>units :</span></dt><dd>g/kg</dd></dl></div><div class='xr-var-data'><table>\n",
>>>>>>> updated example notebooks based on MITgcm
=======
       "</table></div></li><li class='xr-var-item'><div class='xr-var-name'><span>SALT</span></div><div class='xr-var-dims'>(time, Z, YC, XC)</div><div class='xr-var-dtype'>float32</div><div class='xr-var-preview xr-preview'>dask.array&lt;chunksize=(1, 55, 300, 250), meta=np.ndarray&gt;</div><input id='attrs-f08a6500-d0e8-4dd7-bdb2-44609a67e82d' class='xr-var-attrs-in' type='checkbox' ><label for='attrs-f08a6500-d0e8-4dd7-bdb2-44609a67e82d' title='Show/Hide attributes'><svg class='icon xr-icon-file-text2'><use xlink:href='#icon-file-text2'></use></svg></label><input id='data-752b6e49-d06c-4644-bbbb-94ea55b32c50' class='xr-var-data-in' type='checkbox'><label for='data-752b6e49-d06c-4644-bbbb-94ea55b32c50' title='Show/Hide data repr'><svg class='icon xr-icon-database'><use xlink:href='#icon-database'></use></svg></label><div class='xr-var-attrs'><dl class='xr-attrs'><dt><span>standard_name :</span></dt><dd>SALT</dd><dt><span>long_name :</span></dt><dd>Salinity</dd><dt><span>units :</span></dt><dd>g/kg</dd></dl></div><div class='xr-var-data'><table>\n",
>>>>>>> 496ab6eb83f621cecad47543189988d9da46342e
       "<tr>\n",
       "<td>\n",
       "<table>\n",
       "  <thead>\n",
       "    <tr><td> </td><th> Array </th><th> Chunk </th></tr>\n",
       "  </thead>\n",
       "  <tbody>\n",
       "    <tr><th> Bytes </th><td> 1.11 GiB </td> <td> 15.74 MiB </td></tr>\n",
       "    <tr><th> Shape </th><td> (72, 55, 300, 250) </td> <td> (1, 55, 300, 250) </td></tr>\n",
       "    <tr><th> Count </th><td> 360 Tasks </td><td> 72 Chunks </td></tr>\n",
       "    <tr><th> Type </th><td> float32 </td><td> numpy.ndarray </td></tr>\n",
       "  </tbody>\n",
       "</table>\n",
       "</td>\n",
       "<td>\n",
       "<svg width=\"398\" height=\"194\" style=\"stroke:rgb(0,0,0);stroke-width:1\" >\n",
       "\n",
       "  <!-- Horizontal lines -->\n",
       "  <line x1=\"0\" y1=\"0\" x2=\"42\" y2=\"0\" style=\"stroke-width:2\" />\n",
       "  <line x1=\"0\" y1=\"25\" x2=\"42\" y2=\"25\" style=\"stroke-width:2\" />\n",
       "\n",
       "  <!-- Vertical lines -->\n",
       "  <line x1=\"0\" y1=\"0\" x2=\"0\" y2=\"25\" style=\"stroke-width:2\" />\n",
       "  <line x1=\"1\" y1=\"0\" x2=\"1\" y2=\"25\" />\n",
       "  <line x1=\"2\" y1=\"0\" x2=\"2\" y2=\"25\" />\n",
       "  <line x1=\"3\" y1=\"0\" x2=\"3\" y2=\"25\" />\n",
       "  <line x1=\"5\" y1=\"0\" x2=\"5\" y2=\"25\" />\n",
       "  <line x1=\"6\" y1=\"0\" x2=\"6\" y2=\"25\" />\n",
       "  <line x1=\"7\" y1=\"0\" x2=\"7\" y2=\"25\" />\n",
       "  <line x1=\"8\" y1=\"0\" x2=\"8\" y2=\"25\" />\n",
       "  <line x1=\"10\" y1=\"0\" x2=\"10\" y2=\"25\" />\n",
       "  <line x1=\"11\" y1=\"0\" x2=\"11\" y2=\"25\" />\n",
       "  <line x1=\"13\" y1=\"0\" x2=\"13\" y2=\"25\" />\n",
       "  <line x1=\"14\" y1=\"0\" x2=\"14\" y2=\"25\" />\n",
       "  <line x1=\"16\" y1=\"0\" x2=\"16\" y2=\"25\" />\n",
       "  <line x1=\"17\" y1=\"0\" x2=\"17\" y2=\"25\" />\n",
       "  <line x1=\"18\" y1=\"0\" x2=\"18\" y2=\"25\" />\n",
       "  <line x1=\"19\" y1=\"0\" x2=\"19\" y2=\"25\" />\n",
       "  <line x1=\"21\" y1=\"0\" x2=\"21\" y2=\"25\" />\n",
       "  <line x1=\"22\" y1=\"0\" x2=\"22\" y2=\"25\" />\n",
       "  <line x1=\"23\" y1=\"0\" x2=\"23\" y2=\"25\" />\n",
       "  <line x1=\"24\" y1=\"0\" x2=\"24\" y2=\"25\" />\n",
       "  <line x1=\"26\" y1=\"0\" x2=\"26\" y2=\"25\" />\n",
       "  <line x1=\"27\" y1=\"0\" x2=\"27\" y2=\"25\" />\n",
       "  <line x1=\"29\" y1=\"0\" x2=\"29\" y2=\"25\" />\n",
       "  <line x1=\"30\" y1=\"0\" x2=\"30\" y2=\"25\" />\n",
       "  <line x1=\"32\" y1=\"0\" x2=\"32\" y2=\"25\" />\n",
       "  <line x1=\"33\" y1=\"0\" x2=\"33\" y2=\"25\" />\n",
       "  <line x1=\"34\" y1=\"0\" x2=\"34\" y2=\"25\" />\n",
       "  <line x1=\"35\" y1=\"0\" x2=\"35\" y2=\"25\" />\n",
       "  <line x1=\"37\" y1=\"0\" x2=\"37\" y2=\"25\" />\n",
       "  <line x1=\"38\" y1=\"0\" x2=\"38\" y2=\"25\" />\n",
       "  <line x1=\"39\" y1=\"0\" x2=\"39\" y2=\"25\" />\n",
       "  <line x1=\"40\" y1=\"0\" x2=\"40\" y2=\"25\" />\n",
       "  <line x1=\"42\" y1=\"0\" x2=\"42\" y2=\"25\" style=\"stroke-width:2\" />\n",
       "\n",
       "  <!-- Colored Rectangle -->\n",
       "  <polygon points=\"0.0,0.0 42.74428809874332,0.0 42.74428809874332,25.412616514582485 0.0,25.412616514582485\" style=\"fill:#8B4903A0;stroke-width:0\"/>\n",
       "\n",
       "  <!-- Text -->\n",
       "  <text x=\"21.372144\" y=\"45.412617\" font-size=\"1.0rem\" font-weight=\"100\" text-anchor=\"middle\" >72</text>\n",
       "  <text x=\"62.744288\" y=\"12.706308\" font-size=\"1.0rem\" font-weight=\"100\" text-anchor=\"middle\" transform=\"rotate(0,62.744288,12.706308)\">1</text>\n",
       "\n",
       "\n",
       "  <!-- Horizontal lines -->\n",
       "  <line x1=\"112\" y1=\"0\" x2=\"136\" y2=\"24\" style=\"stroke-width:2\" />\n",
       "  <line x1=\"112\" y1=\"120\" x2=\"136\" y2=\"144\" style=\"stroke-width:2\" />\n",
       "\n",
       "  <!-- Vertical lines -->\n",
       "  <line x1=\"112\" y1=\"0\" x2=\"112\" y2=\"120\" style=\"stroke-width:2\" />\n",
       "  <line x1=\"136\" y1=\"24\" x2=\"136\" y2=\"144\" style=\"stroke-width:2\" />\n",
       "\n",
       "  <!-- Colored Rectangle -->\n",
       "  <polygon points=\"112.0,0.0 136.49060156265884,24.490601562658835 136.49060156265884,144.49060156265884 112.0,120.0\" style=\"fill:#ECB172A0;stroke-width:0\"/>\n",
       "\n",
       "  <!-- Horizontal lines -->\n",
       "  <line x1=\"112\" y1=\"0\" x2=\"212\" y2=\"0\" style=\"stroke-width:2\" />\n",
       "  <line x1=\"136\" y1=\"24\" x2=\"236\" y2=\"24\" style=\"stroke-width:2\" />\n",
       "\n",
       "  <!-- Vertical lines -->\n",
       "  <line x1=\"112\" y1=\"0\" x2=\"136\" y2=\"24\" style=\"stroke-width:2\" />\n",
       "  <line x1=\"212\" y1=\"0\" x2=\"236\" y2=\"24\" style=\"stroke-width:2\" />\n",
       "\n",
       "  <!-- Colored Rectangle -->\n",
       "  <polygon points=\"112.0,0.0 212.0,0.0 236.49060156265884,24.490601562658835 136.49060156265884,24.490601562658835\" style=\"fill:#ECB172A0;stroke-width:0\"/>\n",
       "\n",
       "  <!-- Horizontal lines -->\n",
       "  <line x1=\"136\" y1=\"24\" x2=\"236\" y2=\"24\" style=\"stroke-width:2\" />\n",
       "  <line x1=\"136\" y1=\"144\" x2=\"236\" y2=\"144\" style=\"stroke-width:2\" />\n",
       "\n",
       "  <!-- Vertical lines -->\n",
       "  <line x1=\"136\" y1=\"24\" x2=\"136\" y2=\"144\" style=\"stroke-width:2\" />\n",
       "  <line x1=\"236\" y1=\"24\" x2=\"236\" y2=\"144\" style=\"stroke-width:2\" />\n",
       "\n",
       "  <!-- Colored Rectangle -->\n",
       "  <polygon points=\"136.49060156265884,24.490601562658835 236.49060156265884,24.490601562658835 236.49060156265884,144.49060156265884 136.49060156265884,144.49060156265884\" style=\"fill:#ECB172A0;stroke-width:0\"/>\n",
       "\n",
       "  <!-- Text -->\n",
       "  <text x=\"186.490602\" y=\"164.490602\" font-size=\"1.0rem\" font-weight=\"100\" text-anchor=\"middle\" >250</text>\n",
       "  <text x=\"256.490602\" y=\"84.490602\" font-size=\"1.0rem\" font-weight=\"100\" text-anchor=\"middle\" transform=\"rotate(-90,256.490602,84.490602)\">300</text>\n",
       "  <text x=\"114.245301\" y=\"152.245301\" font-size=\"1.0rem\" font-weight=\"100\" text-anchor=\"middle\" transform=\"rotate(45,114.245301,152.245301)\">55</text>\n",
       "</svg>\n",
       "</td>\n",
       "</tr>\n",
<<<<<<< HEAD
<<<<<<< HEAD
       "</table></div></li><li class='xr-var-item'><div class='xr-var-name'><span>RHOAnoma</span></div><div class='xr-var-dims'>(time, Z, YC, XC)</div><div class='xr-var-dtype'>float32</div><div class='xr-var-preview xr-preview'>dask.array&lt;chunksize=(1, 55, 300, 250), meta=np.ndarray&gt;</div><input id='attrs-93f45e6c-f27a-468a-8c55-ddeb6684d54c' class='xr-var-attrs-in' type='checkbox' ><label for='attrs-93f45e6c-f27a-468a-8c55-ddeb6684d54c' title='Show/Hide attributes'><svg class='icon xr-icon-file-text2'><use xlink:href='#icon-file-text2'></use></svg></label><input id='data-8d01bd37-d297-4ac9-ba76-29d6749f557d' class='xr-var-data-in' type='checkbox'><label for='data-8d01bd37-d297-4ac9-ba76-29d6749f557d' title='Show/Hide data repr'><svg class='icon xr-icon-database'><use xlink:href='#icon-database'></use></svg></label><div class='xr-var-attrs'><dl class='xr-attrs'><dt><span>standard_name :</span></dt><dd>RHOAnoma</dd><dt><span>long_name :</span></dt><dd>Density Anomaly (=Rho-rhoConst)</dd><dt><span>units :</span></dt><dd>kg/m^3</dd></dl></div><div class='xr-var-data'><table>\n",
=======
       "</table></div></li><li class='xr-var-item'><div class='xr-var-name'><span>RHOAnoma</span></div><div class='xr-var-dims'>(time, Z, YC, XC)</div><div class='xr-var-dtype'>float32</div><div class='xr-var-preview xr-preview'>dask.array&lt;chunksize=(1, 55, 300, 250), meta=np.ndarray&gt;</div><input id='attrs-9dc246c5-86d1-489c-bce3-ab307ec6281e' class='xr-var-attrs-in' type='checkbox' ><label for='attrs-9dc246c5-86d1-489c-bce3-ab307ec6281e' title='Show/Hide attributes'><svg class='icon xr-icon-file-text2'><use xlink:href='#icon-file-text2'></use></svg></label><input id='data-0b0fd99a-886e-4538-be21-2c3c47e4c8e8' class='xr-var-data-in' type='checkbox'><label for='data-0b0fd99a-886e-4538-be21-2c3c47e4c8e8' title='Show/Hide data repr'><svg class='icon xr-icon-database'><use xlink:href='#icon-database'></use></svg></label><div class='xr-var-attrs'><dl class='xr-attrs'><dt><span>standard_name :</span></dt><dd>RHOAnoma</dd><dt><span>long_name :</span></dt><dd>Density Anomaly (=Rho-rhoConst)</dd><dt><span>units :</span></dt><dd>kg/m^3</dd></dl></div><div class='xr-var-data'><table>\n",
>>>>>>> updated example notebooks based on MITgcm
=======
       "</table></div></li><li class='xr-var-item'><div class='xr-var-name'><span>RHOAnoma</span></div><div class='xr-var-dims'>(time, Z, YC, XC)</div><div class='xr-var-dtype'>float32</div><div class='xr-var-preview xr-preview'>dask.array&lt;chunksize=(1, 55, 300, 250), meta=np.ndarray&gt;</div><input id='attrs-9dc246c5-86d1-489c-bce3-ab307ec6281e' class='xr-var-attrs-in' type='checkbox' ><label for='attrs-9dc246c5-86d1-489c-bce3-ab307ec6281e' title='Show/Hide attributes'><svg class='icon xr-icon-file-text2'><use xlink:href='#icon-file-text2'></use></svg></label><input id='data-0b0fd99a-886e-4538-be21-2c3c47e4c8e8' class='xr-var-data-in' type='checkbox'><label for='data-0b0fd99a-886e-4538-be21-2c3c47e4c8e8' title='Show/Hide data repr'><svg class='icon xr-icon-database'><use xlink:href='#icon-database'></use></svg></label><div class='xr-var-attrs'><dl class='xr-attrs'><dt><span>standard_name :</span></dt><dd>RHOAnoma</dd><dt><span>long_name :</span></dt><dd>Density Anomaly (=Rho-rhoConst)</dd><dt><span>units :</span></dt><dd>kg/m^3</dd></dl></div><div class='xr-var-data'><table>\n",
>>>>>>> 496ab6eb83f621cecad47543189988d9da46342e
       "<tr>\n",
       "<td>\n",
       "<table>\n",
       "  <thead>\n",
       "    <tr><td> </td><th> Array </th><th> Chunk </th></tr>\n",
       "  </thead>\n",
       "  <tbody>\n",
       "    <tr><th> Bytes </th><td> 1.11 GiB </td> <td> 15.74 MiB </td></tr>\n",
       "    <tr><th> Shape </th><td> (72, 55, 300, 250) </td> <td> (1, 55, 300, 250) </td></tr>\n",
       "    <tr><th> Count </th><td> 360 Tasks </td><td> 72 Chunks </td></tr>\n",
       "    <tr><th> Type </th><td> float32 </td><td> numpy.ndarray </td></tr>\n",
       "  </tbody>\n",
       "</table>\n",
       "</td>\n",
       "<td>\n",
       "<svg width=\"398\" height=\"194\" style=\"stroke:rgb(0,0,0);stroke-width:1\" >\n",
       "\n",
       "  <!-- Horizontal lines -->\n",
       "  <line x1=\"0\" y1=\"0\" x2=\"42\" y2=\"0\" style=\"stroke-width:2\" />\n",
       "  <line x1=\"0\" y1=\"25\" x2=\"42\" y2=\"25\" style=\"stroke-width:2\" />\n",
       "\n",
       "  <!-- Vertical lines -->\n",
       "  <line x1=\"0\" y1=\"0\" x2=\"0\" y2=\"25\" style=\"stroke-width:2\" />\n",
       "  <line x1=\"1\" y1=\"0\" x2=\"1\" y2=\"25\" />\n",
       "  <line x1=\"2\" y1=\"0\" x2=\"2\" y2=\"25\" />\n",
       "  <line x1=\"3\" y1=\"0\" x2=\"3\" y2=\"25\" />\n",
       "  <line x1=\"5\" y1=\"0\" x2=\"5\" y2=\"25\" />\n",
       "  <line x1=\"6\" y1=\"0\" x2=\"6\" y2=\"25\" />\n",
       "  <line x1=\"7\" y1=\"0\" x2=\"7\" y2=\"25\" />\n",
       "  <line x1=\"8\" y1=\"0\" x2=\"8\" y2=\"25\" />\n",
       "  <line x1=\"10\" y1=\"0\" x2=\"10\" y2=\"25\" />\n",
       "  <line x1=\"11\" y1=\"0\" x2=\"11\" y2=\"25\" />\n",
       "  <line x1=\"13\" y1=\"0\" x2=\"13\" y2=\"25\" />\n",
       "  <line x1=\"14\" y1=\"0\" x2=\"14\" y2=\"25\" />\n",
       "  <line x1=\"16\" y1=\"0\" x2=\"16\" y2=\"25\" />\n",
       "  <line x1=\"17\" y1=\"0\" x2=\"17\" y2=\"25\" />\n",
       "  <line x1=\"18\" y1=\"0\" x2=\"18\" y2=\"25\" />\n",
       "  <line x1=\"19\" y1=\"0\" x2=\"19\" y2=\"25\" />\n",
       "  <line x1=\"21\" y1=\"0\" x2=\"21\" y2=\"25\" />\n",
       "  <line x1=\"22\" y1=\"0\" x2=\"22\" y2=\"25\" />\n",
       "  <line x1=\"23\" y1=\"0\" x2=\"23\" y2=\"25\" />\n",
       "  <line x1=\"24\" y1=\"0\" x2=\"24\" y2=\"25\" />\n",
       "  <line x1=\"26\" y1=\"0\" x2=\"26\" y2=\"25\" />\n",
       "  <line x1=\"27\" y1=\"0\" x2=\"27\" y2=\"25\" />\n",
       "  <line x1=\"29\" y1=\"0\" x2=\"29\" y2=\"25\" />\n",
       "  <line x1=\"30\" y1=\"0\" x2=\"30\" y2=\"25\" />\n",
       "  <line x1=\"32\" y1=\"0\" x2=\"32\" y2=\"25\" />\n",
       "  <line x1=\"33\" y1=\"0\" x2=\"33\" y2=\"25\" />\n",
       "  <line x1=\"34\" y1=\"0\" x2=\"34\" y2=\"25\" />\n",
       "  <line x1=\"35\" y1=\"0\" x2=\"35\" y2=\"25\" />\n",
       "  <line x1=\"37\" y1=\"0\" x2=\"37\" y2=\"25\" />\n",
       "  <line x1=\"38\" y1=\"0\" x2=\"38\" y2=\"25\" />\n",
       "  <line x1=\"39\" y1=\"0\" x2=\"39\" y2=\"25\" />\n",
       "  <line x1=\"40\" y1=\"0\" x2=\"40\" y2=\"25\" />\n",
       "  <line x1=\"42\" y1=\"0\" x2=\"42\" y2=\"25\" style=\"stroke-width:2\" />\n",
       "\n",
       "  <!-- Colored Rectangle -->\n",
       "  <polygon points=\"0.0,0.0 42.74428809874332,0.0 42.74428809874332,25.412616514582485 0.0,25.412616514582485\" style=\"fill:#8B4903A0;stroke-width:0\"/>\n",
       "\n",
       "  <!-- Text -->\n",
       "  <text x=\"21.372144\" y=\"45.412617\" font-size=\"1.0rem\" font-weight=\"100\" text-anchor=\"middle\" >72</text>\n",
       "  <text x=\"62.744288\" y=\"12.706308\" font-size=\"1.0rem\" font-weight=\"100\" text-anchor=\"middle\" transform=\"rotate(0,62.744288,12.706308)\">1</text>\n",
       "\n",
       "\n",
       "  <!-- Horizontal lines -->\n",
       "  <line x1=\"112\" y1=\"0\" x2=\"136\" y2=\"24\" style=\"stroke-width:2\" />\n",
       "  <line x1=\"112\" y1=\"120\" x2=\"136\" y2=\"144\" style=\"stroke-width:2\" />\n",
       "\n",
       "  <!-- Vertical lines -->\n",
       "  <line x1=\"112\" y1=\"0\" x2=\"112\" y2=\"120\" style=\"stroke-width:2\" />\n",
       "  <line x1=\"136\" y1=\"24\" x2=\"136\" y2=\"144\" style=\"stroke-width:2\" />\n",
       "\n",
       "  <!-- Colored Rectangle -->\n",
       "  <polygon points=\"112.0,0.0 136.49060156265884,24.490601562658835 136.49060156265884,144.49060156265884 112.0,120.0\" style=\"fill:#ECB172A0;stroke-width:0\"/>\n",
       "\n",
       "  <!-- Horizontal lines -->\n",
       "  <line x1=\"112\" y1=\"0\" x2=\"212\" y2=\"0\" style=\"stroke-width:2\" />\n",
       "  <line x1=\"136\" y1=\"24\" x2=\"236\" y2=\"24\" style=\"stroke-width:2\" />\n",
       "\n",
       "  <!-- Vertical lines -->\n",
       "  <line x1=\"112\" y1=\"0\" x2=\"136\" y2=\"24\" style=\"stroke-width:2\" />\n",
       "  <line x1=\"212\" y1=\"0\" x2=\"236\" y2=\"24\" style=\"stroke-width:2\" />\n",
       "\n",
       "  <!-- Colored Rectangle -->\n",
       "  <polygon points=\"112.0,0.0 212.0,0.0 236.49060156265884,24.490601562658835 136.49060156265884,24.490601562658835\" style=\"fill:#ECB172A0;stroke-width:0\"/>\n",
       "\n",
       "  <!-- Horizontal lines -->\n",
       "  <line x1=\"136\" y1=\"24\" x2=\"236\" y2=\"24\" style=\"stroke-width:2\" />\n",
       "  <line x1=\"136\" y1=\"144\" x2=\"236\" y2=\"144\" style=\"stroke-width:2\" />\n",
       "\n",
       "  <!-- Vertical lines -->\n",
       "  <line x1=\"136\" y1=\"24\" x2=\"136\" y2=\"144\" style=\"stroke-width:2\" />\n",
       "  <line x1=\"236\" y1=\"24\" x2=\"236\" y2=\"144\" style=\"stroke-width:2\" />\n",
       "\n",
       "  <!-- Colored Rectangle -->\n",
       "  <polygon points=\"136.49060156265884,24.490601562658835 236.49060156265884,24.490601562658835 236.49060156265884,144.49060156265884 136.49060156265884,144.49060156265884\" style=\"fill:#ECB172A0;stroke-width:0\"/>\n",
       "\n",
       "  <!-- Text -->\n",
       "  <text x=\"186.490602\" y=\"164.490602\" font-size=\"1.0rem\" font-weight=\"100\" text-anchor=\"middle\" >250</text>\n",
       "  <text x=\"256.490602\" y=\"84.490602\" font-size=\"1.0rem\" font-weight=\"100\" text-anchor=\"middle\" transform=\"rotate(-90,256.490602,84.490602)\">300</text>\n",
       "  <text x=\"114.245301\" y=\"152.245301\" font-size=\"1.0rem\" font-weight=\"100\" text-anchor=\"middle\" transform=\"rotate(45,114.245301,152.245301)\">55</text>\n",
       "</svg>\n",
       "</td>\n",
       "</tr>\n",
<<<<<<< HEAD
<<<<<<< HEAD
       "</table></div></li><li class='xr-var-item'><div class='xr-var-name'><span>VVEL</span></div><div class='xr-var-dims'>(time, Z, YG, XC)</div><div class='xr-var-dtype'>float32</div><div class='xr-var-preview xr-preview'>dask.array&lt;chunksize=(1, 55, 300, 250), meta=np.ndarray&gt;</div><input id='attrs-033fe697-224b-4e58-aa5d-24db2181b778' class='xr-var-attrs-in' type='checkbox' ><label for='attrs-033fe697-224b-4e58-aa5d-24db2181b778' title='Show/Hide attributes'><svg class='icon xr-icon-file-text2'><use xlink:href='#icon-file-text2'></use></svg></label><input id='data-b50951ce-3c26-4ef6-b569-3b2bf89df0da' class='xr-var-data-in' type='checkbox'><label for='data-b50951ce-3c26-4ef6-b569-3b2bf89df0da' title='Show/Hide data repr'><svg class='icon xr-icon-database'><use xlink:href='#icon-database'></use></svg></label><div class='xr-var-attrs'><dl class='xr-attrs'><dt><span>standard_name :</span></dt><dd>VVEL</dd><dt><span>long_name :</span></dt><dd>Meridional Component of Velocity (m/s)</dd><dt><span>units :</span></dt><dd>m/s</dd><dt><span>mate :</span></dt><dd>UVEL</dd></dl></div><div class='xr-var-data'><table>\n",
=======
       "</table></div></li><li class='xr-var-item'><div class='xr-var-name'><span>VVEL</span></div><div class='xr-var-dims'>(time, Z, YG, XC)</div><div class='xr-var-dtype'>float32</div><div class='xr-var-preview xr-preview'>dask.array&lt;chunksize=(1, 55, 300, 250), meta=np.ndarray&gt;</div><input id='attrs-30f47f6e-5041-41cc-b6c9-537d019a9b4a' class='xr-var-attrs-in' type='checkbox' ><label for='attrs-30f47f6e-5041-41cc-b6c9-537d019a9b4a' title='Show/Hide attributes'><svg class='icon xr-icon-file-text2'><use xlink:href='#icon-file-text2'></use></svg></label><input id='data-03f6ee1e-bb17-4558-8fab-a8c797c1cbc7' class='xr-var-data-in' type='checkbox'><label for='data-03f6ee1e-bb17-4558-8fab-a8c797c1cbc7' title='Show/Hide data repr'><svg class='icon xr-icon-database'><use xlink:href='#icon-database'></use></svg></label><div class='xr-var-attrs'><dl class='xr-attrs'><dt><span>standard_name :</span></dt><dd>VVEL</dd><dt><span>long_name :</span></dt><dd>Meridional Component of Velocity (m/s)</dd><dt><span>units :</span></dt><dd>m/s</dd><dt><span>mate :</span></dt><dd>UVEL</dd></dl></div><div class='xr-var-data'><table>\n",
>>>>>>> updated example notebooks based on MITgcm
=======
       "</table></div></li><li class='xr-var-item'><div class='xr-var-name'><span>VVEL</span></div><div class='xr-var-dims'>(time, Z, YG, XC)</div><div class='xr-var-dtype'>float32</div><div class='xr-var-preview xr-preview'>dask.array&lt;chunksize=(1, 55, 300, 250), meta=np.ndarray&gt;</div><input id='attrs-30f47f6e-5041-41cc-b6c9-537d019a9b4a' class='xr-var-attrs-in' type='checkbox' ><label for='attrs-30f47f6e-5041-41cc-b6c9-537d019a9b4a' title='Show/Hide attributes'><svg class='icon xr-icon-file-text2'><use xlink:href='#icon-file-text2'></use></svg></label><input id='data-03f6ee1e-bb17-4558-8fab-a8c797c1cbc7' class='xr-var-data-in' type='checkbox'><label for='data-03f6ee1e-bb17-4558-8fab-a8c797c1cbc7' title='Show/Hide data repr'><svg class='icon xr-icon-database'><use xlink:href='#icon-database'></use></svg></label><div class='xr-var-attrs'><dl class='xr-attrs'><dt><span>standard_name :</span></dt><dd>VVEL</dd><dt><span>long_name :</span></dt><dd>Meridional Component of Velocity (m/s)</dd><dt><span>units :</span></dt><dd>m/s</dd><dt><span>mate :</span></dt><dd>UVEL</dd></dl></div><div class='xr-var-data'><table>\n",
>>>>>>> 496ab6eb83f621cecad47543189988d9da46342e
       "<tr>\n",
       "<td>\n",
       "<table>\n",
       "  <thead>\n",
       "    <tr><td> </td><th> Array </th><th> Chunk </th></tr>\n",
       "  </thead>\n",
       "  <tbody>\n",
       "    <tr><th> Bytes </th><td> 1.11 GiB </td> <td> 15.74 MiB </td></tr>\n",
       "    <tr><th> Shape </th><td> (72, 55, 300, 250) </td> <td> (1, 55, 300, 250) </td></tr>\n",
       "    <tr><th> Count </th><td> 360 Tasks </td><td> 72 Chunks </td></tr>\n",
       "    <tr><th> Type </th><td> float32 </td><td> numpy.ndarray </td></tr>\n",
       "  </tbody>\n",
       "</table>\n",
       "</td>\n",
       "<td>\n",
       "<svg width=\"398\" height=\"194\" style=\"stroke:rgb(0,0,0);stroke-width:1\" >\n",
       "\n",
       "  <!-- Horizontal lines -->\n",
       "  <line x1=\"0\" y1=\"0\" x2=\"42\" y2=\"0\" style=\"stroke-width:2\" />\n",
       "  <line x1=\"0\" y1=\"25\" x2=\"42\" y2=\"25\" style=\"stroke-width:2\" />\n",
       "\n",
       "  <!-- Vertical lines -->\n",
       "  <line x1=\"0\" y1=\"0\" x2=\"0\" y2=\"25\" style=\"stroke-width:2\" />\n",
       "  <line x1=\"1\" y1=\"0\" x2=\"1\" y2=\"25\" />\n",
       "  <line x1=\"2\" y1=\"0\" x2=\"2\" y2=\"25\" />\n",
       "  <line x1=\"3\" y1=\"0\" x2=\"3\" y2=\"25\" />\n",
       "  <line x1=\"5\" y1=\"0\" x2=\"5\" y2=\"25\" />\n",
       "  <line x1=\"6\" y1=\"0\" x2=\"6\" y2=\"25\" />\n",
       "  <line x1=\"7\" y1=\"0\" x2=\"7\" y2=\"25\" />\n",
       "  <line x1=\"8\" y1=\"0\" x2=\"8\" y2=\"25\" />\n",
       "  <line x1=\"10\" y1=\"0\" x2=\"10\" y2=\"25\" />\n",
       "  <line x1=\"11\" y1=\"0\" x2=\"11\" y2=\"25\" />\n",
       "  <line x1=\"13\" y1=\"0\" x2=\"13\" y2=\"25\" />\n",
       "  <line x1=\"14\" y1=\"0\" x2=\"14\" y2=\"25\" />\n",
       "  <line x1=\"16\" y1=\"0\" x2=\"16\" y2=\"25\" />\n",
       "  <line x1=\"17\" y1=\"0\" x2=\"17\" y2=\"25\" />\n",
       "  <line x1=\"18\" y1=\"0\" x2=\"18\" y2=\"25\" />\n",
       "  <line x1=\"19\" y1=\"0\" x2=\"19\" y2=\"25\" />\n",
       "  <line x1=\"21\" y1=\"0\" x2=\"21\" y2=\"25\" />\n",
       "  <line x1=\"22\" y1=\"0\" x2=\"22\" y2=\"25\" />\n",
       "  <line x1=\"23\" y1=\"0\" x2=\"23\" y2=\"25\" />\n",
       "  <line x1=\"24\" y1=\"0\" x2=\"24\" y2=\"25\" />\n",
       "  <line x1=\"26\" y1=\"0\" x2=\"26\" y2=\"25\" />\n",
       "  <line x1=\"27\" y1=\"0\" x2=\"27\" y2=\"25\" />\n",
       "  <line x1=\"29\" y1=\"0\" x2=\"29\" y2=\"25\" />\n",
       "  <line x1=\"30\" y1=\"0\" x2=\"30\" y2=\"25\" />\n",
       "  <line x1=\"32\" y1=\"0\" x2=\"32\" y2=\"25\" />\n",
       "  <line x1=\"33\" y1=\"0\" x2=\"33\" y2=\"25\" />\n",
       "  <line x1=\"34\" y1=\"0\" x2=\"34\" y2=\"25\" />\n",
       "  <line x1=\"35\" y1=\"0\" x2=\"35\" y2=\"25\" />\n",
       "  <line x1=\"37\" y1=\"0\" x2=\"37\" y2=\"25\" />\n",
       "  <line x1=\"38\" y1=\"0\" x2=\"38\" y2=\"25\" />\n",
       "  <line x1=\"39\" y1=\"0\" x2=\"39\" y2=\"25\" />\n",
       "  <line x1=\"40\" y1=\"0\" x2=\"40\" y2=\"25\" />\n",
       "  <line x1=\"42\" y1=\"0\" x2=\"42\" y2=\"25\" style=\"stroke-width:2\" />\n",
       "\n",
       "  <!-- Colored Rectangle -->\n",
       "  <polygon points=\"0.0,0.0 42.74428809874332,0.0 42.74428809874332,25.412616514582485 0.0,25.412616514582485\" style=\"fill:#8B4903A0;stroke-width:0\"/>\n",
       "\n",
       "  <!-- Text -->\n",
       "  <text x=\"21.372144\" y=\"45.412617\" font-size=\"1.0rem\" font-weight=\"100\" text-anchor=\"middle\" >72</text>\n",
       "  <text x=\"62.744288\" y=\"12.706308\" font-size=\"1.0rem\" font-weight=\"100\" text-anchor=\"middle\" transform=\"rotate(0,62.744288,12.706308)\">1</text>\n",
       "\n",
       "\n",
       "  <!-- Horizontal lines -->\n",
       "  <line x1=\"112\" y1=\"0\" x2=\"136\" y2=\"24\" style=\"stroke-width:2\" />\n",
       "  <line x1=\"112\" y1=\"120\" x2=\"136\" y2=\"144\" style=\"stroke-width:2\" />\n",
       "\n",
       "  <!-- Vertical lines -->\n",
       "  <line x1=\"112\" y1=\"0\" x2=\"112\" y2=\"120\" style=\"stroke-width:2\" />\n",
       "  <line x1=\"136\" y1=\"24\" x2=\"136\" y2=\"144\" style=\"stroke-width:2\" />\n",
       "\n",
       "  <!-- Colored Rectangle -->\n",
       "  <polygon points=\"112.0,0.0 136.49060156265884,24.490601562658835 136.49060156265884,144.49060156265884 112.0,120.0\" style=\"fill:#ECB172A0;stroke-width:0\"/>\n",
       "\n",
       "  <!-- Horizontal lines -->\n",
       "  <line x1=\"112\" y1=\"0\" x2=\"212\" y2=\"0\" style=\"stroke-width:2\" />\n",
       "  <line x1=\"136\" y1=\"24\" x2=\"236\" y2=\"24\" style=\"stroke-width:2\" />\n",
       "\n",
       "  <!-- Vertical lines -->\n",
       "  <line x1=\"112\" y1=\"0\" x2=\"136\" y2=\"24\" style=\"stroke-width:2\" />\n",
       "  <line x1=\"212\" y1=\"0\" x2=\"236\" y2=\"24\" style=\"stroke-width:2\" />\n",
       "\n",
       "  <!-- Colored Rectangle -->\n",
       "  <polygon points=\"112.0,0.0 212.0,0.0 236.49060156265884,24.490601562658835 136.49060156265884,24.490601562658835\" style=\"fill:#ECB172A0;stroke-width:0\"/>\n",
       "\n",
       "  <!-- Horizontal lines -->\n",
       "  <line x1=\"136\" y1=\"24\" x2=\"236\" y2=\"24\" style=\"stroke-width:2\" />\n",
       "  <line x1=\"136\" y1=\"144\" x2=\"236\" y2=\"144\" style=\"stroke-width:2\" />\n",
       "\n",
       "  <!-- Vertical lines -->\n",
       "  <line x1=\"136\" y1=\"24\" x2=\"136\" y2=\"144\" style=\"stroke-width:2\" />\n",
       "  <line x1=\"236\" y1=\"24\" x2=\"236\" y2=\"144\" style=\"stroke-width:2\" />\n",
       "\n",
       "  <!-- Colored Rectangle -->\n",
       "  <polygon points=\"136.49060156265884,24.490601562658835 236.49060156265884,24.490601562658835 236.49060156265884,144.49060156265884 136.49060156265884,144.49060156265884\" style=\"fill:#ECB172A0;stroke-width:0\"/>\n",
       "\n",
       "  <!-- Text -->\n",
       "  <text x=\"186.490602\" y=\"164.490602\" font-size=\"1.0rem\" font-weight=\"100\" text-anchor=\"middle\" >250</text>\n",
       "  <text x=\"256.490602\" y=\"84.490602\" font-size=\"1.0rem\" font-weight=\"100\" text-anchor=\"middle\" transform=\"rotate(-90,256.490602,84.490602)\">300</text>\n",
       "  <text x=\"114.245301\" y=\"152.245301\" font-size=\"1.0rem\" font-weight=\"100\" text-anchor=\"middle\" transform=\"rotate(45,114.245301,152.245301)\">55</text>\n",
       "</svg>\n",
       "</td>\n",
       "</tr>\n",
<<<<<<< HEAD
<<<<<<< HEAD
       "</table></div></li><li class='xr-var-item'><div class='xr-var-name'><span>UVEL</span></div><div class='xr-var-dims'>(time, Z, YC, XG)</div><div class='xr-var-dtype'>float32</div><div class='xr-var-preview xr-preview'>dask.array&lt;chunksize=(1, 55, 300, 250), meta=np.ndarray&gt;</div><input id='attrs-a93957ff-0068-4675-85dd-96db5054528a' class='xr-var-attrs-in' type='checkbox' ><label for='attrs-a93957ff-0068-4675-85dd-96db5054528a' title='Show/Hide attributes'><svg class='icon xr-icon-file-text2'><use xlink:href='#icon-file-text2'></use></svg></label><input id='data-81ff4bfe-0726-47c6-a8e1-1aaf9b8226e4' class='xr-var-data-in' type='checkbox'><label for='data-81ff4bfe-0726-47c6-a8e1-1aaf9b8226e4' title='Show/Hide data repr'><svg class='icon xr-icon-database'><use xlink:href='#icon-database'></use></svg></label><div class='xr-var-attrs'><dl class='xr-attrs'><dt><span>standard_name :</span></dt><dd>UVEL</dd><dt><span>long_name :</span></dt><dd>Zonal Component of Velocity (m/s)</dd><dt><span>units :</span></dt><dd>m/s</dd><dt><span>mate :</span></dt><dd>VVEL</dd></dl></div><div class='xr-var-data'><table>\n",
=======
       "</table></div></li><li class='xr-var-item'><div class='xr-var-name'><span>UVEL</span></div><div class='xr-var-dims'>(time, Z, YC, XG)</div><div class='xr-var-dtype'>float32</div><div class='xr-var-preview xr-preview'>dask.array&lt;chunksize=(1, 55, 300, 250), meta=np.ndarray&gt;</div><input id='attrs-1b90a5cc-df91-4005-b35f-1dbc7d8822d9' class='xr-var-attrs-in' type='checkbox' ><label for='attrs-1b90a5cc-df91-4005-b35f-1dbc7d8822d9' title='Show/Hide attributes'><svg class='icon xr-icon-file-text2'><use xlink:href='#icon-file-text2'></use></svg></label><input id='data-12081fa9-0397-4d3c-95b6-48c2d4640794' class='xr-var-data-in' type='checkbox'><label for='data-12081fa9-0397-4d3c-95b6-48c2d4640794' title='Show/Hide data repr'><svg class='icon xr-icon-database'><use xlink:href='#icon-database'></use></svg></label><div class='xr-var-attrs'><dl class='xr-attrs'><dt><span>standard_name :</span></dt><dd>UVEL</dd><dt><span>long_name :</span></dt><dd>Zonal Component of Velocity (m/s)</dd><dt><span>units :</span></dt><dd>m/s</dd><dt><span>mate :</span></dt><dd>VVEL</dd></dl></div><div class='xr-var-data'><table>\n",
>>>>>>> updated example notebooks based on MITgcm
=======
       "</table></div></li><li class='xr-var-item'><div class='xr-var-name'><span>UVEL</span></div><div class='xr-var-dims'>(time, Z, YC, XG)</div><div class='xr-var-dtype'>float32</div><div class='xr-var-preview xr-preview'>dask.array&lt;chunksize=(1, 55, 300, 250), meta=np.ndarray&gt;</div><input id='attrs-1b90a5cc-df91-4005-b35f-1dbc7d8822d9' class='xr-var-attrs-in' type='checkbox' ><label for='attrs-1b90a5cc-df91-4005-b35f-1dbc7d8822d9' title='Show/Hide attributes'><svg class='icon xr-icon-file-text2'><use xlink:href='#icon-file-text2'></use></svg></label><input id='data-12081fa9-0397-4d3c-95b6-48c2d4640794' class='xr-var-data-in' type='checkbox'><label for='data-12081fa9-0397-4d3c-95b6-48c2d4640794' title='Show/Hide data repr'><svg class='icon xr-icon-database'><use xlink:href='#icon-database'></use></svg></label><div class='xr-var-attrs'><dl class='xr-attrs'><dt><span>standard_name :</span></dt><dd>UVEL</dd><dt><span>long_name :</span></dt><dd>Zonal Component of Velocity (m/s)</dd><dt><span>units :</span></dt><dd>m/s</dd><dt><span>mate :</span></dt><dd>VVEL</dd></dl></div><div class='xr-var-data'><table>\n",
>>>>>>> 496ab6eb83f621cecad47543189988d9da46342e
       "<tr>\n",
       "<td>\n",
       "<table>\n",
       "  <thead>\n",
       "    <tr><td> </td><th> Array </th><th> Chunk </th></tr>\n",
       "  </thead>\n",
       "  <tbody>\n",
       "    <tr><th> Bytes </th><td> 1.11 GiB </td> <td> 15.74 MiB </td></tr>\n",
       "    <tr><th> Shape </th><td> (72, 55, 300, 250) </td> <td> (1, 55, 300, 250) </td></tr>\n",
       "    <tr><th> Count </th><td> 360 Tasks </td><td> 72 Chunks </td></tr>\n",
       "    <tr><th> Type </th><td> float32 </td><td> numpy.ndarray </td></tr>\n",
       "  </tbody>\n",
       "</table>\n",
       "</td>\n",
       "<td>\n",
       "<svg width=\"398\" height=\"194\" style=\"stroke:rgb(0,0,0);stroke-width:1\" >\n",
       "\n",
       "  <!-- Horizontal lines -->\n",
       "  <line x1=\"0\" y1=\"0\" x2=\"42\" y2=\"0\" style=\"stroke-width:2\" />\n",
       "  <line x1=\"0\" y1=\"25\" x2=\"42\" y2=\"25\" style=\"stroke-width:2\" />\n",
       "\n",
       "  <!-- Vertical lines -->\n",
       "  <line x1=\"0\" y1=\"0\" x2=\"0\" y2=\"25\" style=\"stroke-width:2\" />\n",
       "  <line x1=\"1\" y1=\"0\" x2=\"1\" y2=\"25\" />\n",
       "  <line x1=\"2\" y1=\"0\" x2=\"2\" y2=\"25\" />\n",
       "  <line x1=\"3\" y1=\"0\" x2=\"3\" y2=\"25\" />\n",
       "  <line x1=\"5\" y1=\"0\" x2=\"5\" y2=\"25\" />\n",
       "  <line x1=\"6\" y1=\"0\" x2=\"6\" y2=\"25\" />\n",
       "  <line x1=\"7\" y1=\"0\" x2=\"7\" y2=\"25\" />\n",
       "  <line x1=\"8\" y1=\"0\" x2=\"8\" y2=\"25\" />\n",
       "  <line x1=\"10\" y1=\"0\" x2=\"10\" y2=\"25\" />\n",
       "  <line x1=\"11\" y1=\"0\" x2=\"11\" y2=\"25\" />\n",
       "  <line x1=\"13\" y1=\"0\" x2=\"13\" y2=\"25\" />\n",
       "  <line x1=\"14\" y1=\"0\" x2=\"14\" y2=\"25\" />\n",
       "  <line x1=\"16\" y1=\"0\" x2=\"16\" y2=\"25\" />\n",
       "  <line x1=\"17\" y1=\"0\" x2=\"17\" y2=\"25\" />\n",
       "  <line x1=\"18\" y1=\"0\" x2=\"18\" y2=\"25\" />\n",
       "  <line x1=\"19\" y1=\"0\" x2=\"19\" y2=\"25\" />\n",
       "  <line x1=\"21\" y1=\"0\" x2=\"21\" y2=\"25\" />\n",
       "  <line x1=\"22\" y1=\"0\" x2=\"22\" y2=\"25\" />\n",
       "  <line x1=\"23\" y1=\"0\" x2=\"23\" y2=\"25\" />\n",
       "  <line x1=\"24\" y1=\"0\" x2=\"24\" y2=\"25\" />\n",
       "  <line x1=\"26\" y1=\"0\" x2=\"26\" y2=\"25\" />\n",
       "  <line x1=\"27\" y1=\"0\" x2=\"27\" y2=\"25\" />\n",
       "  <line x1=\"29\" y1=\"0\" x2=\"29\" y2=\"25\" />\n",
       "  <line x1=\"30\" y1=\"0\" x2=\"30\" y2=\"25\" />\n",
       "  <line x1=\"32\" y1=\"0\" x2=\"32\" y2=\"25\" />\n",
       "  <line x1=\"33\" y1=\"0\" x2=\"33\" y2=\"25\" />\n",
       "  <line x1=\"34\" y1=\"0\" x2=\"34\" y2=\"25\" />\n",
       "  <line x1=\"35\" y1=\"0\" x2=\"35\" y2=\"25\" />\n",
       "  <line x1=\"37\" y1=\"0\" x2=\"37\" y2=\"25\" />\n",
       "  <line x1=\"38\" y1=\"0\" x2=\"38\" y2=\"25\" />\n",
       "  <line x1=\"39\" y1=\"0\" x2=\"39\" y2=\"25\" />\n",
       "  <line x1=\"40\" y1=\"0\" x2=\"40\" y2=\"25\" />\n",
       "  <line x1=\"42\" y1=\"0\" x2=\"42\" y2=\"25\" style=\"stroke-width:2\" />\n",
       "\n",
       "  <!-- Colored Rectangle -->\n",
       "  <polygon points=\"0.0,0.0 42.74428809874332,0.0 42.74428809874332,25.412616514582485 0.0,25.412616514582485\" style=\"fill:#8B4903A0;stroke-width:0\"/>\n",
       "\n",
       "  <!-- Text -->\n",
       "  <text x=\"21.372144\" y=\"45.412617\" font-size=\"1.0rem\" font-weight=\"100\" text-anchor=\"middle\" >72</text>\n",
       "  <text x=\"62.744288\" y=\"12.706308\" font-size=\"1.0rem\" font-weight=\"100\" text-anchor=\"middle\" transform=\"rotate(0,62.744288,12.706308)\">1</text>\n",
       "\n",
       "\n",
       "  <!-- Horizontal lines -->\n",
       "  <line x1=\"112\" y1=\"0\" x2=\"136\" y2=\"24\" style=\"stroke-width:2\" />\n",
       "  <line x1=\"112\" y1=\"120\" x2=\"136\" y2=\"144\" style=\"stroke-width:2\" />\n",
       "\n",
       "  <!-- Vertical lines -->\n",
       "  <line x1=\"112\" y1=\"0\" x2=\"112\" y2=\"120\" style=\"stroke-width:2\" />\n",
       "  <line x1=\"136\" y1=\"24\" x2=\"136\" y2=\"144\" style=\"stroke-width:2\" />\n",
       "\n",
       "  <!-- Colored Rectangle -->\n",
       "  <polygon points=\"112.0,0.0 136.49060156265884,24.490601562658835 136.49060156265884,144.49060156265884 112.0,120.0\" style=\"fill:#ECB172A0;stroke-width:0\"/>\n",
       "\n",
       "  <!-- Horizontal lines -->\n",
       "  <line x1=\"112\" y1=\"0\" x2=\"212\" y2=\"0\" style=\"stroke-width:2\" />\n",
       "  <line x1=\"136\" y1=\"24\" x2=\"236\" y2=\"24\" style=\"stroke-width:2\" />\n",
       "\n",
       "  <!-- Vertical lines -->\n",
       "  <line x1=\"112\" y1=\"0\" x2=\"136\" y2=\"24\" style=\"stroke-width:2\" />\n",
       "  <line x1=\"212\" y1=\"0\" x2=\"236\" y2=\"24\" style=\"stroke-width:2\" />\n",
       "\n",
       "  <!-- Colored Rectangle -->\n",
       "  <polygon points=\"112.0,0.0 212.0,0.0 236.49060156265884,24.490601562658835 136.49060156265884,24.490601562658835\" style=\"fill:#ECB172A0;stroke-width:0\"/>\n",
       "\n",
       "  <!-- Horizontal lines -->\n",
       "  <line x1=\"136\" y1=\"24\" x2=\"236\" y2=\"24\" style=\"stroke-width:2\" />\n",
       "  <line x1=\"136\" y1=\"144\" x2=\"236\" y2=\"144\" style=\"stroke-width:2\" />\n",
       "\n",
       "  <!-- Vertical lines -->\n",
       "  <line x1=\"136\" y1=\"24\" x2=\"136\" y2=\"144\" style=\"stroke-width:2\" />\n",
       "  <line x1=\"236\" y1=\"24\" x2=\"236\" y2=\"144\" style=\"stroke-width:2\" />\n",
       "\n",
       "  <!-- Colored Rectangle -->\n",
       "  <polygon points=\"136.49060156265884,24.490601562658835 236.49060156265884,24.490601562658835 236.49060156265884,144.49060156265884 136.49060156265884,144.49060156265884\" style=\"fill:#ECB172A0;stroke-width:0\"/>\n",
       "\n",
       "  <!-- Text -->\n",
       "  <text x=\"186.490602\" y=\"164.490602\" font-size=\"1.0rem\" font-weight=\"100\" text-anchor=\"middle\" >250</text>\n",
       "  <text x=\"256.490602\" y=\"84.490602\" font-size=\"1.0rem\" font-weight=\"100\" text-anchor=\"middle\" transform=\"rotate(-90,256.490602,84.490602)\">300</text>\n",
       "  <text x=\"114.245301\" y=\"152.245301\" font-size=\"1.0rem\" font-weight=\"100\" text-anchor=\"middle\" transform=\"rotate(45,114.245301,152.245301)\">55</text>\n",
       "</svg>\n",
       "</td>\n",
       "</tr>\n",
<<<<<<< HEAD
<<<<<<< HEAD
       "</table></div></li><li class='xr-var-item'><div class='xr-var-name'><span>WVEL</span></div><div class='xr-var-dims'>(time, Zl, YC, XC)</div><div class='xr-var-dtype'>float32</div><div class='xr-var-preview xr-preview'>dask.array&lt;chunksize=(1, 55, 300, 250), meta=np.ndarray&gt;</div><input id='attrs-7b8e2cf3-992b-4a36-9405-ad05287d824e' class='xr-var-attrs-in' type='checkbox' ><label for='attrs-7b8e2cf3-992b-4a36-9405-ad05287d824e' title='Show/Hide attributes'><svg class='icon xr-icon-file-text2'><use xlink:href='#icon-file-text2'></use></svg></label><input id='data-d3e5f487-b010-4f29-99e1-1446addb15da' class='xr-var-data-in' type='checkbox'><label for='data-d3e5f487-b010-4f29-99e1-1446addb15da' title='Show/Hide data repr'><svg class='icon xr-icon-database'><use xlink:href='#icon-database'></use></svg></label><div class='xr-var-attrs'><dl class='xr-attrs'><dt><span>standard_name :</span></dt><dd>WVEL</dd><dt><span>long_name :</span></dt><dd>Vertical Component of Velocity (r_units/s)</dd><dt><span>units :</span></dt><dd>m/s</dd></dl></div><div class='xr-var-data'><table>\n",
=======
       "</table></div></li><li class='xr-var-item'><div class='xr-var-name'><span>WVEL</span></div><div class='xr-var-dims'>(time, Zl, YC, XC)</div><div class='xr-var-dtype'>float32</div><div class='xr-var-preview xr-preview'>dask.array&lt;chunksize=(1, 55, 300, 250), meta=np.ndarray&gt;</div><input id='attrs-905ac9b8-3cef-4ae8-a68c-53c2079e15dd' class='xr-var-attrs-in' type='checkbox' ><label for='attrs-905ac9b8-3cef-4ae8-a68c-53c2079e15dd' title='Show/Hide attributes'><svg class='icon xr-icon-file-text2'><use xlink:href='#icon-file-text2'></use></svg></label><input id='data-b72b0219-722d-415f-886b-7815affb174a' class='xr-var-data-in' type='checkbox'><label for='data-b72b0219-722d-415f-886b-7815affb174a' title='Show/Hide data repr'><svg class='icon xr-icon-database'><use xlink:href='#icon-database'></use></svg></label><div class='xr-var-attrs'><dl class='xr-attrs'><dt><span>standard_name :</span></dt><dd>WVEL</dd><dt><span>long_name :</span></dt><dd>Vertical Component of Velocity (r_units/s)</dd><dt><span>units :</span></dt><dd>m/s</dd></dl></div><div class='xr-var-data'><table>\n",
>>>>>>> updated example notebooks based on MITgcm
=======
       "</table></div></li><li class='xr-var-item'><div class='xr-var-name'><span>WVEL</span></div><div class='xr-var-dims'>(time, Zl, YC, XC)</div><div class='xr-var-dtype'>float32</div><div class='xr-var-preview xr-preview'>dask.array&lt;chunksize=(1, 55, 300, 250), meta=np.ndarray&gt;</div><input id='attrs-905ac9b8-3cef-4ae8-a68c-53c2079e15dd' class='xr-var-attrs-in' type='checkbox' ><label for='attrs-905ac9b8-3cef-4ae8-a68c-53c2079e15dd' title='Show/Hide attributes'><svg class='icon xr-icon-file-text2'><use xlink:href='#icon-file-text2'></use></svg></label><input id='data-b72b0219-722d-415f-886b-7815affb174a' class='xr-var-data-in' type='checkbox'><label for='data-b72b0219-722d-415f-886b-7815affb174a' title='Show/Hide data repr'><svg class='icon xr-icon-database'><use xlink:href='#icon-database'></use></svg></label><div class='xr-var-attrs'><dl class='xr-attrs'><dt><span>standard_name :</span></dt><dd>WVEL</dd><dt><span>long_name :</span></dt><dd>Vertical Component of Velocity (r_units/s)</dd><dt><span>units :</span></dt><dd>m/s</dd></dl></div><div class='xr-var-data'><table>\n",
>>>>>>> 496ab6eb83f621cecad47543189988d9da46342e
       "<tr>\n",
       "<td>\n",
       "<table>\n",
       "  <thead>\n",
       "    <tr><td> </td><th> Array </th><th> Chunk </th></tr>\n",
       "  </thead>\n",
       "  <tbody>\n",
       "    <tr><th> Bytes </th><td> 1.11 GiB </td> <td> 15.74 MiB </td></tr>\n",
       "    <tr><th> Shape </th><td> (72, 55, 300, 250) </td> <td> (1, 55, 300, 250) </td></tr>\n",
       "    <tr><th> Count </th><td> 360 Tasks </td><td> 72 Chunks </td></tr>\n",
       "    <tr><th> Type </th><td> float32 </td><td> numpy.ndarray </td></tr>\n",
       "  </tbody>\n",
       "</table>\n",
       "</td>\n",
       "<td>\n",
       "<svg width=\"398\" height=\"194\" style=\"stroke:rgb(0,0,0);stroke-width:1\" >\n",
       "\n",
       "  <!-- Horizontal lines -->\n",
       "  <line x1=\"0\" y1=\"0\" x2=\"42\" y2=\"0\" style=\"stroke-width:2\" />\n",
       "  <line x1=\"0\" y1=\"25\" x2=\"42\" y2=\"25\" style=\"stroke-width:2\" />\n",
       "\n",
       "  <!-- Vertical lines -->\n",
       "  <line x1=\"0\" y1=\"0\" x2=\"0\" y2=\"25\" style=\"stroke-width:2\" />\n",
       "  <line x1=\"1\" y1=\"0\" x2=\"1\" y2=\"25\" />\n",
       "  <line x1=\"2\" y1=\"0\" x2=\"2\" y2=\"25\" />\n",
       "  <line x1=\"3\" y1=\"0\" x2=\"3\" y2=\"25\" />\n",
       "  <line x1=\"5\" y1=\"0\" x2=\"5\" y2=\"25\" />\n",
       "  <line x1=\"6\" y1=\"0\" x2=\"6\" y2=\"25\" />\n",
       "  <line x1=\"7\" y1=\"0\" x2=\"7\" y2=\"25\" />\n",
       "  <line x1=\"8\" y1=\"0\" x2=\"8\" y2=\"25\" />\n",
       "  <line x1=\"10\" y1=\"0\" x2=\"10\" y2=\"25\" />\n",
       "  <line x1=\"11\" y1=\"0\" x2=\"11\" y2=\"25\" />\n",
       "  <line x1=\"13\" y1=\"0\" x2=\"13\" y2=\"25\" />\n",
       "  <line x1=\"14\" y1=\"0\" x2=\"14\" y2=\"25\" />\n",
       "  <line x1=\"16\" y1=\"0\" x2=\"16\" y2=\"25\" />\n",
       "  <line x1=\"17\" y1=\"0\" x2=\"17\" y2=\"25\" />\n",
       "  <line x1=\"18\" y1=\"0\" x2=\"18\" y2=\"25\" />\n",
       "  <line x1=\"19\" y1=\"0\" x2=\"19\" y2=\"25\" />\n",
       "  <line x1=\"21\" y1=\"0\" x2=\"21\" y2=\"25\" />\n",
       "  <line x1=\"22\" y1=\"0\" x2=\"22\" y2=\"25\" />\n",
       "  <line x1=\"23\" y1=\"0\" x2=\"23\" y2=\"25\" />\n",
       "  <line x1=\"24\" y1=\"0\" x2=\"24\" y2=\"25\" />\n",
       "  <line x1=\"26\" y1=\"0\" x2=\"26\" y2=\"25\" />\n",
       "  <line x1=\"27\" y1=\"0\" x2=\"27\" y2=\"25\" />\n",
       "  <line x1=\"29\" y1=\"0\" x2=\"29\" y2=\"25\" />\n",
       "  <line x1=\"30\" y1=\"0\" x2=\"30\" y2=\"25\" />\n",
       "  <line x1=\"32\" y1=\"0\" x2=\"32\" y2=\"25\" />\n",
       "  <line x1=\"33\" y1=\"0\" x2=\"33\" y2=\"25\" />\n",
       "  <line x1=\"34\" y1=\"0\" x2=\"34\" y2=\"25\" />\n",
       "  <line x1=\"35\" y1=\"0\" x2=\"35\" y2=\"25\" />\n",
       "  <line x1=\"37\" y1=\"0\" x2=\"37\" y2=\"25\" />\n",
       "  <line x1=\"38\" y1=\"0\" x2=\"38\" y2=\"25\" />\n",
       "  <line x1=\"39\" y1=\"0\" x2=\"39\" y2=\"25\" />\n",
       "  <line x1=\"40\" y1=\"0\" x2=\"40\" y2=\"25\" />\n",
       "  <line x1=\"42\" y1=\"0\" x2=\"42\" y2=\"25\" style=\"stroke-width:2\" />\n",
       "\n",
       "  <!-- Colored Rectangle -->\n",
       "  <polygon points=\"0.0,0.0 42.74428809874332,0.0 42.74428809874332,25.412616514582485 0.0,25.412616514582485\" style=\"fill:#8B4903A0;stroke-width:0\"/>\n",
       "\n",
       "  <!-- Text -->\n",
       "  <text x=\"21.372144\" y=\"45.412617\" font-size=\"1.0rem\" font-weight=\"100\" text-anchor=\"middle\" >72</text>\n",
       "  <text x=\"62.744288\" y=\"12.706308\" font-size=\"1.0rem\" font-weight=\"100\" text-anchor=\"middle\" transform=\"rotate(0,62.744288,12.706308)\">1</text>\n",
       "\n",
       "\n",
       "  <!-- Horizontal lines -->\n",
       "  <line x1=\"112\" y1=\"0\" x2=\"136\" y2=\"24\" style=\"stroke-width:2\" />\n",
       "  <line x1=\"112\" y1=\"120\" x2=\"136\" y2=\"144\" style=\"stroke-width:2\" />\n",
       "\n",
       "  <!-- Vertical lines -->\n",
       "  <line x1=\"112\" y1=\"0\" x2=\"112\" y2=\"120\" style=\"stroke-width:2\" />\n",
       "  <line x1=\"136\" y1=\"24\" x2=\"136\" y2=\"144\" style=\"stroke-width:2\" />\n",
       "\n",
       "  <!-- Colored Rectangle -->\n",
       "  <polygon points=\"112.0,0.0 136.49060156265884,24.490601562658835 136.49060156265884,144.49060156265884 112.0,120.0\" style=\"fill:#ECB172A0;stroke-width:0\"/>\n",
       "\n",
       "  <!-- Horizontal lines -->\n",
       "  <line x1=\"112\" y1=\"0\" x2=\"212\" y2=\"0\" style=\"stroke-width:2\" />\n",
       "  <line x1=\"136\" y1=\"24\" x2=\"236\" y2=\"24\" style=\"stroke-width:2\" />\n",
       "\n",
       "  <!-- Vertical lines -->\n",
       "  <line x1=\"112\" y1=\"0\" x2=\"136\" y2=\"24\" style=\"stroke-width:2\" />\n",
       "  <line x1=\"212\" y1=\"0\" x2=\"236\" y2=\"24\" style=\"stroke-width:2\" />\n",
       "\n",
       "  <!-- Colored Rectangle -->\n",
       "  <polygon points=\"112.0,0.0 212.0,0.0 236.49060156265884,24.490601562658835 136.49060156265884,24.490601562658835\" style=\"fill:#ECB172A0;stroke-width:0\"/>\n",
       "\n",
       "  <!-- Horizontal lines -->\n",
       "  <line x1=\"136\" y1=\"24\" x2=\"236\" y2=\"24\" style=\"stroke-width:2\" />\n",
       "  <line x1=\"136\" y1=\"144\" x2=\"236\" y2=\"144\" style=\"stroke-width:2\" />\n",
       "\n",
       "  <!-- Vertical lines -->\n",
       "  <line x1=\"136\" y1=\"24\" x2=\"136\" y2=\"144\" style=\"stroke-width:2\" />\n",
       "  <line x1=\"236\" y1=\"24\" x2=\"236\" y2=\"144\" style=\"stroke-width:2\" />\n",
       "\n",
       "  <!-- Colored Rectangle -->\n",
       "  <polygon points=\"136.49060156265884,24.490601562658835 236.49060156265884,24.490601562658835 236.49060156265884,144.49060156265884 136.49060156265884,144.49060156265884\" style=\"fill:#ECB172A0;stroke-width:0\"/>\n",
       "\n",
       "  <!-- Text -->\n",
       "  <text x=\"186.490602\" y=\"164.490602\" font-size=\"1.0rem\" font-weight=\"100\" text-anchor=\"middle\" >250</text>\n",
       "  <text x=\"256.490602\" y=\"84.490602\" font-size=\"1.0rem\" font-weight=\"100\" text-anchor=\"middle\" transform=\"rotate(-90,256.490602,84.490602)\">300</text>\n",
       "  <text x=\"114.245301\" y=\"152.245301\" font-size=\"1.0rem\" font-weight=\"100\" text-anchor=\"middle\" transform=\"rotate(45,114.245301,152.245301)\">55</text>\n",
       "</svg>\n",
       "</td>\n",
       "</tr>\n",
<<<<<<< HEAD
<<<<<<< HEAD
       "</table></div></li><li class='xr-var-item'><div class='xr-var-name'><span>momHDiv</span></div><div class='xr-var-dims'>(time, Z, YC, XC)</div><div class='xr-var-dtype'>float32</div><div class='xr-var-preview xr-preview'>dask.array&lt;chunksize=(1, 55, 300, 250), meta=np.ndarray&gt;</div><input id='attrs-8876e2ce-5f6b-4fb3-bff1-7546fd1a18b7' class='xr-var-attrs-in' type='checkbox' ><label for='attrs-8876e2ce-5f6b-4fb3-bff1-7546fd1a18b7' title='Show/Hide attributes'><svg class='icon xr-icon-file-text2'><use xlink:href='#icon-file-text2'></use></svg></label><input id='data-f807d168-d428-4c4b-8c3e-369da03babc9' class='xr-var-data-in' type='checkbox'><label for='data-f807d168-d428-4c4b-8c3e-369da03babc9' title='Show/Hide data repr'><svg class='icon xr-icon-database'><use xlink:href='#icon-database'></use></svg></label><div class='xr-var-attrs'><dl class='xr-attrs'><dt><span>standard_name :</span></dt><dd>momHDiv</dd><dt><span>long_name :</span></dt><dd>Horizontal Divergence (in momentum Eq.)</dd><dt><span>units :</span></dt><dd>s^-1</dd></dl></div><div class='xr-var-data'><table>\n",
=======
       "</table></div></li><li class='xr-var-item'><div class='xr-var-name'><span>momHDiv</span></div><div class='xr-var-dims'>(time, Z, YC, XC)</div><div class='xr-var-dtype'>float32</div><div class='xr-var-preview xr-preview'>dask.array&lt;chunksize=(1, 55, 300, 250), meta=np.ndarray&gt;</div><input id='attrs-0168f0a2-63b6-4f47-a372-1df2f7174ac0' class='xr-var-attrs-in' type='checkbox' ><label for='attrs-0168f0a2-63b6-4f47-a372-1df2f7174ac0' title='Show/Hide attributes'><svg class='icon xr-icon-file-text2'><use xlink:href='#icon-file-text2'></use></svg></label><input id='data-23bc2bc9-3865-4078-bbb2-5a79377f4c5c' class='xr-var-data-in' type='checkbox'><label for='data-23bc2bc9-3865-4078-bbb2-5a79377f4c5c' title='Show/Hide data repr'><svg class='icon xr-icon-database'><use xlink:href='#icon-database'></use></svg></label><div class='xr-var-attrs'><dl class='xr-attrs'><dt><span>standard_name :</span></dt><dd>momHDiv</dd><dt><span>long_name :</span></dt><dd>Horizontal Divergence (in momentum Eq.)</dd><dt><span>units :</span></dt><dd>s^-1</dd></dl></div><div class='xr-var-data'><table>\n",
>>>>>>> updated example notebooks based on MITgcm
=======
       "</table></div></li><li class='xr-var-item'><div class='xr-var-name'><span>momHDiv</span></div><div class='xr-var-dims'>(time, Z, YC, XC)</div><div class='xr-var-dtype'>float32</div><div class='xr-var-preview xr-preview'>dask.array&lt;chunksize=(1, 55, 300, 250), meta=np.ndarray&gt;</div><input id='attrs-0168f0a2-63b6-4f47-a372-1df2f7174ac0' class='xr-var-attrs-in' type='checkbox' ><label for='attrs-0168f0a2-63b6-4f47-a372-1df2f7174ac0' title='Show/Hide attributes'><svg class='icon xr-icon-file-text2'><use xlink:href='#icon-file-text2'></use></svg></label><input id='data-23bc2bc9-3865-4078-bbb2-5a79377f4c5c' class='xr-var-data-in' type='checkbox'><label for='data-23bc2bc9-3865-4078-bbb2-5a79377f4c5c' title='Show/Hide data repr'><svg class='icon xr-icon-database'><use xlink:href='#icon-database'></use></svg></label><div class='xr-var-attrs'><dl class='xr-attrs'><dt><span>standard_name :</span></dt><dd>momHDiv</dd><dt><span>long_name :</span></dt><dd>Horizontal Divergence (in momentum Eq.)</dd><dt><span>units :</span></dt><dd>s^-1</dd></dl></div><div class='xr-var-data'><table>\n",
>>>>>>> 496ab6eb83f621cecad47543189988d9da46342e
       "<tr>\n",
       "<td>\n",
       "<table>\n",
       "  <thead>\n",
       "    <tr><td> </td><th> Array </th><th> Chunk </th></tr>\n",
       "  </thead>\n",
       "  <tbody>\n",
       "    <tr><th> Bytes </th><td> 1.11 GiB </td> <td> 15.74 MiB </td></tr>\n",
       "    <tr><th> Shape </th><td> (72, 55, 300, 250) </td> <td> (1, 55, 300, 250) </td></tr>\n",
       "    <tr><th> Count </th><td> 360 Tasks </td><td> 72 Chunks </td></tr>\n",
       "    <tr><th> Type </th><td> float32 </td><td> numpy.ndarray </td></tr>\n",
       "  </tbody>\n",
       "</table>\n",
       "</td>\n",
       "<td>\n",
       "<svg width=\"398\" height=\"194\" style=\"stroke:rgb(0,0,0);stroke-width:1\" >\n",
       "\n",
       "  <!-- Horizontal lines -->\n",
       "  <line x1=\"0\" y1=\"0\" x2=\"42\" y2=\"0\" style=\"stroke-width:2\" />\n",
       "  <line x1=\"0\" y1=\"25\" x2=\"42\" y2=\"25\" style=\"stroke-width:2\" />\n",
       "\n",
       "  <!-- Vertical lines -->\n",
       "  <line x1=\"0\" y1=\"0\" x2=\"0\" y2=\"25\" style=\"stroke-width:2\" />\n",
       "  <line x1=\"1\" y1=\"0\" x2=\"1\" y2=\"25\" />\n",
       "  <line x1=\"2\" y1=\"0\" x2=\"2\" y2=\"25\" />\n",
       "  <line x1=\"3\" y1=\"0\" x2=\"3\" y2=\"25\" />\n",
       "  <line x1=\"5\" y1=\"0\" x2=\"5\" y2=\"25\" />\n",
       "  <line x1=\"6\" y1=\"0\" x2=\"6\" y2=\"25\" />\n",
       "  <line x1=\"7\" y1=\"0\" x2=\"7\" y2=\"25\" />\n",
       "  <line x1=\"8\" y1=\"0\" x2=\"8\" y2=\"25\" />\n",
       "  <line x1=\"10\" y1=\"0\" x2=\"10\" y2=\"25\" />\n",
       "  <line x1=\"11\" y1=\"0\" x2=\"11\" y2=\"25\" />\n",
       "  <line x1=\"13\" y1=\"0\" x2=\"13\" y2=\"25\" />\n",
       "  <line x1=\"14\" y1=\"0\" x2=\"14\" y2=\"25\" />\n",
       "  <line x1=\"16\" y1=\"0\" x2=\"16\" y2=\"25\" />\n",
       "  <line x1=\"17\" y1=\"0\" x2=\"17\" y2=\"25\" />\n",
       "  <line x1=\"18\" y1=\"0\" x2=\"18\" y2=\"25\" />\n",
       "  <line x1=\"19\" y1=\"0\" x2=\"19\" y2=\"25\" />\n",
       "  <line x1=\"21\" y1=\"0\" x2=\"21\" y2=\"25\" />\n",
       "  <line x1=\"22\" y1=\"0\" x2=\"22\" y2=\"25\" />\n",
       "  <line x1=\"23\" y1=\"0\" x2=\"23\" y2=\"25\" />\n",
       "  <line x1=\"24\" y1=\"0\" x2=\"24\" y2=\"25\" />\n",
       "  <line x1=\"26\" y1=\"0\" x2=\"26\" y2=\"25\" />\n",
       "  <line x1=\"27\" y1=\"0\" x2=\"27\" y2=\"25\" />\n",
       "  <line x1=\"29\" y1=\"0\" x2=\"29\" y2=\"25\" />\n",
       "  <line x1=\"30\" y1=\"0\" x2=\"30\" y2=\"25\" />\n",
       "  <line x1=\"32\" y1=\"0\" x2=\"32\" y2=\"25\" />\n",
       "  <line x1=\"33\" y1=\"0\" x2=\"33\" y2=\"25\" />\n",
       "  <line x1=\"34\" y1=\"0\" x2=\"34\" y2=\"25\" />\n",
       "  <line x1=\"35\" y1=\"0\" x2=\"35\" y2=\"25\" />\n",
       "  <line x1=\"37\" y1=\"0\" x2=\"37\" y2=\"25\" />\n",
       "  <line x1=\"38\" y1=\"0\" x2=\"38\" y2=\"25\" />\n",
       "  <line x1=\"39\" y1=\"0\" x2=\"39\" y2=\"25\" />\n",
       "  <line x1=\"40\" y1=\"0\" x2=\"40\" y2=\"25\" />\n",
       "  <line x1=\"42\" y1=\"0\" x2=\"42\" y2=\"25\" style=\"stroke-width:2\" />\n",
       "\n",
       "  <!-- Colored Rectangle -->\n",
       "  <polygon points=\"0.0,0.0 42.74428809874332,0.0 42.74428809874332,25.412616514582485 0.0,25.412616514582485\" style=\"fill:#8B4903A0;stroke-width:0\"/>\n",
       "\n",
       "  <!-- Text -->\n",
       "  <text x=\"21.372144\" y=\"45.412617\" font-size=\"1.0rem\" font-weight=\"100\" text-anchor=\"middle\" >72</text>\n",
       "  <text x=\"62.744288\" y=\"12.706308\" font-size=\"1.0rem\" font-weight=\"100\" text-anchor=\"middle\" transform=\"rotate(0,62.744288,12.706308)\">1</text>\n",
       "\n",
       "\n",
       "  <!-- Horizontal lines -->\n",
       "  <line x1=\"112\" y1=\"0\" x2=\"136\" y2=\"24\" style=\"stroke-width:2\" />\n",
       "  <line x1=\"112\" y1=\"120\" x2=\"136\" y2=\"144\" style=\"stroke-width:2\" />\n",
       "\n",
       "  <!-- Vertical lines -->\n",
       "  <line x1=\"112\" y1=\"0\" x2=\"112\" y2=\"120\" style=\"stroke-width:2\" />\n",
       "  <line x1=\"136\" y1=\"24\" x2=\"136\" y2=\"144\" style=\"stroke-width:2\" />\n",
       "\n",
       "  <!-- Colored Rectangle -->\n",
       "  <polygon points=\"112.0,0.0 136.49060156265884,24.490601562658835 136.49060156265884,144.49060156265884 112.0,120.0\" style=\"fill:#ECB172A0;stroke-width:0\"/>\n",
       "\n",
       "  <!-- Horizontal lines -->\n",
       "  <line x1=\"112\" y1=\"0\" x2=\"212\" y2=\"0\" style=\"stroke-width:2\" />\n",
       "  <line x1=\"136\" y1=\"24\" x2=\"236\" y2=\"24\" style=\"stroke-width:2\" />\n",
       "\n",
       "  <!-- Vertical lines -->\n",
       "  <line x1=\"112\" y1=\"0\" x2=\"136\" y2=\"24\" style=\"stroke-width:2\" />\n",
       "  <line x1=\"212\" y1=\"0\" x2=\"236\" y2=\"24\" style=\"stroke-width:2\" />\n",
       "\n",
       "  <!-- Colored Rectangle -->\n",
       "  <polygon points=\"112.0,0.0 212.0,0.0 236.49060156265884,24.490601562658835 136.49060156265884,24.490601562658835\" style=\"fill:#ECB172A0;stroke-width:0\"/>\n",
       "\n",
       "  <!-- Horizontal lines -->\n",
       "  <line x1=\"136\" y1=\"24\" x2=\"236\" y2=\"24\" style=\"stroke-width:2\" />\n",
       "  <line x1=\"136\" y1=\"144\" x2=\"236\" y2=\"144\" style=\"stroke-width:2\" />\n",
       "\n",
       "  <!-- Vertical lines -->\n",
       "  <line x1=\"136\" y1=\"24\" x2=\"136\" y2=\"144\" style=\"stroke-width:2\" />\n",
       "  <line x1=\"236\" y1=\"24\" x2=\"236\" y2=\"144\" style=\"stroke-width:2\" />\n",
       "\n",
       "  <!-- Colored Rectangle -->\n",
       "  <polygon points=\"136.49060156265884,24.490601562658835 236.49060156265884,24.490601562658835 236.49060156265884,144.49060156265884 136.49060156265884,144.49060156265884\" style=\"fill:#ECB172A0;stroke-width:0\"/>\n",
       "\n",
       "  <!-- Text -->\n",
       "  <text x=\"186.490602\" y=\"164.490602\" font-size=\"1.0rem\" font-weight=\"100\" text-anchor=\"middle\" >250</text>\n",
       "  <text x=\"256.490602\" y=\"84.490602\" font-size=\"1.0rem\" font-weight=\"100\" text-anchor=\"middle\" transform=\"rotate(-90,256.490602,84.490602)\">300</text>\n",
       "  <text x=\"114.245301\" y=\"152.245301\" font-size=\"1.0rem\" font-weight=\"100\" text-anchor=\"middle\" transform=\"rotate(45,114.245301,152.245301)\">55</text>\n",
       "</svg>\n",
       "</td>\n",
       "</tr>\n",
<<<<<<< HEAD
<<<<<<< HEAD
       "</table></div></li><li class='xr-var-item'><div class='xr-var-name'><span>PHIHYD</span></div><div class='xr-var-dims'>(time, Z, YC, XC)</div><div class='xr-var-dtype'>float32</div><div class='xr-var-preview xr-preview'>dask.array&lt;chunksize=(1, 55, 300, 250), meta=np.ndarray&gt;</div><input id='attrs-d8c6a559-52b6-4ac7-9979-b8b09cb31271' class='xr-var-attrs-in' type='checkbox' ><label for='attrs-d8c6a559-52b6-4ac7-9979-b8b09cb31271' title='Show/Hide attributes'><svg class='icon xr-icon-file-text2'><use xlink:href='#icon-file-text2'></use></svg></label><input id='data-de36b5e5-a681-4a8c-a688-67fb852ed5dd' class='xr-var-data-in' type='checkbox'><label for='data-de36b5e5-a681-4a8c-a688-67fb852ed5dd' title='Show/Hide data repr'><svg class='icon xr-icon-database'><use xlink:href='#icon-database'></use></svg></label><div class='xr-var-attrs'><dl class='xr-attrs'><dt><span>standard_name :</span></dt><dd>PHIHYD</dd><dt><span>long_name :</span></dt><dd>Hydrostatic Pressure Pot.(p/rho) Anomaly</dd><dt><span>units :</span></dt><dd>m^2/s^2</dd></dl></div><div class='xr-var-data'><table>\n",
=======
       "</table></div></li><li class='xr-var-item'><div class='xr-var-name'><span>PHIHYD</span></div><div class='xr-var-dims'>(time, Z, YC, XC)</div><div class='xr-var-dtype'>float32</div><div class='xr-var-preview xr-preview'>dask.array&lt;chunksize=(1, 55, 300, 250), meta=np.ndarray&gt;</div><input id='attrs-fce42feb-1b69-4a35-883c-6b94057b5cc6' class='xr-var-attrs-in' type='checkbox' ><label for='attrs-fce42feb-1b69-4a35-883c-6b94057b5cc6' title='Show/Hide attributes'><svg class='icon xr-icon-file-text2'><use xlink:href='#icon-file-text2'></use></svg></label><input id='data-8e99a147-bbf8-48e6-9433-b275de21602e' class='xr-var-data-in' type='checkbox'><label for='data-8e99a147-bbf8-48e6-9433-b275de21602e' title='Show/Hide data repr'><svg class='icon xr-icon-database'><use xlink:href='#icon-database'></use></svg></label><div class='xr-var-attrs'><dl class='xr-attrs'><dt><span>standard_name :</span></dt><dd>PHIHYD</dd><dt><span>long_name :</span></dt><dd>Hydrostatic Pressure Pot.(p/rho) Anomaly</dd><dt><span>units :</span></dt><dd>m^2/s^2</dd></dl></div><div class='xr-var-data'><table>\n",
>>>>>>> updated example notebooks based on MITgcm
=======
       "</table></div></li><li class='xr-var-item'><div class='xr-var-name'><span>PHIHYD</span></div><div class='xr-var-dims'>(time, Z, YC, XC)</div><div class='xr-var-dtype'>float32</div><div class='xr-var-preview xr-preview'>dask.array&lt;chunksize=(1, 55, 300, 250), meta=np.ndarray&gt;</div><input id='attrs-fce42feb-1b69-4a35-883c-6b94057b5cc6' class='xr-var-attrs-in' type='checkbox' ><label for='attrs-fce42feb-1b69-4a35-883c-6b94057b5cc6' title='Show/Hide attributes'><svg class='icon xr-icon-file-text2'><use xlink:href='#icon-file-text2'></use></svg></label><input id='data-8e99a147-bbf8-48e6-9433-b275de21602e' class='xr-var-data-in' type='checkbox'><label for='data-8e99a147-bbf8-48e6-9433-b275de21602e' title='Show/Hide data repr'><svg class='icon xr-icon-database'><use xlink:href='#icon-database'></use></svg></label><div class='xr-var-attrs'><dl class='xr-attrs'><dt><span>standard_name :</span></dt><dd>PHIHYD</dd><dt><span>long_name :</span></dt><dd>Hydrostatic Pressure Pot.(p/rho) Anomaly</dd><dt><span>units :</span></dt><dd>m^2/s^2</dd></dl></div><div class='xr-var-data'><table>\n",
>>>>>>> 496ab6eb83f621cecad47543189988d9da46342e
       "<tr>\n",
       "<td>\n",
       "<table>\n",
       "  <thead>\n",
       "    <tr><td> </td><th> Array </th><th> Chunk </th></tr>\n",
       "  </thead>\n",
       "  <tbody>\n",
       "    <tr><th> Bytes </th><td> 1.11 GiB </td> <td> 15.74 MiB </td></tr>\n",
       "    <tr><th> Shape </th><td> (72, 55, 300, 250) </td> <td> (1, 55, 300, 250) </td></tr>\n",
       "    <tr><th> Count </th><td> 360 Tasks </td><td> 72 Chunks </td></tr>\n",
       "    <tr><th> Type </th><td> float32 </td><td> numpy.ndarray </td></tr>\n",
       "  </tbody>\n",
       "</table>\n",
       "</td>\n",
       "<td>\n",
       "<svg width=\"398\" height=\"194\" style=\"stroke:rgb(0,0,0);stroke-width:1\" >\n",
       "\n",
       "  <!-- Horizontal lines -->\n",
       "  <line x1=\"0\" y1=\"0\" x2=\"42\" y2=\"0\" style=\"stroke-width:2\" />\n",
       "  <line x1=\"0\" y1=\"25\" x2=\"42\" y2=\"25\" style=\"stroke-width:2\" />\n",
       "\n",
       "  <!-- Vertical lines -->\n",
       "  <line x1=\"0\" y1=\"0\" x2=\"0\" y2=\"25\" style=\"stroke-width:2\" />\n",
       "  <line x1=\"1\" y1=\"0\" x2=\"1\" y2=\"25\" />\n",
       "  <line x1=\"2\" y1=\"0\" x2=\"2\" y2=\"25\" />\n",
       "  <line x1=\"3\" y1=\"0\" x2=\"3\" y2=\"25\" />\n",
       "  <line x1=\"5\" y1=\"0\" x2=\"5\" y2=\"25\" />\n",
       "  <line x1=\"6\" y1=\"0\" x2=\"6\" y2=\"25\" />\n",
       "  <line x1=\"7\" y1=\"0\" x2=\"7\" y2=\"25\" />\n",
       "  <line x1=\"8\" y1=\"0\" x2=\"8\" y2=\"25\" />\n",
       "  <line x1=\"10\" y1=\"0\" x2=\"10\" y2=\"25\" />\n",
       "  <line x1=\"11\" y1=\"0\" x2=\"11\" y2=\"25\" />\n",
       "  <line x1=\"13\" y1=\"0\" x2=\"13\" y2=\"25\" />\n",
       "  <line x1=\"14\" y1=\"0\" x2=\"14\" y2=\"25\" />\n",
       "  <line x1=\"16\" y1=\"0\" x2=\"16\" y2=\"25\" />\n",
       "  <line x1=\"17\" y1=\"0\" x2=\"17\" y2=\"25\" />\n",
       "  <line x1=\"18\" y1=\"0\" x2=\"18\" y2=\"25\" />\n",
       "  <line x1=\"19\" y1=\"0\" x2=\"19\" y2=\"25\" />\n",
       "  <line x1=\"21\" y1=\"0\" x2=\"21\" y2=\"25\" />\n",
       "  <line x1=\"22\" y1=\"0\" x2=\"22\" y2=\"25\" />\n",
       "  <line x1=\"23\" y1=\"0\" x2=\"23\" y2=\"25\" />\n",
       "  <line x1=\"24\" y1=\"0\" x2=\"24\" y2=\"25\" />\n",
       "  <line x1=\"26\" y1=\"0\" x2=\"26\" y2=\"25\" />\n",
       "  <line x1=\"27\" y1=\"0\" x2=\"27\" y2=\"25\" />\n",
       "  <line x1=\"29\" y1=\"0\" x2=\"29\" y2=\"25\" />\n",
       "  <line x1=\"30\" y1=\"0\" x2=\"30\" y2=\"25\" />\n",
       "  <line x1=\"32\" y1=\"0\" x2=\"32\" y2=\"25\" />\n",
       "  <line x1=\"33\" y1=\"0\" x2=\"33\" y2=\"25\" />\n",
       "  <line x1=\"34\" y1=\"0\" x2=\"34\" y2=\"25\" />\n",
       "  <line x1=\"35\" y1=\"0\" x2=\"35\" y2=\"25\" />\n",
       "  <line x1=\"37\" y1=\"0\" x2=\"37\" y2=\"25\" />\n",
       "  <line x1=\"38\" y1=\"0\" x2=\"38\" y2=\"25\" />\n",
       "  <line x1=\"39\" y1=\"0\" x2=\"39\" y2=\"25\" />\n",
       "  <line x1=\"40\" y1=\"0\" x2=\"40\" y2=\"25\" />\n",
       "  <line x1=\"42\" y1=\"0\" x2=\"42\" y2=\"25\" style=\"stroke-width:2\" />\n",
       "\n",
       "  <!-- Colored Rectangle -->\n",
       "  <polygon points=\"0.0,0.0 42.74428809874332,0.0 42.74428809874332,25.412616514582485 0.0,25.412616514582485\" style=\"fill:#8B4903A0;stroke-width:0\"/>\n",
       "\n",
       "  <!-- Text -->\n",
       "  <text x=\"21.372144\" y=\"45.412617\" font-size=\"1.0rem\" font-weight=\"100\" text-anchor=\"middle\" >72</text>\n",
       "  <text x=\"62.744288\" y=\"12.706308\" font-size=\"1.0rem\" font-weight=\"100\" text-anchor=\"middle\" transform=\"rotate(0,62.744288,12.706308)\">1</text>\n",
       "\n",
       "\n",
       "  <!-- Horizontal lines -->\n",
       "  <line x1=\"112\" y1=\"0\" x2=\"136\" y2=\"24\" style=\"stroke-width:2\" />\n",
       "  <line x1=\"112\" y1=\"120\" x2=\"136\" y2=\"144\" style=\"stroke-width:2\" />\n",
       "\n",
       "  <!-- Vertical lines -->\n",
       "  <line x1=\"112\" y1=\"0\" x2=\"112\" y2=\"120\" style=\"stroke-width:2\" />\n",
       "  <line x1=\"136\" y1=\"24\" x2=\"136\" y2=\"144\" style=\"stroke-width:2\" />\n",
       "\n",
       "  <!-- Colored Rectangle -->\n",
       "  <polygon points=\"112.0,0.0 136.49060156265884,24.490601562658835 136.49060156265884,144.49060156265884 112.0,120.0\" style=\"fill:#ECB172A0;stroke-width:0\"/>\n",
       "\n",
       "  <!-- Horizontal lines -->\n",
       "  <line x1=\"112\" y1=\"0\" x2=\"212\" y2=\"0\" style=\"stroke-width:2\" />\n",
       "  <line x1=\"136\" y1=\"24\" x2=\"236\" y2=\"24\" style=\"stroke-width:2\" />\n",
       "\n",
       "  <!-- Vertical lines -->\n",
       "  <line x1=\"112\" y1=\"0\" x2=\"136\" y2=\"24\" style=\"stroke-width:2\" />\n",
       "  <line x1=\"212\" y1=\"0\" x2=\"236\" y2=\"24\" style=\"stroke-width:2\" />\n",
       "\n",
       "  <!-- Colored Rectangle -->\n",
       "  <polygon points=\"112.0,0.0 212.0,0.0 236.49060156265884,24.490601562658835 136.49060156265884,24.490601562658835\" style=\"fill:#ECB172A0;stroke-width:0\"/>\n",
       "\n",
       "  <!-- Horizontal lines -->\n",
       "  <line x1=\"136\" y1=\"24\" x2=\"236\" y2=\"24\" style=\"stroke-width:2\" />\n",
       "  <line x1=\"136\" y1=\"144\" x2=\"236\" y2=\"144\" style=\"stroke-width:2\" />\n",
       "\n",
       "  <!-- Vertical lines -->\n",
       "  <line x1=\"136\" y1=\"24\" x2=\"136\" y2=\"144\" style=\"stroke-width:2\" />\n",
       "  <line x1=\"236\" y1=\"24\" x2=\"236\" y2=\"144\" style=\"stroke-width:2\" />\n",
       "\n",
       "  <!-- Colored Rectangle -->\n",
       "  <polygon points=\"136.49060156265884,24.490601562658835 236.49060156265884,24.490601562658835 236.49060156265884,144.49060156265884 136.49060156265884,144.49060156265884\" style=\"fill:#ECB172A0;stroke-width:0\"/>\n",
       "\n",
       "  <!-- Text -->\n",
       "  <text x=\"186.490602\" y=\"164.490602\" font-size=\"1.0rem\" font-weight=\"100\" text-anchor=\"middle\" >250</text>\n",
       "  <text x=\"256.490602\" y=\"84.490602\" font-size=\"1.0rem\" font-weight=\"100\" text-anchor=\"middle\" transform=\"rotate(-90,256.490602,84.490602)\">300</text>\n",
       "  <text x=\"114.245301\" y=\"152.245301\" font-size=\"1.0rem\" font-weight=\"100\" text-anchor=\"middle\" transform=\"rotate(45,114.245301,152.245301)\">55</text>\n",
       "</svg>\n",
       "</td>\n",
       "</tr>\n",
<<<<<<< HEAD
<<<<<<< HEAD
       "</table></div></li></ul></div></li><li class='xr-section-item'><input id='section-619092a4-00c2-49bc-b80b-dbbb30306fd3' class='xr-section-summary-in' type='checkbox'  checked><label for='section-619092a4-00c2-49bc-b80b-dbbb30306fd3' class='xr-section-summary' >Attributes: <span>(4)</span></label><div class='xr-section-inline-details'></div><div class='xr-section-details'><dl class='xr-attrs'><dt><span>Conventions :</span></dt><dd>CF-1.6</dd><dt><span>title :</span></dt><dd>netCDF wrapper of MITgcm MDS binary data</dd><dt><span>source :</span></dt><dd>MITgcm</dd><dt><span>history :</span></dt><dd>Created by calling `open_mdsdataset(grid_dir=&#x27;/home/jan/Data/MITgcm_test_data/grid/&#x27;, iters=None, prefix=[&#x27;3D_diags_5d&#x27;], read_grid=True, delta_t=1200.0, ref_date=&#x27;0000-12-28 12:00:00&#x27;, calendar=&#x27;360_day&#x27;, geometry=&#x27;cartesian&#x27;, grid_vars_to_coords=False, swap_dims=False, endian=&#x27;&gt;&#x27;, chunks={}, ignore_unknown_vars=True, default_dtype=None, nx=None, ny=None, nz=None, llc_method=&#x27;smallchunks&#x27;, extra_metadata=None, extra_variables=None, data_dir=&#x27;/home/jan/Data/MITgcm_test_data/&#x27;, levels=None)`</dd></dl></div></li></ul></div></div>"
=======
       "</table></div></li></ul></div></li><li class='xr-section-item'><input id='section-74b0360f-e048-43ba-b8c1-5179654b4d5f' class='xr-section-summary-in' type='checkbox'  checked><label for='section-74b0360f-e048-43ba-b8c1-5179654b4d5f' class='xr-section-summary' >Attributes: <span>(4)</span></label><div class='xr-section-inline-details'></div><div class='xr-section-details'><dl class='xr-attrs'><dt><span>Conventions :</span></dt><dd>CF-1.6</dd><dt><span>title :</span></dt><dd>netCDF wrapper of MITgcm MDS binary data</dd><dt><span>source :</span></dt><dd>MITgcm</dd><dt><span>history :</span></dt><dd>Created by calling `open_mdsdataset(grid_dir=&#x27;/home/jan/Data/MITgcm_test_data/grid/&#x27;, iters=None, prefix=[&#x27;3D_diags_5d&#x27;], read_grid=True, delta_t=1200.0, ref_date=None, calendar=&#x27;model&#x27;, geometry=&#x27;cartesian&#x27;, grid_vars_to_coords=False, swap_dims=False, endian=&#x27;&gt;&#x27;, chunks={}, ignore_unknown_vars=True, default_dtype=None, nx=None, ny=None, nz=None, llc_method=&#x27;smallchunks&#x27;, extra_metadata=None, extra_variables=None, data_dir=&#x27;/home/jan/Data/MITgcm_test_data/&#x27;, levels=None)`</dd></dl></div></li></ul></div></div>"
>>>>>>> updated example notebooks based on MITgcm
=======
       "</table></div></li></ul></div></li><li class='xr-section-item'><input id='section-74b0360f-e048-43ba-b8c1-5179654b4d5f' class='xr-section-summary-in' type='checkbox'  checked><label for='section-74b0360f-e048-43ba-b8c1-5179654b4d5f' class='xr-section-summary' >Attributes: <span>(4)</span></label><div class='xr-section-inline-details'></div><div class='xr-section-details'><dl class='xr-attrs'><dt><span>Conventions :</span></dt><dd>CF-1.6</dd><dt><span>title :</span></dt><dd>netCDF wrapper of MITgcm MDS binary data</dd><dt><span>source :</span></dt><dd>MITgcm</dd><dt><span>history :</span></dt><dd>Created by calling `open_mdsdataset(grid_dir=&#x27;/home/jan/Data/MITgcm_test_data/grid/&#x27;, iters=None, prefix=[&#x27;3D_diags_5d&#x27;], read_grid=True, delta_t=1200.0, ref_date=None, calendar=&#x27;model&#x27;, geometry=&#x27;cartesian&#x27;, grid_vars_to_coords=False, swap_dims=False, endian=&#x27;&gt;&#x27;, chunks={}, ignore_unknown_vars=True, default_dtype=None, nx=None, ny=None, nz=None, llc_method=&#x27;smallchunks&#x27;, extra_metadata=None, extra_variables=None, data_dir=&#x27;/home/jan/Data/MITgcm_test_data/&#x27;, levels=None)`</dd></dl></div></li></ul></div></div>"
>>>>>>> 496ab6eb83f621cecad47543189988d9da46342e
      ],
      "text/plain": [
       "<xarray.Dataset>\n",
       "Dimensions:   (XC: 250, XG: 250, YC: 300, YG: 300, Z: 55, Zl: 55, Zp1: 56, Zu: 55, time: 72)\n",
       "Coordinates: (12/36)\n",
       "  * XC        (XC) >f4 5e+03 1.5e+04 2.5e+04 ... 2.475e+06 2.485e+06 2.495e+06\n",
       "  * YC        (YC) >f4 5e+03 1.5e+04 2.5e+04 ... 2.975e+06 2.985e+06 2.995e+06\n",
       "  * XG        (XG) >f4 0.0 1e+04 2e+04 3e+04 ... 2.47e+06 2.48e+06 2.49e+06\n",
       "  * YG        (YG) >f4 0.0 1e+04 2e+04 3e+04 ... 2.97e+06 2.98e+06 2.99e+06\n",
       "  * Z         (Z) >f4 -1.065 -3.345 -5.948 ... -3.728e+03 -3.877e+03 -4.027e+03\n",
       "  * Zp1       (Zp1) >f4 0.0 -2.13 -4.56 ... -3.803e+03 -3.952e+03 -4.102e+03\n",
       "    ...        ...\n",
       "    dxV       (YG, XG) >f4 dask.array<chunksize=(300, 250), meta=np.ndarray>\n",
       "    dyU       (YG, XG) >f4 dask.array<chunksize=(300, 250), meta=np.ndarray>\n",
       "    iter      (time) int64 dask.array<chunksize=(1,), meta=np.ndarray>\n",
       "  * time      (time) object 0060-12-28 12:00:00 ... 0061-12-23 12:00:00\n",
       "    drW       (Z, YC, XG) float32 dask.array<chunksize=(55, 300, 250), meta=np.ndarray>\n",
       "    drS       (Z, YG, XC) float32 dask.array<chunksize=(55, 300, 250), meta=np.ndarray>\n",
       "Data variables:\n",
       "    THETA     (time, Z, YC, XC) float32 dask.array<chunksize=(1, 55, 300, 250), meta=np.ndarray>\n",
       "    SALT      (time, Z, YC, XC) float32 dask.array<chunksize=(1, 55, 300, 250), meta=np.ndarray>\n",
       "    RHOAnoma  (time, Z, YC, XC) float32 dask.array<chunksize=(1, 55, 300, 250), meta=np.ndarray>\n",
       "    VVEL      (time, Z, YG, XC) float32 dask.array<chunksize=(1, 55, 300, 250), meta=np.ndarray>\n",
       "    UVEL      (time, Z, YC, XG) float32 dask.array<chunksize=(1, 55, 300, 250), meta=np.ndarray>\n",
       "    WVEL      (time, Zl, YC, XC) float32 dask.array<chunksize=(1, 55, 300, 250), meta=np.ndarray>\n",
       "    momHDiv   (time, Z, YC, XC) float32 dask.array<chunksize=(1, 55, 300, 250), meta=np.ndarray>\n",
       "    PHIHYD    (time, Z, YC, XC) float32 dask.array<chunksize=(1, 55, 300, 250), meta=np.ndarray>\n",
       "Attributes:\n",
       "    Conventions:  CF-1.6\n",
       "    title:        netCDF wrapper of MITgcm MDS binary data\n",
       "    source:       MITgcm\n",
       "    history:      Created by calling `open_mdsdataset(grid_dir='/home/jan/Dat..."
      ]
     },
<<<<<<< HEAD
<<<<<<< HEAD
     "execution_count": 9,
=======
     "execution_count": 6,
>>>>>>> updated example notebooks based on MITgcm
=======
     "execution_count": 6,
>>>>>>> 496ab6eb83f621cecad47543189988d9da46342e
     "metadata": {},
     "output_type": "execute_result"
    }
   ],
   "source": [
    "data"
   ]
  },
  {
   "cell_type": "markdown",
   "metadata": {},
   "source": [
    "### OKUBO-WEISS\n",
    "We use xgcm to define the grid for the interpolation and differentiation necessary for the calculation of vorticity and the Okubo-Weiss parameter.  \n",
    "For more information on the Okubo-Weiss parameter and its calculation see [Okubo, 1970](https://doi.org/10.1016/0011-7471(70)90059-8); [Weiss, 1991](https://doi.org/10.1016/0167-2789(91)90088-Q); [Basdevant and Philipovitch, 1994](https://doi.org/10.1016/0167-2789(94)90222-4); [Chelton et al., 2007](https://doi.org/10.1029/2007GL030812)."
   ]
  },
  {
   "cell_type": "code",
<<<<<<< HEAD
<<<<<<< HEAD
   "execution_count": 10,
=======
   "execution_count": 7,
>>>>>>> updated example notebooks based on MITgcm
=======
   "execution_count": 7,
>>>>>>> 496ab6eb83f621cecad47543189988d9da46342e
   "metadata": {},
   "outputs": [],
   "source": [
    "grid = xgcm.Grid(data, metrics=metrics)"
   ]
  },
  {
   "cell_type": "code",
<<<<<<< HEAD
<<<<<<< HEAD
   "execution_count": 11,
=======
   "execution_count": 8,
>>>>>>> updated example notebooks based on MITgcm
=======
   "execution_count": 8,
>>>>>>> 496ab6eb83f621cecad47543189988d9da46342e
   "metadata": {},
   "outputs": [],
   "source": [
    "# Calculate vorticity and Okubo-Weiss parameter\n",
    "data_OW = et.okuboweiss.calc(data, grid, 'UVEL', 'VVEL')"
   ]
  },
  {
   "cell_type": "code",
<<<<<<< HEAD
<<<<<<< HEAD
   "execution_count": 12,
=======
   "execution_count": 9,
>>>>>>> updated example notebooks based on MITgcm
=======
   "execution_count": 9,
>>>>>>> 496ab6eb83f621cecad47543189988d9da46342e
   "metadata": {},
   "outputs": [],
   "source": [
    "# Merge the new variables `OW` and `vort` to the dataset `data` and make sure the chunk sizes are as before.\n",
    "data = xr.merge([data, data_OW], compat='override').chunk({'XC': 250, 'XG': 250, 'YC': 300, 'YG': 300})"
   ]
  },
  {
   "cell_type": "markdown",
   "metadata": {},
   "source": [
    "### INTERPOLATION\n",
    "Now we interpolate the data. If the data is entirely on a grid, that has one-dimensional latitude and longitude dimensions (i.e. longitude at one x-index does not change with changing y-index and latitude at one y-index does not change with changing x-index), the fields are simply interpolated to the F-point of the grid (vorticity and OW paramter are calculated and stored already on the F-point). This behaviour can also be triggered/forced by setting `avoid_regrid = True` as an argument to `interp.horizontal()`, although this should only be done when absolutely necessary -> only when regridding does not work.\n",
    "If the grid is curvilinear, e.g. North of 20S or so on the ORCA grids, a regridding is performed (unless `avoid_regrid = True`). There are several methods available for this regridding which can be chosen by setting `regrid_method` in the `interpolation_parameters`. Please refer to [the xesmf documentation](https://xesmf.readthedocs.io/en/latest/notebooks/Compare_algorithms.html) for details on the regridding methods. More advanced regridding with masks and extrapolations can also be performed, again refer to  [the xesmf documentation](https://xesmf.readthedocs.io/en/latest/notebooks/Masking.html) and set the extrapolation method `ext_method` in `interpolation_parameters` if necessary.  \n",
    "\n",
    "Note that the regridding can take VERY long for large region and/or long time periods. If one has to deal with problems regarding the time it takes, one could split the regridding into several parts, let's say regrid one year at a time, store the results and later load the combined regridded data."
   ]
  },
  {
   "cell_type": "markdown",
   "metadata": {},
   "source": [
    "The longitude in all the parameter definitions (`lon1` and `lon2`) needs to be in the range (-180, 180) for `latlon` grids. Longitudes larger then 180 will result in an error. For cartesian grids, longitudes must be positive with meter as units."
   ]
  },
  {
   "cell_type": "markdown",
   "metadata": {},
   "source": [
    "IMPORTANT:  \n",
    "The region that gets interpolated needs to be larger than the region used later for detection and tracking. This is required to ensure that eddies close to the boundaries of the detection region can be detected, tracked and sampled, even if their surroundings extend beyond the limits of the detection region.  \n",
    "To handle this, the region is internally extended by 2 degrees (for a `latlon` grid) or 200 km (for a cartesian grid) in each longitude direction and 1 degree (`latlon`) or 100km (cartesian) in latitude direction. So you need to make sure that the region you specify is not closer to the limits of your data that that.  \n",
    "If you want to detect eddies in the region 140-170E and 50-60S, the interpolation will be carried out within 138-172E and 49-61S! However, you still need to define 140-170E and 50-60S in the `interpolation_parameters` (or something equivalent for the cartesian grids).  \n",
    "\n",
    "Before the interpolation, we need to define a ocean mask at the F-point, as the MITgcm does not write this as output by default. For that we interpolate the ocean mask at the V point (`maskS`) in X direction, to shift it onto the F-point, then we decide that the mask should define ocean everywhere, where it is not zero. I.e. if an ocean point (`1`) and a land point (`0`) are interpolated (=`0.5`), this is converted to ocean (`1`)."
   ]
  },
  {
   "cell_type": "code",
<<<<<<< HEAD
<<<<<<< HEAD
   "execution_count": 13,
=======
   "execution_count": 10,
>>>>>>> updated example notebooks based on MITgcm
=======
   "execution_count": 10,
>>>>>>> 496ab6eb83f621cecad47543189988d9da46342e
   "metadata": {},
   "outputs": [],
   "source": [
    "# add maskZ for interpolation (mask at F point)\n",
    "data['maskZ'] = grid.interp(data['maskS'], \"X\", to=\"left\", metric_weighted=[\"X\", \"Y\"])\n",
    "data['maskZ'] = data['maskZ'].where(data['maskZ']==1, other=0)\n",
    "data = data.set_coords([\"maskZ\"]).chunk({'XC': 250, 'XG': 250, 'YC': 300, 'YG': 300})"
   ]
  },
  {
   "cell_type": "markdown",
   "metadata": {},
   "source": [
    "If you are not 100% sure yet how big the region will be in which you want to detect the eddies, you can specify a larger region for the interpolation and then later define smaller regions for the detection, tracking, etc."
   ]
  },
  {
   "cell_type": "code",
<<<<<<< HEAD
<<<<<<< HEAD
   "execution_count": 14,
=======
   "execution_count": 11,
>>>>>>> updated example notebooks based on MITgcm
=======
   "execution_count": 11,
>>>>>>> 496ab6eb83f621cecad47543189988d9da46342e
   "metadata": {},
   "outputs": [],
   "source": [
    "# Define the parameters for the interpolation\n",
    "interpolation_parameters = {'model': 'MITgcm',\n",
    "                            'grid': 'cartesian',\n",
    "                            'start_time': '0061-01-01', # time range start\n",
    "                            'end_time': '0061-12-30', # time range end\n",
    "                            'calendar': '360_day', # calendar, must be either 360_day or standard\n",
    "                            'lon1': 0.6e6, # minimum longitude of detection region\n",
    "                            'lon2': 1.3e6, # maximum longitude\n",
    "                            'lat1': 1.0e6, # minimum latitude\n",
    "                            'lat2': 1.3e6, # maximum latitude\n",
    "                            'res': 10., # resolution of the fields in km\n",
    "                            'vars_to_interpolate': ['OW', 'vort', 'THETA'], # variables to be interpolated \n",
    "                            'mask_to_interpolate': ['maskZ', 'maskC', 'Depth'], # masks to interpolate\n",
    "                            'regrid_method': 'bilinear', # method used for regridding (default is 'bilinear')\n",
    "                            'ext_method': None # method used for extrapolation (only used in special cases)\n",
    "                           } "
   ]
  },
  {
   "cell_type": "code",
<<<<<<< HEAD
<<<<<<< HEAD
   "execution_count": 15,
=======
   "execution_count": 12,
>>>>>>> updated example notebooks based on MITgcm
=======
   "execution_count": 12,
>>>>>>> 496ab6eb83f621cecad47543189988d9da46342e
   "metadata": {},
   "outputs": [
    {
     "name": "stdout",
     "output_type": "stream",
     "text": [
      "Interpolating from model grid: MITgcm\n",
      "Interpolating OW\n",
      "Interpolating vort\n",
      "Interpolating THETA\n",
      "Interpolating maskZ\n",
      "Interpolating maskC\n",
      "Interpolating Depth\n",
      "Interpolating dxV\n",
      "Interpolating dyU\n"
     ]
    }
   ],
   "source": [
    "data_int, regridder = et.interp.horizontal(data, metrics, interpolation_parameters, weights=None, avoid_regrid=False)\n",
    "\n",
    "# The variable `regridder` returns the weights if a regridding with xESMF has been performed. \n",
    "# If yes, execute the following line to save this regridder to disk, so it can be reused\n",
    "#regridder.to_netcdf(\"test_regridder.nc\")\n",
    "\n",
    "# Then the weights can be reused for future interpolation with the sam grid (i.e. the `lon1`, `lon2`, `lat1`, `lat2` \n",
    "# in `interpolation_paramters` must be identical)\n",
    "#weights = xr.open_dataset(\"test_regridder.nc\")\n",
    "#data_int, regridder = et.interp.horizontal(data, metrics, interpolation_parameters, weights=weights)"
   ]
  },
  {
   "cell_type": "markdown",
   "metadata": {},
   "source": [
    "Don't be confused that interpolation of `dxV` and `dyU` is done although we did not request that. `maskZ`, `dxV` and `dyU` are always interpolated, even if you do not request that because they are essential for the detection of the eddies!"
   ]
  },
  {
   "cell_type": "markdown",
   "metadata": {},
   "source": [
    "### Threshold for the Okubo-Weiss parameter\n",
    "Some sort of threshold needs to be defined for the Okubo-Weiss parameter to distinguish regions within and outside of eddies. This is usually defined as `OW_thr = a * sigma` ([Chelton et al., 2007](https://doi.org/10.1029/2007GL030812)), where `sigma` is the spatial standard deviation of the Okubo-Weiss parameter and `a` is some factor (more on the factor later).  \n",
    "In regions with highly variable dynamic conditions, detection based on a single values of this standard deviation often fails to detect eddies in more \"quiet\" areas of the ocean ([Isern-Fontanet et al., 2003](https://doi.org/10.1175/1520-0426(2003)20<772:IOMEFA>2.0.CO;2)).Thus we here define a spatially variable threshold for the Okubo-Weiss parameter by calculating the (2D) spatial standard deviation in moving boxes.  \n",
    "  \n",
    "We perform the detection and tracking only on one depth level for this example, so we also just compute the spatial standard deviation of OW on this depth level to save time for this example. It works perfectly fine for data with a depth dimension though."
   ]
  },
  {
   "cell_type": "code",
<<<<<<< HEAD
<<<<<<< HEAD
   "execution_count": 16,
=======
   "execution_count": 13,
>>>>>>> updated example notebooks based on MITgcm
=======
   "execution_count": 13,
>>>>>>> 496ab6eb83f621cecad47543189988d9da46342e
   "metadata": {},
   "outputs": [],
   "source": [
    "# Load `OW` into memory so the `.rolling` operation is faster\n",
    "OW_tmp = data_int['OW'].sel(z=100, method=\"nearest\").compute()"
   ]
  },
  {
   "cell_type": "code",
<<<<<<< HEAD
<<<<<<< HEAD
   "execution_count": 17,
=======
   "execution_count": 14,
>>>>>>> updated example notebooks based on MITgcm
=======
   "execution_count": 14,
>>>>>>> 496ab6eb83f621cecad47543189988d9da46342e
   "metadata": {},
   "outputs": [],
   "source": [
    " # Convert all land values to `NaN` so we don't have a lot of zeros when calculating\n",
    "# the standard deviation\n",
    "OW_tmp = OW_tmp.where(OW_tmp != 0)\n",
    "lon_tmp = OW_tmp['lon'].where(OW_tmp['lon'] > 0, other=OW_tmp['lon'] + 360.)\n",
    "OW_tmp = OW_tmp.assign_coords({'lon': lon_tmp})"
   ]
  },
  {
   "cell_type": "code",
<<<<<<< HEAD
<<<<<<< HEAD
   "execution_count": 18,
=======
   "execution_count": 15,
>>>>>>> updated example notebooks based on MITgcm
=======
   "execution_count": 15,
>>>>>>> 496ab6eb83f621cecad47543189988d9da46342e
   "metadata": {},
   "outputs": [],
   "source": [
    "mean_OW_spatial_std = OW_tmp.rolling(\n",
    "                          lon=200, center=True, min_periods=1\n",
    "                          ).std(skipna=True).rolling(\n",
    "                          lat=100, center=True, min_periods=1\n",
    "                          ).std(skipna=True).mean('time')"
   ]
  },
  {
   "cell_type": "markdown",
   "metadata": {},
   "source": [
    "It is also possible to use the mean spatial standard deviation of the Okubo-Weiss parameter over the whole considered region. To do that execute the cell below instead of the one above! Please note that `'OW_thr'` in `detection_parameters` needs to be defined differently, depending on which method of calculating the standard deviation you choose."
   ]
  },
  {
   "cell_type": "code",
<<<<<<< HEAD
<<<<<<< HEAD
   "execution_count": 19,
=======
   "execution_count": 16,
>>>>>>> updated example notebooks based on MITgcm
=======
   "execution_count": 16,
>>>>>>> 496ab6eb83f621cecad47543189988d9da46342e
   "metadata": {},
   "outputs": [],
   "source": [
    "#mean_OW_spatial_std = OW_tmp.std(('lon', 'lat'), skipna=True).mean('time') # uncomment if necessary"
   ]
  },
  {
   "cell_type": "code",
<<<<<<< HEAD
<<<<<<< HEAD
   "execution_count": 20,
=======
   "execution_count": 17,
>>>>>>> updated example notebooks based on MITgcm
=======
   "execution_count": 17,
>>>>>>> 496ab6eb83f621cecad47543189988d9da46342e
   "metadata": {},
   "outputs": [],
   "source": [
    "# use if OW_std is 2D\n",
    "data_int = data_int.update({'OW_std': (['lat', 'lon'], mean_OW_spatial_std.values)})"
   ]
  },
  {
   "cell_type": "code",
<<<<<<< HEAD
<<<<<<< HEAD
   "execution_count": 21,
=======
   "execution_count": 18,
>>>>>>> updated example notebooks based on MITgcm
=======
   "execution_count": 18,
>>>>>>> 496ab6eb83f621cecad47543189988d9da46342e
   "metadata": {},
   "outputs": [],
   "source": [
    "# use if OW_std is 1D\n",
    "#data_int = data_int.update({'OW_std': mean_OW_spatial_std})"
   ]
  },
  {
   "cell_type": "code",
   "execution_count": null,
   "metadata": {},
   "outputs": [],
   "source": [
    "# Store the interpolated field on disk so we do not have to do the interpolation again\n",
    "data_int.to_netcdf(datapath + 'test_data_OW.nc', mode='w')"
   ]
  },
  {
   "cell_type": "code",
   "execution_count": 13,
   "metadata": {},
   "outputs": [],
   "source": [
    "# If we already did the interpolation earlier and now start off with the interpolated fields,\n",
    "# we just uncomment the line below to load them\n",
    "data_int = xr.open_dataset(datapath + 'test_data_OW.nc')"
   ]
  },
  {
   "cell_type": "code",
<<<<<<< HEAD
<<<<<<< HEAD
   "execution_count": 22,
=======
   "execution_count": 19,
>>>>>>> updated example notebooks based on MITgcm
=======
   "execution_count": 19,
>>>>>>> 496ab6eb83f621cecad47543189988d9da46342e
   "metadata": {},
   "outputs": [
    {
     "data": {
      "text/plain": [
<<<<<<< HEAD
<<<<<<< HEAD
       "<matplotlib.colorbar.Colorbar at 0x7f919e307d60>"
      ]
     },
     "execution_count": 22,
=======
=======
>>>>>>> 496ab6eb83f621cecad47543189988d9da46342e
       "<matplotlib.colorbar.Colorbar at 0x7f5d97cc6be0>"
      ]
     },
     "execution_count": 19,
<<<<<<< HEAD
>>>>>>> updated example notebooks based on MITgcm
=======
>>>>>>> 496ab6eb83f621cecad47543189988d9da46342e
     "metadata": {},
     "output_type": "execute_result"
    },
    {
     "data": {
      "image/png": "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\n",
      "text/plain": [
       "<Figure size 432x288 with 2 Axes>"
      ]
     },
     "metadata": {
      "needs_background": "light"
     },
     "output_type": "display_data"
    }
   ],
   "source": [
    "# Let's have a look at the fields\n",
    "plt.pcolormesh(data_int['OW'].isel(time=0, z=20), vmin=-2e-10, vmax=2e-10, cmap=cm.balance)\n",
    "plt.colorbar()"
   ]
  },
  {
   "cell_type": "markdown",
   "metadata": {},
   "source": [
    "We see several eddy-like features that have a low OW-parameter, now let's see whether the algorithm detects them as eddies!"
   ]
  },
  {
   "cell_type": "markdown",
<<<<<<< HEAD
   "metadata": {},
   "source": [
    "### DETECTION"
   ]
  },
  {
   "cell_type": "markdown",
   "metadata": {},
   "source": [
    "Things to note for the setting of `detection_parameters`:  \n",
<<<<<<< HEAD
    "1. `'lon1'` and `'lon2'` need to be positive and in meters. \n",
=======
    "1. `'lon1'` and `'lon2'` need to be positive and in meters (for cartesian grids). \n",
>>>>>>> updated example notebooks based on MITgcm
=======
   "metadata": {},
   "source": [
    "### DETECTION"
   ]
  },
  {
   "cell_type": "markdown",
   "metadata": {},
   "source": [
    "Things to note for the setting of `detection_parameters`:  \n",
    "1. `'lon1'` and `'lon2'` need to be positive and in meters (for cartesian grids). \n",
>>>>>>> 496ab6eb83f621cecad47543189988d9da46342e
    "2. `'OW_thr': data_int` if the field `OW_std` in `data_int` is 2D, i.e. we have a spatially varying standard deviation of the Okubo-Weiss parameter. `'OW_thr': data_int['OW_std'].values` if the field `OW_std` in `data_int` is 1D.  \n",
    "3. `'OW_thr_factor'` is usually chosen in the range `(-0.5, -0.2)` ([Chelton et al., 2007](https://doi.org/10.1029/2007GL030812); [Isern-Fontanet et al., 2003](https://doi.org/10.1175/1520-0426(2003)20<772:IOMEFA>2.0.CO;2))."
   ]
  },
  {
   "cell_type": "code",
<<<<<<< HEAD
<<<<<<< HEAD
   "execution_count": 23,
=======
   "execution_count": 29,
>>>>>>> updated example notebooks based on MITgcm
=======
   "execution_count": 29,
>>>>>>> 496ab6eb83f621cecad47543189988d9da46342e
   "metadata": {},
   "outputs": [],
   "source": [
    "# Specify parameters for eddy detection\n",
    "detection_parameters = {'model': 'MITgcm',\n",
    "                        'grid': 'cartesian',\n",
    "                        'hemi': 'south',\n",
    "                        'start_time': '0061-01-01', # time range start\n",
    "                        'end_time': '0061-12-30', # time range end\n",
    "                        'calendar': '360_day', # calendar, must be either 360_day or standard\n",
    "                        'lon1': 0.6e6, # minimum longitude of detection region\n",
    "                        'lon2': 1.3e6, # maximum longitude\n",
    "                        'lat1': 1.0e6, # minimum latitude\n",
    "                        'lat2': 1.3e6, # maximum latitude\n",
    "                        'res': 10., # resolution of the fields in km\n",
    "                        'min_dep': 1000, # minimum ocean depth where to look for eddies in m\n",
    "                        'OW_thr': data_int, # \n",
    "                        'OW_thr_name': 'OW_std', # Okubo-Weiss threshold for eddy detection\n",
<<<<<<< HEAD
<<<<<<< HEAD
    "                        'OW_thr_factor': -0.3, # Okubo-Weiss parameter threshold\n",
    "                        'Npix_min': 20, # minimum number of pixels (grid cells) to be considered as eddy\n",
    "                        'Npix_max': 500} # maximum number of pixels (grid cells)"
=======
=======
>>>>>>> 496ab6eb83f621cecad47543189988d9da46342e
    "                        'OW_thr_factor': -0.2, # Okubo-Weiss parameter threshold\n",
    "                        'Npix_min': 20, # minimum number of pixels (grid cells) to be considered as eddy\n",
    "                        'Npix_max': 500} # maximum number of pixels (grid cells)"
   ]
  },
  {
   "cell_type": "markdown",
   "metadata": {},
   "source": [
    "When regridding was forced to be avoided in the interpolation (`avoid_regrid = True`), this has to be communicated by passing on `regrid_avoided = True` to `et.detection.detect_OW()` because the grid is different depending on whether it was regridded before or not. In most cases, `regrid_avoided` can just be omitted from the list of arguments because the default is `False` and `avoid_regrid` should be `False` with only very few exceptions."
<<<<<<< HEAD
>>>>>>> updated example notebooks based on MITgcm
=======
>>>>>>> 496ab6eb83f621cecad47543189988d9da46342e
   ]
  },
  {
   "cell_type": "code",
<<<<<<< HEAD
<<<<<<< HEAD
   "execution_count": 24,
=======
   "execution_count": 30,
>>>>>>> updated example notebooks based on MITgcm
=======
   "execution_count": 30,
>>>>>>> 496ab6eb83f621cecad47543189988d9da46342e
   "metadata": {},
   "outputs": [
    {
     "name": "stdout",
     "output_type": "stream",
     "text": [
      "preparing data for eddy detection (masking and region extracting etc.)\n",
      "detection at time step  1  of  71\n",
      "detection at time step  9  of  71\n",
      "detection at time step  17  of  71\n",
      "detection at time step  25  of  71\n",
      "detection at time step  33  of  71\n",
      "detection at time step  40  of  71\n",
      "detection at time step  48  of  71\n",
      "detection at time step  56  of  71\n",
      "detection at time step  64  of  71\n"
     ]
    }
   ],
   "source": [
    "# We detect eddies at a depth of 100 m\n",
<<<<<<< HEAD
<<<<<<< HEAD
    "eddies = et.detection.detect_OW(data_int.sel(z=100, method='nearest'), detection_parameters, 'OW', 'vort')"
=======
    "eddies = et.detection.detect_OW(data_int.sel(z=100, method='nearest'), detection_parameters, 'OW', 'vort', regrid_avoided=False)"
>>>>>>> updated example notebooks based on MITgcm
=======
    "eddies = et.detection.detect_OW(data_int.sel(z=100, method='nearest'), detection_parameters, 'OW', 'vort', regrid_avoided=False)"
>>>>>>> 496ab6eb83f621cecad47543189988d9da46342e
   ]
  },
  {
   "cell_type": "code",
<<<<<<< HEAD
<<<<<<< HEAD
   "execution_count": 25,
=======
   "execution_count": 31,
>>>>>>> updated example notebooks based on MITgcm
=======
   "execution_count": 31,
>>>>>>> 496ab6eb83f621cecad47543189988d9da46342e
   "metadata": {},
   "outputs": [
    {
     "data": {
      "text/plain": [
<<<<<<< HEAD
<<<<<<< HEAD
       "{'time': array(cftime.Datetime360Day(61, 1, 3, 12, 0, 0, 0, has_year_zero=False),\n",
       "       dtype=object),\n",
       " 'lon': array([1095107.2974184]),\n",
       " 'lat': array([1042972.04615846]),\n",
       " 'amp': array([3.5489793e-06], dtype=float32),\n",
       " 'eddy_j': array([11, 12, 12, 13, 13, 13, 13, 14, 14, 14, 14, 14, 15, 15, 15, 15, 15,\n",
       "        16, 16, 16, 16, 17]),\n",
       " 'eddy_i': array([69, 68, 69, 67, 68, 69, 70, 67, 68, 69, 70, 71, 68, 69, 70, 71, 72,\n",
       "        69, 70, 71, 72, 70]),\n",
       " 'area': array([2200.], dtype=float32),\n",
       " 'scale': array([[26.462837]], dtype=float32),\n",
       " 'type': 'cyclonic'}"
      ]
     },
     "execution_count": 25,
=======
=======
>>>>>>> 496ab6eb83f621cecad47543189988d9da46342e
       "{'time': array(cftime.Datetime360Day(61, 1, 5, 0, 0, 0, 0, has_year_zero=False),\n",
       "       dtype=object),\n",
       " 'lon': array([765905.40828366]),\n",
       " 'lat': array([1044634.20036562]),\n",
       " 'amp': array([1.5425749e-05], dtype=float32),\n",
       " 'eddy_j': array([12, 13, 13, 13, 13, 13, 14, 14, 14, 14, 14, 15, 15, 15, 15, 15, 15,\n",
       "        16, 16, 16, 16, 16, 16, 16, 17, 17, 17, 17, 17, 18]),\n",
       " 'eddy_i': array([37, 35, 36, 37, 38, 39, 35, 36, 37, 38, 39, 34, 35, 36, 37, 38, 39,\n",
       "        32, 33, 34, 35, 36, 37, 38, 33, 34, 35, 36, 37, 35]),\n",
       " 'area': array([3000.], dtype=float32),\n",
       " 'scale': array([[30.901936]], dtype=float32),\n",
       " 'type': 'cyclonic'}"
      ]
     },
     "execution_count": 31,
<<<<<<< HEAD
>>>>>>> updated example notebooks based on MITgcm
=======
>>>>>>> 496ab6eb83f621cecad47543189988d9da46342e
     "metadata": {},
     "output_type": "execute_result"
    }
   ],
   "source": [
    "# In this format, information for every detected eddy is stored\n",
    "# (eddies[t][ed], where t is the time step and ed the eddy number)\n",
    "eddies[0][1]"
   ]
  },
  {
   "cell_type": "code",
<<<<<<< HEAD
<<<<<<< HEAD
   "execution_count": 26,
=======
   "execution_count": 32,
>>>>>>> updated example notebooks based on MITgcm
=======
   "execution_count": 32,
>>>>>>> 496ab6eb83f621cecad47543189988d9da46342e
   "metadata": {},
   "outputs": [
    {
     "name": "stderr",
     "output_type": "stream",
     "text": [
<<<<<<< HEAD
<<<<<<< HEAD
      "<ipython-input-26-1adeb0a55293>:5: MatplotlibDeprecationWarning: shading='flat' when X and Y have the same dimensions as C is deprecated since 3.3.  Either specify the corners of the quadrilaterals with X and Y, or pass shading='auto', 'nearest' or 'gouraud', or set rcParams['pcolor.shading'].  This will become an error two minor releases later.\n",
=======
      "<ipython-input-32-1adeb0a55293>:5: MatplotlibDeprecationWarning: shading='flat' when X and Y have the same dimensions as C is deprecated since 3.3.  Either specify the corners of the quadrilaterals with X and Y, or pass shading='auto', 'nearest' or 'gouraud', or set rcParams['pcolor.shading'].  This will become an error two minor releases later.\n",
>>>>>>> updated example notebooks based on MITgcm
=======
      "<ipython-input-32-1adeb0a55293>:5: MatplotlibDeprecationWarning: shading='flat' when X and Y have the same dimensions as C is deprecated since 3.3.  Either specify the corners of the quadrilaterals with X and Y, or pass shading='auto', 'nearest' or 'gouraud', or set rcParams['pcolor.shading'].  This will become an error two minor releases later.\n",
>>>>>>> 496ab6eb83f621cecad47543189988d9da46342e
      "  plt.pcolormesh(plot_lon, data_int['lat'].values, data_int.OW.isel(time=t).sel(z=100, method='nearest').values,\n"
     ]
    },
    {
     "data": {
<<<<<<< HEAD
<<<<<<< HEAD
      "image/png": "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\n",
=======
      "image/png": "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\n",
>>>>>>> updated example notebooks based on MITgcm
=======
      "image/png": "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\n",
>>>>>>> 496ab6eb83f621cecad47543189988d9da46342e
      "text/plain": [
       "<Figure size 432x288 with 1 Axes>"
      ]
     },
     "metadata": {
      "needs_background": "light"
     },
     "output_type": "display_data"
    }
   ],
   "source": [
    "# Plot a single time step to see what the detection method detected\n",
    "t=0\n",
    "d_p = detection_parameters\n",
    "plot_lon = data_int['lon'].where(data_int['lon'].values > 0, other=data_int['lon'].values + 360)\n",
    "plt.pcolormesh(plot_lon, data_int['lat'].values, data_int.OW.isel(time=t).sel(z=100, method='nearest').values,\n",
    "               vmin=-2e-10, vmax=2e-10, cmap=cm.balance)\n",
    "for c, l in zip(['whitesmoke', 'dimgray'], ['-', '--']):\n",
    "    plt.plot([d_p['lon1'], d_p['lon2'], d_p['lon2'], d_p['lon1'], d_p['lon1']],\n",
    "             [d_p['lat1'], d_p['lat1'], d_p['lat2'], d_p['lat2'], d_p['lat1']],\n",
    "             color=c, linestyle=l)\n",
    "\n",
    "for i in np.arange(0, len(eddies[t])-1):\n",
    "    if eddies[t][i]['lon'] < 0:\n",
    "        eddy_lon = eddies[t][i]['lon'] + 360\n",
    "    else:\n",
    "        eddy_lon = eddies[t][i]['lon']\n",
    "    if eddies[t][i]['type'] == 'cyclonic':\n",
    "        for s, c in zip([7, 6], ['k', 'gold']):\n",
    "            plt.plot(eddy_lon, eddies[t][i]['lat'], marker='o', color=c, markersize=s)\n",
    "    elif eddies[t][i]['type'] == 'anticyclonic':\n",
    "        for s, c in zip([7, 6], ['k', 'silver']):\n",
    "            plt.plot(eddy_lon, eddies[t][i]['lat'], marker='o', color=c, markersize=s)"
   ]
  },
  {
   "cell_type": "markdown",
   "metadata": {},
   "source": [
    "We see that all features below a certain OW threshold have been detected. Some of them, we might not consider as an eddy. If you have the feeling, that two many features are detected, that are not eddies, change parameters like `OW_thr_factor`, `Npix_min`, `Npix_max`"
   ]
  },
  {
   "cell_type": "code",
   "execution_count": null,
   "metadata": {},
   "outputs": [],
   "source": [
    "# For every time step, we store one file on disk with all the information of the detected\n",
    "# eddies at this time step\n",
    "for i in np.arange(0, len(eddies)):\n",
    "    datestring = str(eddies[i][0]['time'])[0:10]\n",
    "    with open(datapath + 'test_'\n",
    "          + str(datestring) + '_eddies_OW0.3_test.pickle', 'wb') as f:\n",
    "        pickle.dump(eddies[i], f, pickle.HIGHEST_PROTOCOL)\n",
    "    f.close()"
   ]
  },
  {
   "cell_type": "markdown",
   "metadata": {},
   "source": [
    "### TRACKING"
   ]
  },
  {
   "cell_type": "markdown",
   "metadata": {},
   "source": [
    "Things to note for the setting of `tracking_parameters`:  \n",
    "1. `'start_time'` is required to be no earlier than the earliest actual date of the detected eddies. In our case here, for the year 0002 and a 5-day temporal resolution of the data, this is `'0002-01-05'` (The `MITgcm` stores the 5-daily averages at the end of the 5-day period).\n",
    "2. `'lon1'` and `'lon2'` need to be identical to `'lon1'` and `'lon2'` in `detection_parameters`.  \n",
    "3. If you stored the detected eddies in files and want to track these, set `'dict': 0`, make sure `'data_path'`, `'file_root'` and `'file_spec'` are set accordingly and use `in_file=True` as an argument to `et.tracking.track()`. The method will look for files `datapath + file_root + 'YYYYMMDD' + file_spec + '.pickle'`, the date `'YYYYMMDD'` is automatically calculated from `'start_time'`, `'dt'`, and `'end_time'`. You have to make sure that the stored, detected eddies contain that date in their filename (e.g. as defined in the cell above)!"
   ]
  },
  {
   "cell_type": "code",
<<<<<<< HEAD
<<<<<<< HEAD
   "execution_count": 28,
=======
   "execution_count": 33,
>>>>>>> updated example notebooks based on MITgcm
=======
   "execution_count": 33,
>>>>>>> 496ab6eb83f621cecad47543189988d9da46342e
   "metadata": {},
   "outputs": [],
   "source": [
    "# Specify parameters for eddy tracking\n",
    "tracking_parameters = {'model': 'MITgcm',\n",
    "                       'grid': 'cartesian',\n",
    "                       'start_time': '0061-01-05', # time range start\n",
    "                       'end_time': '0061-12-30', # time range end\n",
    "                       'calendar': '360_day', # calendar, must be either 360_day or standard\n",
    "                       'dt': 5, # temporal resolution of the data in days\n",
    "                       'lon1': 0.6e6, # minimum longitude of detection region\n",
    "                       'lon2': 1.3e6, # maximum longitude\n",
    "                       'lat1': 1.0e6, # minimum latitude\n",
    "                       'lat2': 1.3e6, # maximum latitude\n",
    "                       'res': 10.,\n",
    "                       'dE': 50., # maximum distance of search ellipsis from eddy center in towards the east \n",
    "                                 # (if set to 0, it will be calculated as (150. / (7. / dt)))\n",
    "                       'eddy_scale_min': 0.5, # minimum factor by which eddy amplitude and area are allowed to change in one timestep\n",
    "                       'eddy_scale_max': 1.5, # maximum factor by which eddy amplitude and area are allowed to change in one timestep\n",
    "                       'dict': eddies, # dictionary containing detected eddies to be used when not stored in files (set to 0 otherwise)\n",
    "                       'data_path': datapath, # path to the detected eddies pickle files\n",
    "                       'file_root': 'test',\n",
    "                       'file_spec': 'eddies_OW0.3_test',\n",
    "                       'ross_path': datapath} # path to rossrad.dat containing Chelton et a1. 1998 Rossby radii"
   ]
  },
  {
   "cell_type": "code",
<<<<<<< HEAD
<<<<<<< HEAD
   "execution_count": 29,
=======
   "execution_count": 34,
>>>>>>> updated example notebooks based on MITgcm
=======
   "execution_count": 34,
>>>>>>> 496ab6eb83f621cecad47543189988d9da46342e
   "metadata": {},
   "outputs": [
    {
     "name": "stdout",
     "output_type": "stream",
     "text": [
      "tracking at time step  9  of  72\n",
      "tracking at time step  17  of  72\n",
      "tracking at time step  25  of  72\n",
      "tracking at time step  33  of  72\n",
      "tracking at time step  41  of  72\n",
      "tracking at time step  49  of  72\n",
      "tracking at time step  57  of  72\n",
      "tracking at time step  65  of  72\n"
     ]
    }
   ],
   "source": [
    "# Now we track the eddies, all information needed has to be added to `tracking_parameters`\n",
    "tracks = et.tracking.track(tracking_parameters, in_file=False)"
   ]
  },
  {
   "cell_type": "markdown",
   "metadata": {},
   "source": [
    "We now have tracked all eddies that met the criteria specified in `tracking_parameters`. Every entry `i` in `tracks[i]` corresponds to one complete track."
   ]
  },
  {
   "cell_type": "code",
<<<<<<< HEAD
<<<<<<< HEAD
   "execution_count": 30,
=======
   "execution_count": 35,
>>>>>>> updated example notebooks based on MITgcm
=======
   "execution_count": 35,
>>>>>>> 496ab6eb83f621cecad47543189988d9da46342e
   "metadata": {},
   "outputs": [
    {
     "data": {
      "text/plain": [
<<<<<<< HEAD
<<<<<<< HEAD
       "{'time': array([cftime.Datetime360Day(61, 1, 3, 12, 0, 0, 0, has_year_zero=False),\n",
       "        cftime.Datetime360Day(61, 1, 8, 12, 0, 0, 0, has_year_zero=False)],\n",
       "       dtype=object),\n",
       " 'lon': array([1095107.2974184, 1107735.8908555]),\n",
       " 'lat': array([1042972.04615846, 1066194.40129733]),\n",
       " 'amp': array([3.5489793e-06, 6.1373075e-06], dtype=float32),\n",
       " 'eddy_j': {0: array([11, 12, 12, 13, 13, 13, 13, 14, 14, 14, 14, 14, 15, 15, 15, 15, 15,\n",
       "         16, 16, 16, 16, 17]),\n",
       "  1: array([12, 13, 13, 14, 14, 14, 15, 15, 15, 15, 16, 16, 16, 16, 17, 17, 17,\n",
       "         17, 17, 18, 18, 18, 18, 19, 19, 19])},\n",
       " 'eddy_i': {0: array([69, 68, 69, 67, 68, 69, 70, 67, 68, 69, 70, 71, 68, 69, 70, 71, 72,\n",
       "         69, 70, 71, 72, 70]),\n",
       "  1: array([69, 69, 70, 69, 70, 71, 69, 70, 71, 72, 69, 70, 71, 72, 69, 70, 71,\n",
       "         72, 73, 70, 71, 72, 73, 70, 71, 72])},\n",
       " 'area': array([2200., 2600.], dtype=float32),\n",
       " 'scale': array([26.462837, 28.768137], dtype=float32),\n",
       " 'type': 'cyclonic',\n",
=======
=======
>>>>>>> 496ab6eb83f621cecad47543189988d9da46342e
       "{'time': array([cftime.Datetime360Day(61, 1, 5, 0, 0, 0, 0, has_year_zero=False),\n",
       "        cftime.Datetime360Day(61, 1, 10, 0, 0, 0, 0, has_year_zero=False),\n",
       "        cftime.Datetime360Day(61, 1, 15, 0, 0, 0, 0, has_year_zero=False),\n",
       "        cftime.Datetime360Day(61, 1, 20, 0, 0, 0, 0, has_year_zero=False)],\n",
       "       dtype=object),\n",
       " 'lon': array([1223956.16997171, 1224359.68447858, 1243710.21710298,\n",
       "        1281576.97365432]),\n",
       " 'lat': array([1044750.39743897, 1066527.10654088, 1092753.19256995,\n",
       "        1118546.26289635]),\n",
       " 'amp': array([2.2709943e-05, 2.6688313e-05, 2.5067982e-05, 2.3140958e-05],\n",
       "       dtype=float32),\n",
       " 'eddy_j': {0: array([12, 12, 12, 13, 13, 13, 13, 13, 14, 14, 14, 14, 14, 14, 14, 15, 15,\n",
       "         15, 15, 15, 15, 15, 16, 16, 16, 16, 16]),\n",
       "  1: array([14, 14, 15, 15, 15, 15, 15, 16, 16, 16, 16, 16, 17, 17, 17, 17, 17,\n",
       "         17, 18, 18, 18, 18, 18, 19, 19, 19]),\n",
       "  2: array([17, 17, 17, 18, 18, 18, 18, 18, 19, 19, 19, 19, 19, 20, 20, 20, 20,\n",
       "         20, 21, 21, 21, 21, 21, 22, 22]),\n",
       "  3: array([19, 19, 20, 20, 20, 20, 21, 21, 21, 21, 21, 22, 22, 22, 22, 22, 23,\n",
       "         23, 23, 23, 24, 24, 24])},\n",
       " 'eddy_i': {0: array([81, 82, 83, 80, 81, 82, 83, 84, 80, 81, 82, 83, 84, 85, 86, 80, 81,\n",
       "         82, 83, 84, 85, 86, 81, 82, 83, 84, 85]),\n",
       "  1: array([82, 83, 80, 81, 82, 83, 84, 80, 81, 82, 83, 84, 80, 81, 82, 83, 84,\n",
       "         85, 81, 82, 83, 84, 85, 82, 83, 84]),\n",
       "  2: array([83, 84, 85, 82, 83, 84, 85, 86, 82, 83, 84, 85, 86, 83, 84, 85, 86,\n",
       "         87, 83, 84, 85, 86, 87, 85, 86]),\n",
       "  3: array([87, 88, 86, 87, 88, 89, 86, 87, 88, 89, 90, 86, 87, 88, 89, 90, 87,\n",
       "         88, 89, 90, 88, 89, 90])},\n",
       " 'area': array([2700., 2600., 2500., 2300.], dtype=float32),\n",
       " 'scale': array([29.31615 , 28.768137, 28.209478, 27.05758 ], dtype=float32),\n",
       " 'type': 'anticyclonic',\n",
<<<<<<< HEAD
>>>>>>> updated example notebooks based on MITgcm
=======
>>>>>>> 496ab6eb83f621cecad47543189988d9da46342e
       " 'exist_at_start': True,\n",
       " 'terminated': True}"
      ]
     },
<<<<<<< HEAD
<<<<<<< HEAD
     "execution_count": 30,
=======
     "execution_count": 35,
>>>>>>> updated example notebooks based on MITgcm
=======
     "execution_count": 35,
>>>>>>> 496ab6eb83f621cecad47543189988d9da46342e
     "metadata": {},
     "output_type": "execute_result"
    }
   ],
   "source": [
    "# The entries in `track` look like this\n",
    "tracks[0]"
   ]
  },
  {
   "cell_type": "code",
<<<<<<< HEAD
<<<<<<< HEAD
   "execution_count": 31,
=======
   "execution_count": 50,
>>>>>>> updated example notebooks based on MITgcm
=======
   "execution_count": 50,
>>>>>>> 496ab6eb83f621cecad47543189988d9da46342e
   "metadata": {},
   "outputs": [
    {
     "data": {
<<<<<<< HEAD
<<<<<<< HEAD
      "image/png": "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\n",
=======
      "image/png": "iVBORw0KGgoAAAANSUhEUgAABBEAAAEQCAYAAADmn+xpAAAAOXRFWHRTb2Z0d2FyZQBNYXRwbG90bGliIHZlcnNpb24zLjQuMiwgaHR0cHM6Ly9tYXRwbG90bGliLm9yZy8rg+JYAAAACXBIWXMAAAsTAAALEwEAmpwYAADX6ElEQVR4nOz9e5BkWX7XCf7OvX79EeHh4ZER+c6sZ1d19UvqbpXeQhISSC2QkEC8NMwAs4Bs1kBamGWMYcBWg+2MzcAuM1pGA0IGbW0yW7TL8tAIhJCQADVICKlFq7urq6u7VF2PzMrMyMx4e4Q/7737x+/3PdfP7/oN98zKqsjI+n3Nur3c/T7O43d+51zP+H6Oy/OcTCaTyWQymUwmk8lkMpnmKTrpAphMJpPJZDKZTCaTyWQ6HbIfEUwmk8lkMplMJpPJZDItJPsRwWQymUwmk8lkMplMJtNCsh8RTCaTyWQymUwmk8lkMi0k+xHBZDKZTCaTyWQymUwm00KyHxFMJpPJZDKZTCaTyWQyLaQT/RHBOfdx59xt59wLCx7/h51zLzrnPu+c+wdvd/lMJtM7L8sLJpNJy/KCyWTSsrxgMp2cXJ7nJ3dz576ZiHpE9JN5nn9wzrHPENE/JKJvy/N8xzl3Ls/z2+9EOU0m0zsnywsmk0nL8oLJZNKyvGAynZxO9C8R8jz/JBFtT3/mnHvaOfcvnXO/6Zz7d8655+SrP0NE/3ue5ztyrg18k+kRlOUFk8mkZXnBZDJpWV4wmU5ODyMT4SeI6IfyPP8qIvqLRPS35fNniehZ59yvOOd+zTn3sRMroclkeqdlecFkMmlZXjCZTFqWF0ymd0C1ky7AtJxzbSL6BiL6/znn8HFDXmtE9AwRfSsRXSGif+ec+2Ce57vvcDFNJtM7KMsLJpNJy/KCyWTSsrxgMr1zeqh+RCD+y4jdPM8/POO760T0a3mej4noVefcF4mTwW+8g+UzmUzvvCwvmEwmLcsLJpNJy/KCyfQO6aGyM+R5vk88sP8QEZFjfaV8/dNE9Dvl8w3iP0v68kmU02QyvXOyvGAymbQsL5hMJi3LCybTO6eT3uLxp4joPxDRe51z151zf4qI/hgR/Snn3GeI6PNE9L1y+M8T0ZZz7kUi+jdE9N/keb51EuU2mUxvnywvmEwmLcsLJpNJy/KCyXRyOtEtHk0mk8lkMplMJpPJZDKdHs39SwTn3Medc7edcy/MOe6rnXOpc+4PPrjimUymh1GWF0wmk5blBZPJpGV5wWR6NDX3LxGcc99MRD0i+sk8zz9YcUxMRP+KiAZE9PE8z//RvBuvn1nLr16+THmeyTXU7xnyvoCrOlIfvDVJvX399ev0bX1ZKu4tn6dZJq95UNQkjvnS6YQ/j5lnOUn5+Jzy4DhonKbqOFYt4vLEkZPXaHbZVfkg1Fkf7Y6rowh1Q5n9vTMuK+qI/nIR18mhDeTemb/5vL+ECcuD4jn1wb1GBcqRZjlledhfkVPt6k/KwjI9qFjUZZPXTOJJd2sk/Y5yoly5HI8LZJMRERF97osv383z/OyDLOPblxfO5I9dvVIOZVXHXOKtuJfqqwh941AWHDjn8wcoX4k8eFt1q1LqQfdKWYcTrjP6vRZHwXsdnznyUorPcV3EN86rKNhx8Y4c4mNU+iMLr4VcRypHzcszxW2QL8I2zFXecBQmBuf7N/h48Xxx3LxYkU8zlVdRBt3OuYqLBxWLVXmj1N+i3/rMZ05VXrh65TIV88qCTszSGNTzvAoQNb9NlRn/EZxX7qoZffeA1yz3et2R5I3+ROZmuUwz4Tm5UeMx6ucPOQBz9z0VsfSBzLMY9xgTLswfpX59m+bWUvH8f+ixi/+4v/XFzHvoa9/3Beesme6z7bC2+9znPnu68sLVq/Pnk3mT7zzNGXt6XewPK80BGeUyH2dYK+MZSGLfRTweXYyxMCfXVawzqiLvfp+p9PMNFKnnEH+1t9rmUyo/N4T3dn49Is8hWbjm8ePY53G09UOFBWSV1gdaqj3foVxZtV6YuztDnuefdM49MeewHyKif0xEX71oga5evkz/6qf/MaXDPhERxY1W8H3caBJR+SFUT2z3GgT6ISQbj+R1HLz3149jX5Yoqc+8ZlTjz3cPuS77gyERESWSBC50lomIaLS/Q0REje46ERHd3j8komJwXux2gve393tERLR5cMRlkxG0ttSQV26z7jK/4qFRy7ehvA6krjoZxJHzP2ToBScCd78/IKLiB46VlvRTn+sy3L0b3Ctpc53qna7cmxMnFjaZzgpKkSpHrH5AieR9HT9SqIdLLd0G+/2hLxMextqNutSN2zmSwYzY0LFYFYOlRFYqiz6P7z+Stj0ajIL30LKUD68YQxPpg1yOH2xeIyKix7/5Y68fW5D70NuVFx67eoX+9c/9i1I/pkOOu8kR13FyuBd8r/NHpPIHxi7GKiZofF6dV45L0HohHJ6bTTjG0B+oU9XivPTDiBw3lkXF61tc57qU/VynTUREy42EiIo2QnxOHL8iL0HNhK/XkfhGOXW5ZsW7rpvvjz7nqgxlkHZurHGuy+qSo6StdJ5BG+p2xzgdjCRvSFumqs11XiiuPztfxKUfCtWPIsfkkagm7S25C7kQZUzzsI4Ypy7j79GuWExWxWL13IaYDHPnSK6n8wb6G+VAW6xunD01eeHqlcv0S//sZ3xbYbxnpPvRl4S/V2PQz/MyV+q5EblU939V/ijljbg8tu/nYXyWqvJD8T5sA8Tnmzv7RET0wq3t4PP3nesSEdGTZ9f4+kNeZyAua0u8bim3cfVjsZ6rMN4Ph9zefkxEfA3MWagL7ol2xjgv9y9UeuxfSP6BCA8n6gFpsXyhHyRnz/epegCN3ew1TaHZa6JFchPRrPyh2ybMdTgea7urV6+cnrxw9Sr9ws//PDWTBHeS1zBHVs1xWlU5F+cXx/F1MDYQ32MV/3oOoPGQxj0ejyNZK2d4BmrxfJ50eDxi7YznD10nHQ96nZHrfzxQOavqmUoLbbJ7yPGB5xsI6w88C2B9Mt3mul3nrY2Le4frdTw3QM0637sm/4iBtsW6BIokPpDH0aaYR+aNlakSVZQ0X+CYKh3fn1p6jnmrz8SLqmq98Jbv5py7TES/n4h+fIFjf9A59ynn3Ke2tnfe6q1NJtNDqvvNC3e3tt/+wplMphPR/a8XLC+YTI+q7jsvbBkT0WQ6ST2Inyx+lIj+Uu7/nrVaeZ7/RJ7nz+d5/vz6mbUHcGuTyfSQ6kfpPvLCxvqZt79kJpPppPSjdF/rBcsLJtMjrB+l+8kL6+tvf8lMJlOl5toZFtDzRPT/Ea/JBhH9HufcJM/zn34A1zaZTKdTlhdMJpOW5QWTyaRlecFkOoV6yz8i5Hn+JP7bOfcJIvrniwz8PJ3QaOeufw8vLSlvIrxx3pOovC3+3vfpAyk80xRcX/uGpj8riz0tzTo3J3z8hWedvYaN7gYREd3cZd/O4ZB9PhvtJSIqfJqx1Lle4/u1xfcDnx68zPDsV3nkqsoLn1864zz499JUvIHeC0jBvf3x8BC2V4KywCMNDgRe4UVqihdJ8ya8N1V5pub5CrV3SXuccL2BeNfgYdvvD72XuC3eLg2K0ayJSq/SnBic54lHHcB3yCSeRv00KDNeNRuh2eF/rQPDAZ66k9D95oUsndBw967PB5ptgHhB3bw3cQK2ifjNVWx7v2AkfRAvmi+O88SFMLDC06a9iCGXocofqONjLLd+6cYdIiK6sc955FKH88V6W40RaTNcB20EZspY/IRJDW0W+sW1CkgRv7J/UBgGwmkA6wT9orkcvi5yb/huWwl8lJxPnGLUoM0a8tpcDn2hVUyEqdLPrNOMWgbvCrjV/Pgo3VOmJOREtLNnqqh2rvLVV5a0Ik5QVnhRY2lT7dM96LOXFfPUSei+1wtZRpN+b8rDinzQku/D+CnOm+0P1swl36YLsnVwPf96zPHFWmJxjsJxmsdvwdjQ/uwzLQ7QtSWu+2MbXSIiyo54rvZrLrW2wtx7XCn9/DoS5kQF6whrGvjA4WH211GMLKzHskpeSFjnRdkJBRCaz6t7T314vIZNHpdXqnJQPNcjvWiuYumYvXfpeYuvo9d276TuNy9MsozuHhx5qO26rKWXBBqq8wHeF4yTsN/13F1io8jx+5JLt3o8J+8Jh+ZwFPLGWsKjuShctCtnVn3MRxLjdXkuaK6fl2vyHNo/lDVNL2SsYQyBt4D3zYpcOO/5YNFnp1XJH3jV6x7cD7zIgrkQUXmcIpscDw/E8XhmadY1o0SOG4aMm4Ijoa6qcmeZM6PzSgiGhfT9ZzEe5ueo2SwEzUwqXVfN/36tpeaud4qVMHc14Zz7KSL6ViLacM5dJ6IfIaKEiCjP87n+JZPJ9OjJ8oLJZNKyvGAymbQsL5hMj6YW2Z3hBxa9WJ7nf/ItlcZkMp0KWV4wmUxalhdMJpOW5QWT6dHUQ7hJpslkMplMJpPJZDKZTKaHUSdnjnQRRY0W5cpvTt4XEn6s/bnY77mKYTBvL3btA9YeKfjksyzz3iN45fWesbhmw/t44RWSfcNlj/Tr27zPO3xTy/XQF5wJOwFlh9e95H2CT1DaLlW+r/Lep76kNEuFvzgiIuXD8d7B8GP4eiL5Ih0Og7Iny6tBGdHemn1Q5WXV/ShNP9fXM88f6vedH2Pf+azYE1p8TmjnyrKpvcXv1WtU7cPyRxARTe19zMIeuTtH7CuHDw8MBTAdsG9vco9e24dCec5jG/0ufJBiz+QWDiSiKQ/+cPYeyXiNG/fWFiWuQYWPLTxndm4JvYFln53newhnAHut397num0esE+4P5a9kJVXbrS/S0QFh8RzCMR7ibarY69qv3d22GaLCGUbq/2aE+mnRpe9iOAzQE3xhh4OuQ12jvrB9c62uV9HezvB+eWxEvrLER8TnS/mzAtVeQKa7a2enT/1sc0k9BpXeVPnl+146TnR+0HlfMwfyHVgJPQO1Jx7CuTIBXN6wRGQWJY21h77qn3Bdw8l/mRMIT47Xaa9Y0wV/lTpS1LvJ6F/dbovNANBz33+dc74m8Vn4s9nx4mOR/jE8Yr5Ydw7COuQzc4HmYwNRE1dtT1R7u+J13EarpFiJ+NVl1nuBRZCKjkM4zpeYi95rdXmV3mPNkH+QBmRU3UZK73ucr7ugcXGZJgPZs0J96O3y7s8T3pdexrknKNWvUZfvstr67s9jqOnhPfRjhBfPJ9UPRd4ttIYbCVuCz/PyNgFx+z6Do+d1+T19hGvf0dpGBPrTVmT1fFckfocVF/lHeruHvE9X3z9JhER9RRXoV7jMrRqnKMwfnHNljBuNIsnkTJXcqJ8rtLxNps3ptfB+jr6maxgq7gy46yCYZL6cSzfY01eyjmhfG4FT2ycBGUqPz+G5xfrSr4fnhNGap2DZ4O6zBeaK+XiuDLG5rEQ5rGpqjTvWbd8/IPNL/aXCCaTyWQymUwmk8lkMpkWkv2IYDKZTCaTyWQymUwmk2kh2Y8IJpPJZDKZTCaTyWQymRbSiTERXFyjxto6TY7Y9wtvM2nfjvL/6n1e4W1xER+n99As7hfuqVna/1WuBxYC9jsejCfej4P91qs8z/693PuWeJqv7/bk2nwevEwb4gPOhYWgfcR1KVPT79+LPUkrvNcVfl/tI4LPCLYg8ALGaeq9i/BVeRgCPI8u9EvhXoXntCllhN+nObOslX6dCqbF4j6e4/dkBiegmXCbRFP1wT7J8MciJr0/LppdtsqSqH10q71LWXB88Xno191YYU8rGA7w/x2OQs5DT3x7YCScKrmI4kbT+/gz4Ync3OMxNNjlsQJf4PoKe2RjMEwUY0X78/T7eX1Z5RMOjqnwss3js8DHO1Z7qsO7vid7UUMt2fu60+Syt8V739/ZD8qIXDivjlXlLtVjKq9kEmNgIsC7CC9j5v2YPJYQq9C5Tjs4vrT/svcmUlAnXRbdn2Xf+bx8EZZLl/Ne926fvsYiMfN2qDSnyeuyZ2GwRpP+O1SiByjnKErqM2JZ9ryPw/5HW8BD35emuX7rLhER3djj3I75/uwyz1NX1lb4veSf4Q4f7/OK7IGOOSETL7/2C0dJ3e8DH0kaXnS8VUmvM+YJHtyWnJYOeH0xHofrjKo1EeQZLvL9cXukY64qzuXv4CXGuf4Mtde5ZyRoZlUNMcz9iRyJVwixjjUb1lTaGw1phko5f8zOC9N1flDjvOBEPRi2QiHksnA9qD3Zp1G1KKLuUouudLkOmwdH8srje+kscwdcqf+5vxddlyL+9oW5gvvc7PEc3Z/MHht1YSpgLVaPYyLJLWCkvS7z994gZCHgGpqdlExkXCchC0FzimL53j/7aIZOHMab5j4Vzxuz41Fft/T91Bwcex7U7Gvp9YCvC/KG5ziFa/FMyghOVAQmWwPParIuUVyIYpw3g+scHIasJvTBSouPS2QIVTGbZqm8rte8rdnPqhKiC69R5+l+x/m8tZT9JYLJZDKZTCaTyWQymUymhWQ/IphMJpPJZDKZTCaTyWRaSPYjgslkMplMJpPJZDKZTKaFdHJMhCiiWqvtmQiaheCPU/uBV/mMS3ugihcG5+u9tCv38nRlT732/Rb7n0rRxU/TF7/w7X32On3h9i4REW312Y+zIvu5rom/Bvs29+/cnFkHX8YavO2hT1d7nr0/UDzx8POAAxARvFZh3eGpGk1Sfw48QfAWekYCXv0+r2F7Vfl9FuUIFNeZtzfqvL1tQ2F/aukC79FqJpn3a1axEBbXbAbFvD3pobjifPjAGtIXF7vsqYP/E/0OJkJRtxMb3vetqJZQc/08bR+x5+zL1zaJiOjWAXvVEG+XOjx2WuJlXYGnFd5ZqbreJ177irWXeV7caUYLXzOMxepYn92/nifgvcf8Hp5H+LXRn++9sEFERP07N/hqk3Dv+lqHfaDgSkyVPihHmV9y/H7FvN+zlNHnRFyz6hzxNEZh3fE+yuDPhU8TjJVW8B7SOa9ybGWzmQZ6X+rjVMUqmTpi4WvxdY7PgdU5TeeT472oWjgOHJEy/+EUyDnvWycqYjQj7OvOr2gbxP6B2tf9hc0dIiJ6ZTfkAjyxyucnEm/gH/l8McF9ZawKCyHt94LrxC1mfiSdNarJf8fN5swqaRbBrNwy/XkezeY9TR0p1wt9wHr/dtQJjATwHvR8l42ZP5BITgUnauz9wlP9gfEr75c9j6eCKeDHubRNFeepggPhPdSauSCxjToVTIQys4JfF2XkPHiOQNW9qvLNg2clqOu/RWbHSSmOIs/a6cjaGp56vC53ukQ0xV4T6fjyrDUK2WsDGRuHkk/g3V9vcfy0auEYRxw+IYyVy2uYi3PaPeSY3DkKc1C7Hq7XCq6CrE8lxrEuiBR/wc/J4zBOMBb1GNB8OajMRpDPK3lleC/cCZXH0izz866ef6tYCJrvALYEYjSSZ6JD4UZh7Ys1Ur0V9keJF1TDupDz/K5iIaDNV4ST5jK+/qQ/m4UwPTfNE9oL98p8LuPvNW8K7YrnOLRh4nNeLfi8UNh/95s/5p1nf4lgMplMJpPJZDKZTCaTaSHZjwgmk8lkMplMJpPJZDKZFpL9iGAymUwmk8lkMplMJpNpIdmPCCaTyWQymUwmk8lkMpkW0omR19Isp/3+gJqAekQacCIQKAFfeGBahTycSMMJBcjhQVyVcBABf8h7AFqWG5mHfhTHhmCMwYgBJfsC+Xhla5+IiL6wFUJcLrb5mo+vr/J5W7eJiGjS2w/KhjqjLoADQXhfF4Da7f1ecH+oI1AQABx1GwFCApDHYDyhLAXcLYS8abgkQEZlcBqF96qA9VQBk+4XxKihcVCs+pVK9809uHAeUNHHUkXZp44M3uk2LEAqYVxpECbKXsRBPzh+SV7bElcaNvd2g5jeDk3SjO70+vTS5jYREX32No+NGz0G23QbGHtct3ZdwIpneSzUlhgGpmFikIaNzYcJVsvnkiyeea8y/I+lATjob+QZwHwgAFHR/8Pdu0Ed8LkG7o2RV6KwfMgvQwVASmIBNqnrFG1TxGspP2Th5x4SWQtBijq2nYrxeeN+Xj9V/SpeBYs6TtVAxXuTzheoQ+nzOSBH/bke5/OAbMhz9dPJVQxiA/GiczVyNGDHW70jIiK6tstzJICKN3t8/mpTgb5kDAIiuNQIAV3IH6mk4toyz+XNs5eIiGiU8PF3ekeU9gV0O+QyANoIGGxTQGpNNd/rHFWu82wgmj7OrycAVhYYmYYD+jwikMh8zNcdy5qrscYgV5Jc68FfAE3TFOgS16KBlDGEORa5iK8NACZyUqkOKnfh/XKjJq8CSJPY90DFQQhAKwFZK+byRYGJLorvAe5clXNmrxM0FLacKzHe73eN9Kgp9/OLB3o29NjgutdavD6oAmT63KzatinxtyaQY+QJzHetJDwea++1pkANJQdQa9k/N7SlrO3GbCgf+j1yek2r42Y2qDl2Ep+qLTT4EMDWeYpqGpaqwX3h8wXmm3jOsxtRsSZGbunrNXgjBOujzoCKj9MQ9K7h5Xr8Y52IvkAuXor4OIAcUQcNpSzlkam8VgV7Rszo9b+Gdo40VFKetSI3Cd7HYwFrSj9HEUCbgFgKvBrvXfj9orDYeXnG/hLBZDKZTCaTyWQymUwm00KyHxFMJpPJZDKZTCaTyWQyLST7EcFkMplMJpPJZDKZTCbTQjoxJkJOOY3TlJa8Tzf0dcMjpz0nhU8XPs+RvNcsBDk+Db14+lX70LRfJKKcYEFyyosEb0vmvS3igRTvydNdrsPZZfZHfeACewtrffYqF95mrkPSORNcH+wDfD/e3+Hrt9pBHTotvg/8QSPlD4KneiQeaQj+sKUm+4DSPKP+aEKzpH06kPfbzPk9ap7XcB5nYL4/ebZPq7h/6PtBvORZWvKIlXgZKgarpe892yOp/eSF4G2SWFRtqmPeX0/i5H58/Q+bxllGm/uH9OVd5lN84a74xUbSZit8HGLcexNzjF+Mb+lvHKfayL9X+cN7d8XHp724s5gq5XiZ7XXXcmpMxKr/4C+eR7bA/ZEnhlubRERUa7Nfu9HdmHlcU3IuvHhpxmM/Ec9dEpXrkSg/3mii/ZihXxreRuTVOvzZkpvg7wOPIRbfJbyIOqYr2TdzmDfzNKuP3qrnedEyVB83z8PM5YH/f56XGtL+zlMhFwUMAO+7JYxf8efLMX2Zi5En+mr+aiXcZt0Gt82ZJryw3Bdjibtam+darEfAGYnP8vsD8dD+6hvMN9oecHli56glsb0qvuiO3KMlLCK8gk0Ef/+yX/uE41XPU/h8/ty5WBz6sSarQr8Gk/PrEo91db9sMir7oVWMeZcwvMPIr/KaNrBm0WNu9pxaIhupfIC8rTk1mrVQWjcqjo2fq2V+0TyIWdJ10N5kKJvDLPLHZ2Hb6PFcNb/MY6VozWc9PZw6jv20KF+mdM1UrROFG7De5jXzsuIMRH5+49fh7hYREY32mDMCD36a5X684xXSXna9TvScoTyb+f1Y5Yd6rSou9Jwa8kH0GNEef4zJghcQcgP0+Uk7nnGN2ULdirrwtVeyRnC25tT589V4rTV5jROlIZsFQn9RPLt8RZ6avS5xijeTZjml6ex290wCX4bUnxOUqRY+m/pcI22IZ7GCjYH3kfoc9w2ZCcWaK+RTQeX4uD8OlclkMplMJpPJZDKZTCZTIPsRwWQymUwmk8lkMplMJtNCsh8RTCaTyWQymUwmk8lkMi2kE2MiOHKUxDG5CPu3svdQ7ysM6b2Tq3ydfm9k8fvCI6n3ONWetrIXryztMfP7u8te6BvtJSIq9oiFdxD7vqe9PSIiGu6ELITaUlteZQ9b5dODN7H1NO9Fvd9nP7dsVU0dabOrbeXTks+xjzxe9f7y9c4aERF1l5YoiblM4Duk2WyvYlV7lfcyjyu+D/sBriC8ajZFtar2rFV74c5gIfD7zDMPKssc6zrcm3cwVt7GzHuW3tpveHpMVO2tfZqU5zmN04x6I/GLSbcmMbdZq4ZX8enqvkNfqTbRLIRMYh/fgzOCfcvxOpb7j5WnOo5cyVM2zxdcWefSXtXHe2ULbkxTfcP+S+S8+sXHiYjoN1+/GRz1zDke76sZcyea4MOI/w9eXSeezcKTnVJd7ol9s1PFg4GyNByP8DjiuET6bSzMGlwPPlHPRpDz9f7d2ouo88lEeybBiSntlSxnqz3Y702hB3Ge3/at3atQ4YWd7a1M/Bg5nV5nrZBDIm1YwYGBLxT5YVX2Yr+ywjG+3srkPcfzpQ7P3Xq/d3CG4IFGXnjhBs/hv/z6m0REdDDi63UbsVw/obbsPd6uJ1KW8NrgNuAV91pb4vm+u8yv2mtc5HkZpyrva1XNwagLhPkC64Ft2ar97o07RER0ZY2BNEsUjnUXxT5nVftpwZbhe2NvdPh7td+7au9zSPvEPatFjk+SRvAeXmZf5hleZqJi3/h0HLIPqsbYtHCvsV6/zamLPn++js8395pX7nU981ApzynP0vuuw6JsBKyVocTzhSSOhVc26MscLGt2jKXp8jXri63LULQ4A39IyiLhpVkIyCN6TTRPfuxGc7hlihNCEec3/8w2DJkKiwhjwTOt3GLPGZjH4e+HdI4F04BqVeNW2lYaVa/zkop1JtZY4BEVz0t5kYv8WkOP6zBP6DKjX7FGqvvrhXlE58xFhf7T7LVyHlmsH+0vEUwmk8lkMplMJpPJZDItJPsRwWQymUwmk8lkMplMJtNCsh8RTCaTyWQymUwmk8lkMi2kE2MixJGj5UadnOxNHqv9vUseduW50/uBgycAD4z33Im3jcZDuW+4l2ZS2tN9/h6ZvgzyvhXjFXsPh8eNd9hTODnkPaazSchCqMs+7vAWwWcFz/PWkK/z+ms3iIhoT/aiPiOshac2ukREtCzemKObrxERUSp7WkMRPNTeMx8yFOodoo54w+s17B0/22db9haHx2XK9zMYwf85+7qx2sMUHumyr1d7m/h99V7Js1kIkIujKYYAt8ei+ypPXWVmmXRZtf+rcHzPludRwPcNC/xAru69l9ymhV9cvFOqf0+DnHOUxBGtNjg1XenAI8vfP7HKMX+5E/JHEI/OhTyITKywPl9I28SSL5rr54mI6MY+ex5v7xwREVFv84CIijjVHuvlekKrcu9l8VuvtLiDCr9kuL97af/lOd7FquNj7H1c6/J9xO+bDjgwkAvh2355m32aSzKW1pb4/DPCRji6dZ2vK/mhsbYxsxzZeOz/e1nyhN7LWO9VHblFfb6zVewrz208kuvDuzgWxoXeO1tL53uMRZ1f7n3szyz1nO/zOfeqyieLyfN+Quv6PXtlT4P03uYYc80WjwHwBRAXbRmryBdrSzyGS3u2uzA+0Aev3NklIqJffl3mdGnqD27w/c4uN+S6TWpV7AeP/jkc8rjtjfi1L7kKsbnUrMt71JFjvbRHOdXlc2EkVOR/tMHNXc5tmcxD5zo8llvCSBjKdTa3tvm1J+wkue4THa4jfOBxo1V4jyuEsnr2gIxfzV6CYvHrUoUtVx8PTzPaOsI6T8ZSZR4ZhqwErWK9WB47yEG490j5qVvgvNTD/o/m+LyrylCtkAt1vznsweS+d1p5wEXxc+XCdZnNl9D8EbCU9Doy7TNXaHLEc2zSOcOvMpZmri0VZwNrY6iKnYHjfd6Q10PJH35NLnkjKeXGkCenWV95Bm88nmPC9Qfue3uf64qxfLHLrJTW6lpwvYmsxQ6GY8+UwRSk1+uYfzMZK5jPi/ma6zYRbkytBYZSyDSB/PpAXvVziz8u5bbXY7eu1gVoQ+Q5jPlMPU80k1rpmUiz9JC7cE/kh5UYHJd7G4c6F6aKB5Wp731urMg395oHTmPWMJlMJpPJZDKZTCaTyXQCsh8RTCaTyWQymUwmk8lkMi0k+xHBZDKZTCaTyWQymUwm00KyHxFMJpPJZDKZTCaTyWQyLaQTAytSnnuoIlEBvNHADQ3CA/wrbjAw6UBgH1s7DPsAdBCAr6YAMgA56ngYGuAj/k4z7xeUJZ39XQHv43sCnJgOGUiUKSgLyp50GERS73TlSgy6yBt8HABH+32GvQHm0UoASOO6rLa4LgevfpnrvsNANcBcIoFMQR7I5GEvAKlkvuwAlhR1lLoBFgewjIe+AVzE1wSw5FBAKICIoF80DIQoBC9VwcHmAR1LYEzVZ6jrtO4XqKiBKRrSUwV7BKxlJO81+MS/93CoEHjjoYHSV5HqqwIuVK7rw65a5GhtqUlPrXHMdgWEBqjX+RUeO5dWGQaGcexhMogPyRMeqDjm82syFm4ectt9+gvX5L2AV+X8pSSEz+D+eB2lWQlg42GgSTGeiIp+gub1C8BoGryIOB3lXKYdAaQB4NUVmBPyBOBAaMs1AT8+vr5KRESDrU0iIpoc7oWvAotqCPAVIMdsPJ4CTHHdVgTiiHtpgKoWxi3GAOBxGmCUSx4AoHUgeR6gJICXFlUBXlI5XPILxlwIXpwNca2SHu86n1TlgwK4FAJZ41JeWQzUGlfGl0Dm4tOXF+ZJw0vHKY+NVYlPxNlFiR+Augowlwb78feAlo4kbF7b4es+3uE89L5zXSIi2mgz6NUDvCLnAVaZAmlhTkS/ebigvG/Xw3xeAqJV9C/mAd2/OP7NrV0iIromeaMjuXNdyk7qslgzbSzz+Mfayec1yQXZeEx1Wctg/s8jBYWVV+SmsYIRZiqXaqBtFWwMnwOo2KxjvgiBmKX7qzjQwNUqIU4G48kUzJVfNRQaZcI9yuuFRXVvYNX7B7u+NQjuSSjPj1+zv1VYpM8rAOlNQliyk3hvXbhKRMW6Q0NO3dR6FTHm18ZpGIuRDETEaE+Ou33AzwFv7vMr8gXWJGdlnPo4lLGA5xC8QsVzgOQNlVfwPeZgn7dkbAIojTh3EldjCdfbe/xMdjga00ab8+VqLPP6eDYMvC5rnGYbzyx8PNYkPhcm/OrByJOw7B5KrnIwzckjel7Q+UPPExpSyOeH41U/HyBvdGQ95tfxUdX4CwGNJTi8OjrRcNFYryPC61bll0XHjv0lgslkMplMJpPJZDKZTKaFZD8imEwmk8lkMplMJpPJZFpIc39EcM593Dl32zn3QsX33+uc+6xz7recc59yzn3Tgy+myWR6mGR5wWQyaVleMJlMWpYXTKZHU4swET5BRD9GRD9Z8f0vEdHP5HmeO+e+goj+IRE9t2gBwELwfs1otg/YNdjncTRmP8jNO7tERHRtV1gI4pmFXwfcgDPCC4BPCJ4W7W2p8qtOS3sNtd8eXhXPDUjhwwl9gfBNNbrrRER0OFT+HnhY5Hx4j84TexfhQTonvvDJEfuFwFjAq2ciiG+r8GeF/mNfvyj2dZqoOhReMHWOYiG4JX4PjyE86yut0Juk2QeZvI+UBzKu9AnNlq4bylfFs5g+dt7nVf3tFBdCH191XB2xH6vYFK8bfFZVKhgJ9eBz3d9vkz5Bb0NeqEURbaws+fEKzyzew5ervcxoM9928vso8gva5HPXmQPwy6/fISKiIzHwXe3w95eFuaB9yZp/EDvn+6ecU2Z7lrX/rypuIB0/ecTj/vbOfnA/eOvgeazJ9S6CGyF1WVvmusVy3FB8hrmMdVKeyLFnJHCOjZK6z23+VfJCIqyJptyjOa5JGUNvM/ICeDjZiMsyVh5ScGOQBxLvN64Fn+v+r8ovkPY8ex9qyf+XV3oQFxXayF+x4joYv3ENMb2oB1rlCe3/rFAx574t+gS9jeuFkj903hws7+H7bchxaZ/9/IM0nCcwNwPFg/nvQMb0efH2giuCsafLR+R87I2zkH2wc8T8lbuHHPs94YisNkOPcSLdOqzyMktOA7NEz33o560ej/O+3P9Sh8fqY+tdLt8O58KBnNdYYxbKOTnunNx3OeJ69DdvchsdFXkhz5jHUhMGhfeQi4fZl0nlGLAQ9DhN/fd6vIp3ei5/YDYLyXuXVR6Z5w/WSrOMYsfndlpcBqx1PAMHOU4NR50XtO6XWaL5E2XuFKuKJ/U26xP0tuaFt1fok1rCcyryCXK3jnd/nvQF2CpExTyONS9iFzEN3RUGws19Hr+3DjgP7Mrzwkqdz0PeALsE49bJ/D6W+Rvyc2sjzF2eH6U99fJsdq7DdT8rOXDc43XI8M6bwXVqLT7uYpdz5EF/6Jk0k13mtY12FbdNyoKcpte0lWtx1WaelZSh7LM5QXqdoNcni46NkIVQpfC7GM9SDvwY7kfMDyhDROBHhHOZf66suptaX+q2rDzvPhkpc58y8jz/JBFtH/N9L8/9CnuZ3uHMZDKZ3nlZXjCZTFqWF0wmk5blBZPp0dQD+adK59zvd869REQ/S0T/p2OO+0H5U6VP3d3eehC3NplMD6nuJy9sbVleMJkeZVleMJlMWveVF7Yrf5cwmUzvgB7Ijwh5nv/TPM+fI6LvI6L/+zHH/USe58/nef78xpn1B3Frk8n0kOp+8sL6uuUFk+lRluUFk8mkdV954cyZd6x8JpOprEWYCAsrz/NPOueeds5t5Hl+99iDnSMXxZV7Y7so9HXsin/wtW326W6KP2gk/pC2+IPAQoAPGN5mcAWwp3rd7+fM9zl+r1nlddd++wr/nYvDz+Gjaq6fJ6KChQA/DfY2hrcZ7+FF8p4ZKTs8k669QkREo6Qpx4W+LPgG4dkr9mKHx6aoj/9veLngaVT75Po6kfhtJJJQdpyPOkTw51f4/6t8vGWv8mw534/YiznsG+3NLPxChT94nvcIXiP9ud7zVqu4p5yHsiRhHMEvGpf2dZ39l33zPG0Pi+4lLzjnqJnUqBGH49L3jcRX5iRfiIcuxV7LJY4Ev3/1Dv+LxQu3d4mIqF3nNvqGK10iInp8nT29mrUA3+LomH3N9R7lOh9oRoXnvFT0k47DmvAGbos3EkJeaGR8/FjYKPAlN+utoFzIFxlJLjx/he9z9qLcNxwjuC/iKh0MKtki2guKcZ+LuzmTXDdRbBWdT+DX1D6+eonvEc4XaMnUgXHA3ycVfIqqfINcnA4HpVxxv5rHVPBtIe+jaPa8UiXvcS4uwG8r6rgI/+ed0D2tF/iMuWX3eR9sH/iBBSvg4xR9K2OzLhwhCMchx8YCSXjmPD+0NHw8hrkZ65lxOvGfYb/3/T6zEHaEx9AXvlNL5nOwCq6cYS/xUHzDBdehHpZJxoqe+5BvsK/7inAb1mXvdczR8DJnQy4PmCjwOi+3sFc7BZ/7HDC1jtB5AWX0e81LTqslYCQ1g/bSeTWp4PlgfGItg9wLz3k61msu5JHQ+1xo0b+a5/PQr/VaXLq3v2ctZCNoRlbVuPZrEryfw1jS5+F7tP0sjs9p0L2uF6KkXrSNZnZV+rxnMzA0awVzdi3hseAZCNIH6WAQnI/1ZGmNPdVnriHMk1rIDUO8IH5a8kyzBg6UemZpyzPNeptZaS0Jl9Eer3UmKm/o+dyXJ9LvZ8+1/p2qk183eF4Sv6/J+6WkTuPN20RENN5l/gpyDlgIeBDVDDYttI2WXp/5Z6qanrulzIrB1kRuXZDBVrAQ5vNFdHuhP8b+lJCNkUrbpJqlFs1e3+vnFf18sug6pnh2Cvu/iq0CveW/RHDOvcc5blHn3EeJqE5E9reHJtO7WJYXTCaTluUFk8mkZXnBZDqdmvuXCM65nyKibyWiDefcdSL6ESL+p6w8z3+ciL6fiP64c25M/Hv/H5kCpJhMpkdQlhdMJpOW5QWTyaRlecFkejQ190eEPM9/YM73f52I/voDK5HJZHroZXnBZDJpWV4wmUxalhdMpkdTb+tG8iaTyWQymUwmk8lkMpkeHT1QsOK9KiNXhr/4/2JwBYCKmwcMDQNc8MwSw0YAUOw0QxhJEocQEg3MSDxc5Pi/mJoFo9DQvip5oFqDjwfYJJO6AayigYoAa3iAklwHcEgIUMmjw4G8D6EiqGNSC+vqFLwyjbjN+uMJxZFqv2NrOB/SAmloRxUQrUpxJWAxPM/XSdoQMCgPL1SQuzxLZ8AW+ZiohfYW2BrqoMoECAwgOxoKUwLXKGhg+biwTgV8VD5POPYxdgB5wVHRArCXh1Z5Rulw4OE8mQLx+X5MpW9qXMe6Gs9o2wMB+m0eHBER0ZNdHoPPnGOQGmBjVUKfj+X+gxHnn1Ga+nEGGCPgf6kAzdDPBWj1ePCljgfkCwBYUUeAlGjMoLZM8gBAa1AsbedBWxJHAwrhplmGuOex76GzHjoqEKJ24qGNmYIoQf59Rf9VAZP82KsAJ804I3in4T/1eHYb+zrLe4yVWg4QXwiGJSrX0ZdgQVBmNdwLErisANo0WLNKOq7imvSXVC5Wc6AeG6dZJXipj1V+1dDZKrAu4rkKlIa2XZGx4bLJzPsjz2B90kxqfhyleRibrRpfqyNAtY02j9uLXYa7Ys6Caq12UEddN2goeUCYorSU6HwjcaZAwICb4b3PFzIWt2TtNSYBvK0zkPWcgCAHW7dLIFRIw8DQvgAt+2tIu3nAYhbOXVUQukmfywaYmM65D1qzYIqjXOYBeY/+w3oO0nmiqqxV84Red1ZBbrHWqiuIddVxp1rOUVRLfD6vyp1RLaFZ0m0wL/dWXl/Gpoat67wzPXYLkB7HCWIZWpVj189jBwoXXGsiIOW0t0NERAMFZkzaHblnuC5wft06nvk5VAXaK44Pn2vi7gYRFYD3l+9IuQ769NQGf7csdRpubwbXQA5C2XX7+bESh3MehLasEtZvWANhbCCfYC2n40HXvfwcotfYjqrmc50Lo5FAwqWOWBkhRmoebFv1bIT5PAvuo1Xcd3b/zgO96md0LftLBJPJZDKZTCaTyWQymUwLyX5EMJlMJpPJZDKZTCaTybSQ7EcEk8lkMplMJpPJZDKZTAvpxJgIeZ7TOE29J1V7muGR6w1Dn8f5FfYDd1rizxMvkuYLLOoHn+cLO84/WuVJ0963uBn6fVLvWQs99bgXfJo4P/NeJ67rofdf8iv4Bd1mS647uw20xwlMhcFIvDtZTiTtKHbKoi7+mstBWXANeBl1Pyzqv61mHswW2hB+HdxvtL/LdRF/kO4LXZ642fR1gV8KbIlRnz3n8FOhjjgOPqqWxGC3HXpaS2yEOR5qvMf9x/5+YYyW2qoi9k+j5zFLUxrt75R86Gi7OG7Je+155Tprngj67qmNLhEVPIFI+cMLv1jIv9B+MMR3UosrY91zGyp8wlra44qyY5wXfuCQ0UHiddT8iIj4vvBSb/XYO9kXngNUL8VNKLSBbqtpFV702XVyWXht9B+kfYJFrlR1JcUFUWWc71WU46U/MW+gzQo/OJdvcnRIk34vOBf96T2g3t96PM9Fj1945DP1eRLXgqtpPy1U5fcuOA/aAxm23eLciYdXGCtVbaPzQxEdoXe5iu3h5wvcB8eloY80bq8SEdHuEecdeHOXG3Ufk5gvNtohB6ApPKdEOhzeaM8+aIasAu1pxXUPZY0Efy/G61i6Pca8n4XjH/kB94G3/5WtPXm9TUREt4+GwXnnhEf1xNoKERE9vr5GjUSXcc6YkDyNdk9kLDUamBvBDQr9vqP9nZnXq+IKzNdifuPCo83lqLWW/donkXY92rzFx8rnWMfBm67Xf/e65tFMK5rj8y9ycDhGTuGy4FilWe55MJ5ZkIJ9o/3oYVzpfq3KA5W8G+3V93lD1g9+TBdrPs3SGnmGhvBCFPtEr+PAQvBzl9y7vrRWutd0nTVTQX+P+xfrkbAOk8OQ9YGcGEseqV3geL+5e0BERP/h+hYREX1mc0hnlu4QEdHve+YsERE9//QHuO4ynjE2kIvQH75MkodxHNYHA1mj43lx3tjCWmepOZuFoNumkF5/zGIhCCtLGGU6syC2wL7QzBTk46q1rX9XMYDR79XPXLP5cdUKmWtVsr9EMJlMJpPJZDKZTCaTybSQ7EcEk8lkMplMJpPJZDKZTAvJfkQwmUwmk8lkMplMJpPJtJBOjIkAlfzE8IWLHxy+3bZ45VaEhaC9LFV+Qb1HttY8X8ginn6/72ei34fepMKvE5bd740awROL/ZzFU59wnXcP2R8ET22i9jqN/P6kIUMBXhjtBwOTod6ate802ouPgb8SPv2xeJX64vNBe6OfSDxHuMe0Z4io8AODiQHfzTyfIM4Hx6EjZQeHQO//Dc8V/F2NtXW+f529z/1JSonLgjKgXfEKHzXKXLWXNbypS3LvdBgF99b+unmxV8VCQPwklfvAn17To3OOoqRe8qTBq655IZqFACEeu0vCUBDfajY8IiKiSar86OJb3e+H1/G+ZR8TUp4oIqpgBVTtSa2l+wl1RBn0Hsb74v9DTqxN+D3GO+rQG/N1N7fZ2zxW7Bb4tguuTC0oT3k/Yann1HWK3DbbA63zecmHqT3rikuiuSNaVXuflxUyLjSHRu9LPdji/avH+zu+jnXZ/7re6c4p4+w5plSHAl7A95qgXfm1KffN4uP3LNfzjP5ccz10zj1NyvOcBuOJZ1mgzlV7Y/vzMN+o/cb995qpgPiQ48e9fnCcbnOMrUjmjum5GDG2JEkjL1ldwVCRfJFgbVO1ZuF7gIU0EMZJdzmcv0cpOEGh15nicG7ULJaG1Oniaju43plWmBM7zYa8Fh7/TJaSuopVMervLa8oo87juozae65V9fm8Pe/1WMFaAEdrxhIREYlHvA9Og5S1yBfsUUd/RVKHKgbNfM3mwWhuT1H2cB3p1yHw8atcXNV2p0HgU9TFV655VIuqPM5nM1TQlvi+4MxUrQkKthi+A9tAsxAaaxw/fbnEuC95BD5+xSGKVE50isXiV0oV8wg8+p4jIW03lLnQt4WsT+rCBNJCPd5zntfYiMtW7S7dPuIx8OY+r7+u7PM9L3bXpWzhGhnrAZ3nS+tCtSbGiPVjQ+ZarJnQhgWHJsw3VSrzhfw3RFSs/Q+HI7+eWhGGlR53YFbpuqAfkevSCubePA5QmbU2m42knwurNO+Z7PStJkwmk8lkMplMJpPJZDKdiOxHBJPJZDKZTCaTyWQymUwLyX5EMJlMJpPJZDKZTCaTybSQToyJ4JyjZpKU9umGlwXeQvhKvH+oxx6WifIuwQ98NBZvq9rvFZ5meJwLX9r9+8hLvt4KTxIpFgKEsqYZl7WdiB9TvDBjYSQcHrEvM3b8PdoG/lDsZz5S/h6/p6rydWmfaFGfqNhrVO6NdoRvN4IfXzxGkapTsfd8yF9AP2XeqwR/jrSNakvEATyn8BzhPPi5vbd5ib1w8AH2Xn85qHP98lNERHRrj9uqnfF53eWWv0Y+Cb1G3kcr72tgSCThXrXad+0ieI2q/JmI3dl728OvVZc6ls/HnrYTOev0ehm1XBT7sUxUtDE8j0N5bSJfqL2NwRVA2/g9lZV3Gn2O40cqzloJ8gQ89OFYySku+/wr9xaWdxU5BmNt95DHuea+3Bb/oGckYJ9mOb/WORPUwee4WsiXgfA58gf2K0a8632qZ/madY4Dp6Vgm8z2Quvz9diB5rFsqoQ2OBqMgvfdZe7nSMqLuJrFQoAS8TQX8Yi6Scmy0ENa1O348ejrJlXOIrRBHpS55v2g5TxNVM3cSRV3BtL8mdOkSZbR3YOjguOBGK/YS12rpuZmjGf0f6R8xtk49CtjLCBf4HjcFSwgjNFJv+e9sPoeuIbnDA25LHp9ULwHE4XLgjnxzFIz+N7HjbAWMszZylfcv32Tr7O/HXyP/d6bEu/PnuP412sqvZaKnZsxXisYVOD4NLAf/HjmcWVWhfb5wgd8b/7+KjYC9plH/kfbg6kT+TmfX0dpWmJLQMgXGI9NH1shs6pK1Z7mUChjrHzg+jy/9tJ5RPnPyzvbnw7FkaOxxOi+sLIyNS8lsTAT/LpV1nK1MIeWGD5VcafmN4yNpsojNRlT07GC+RaviGEwNPaHfO8drPulrM06rxNqUiZEBcYS5o+xxHLDr8FzKbNek4dxNdy9G5Sj+cRzRDQ1lyoWm15HIK6RM997gdkOa0tN2jniz7CeaiVhzJVjPFxDl5kq4XMixoLmleH5BMeBjZWOjueEFPc5nomHHL7VY9bDXn9Ia5KXwWtD3yOPHo6RY/heK3Jc7DkN/WPvCZXZe7P5VFO1mXfF+zrP/hLBZDKZTCaTyWQymUwm00KyHxFMJpPJZDKZTCaTyWQyLST7EcFkMplMJpPJZDKZTCbTQrIfEUwmk8lkMplMJpPJZDItpBMDK+ZZRpN+bwruIoAM+R6wwKGA0TTgpHw9hlYA+AfQCUAbeAWUCDCQZsJNECvoyHFAjWrwTQgJS3MGUgAmAu33h0FZ1pohjOUw4+tkE4aAaJAiACbj3n7wHsBED1CUOqQCavGAJ8BkVLmipO6/00BFAGoi6SG0c9Pp9sM9Q+Ad4B9NBaKJFFAFbQfQEWBSgMasCSAN/Ya2HIwZbLKaDYI2aF15moiIbu/3gvOXkti3HdpN93ncFGiXh0xOpJD8kjiB9QB05sFJk6AMVaoE7WVheXT5AIPxwEwP+4nUde4dFnrSyp2jiYs9FG5wyP2pATkaBgh4DYSxgeM04CgdKAipgs315borGYPcZiFnqoFUi8FaAeU5GnAMa6Di9W2uA2K2PhbIm4pLGvP5MUCgEo+AyTUF3ANoGF53BOQIyNGKwElxPQ+fw33I+RjPPSxWYH2l36MBc5oNTKUsBLAVuTLMXXpMos01dA75BBDKbQE5AT4HmKBTEEOc31jbCMqbZ2kJsuVrpsYlVEDdwvkAwDufS7PZ8C/I1w0vc8qB+xV94S+kjsd97g1W+TAoz4myPPc5OFaQyNjHWVi3MmxKcrQCrXqgcAYooQB7ZWwka2eJqBg7HYGZAZqctAB6DfPS9DUAVAQcdjDiuhSwYsR2CMrbPToKyor1Qob1hgIq6jE33GFg2nB7M/g+ESCrnkfQBoDSLknOjEtjh6Y+nx1Tej2lx4yGPvvzKua8eefNgxnr9xPHxwOMdrfH/bcsQG9AzwDge2Nr1x+30eb+vLzG7QhoG4T2qprPfZkVDHI+IO3BSLedBjOeJgH2h/Ug+vFwFMIkO8168Ao4IM5fbsgcXAUG1eBFeT8ahmBFDWL10FMqAy79s48c2zvcI6JinC03akEZkS9GErsHskbCmhxr26LMkXrP3+vnh9r5q0RE9ObuAR843JM68f3RVn7eUiBgjJE8CnPouc4yrbeXuI4Rnm1CsG0VZFzL5wX1rNMA7DUJH2lxn/SoF9xPt4V/r+Dz+llKfy6sROpJ/6d5Tq06ysB1AFDx5dsMsr2xz7mmLcc9c7ZLREQXu52gTDrGdBl1vtCQa6iYIxeDVZch18fnIftLBJPJZDKZTCaTyWQymUwLyX5EMJlMJpPJZDKZTCaTybSQ7EcEk8lkMplMJpPJZDKZTAvpxJgIRDnlaUa1lniUxYcBXxk8cEmbfSKp+G0OxCMfO/79Az5i+ITqcnV42Y4G7MuBTwTn4X5j709jfwl8I04xEqY/K6uKhRD6NOHXgq/yQmdZ7sFl6I3FY1+Dz4fvB//mWHxeBWeA/VeN9rpcdyz3EY7AhO/bFh95t8NtAl6B9/uI53mUppQOQ68ofFaJYiHounkvqZQV98D7KOGyxQ1hUsBTqnx/aEPcp2AghDyIkcQHPNDwMCKeEDcT6Qv4jQrPauGNQtnhSYNXfVs84/v9g+Ce8Ah5f53EGsqg/bZVqvI8VR4v94fnvcqDnXq/+mLXfZiUZTkNRuOCPyHqNrlv8iH7yRBf8B6iDdG/8K4ly6tERNSPua9ub3FfdiRvnOuELAWMPYxVeGXh6Yu81386F4Qes8VZCBwnmoXwxtZecE+wEJL2SnD98f52UGcteC3BgVgWLgTiw+eLAY+hG3vsG0Rcb6zw/ZtT/IFUsRCKumuf3WweAITx7f16LvQPYwxpT3QW8+feD+h9ovIq19mQvHFutS3ldUGd0a/wMrZl7F4W73t21PP5FfkRNYzUuAKnAflhILGTKc8o8r7PI4rDAT8ncp1LKlgIcr73ntLxqvJgnyZFkaPlRuLnbwhzbVGjsE29XzcGA0e8uBVcGQhzAeYR+FnBVnrvRWElKG7FZCp+Me4wJyGnaRZCs55IGTULIRzXYCHAx48S+zLEEq/gyWwxAyHt8/huiee53lmT8ihvtozpoq1Gvi7Tn4+k3FiLJXHsWTWaVVK9ZpKjKvhSufIFI9ar+QGhNIvB5xM1h8aNpeA8zOHnV2QdIdXBmupLd3aJiOjO0dDHXle4K5hTtN+7Sj53VeQPKK6oI+IEecavgSW3RhRyqsp5BG2L40+rnI875FC0za0DHkM9GXur0r8XhGeB/l7GGATrK1ns0ag8H7KwLtH5Jx2OfM7xpcfaJQvX/36dqdYHBS9sKHXgsQcWQnlMhDwY8OagvYjLurm5HdxftwmYDPr9PPZHRkRxLayzZlJhbaPb0ynWGuS5EiqHQVUMFKhYPwjPLKmH389jtGR4juH8cb7Dr0kc0wqeAyQPYN7flFi8fsB1X28i1/D36+BmxLPn/XnztmfpoN2xDkU8VK7d3ppOb94wmUwmk8lkMplMJpPJ9I7KfkQwmUwmk8lkMplMJpPJtJDsRwSTyWQymUwmk8lkMplMC+nEmAjORRQ3m94H5vcHh/devIh+T3Px62LfV+yJ2RLf4NoSe5yWsP8r/DvLzeB4+Nig8h6aqpz34SsvvK651IHLvCt7lz+2zj5t+Pb6Yn2BtymTPU3HFf5g+HeceJngkbq9z+dtHrDfd28gHALxLF0S//eVNfYfdRrhPvfjNJ2xRyi3i/YwQ6V9oFWZ4ass+aVKdQmZFJH0V+5CH5fvj1rozxpLHI3Fv9ysyd66Uj7tA4NcFFd6Vos2kDpLPyGWcHy9hj2C+Z5Ve80uGkv6uOI6UfB94aXj8ozTSfAefXaalFNO4zT1bd6VcY0xMRH/v/eT6v3dx2BvhJ7m1ze3iIjotR1mIqyKnxB5oit5AiyVvsQA+hj+ZL9vOJVjX0v7dpHrwEJArtIsBHhsmxJwsdQBYwn7voML4YVy6PiQ4+AHbjeF4bHG19V54/Ud3j/6rjBBrkq+WG8v+/GJvKw9jHpPYZ93q7yjyvOomSolX2CGfpf30n/wLl850wnOz8QPni61g7reEJZKX9goZ8R3irZvN5veez6QuoJ9gn6AlxkxgjZB7KAtiraJ0Cj84tk5i/nGyzlU7f9d4ePU39/PnHbSqkURrbeX5+5lr7lEVawNCPmjYDLJvOT3PBde0AR7oYfxBh6JE29sTbgjeZqV8jNem3W177vyph4oT/wZickhOA5yb80fQD5CfoBqF58gIqI3tnlcj3p3uC4Sd/CFt8Ad8uXjV/iZMaYaaDM5fr8/8Gwpnx99TIONEOZClLWKaeCUJ5pq4VrFx4G0qfb5ltYhFd7pSBhcj613g/PGPW6ryRGflzlpg6zaR+znAzXvF3Wqei/rrwm8zOF+7/o9YhFrHp1bkcMKphY4IBW+cpTiFLJSCnEbYQ29Jm2wI2MJTISe5OY9mYMTaSMcHym+VNV9tDAWi74QPgU4J1PcIuQIavG14J2PFAMB+YHGyAdhLuoK90dzWcplxBqa5zysAw4lpl/f3uEyq2chjOl44oLy4BV8qsHRYXC3gvXBfRFRwe1BPo1kPkbd0AZxLczHBRshXFNDmIv9vaPZc1zpvWIhVM2JVWs7tCFJG6zK6emwR/197mvwuDSbrB5ze7aS2c9U9yvP+ZP4KNpQ4kHmLjATyvdVz8YVPAot+0sEk8lkMplMJpPJZDKZTAvJfkQwmUwmk8lkMplMJpPJtJDsRwSTyWQymUwmk8lkMplMC+nEmAjkHEW1hOpqD1PtTcHep0vdtnwf+ovh/8Ar/MZj7HUqfj8n3jdUWPuH4Ptwcz1R1f5eqPBH8bV3xFt8oRvu834kflz4uEb7O0FZ/D6rk3BvdL1naVP838U+4/wK/xfaCp5n+LSwP3Ut5+skWUqNxvEeoUKhf0Z7D+f5aCD4itFWccX+0uAWeB6B+I+xzzt8yehv+AGLftWeqMK3BS8z9s2G5wz9C4/aciMPvofwHl5WeNUyUnvaq/2AIe0jh7xvFF7mCo/loexh7T1sbrY//TTIkaMkjr3/3HtThWmB/qwl7eA838/KB4rznzzLe6PrPZfBJYDfN5LrnFvl6yOfwK+IvXdHVPAU5u2F7vf/Fp4LPNEYh9fFq4zYbSfi16uFvIfRXpgfSnsd13iMwOeH/agrGRvy/mKXOQLwe2/ui9dRxtTdnnj84nhqLPC1wXvxeVjVPSpxAeAVnb0XPfqtyruOOiEfoBa4DnIozgcbw7N1jsQjOwy5J3qPdRdFNJb8jDyp/Zd6jvD7ZjcUR0btYd4cg10S5gF40nGejulFc+o8nUYmQp6lNO7t+/7X+3pXyc/FQ+53eFkLvgz20Obcjvkoi2Xcyzz3zPkzRESUyDqi9/rLfP0ljsOl85wv9iUXLy+1p1gH/Iq1jJ/f4XWWuuzPYSFAVQyNiXiTMU8MmjyuX7q2yWWW9QC8uGuSYzGSEHdNaWPPFZhMgutibC35Pmj6Nc5owmVYX1kOyqqZVN5/fcw6i88LGReZGjPeN06hvxz70Otc6XOi4haNjjhvTHvXiYjqHZ430nHodW/VYmqivZAfpF00e2Te/ODrohhGUab4MorJ1Jc8onkdXTm+4MtwnTyHiqTfTm71/8CU5zkNxmMfs5G47y/KWhtqSe4dSSMuS59ttHl+wJqtXsmFwHPCbCZLpLk3SpjX3NTY9WveGsab8OHAAesxIwkxi3UE5uCCK1Ll5xemhppbwYm6doPZKVhDQyPPHeD7YN7KFH+kL2urtB8yEaCowfml1mpTTfKkZirFimGGdtbt6BkpGFs6lnGc4oZpLTo2q/q5yCPhfZF7p/MHypKOhd8neffcErfrWeFwoT8Re+lQPTfMYatAyJF6XeFz6ChkrEB6jYY8hLXw5Gh2//rzj/3WZDKZTCaTyWQymUyPpJJfGNHKHzig5Gt3KPl9ezT52aOTLpLpFOgR+C3SZDKZTCaTyWQymUz3ouQXRtT6nwfk8MdQtzKa/DX+SwP6Q40TK5fp4Zf9JYLJZDKZTCaTyWQyvcvU/PFh8QMCNCCa/K3ZW6ObTNDcHxGccx93zt12zr1Q8f0fc859Vv73q865r3zwxTSZTA+TLC+YTCYtywsmk0nL8sLDLXc7n/3FrdlsAJMJWsTO8Aki+jEi+smK718lom/J83zHOfddRPQTRPS1i9w8z7Ip2JwE8ZiBOMNdhn5kAjzzUpA6wCuWWgw2qne6RFRASHDdKAqhQHkaQqqq4BXTkAoN+ygD8vA933P3iCEbawJtAcDwSJheVUBFDVCsggIW4vsBRoc6twUeAwBPUU4GaQCGFpMANPqHlAssBeCQWOAoeL8oJEiXGYAzAFYmjr/f6oW+q6aCi0FHhxwH+wP+uXRPIFTX9hj6AYDTUy4EZvly1MIkiTY6HI6mwIrcTgnAkwChSTtCHq4n7VdA2wQuJf223l7iMijAVhkSBQBbGD+6rTVYDffFK+rUEnBftGBf3ac+QW9DXogjR51WwwMRS1AogQ0ijvDet60AtXA+VBMo3qq8H+/ymBtIPqgJbKgmeSSWuOkK/KYQoKnZMeOfhTgYK/AV4gqxj/EIkJqGvmqwDcYS6h43+TyMKQAcoaaAmzBGAB9DfknTfnD/FckjBwKJ6wuQbRrIM+4d8DXlfUvKgDLptvFlVzHuIbGSr3WM6zyEugNghzIBjIXj0IaIk/19rmNP2qaPPpE2WRXAJqBW2XhEy3KvAtoWls2DbaU/kwoolwcWyfeIg1QBjpDz6h6kSEFdojANlcBLft7wQEYFapM4AED2bdIn6G3IC3mW0vhwr4h9qQNi3ymwWYx8IOsHDfwFrAx94KG0UQhuRJs25bq969eIiGh45wYREdXXz/P11zmPoG8Ph6PSeMe4gxCrgJMilldbfG8NVMR1tFBH3+8rDAN86fWbRET0xl44x5514Z8n63ICYpupONFrrmnAYipwMMAhdwW0iDnQQyYFqIj2LgBrIXgVc5cGKUIaZAfoqQYq+uPR35KfkCOXG1xuQMQ8uFfArQMCbJbbZG/A59XjiNYkX2Jdl/nYqoJTVzyoiQCbJOmPRO6t2yCthTELARaIdWUqYL4yiDfsx/J68m3RJ+htyAuTLKOdwz6d60gdFETwUofzxcYKx+FA5rJEgdeLsRmC1XMVFxDaEvEaK0C8Bon6b9OMdBx4wKJ6Rikgwm1VFoHKy2UKxF8If/RgVAUrPgCMXOaz/iSl5XOOapvl+HQXYj/GIg+pDddk/u4K+D4NR9aQZ7Qbxj/W0niGqRorJbBhxZxYPk+vhTXQdXbb+aM9iD2EXGJsNgXAGjea/ti+XGLniNeiqPMFgXleXOUcgxypwc2LAhW16urZCW2L55uBAjt7gHwT0GxuWw01r9Lcp4w8zz9JRNvHfP+reZ7vyNtfI6Ir865pMplOtywvmEwmLcsLJpNJy/LCw63en6yVH9ubjhp/fmXW4SaT14MGK/4pIvq5qi+dcz9IRD9IRHT1iuUIk+ldIssLJpNJa+G8cPnixXeqTI+k2r80ofWPp1S7Q5SfG9Hgv2oQff/SSRfLZJqlhfPCpUuX3qkyPZJyPzegjR87ongzJ0dE2TKROyLKzzta+gurVP9uyxGm4/XAfkRwzv1O4sH/TVXH5Hn+E8R/pkQf+fCHj//bLpPJdOplecFkMmnda174yg++3/LCfar9SxM697+mFAk4zW3m1PqfBzRpHlHt99pDgunh0b3mhQ9+6EOWF+5T7ucG5P7HQ6pNO8YnROP/vkXpxxrUbVtuMM3XA/kRwTn3FUT094jou/I831r4vCj2vozsiH0X48O94JjWef6XyXHERYXnrh6HnuXB1m0iIurfYR+g9za38ec44utJCgfRtArfGB83i4WAz+BF8748F/qhUMZY/PlNYQ70U/G6iWdF+7bhkYSHaVGvGvxc8LLg+vDreH+W8tbhODeVhtEO8D0V/qzZjASo8Oto3yf7f8CqQNuMUz4Ofp2xYljE49CzdLfH5dk54ozXE2/bVp/L98wZ7u+lJspVeNeJCj+S9iHHkfOxhNdmPfQ4ax83wR/lfZvS7wMuy+bdXSIq/F7nOly25UYk95F4krgpXV9Je8zQppSGXnvEG9og0bavd1j3kxfyLKVx76CIP+UTQ90Rb/h+uMMMlYmMqUQ8aqMlpiB8eYvzSkt8v0+c5X/Z3H/pt4iIKBXfV+2xZ+U+TSmPxKWUx3v6Gk0q++pYPqep2IPnGB5osAaunFlVVwj93N6nK/5+tAE809d3mE+wecDeZ/j1OhIHG8uhL7QuxfYeS/j7kHekFF3xMa63V4N6ERV+WpQx3esHNUDu0iwDrap8jJkJXkpK4LkWNorPI6F3cakp+UY8zTjurni0+2PJbzJmz7T5/k+ePcPfi9c9Suol1oBmDkzVVl5DH2wxL7D8PJJjnHN7FnkGPtxM7ifzi4rFeSqxEXxudsH9Tkr3tV7I8oCPpLlBufKLai+zziOQ9/v6McdxgriEtz8VQEVb2ClD1YYoRxPMhigq2Dkp8kBNrsX3GvRDHLpfy3jPKh+HeV3PD4gHjFvkhxt7nMvuHPL1z368+AEBckOi7H87pNb3rXgOkcv4vmNhsJQ8uj73SR1laKbDPq1gnpe5COPuQF7BLCFp34a0L2JRj+N5LATM1UUOAwckCl9VmQ+kP3uKJwRuVVPyBnL0jhyPPjm7zHno/MqSz9tjz5GC77u8hiQqxvc8xWpdkKo84tk0EhdNuY/3k4+5zbFe0D5ycGs0u2FR3tXbpfvJC2mW0/5gRGvLwjSRseA5Y7shA6VZC+ebgdi9C8YSHzfL1x+UteRPD+cAv6aDxx6cm7T8XAFGDWKsKXNdlsOnH44NsBD0c0dRNjB1whxYYuT8730ijZwbEtV/fEjJ96749Qri2HvtJU/otRjk2w5rg6NDmqiYayZgk/C1NBsFrAo9F+q5eFGhDsXcy6rrPF7KJ+H9PENngnWEeqZKGr43UokdrMPAUOkIP8a3L9Z5cp6+p1bVvO7zhpxf1DVkIuypeWfNs7C4XBg7+vm0Sm85azjnHiOif0JE/0We5196q9czmUynX5YXTCaTluWFd17JndmfZzf1j2Em08nI8sIJaLPiR2nbkcF0D5r7lwjOuZ8iom8log3n3HUi+hESJmae5z9ORP83Ilonor/t+JeQSZ7nz79dBTaZTCcvywsmk0nL8sLDp/FZovrt8ufRxZP9ixTTu0eWFx5CnY9m/2Bw4WT/IsV0ujT3R4Q8z39gzvd/moj+9AMrkclkeuhlecFkMmlZXnj4dOtPOLr6v+Tkpv7wIG8SNY28bnqHZHnhIdSfWyL6kR7+2p2IiPIGUfxDyydXJtOp04PeneEeldNkn3d9gf8CPo+6eJoPM/Z5vH6Hj7t7yP4R+AxbCR//xBn2Kl5Zk/1gtzaJqPA4JuJl1Pt9VvlM9Z7vRIXHBL4YHIJjR2rv44vdleD4sXhRwEjAneF5hYr9wMNNUPU+v1reO52HXihcJSe1jzG80fBYTZUDXrDSHtTKXwd/1lj2NI6FRdHshN4y+HbgfdyRfqyr/Xrhz9RcB7AT4PtZrrO/Z0N8pM+cY09zLD7O3In3TeqRww+o6tdI6tRc1n5t706iWUKdwDaIxUsE3yzYCNd22XCH/j/X4eTcTsTrKN7TSaltw37Xe5z7vcvFO1fsLx9yAsaHhzPL/1Ar53qW9vkWTx0+x/gei38LTAPEn2d4qHGMPkH+eM/THyAiov7mteA4+MeK/ciVBzfL5vrytH+3Kj/oeNN7FRd+zXpw/vUdzplfusO8h13x8daU9xYciDWJQ+QBvQ+8bnPkzkmf46jWWvbjSDMOJhLL6VCZLEVVe6dX7eeu8zT6Y6w4IHjFHtbIFwN59V5LyRvnV7jcV+X6772wzsfdeJ3LMwl9xOF/hx5VpzytmreSRaG3uWp/8CiSV3U+4gFxg7qVWS1QuNd11T71s+a2h16Ro6jRnPLjJ/KKuIIPWMZOGsa49odrVoKeW3E8+Djw+GMdkXQ3iIioJu+LuZPbuB5H3suOdQNiV8cJvOzoZ/iEPUdgDivHt4Xkh3Ha82UgIup/V5PSv9+nuEdEYyJ3IaLkh9vU/j6pi4yhVMa5ZqUU8V7BKUiSYp0l7QgOUDE2JCbBQJD1Hq4de8/07H6t2tcd8j7iir3VcX/UtZWHS1+sLyB4npFfzglP5nGJh/X2kt8/veAwhB5lPd5Ke88rdsKiLBXEZFOW78U8w6+Tfsixgspt+3CwEN6K8jyn/nji+68Jppf0TTYMWT2kGBlgJ+m2wvjXc6Rem1Wxt3xcS9tOKs+f5oKFPnt455HTwEAq1iTHs7SqBMbK2vev0s7/dkj5Th7khQt/ZD043rPCEqzpJd6kzTIK8xzicLS/K687Ps/qPAx+l14bYZzqZxmsB3QO1awDSHPh0D+Rinn9HFjmIYFxkQflSyhce0+P8RV5psEr6p5PeC6ZyKuee+atK6vGrZ7XU79uCNsG60HEF3L1cFe4YrKWQ16LFEdE64R/RDCZTCaTyWQyvR2Kb2VU2ybq/3CDRn+kQedXjLpuMr3blW2mRJs55T+8RPkfb9FyvfwDh8k0T6f3J0iTyWQymUwmU6Wan+J/ZZt8rf2bkclkYo3/vfyV8TfYjwem+5f9iGAymUwmk8n0CKr16ylNzjnKHrflnslkYo3//ZDcuYjoaQOsmu5fJ/bTtN4PHh6mXO0XvLx+joiInjrL3qXVFu+Fvn0k+4WL//y1bfbYwU/0mHgWB1uMJYYnpyaeafiM9f3ymX4T7VHj93qP0Vu7B6qO4s+VvcnhcdT7CsOP5X1U4q+Ej8f7geHbk1f4gP0+0rJ/azoIOQbei6M8efCFoS1qrWVfFlxjQuLrF68z/DijhMv44k320Wwfsb+n3eCQuiT+/8uyl3JN2v+M35O0GdQJbVry+8r7i13FCZDroZzjXfbIj6LZnkjUEX4fqLa0PLV/cui3AuMA0vs3ZxP2yyE61tvLwfmvS0xu9o7kevz54+vcJuA1jMSLBEXK9+vvr3zoaLNYSoA2QR3h2TxVctxn2vsMYezAq9hYP8/H1a4SUTnGl4SZcnVNvMvSd/sDjtfdNt9nRfIFhD4cSR+vyBgrPH3VC3LcQ0/NB32O1fU2/zmx35s+w3kU1EHv6w1/MfYu3zzguOpJfhilfL0V8cyuiecN+wCDOzLuDcK6zNuXGF7N4aDEKqi1QgiTH5eIQbSJ5LRRLj7/SegZTaSORU4NORHwMPr84JQ3UXFBMA9g/3e/D7z4AYe7vA15//orQfmdlMPF8RSPYSznYh/4cM9o7c/UQlnQ38gjB8ovXpeciP7H54OR+Ppxv1pY98KPOduzjvL6/chHk5nHPcyK4oSa6+dLObpqT3T9CulYx/Wq+Dfw+NdV3IO9gvVE4bktygOOCvaKx/7dYGAsx6EfeFfGdbfE6PGll9fj4w1e16vdNuXjnIafPqToYw06s8YMFvj8W5InvIe5qu3weoxXV7MmMPc0W+GcWPhrOT/ovciRJ9CucbMp5x3fT/P8/ZgjMWZixY3xPnMZm0krXIdoPsxwt1/KfUVs6nEYxqr20WNdAP92Xc15pb3o49l1wPj380Yy28v8KLAQvJyj2LlK7kTB95A5FesKtfbVzKUqDpXOHyP1/OAmYW7VfJFZc6z2soORgrg5ENYRxm3BzKhid0k8jUMOgS/L8IjySU7prw1p9btWaEO4QLi+5oP45wu5Ljhot/d4jOMZDHw6HL/e5nVukqV+/KBdEZt1GTM4B3MUngsSuWZxfsj78PmYQr4IpHOuXsPrsTmPweKZCpp/NIOlVBWLkObLVY3HgnF0fNnKx7GQ87qyDmyKbQW8iZFwxSCMiSJPzGF/HfutyWQymR5qrfxSSk/95yP68HdP6AN/ckJLv3j6HhJNJtOD1eRnj2j4HXeIDnPK/vWQRv/86KSLZDKZTlg7//SAvvA1b1C2m9HBz/do/5/uzz/JZKqQmeRMJpPplKr28yO68KMpRfyHFVS/Q3TmbwpR+g+fXLlMJtPJqffTBzT5a/tE2CxlJ6fBj/AuLvXvs60dTaZ3o/b+2YBu/sgR5X35q7btlO78Jf5r7Y0/tHaSRTOdUtlfIphMJtMpVf3HB/4HBCgaEnX/nv01gsn0btXu/2On+AEBGuQ0/NGDmcebTKZHX7d/tO9/QIDyfk7bf33rhEpkOu2yHxFMJpPplMptzvZHx3fube9ok8n06Ci9MftHxPxWOvNzk8n06GtyczY3Z1KRL0ymeTpBO4MjFxe/YdSWGcKhQWoA+jUF0gE4GATgEeCDPYGQHGYML2sooB4AHb4UHpgS/p4yDalyCrpTFzgXYBq9MR97Q0Aj2IcZ5zUTPg8QIdwLECEoE2DGfn8YvO4IRHIAGJkDUJHbAuA0ANtwfdRVg5I0BMnDJWuJB5XkiXwmzZWh3QQmtCWwwE/dYCjHf7rFbYFm/MYr3N7fK2WiGwwwG965QUQFTCQRoF0sr26V/6QqldAEdEia0Pdjf/Mafy8AJ8SPU7DLWMoLeAiAb7HERTqMfVlGAr8ZK7CMBxh5YJ6KFWm/jLgN0A8QAIs39uTe0n9Pdhn2N/B1OQzKXJOYry3zcQA5AToICA3UVGMnG+p/inr45aKYakvLJZgLYrmxxnGyP+Q235c2OLfEIK58eOSvM/0KCCngP/vSNBizX3GRrzvcYcjlcqdLREVe8WPHx5crQ3xKYByOXYzj7lIrKGPW4DhBjGtYD8Yi4E2Ak43TAkaan3fkbpV/MHDnI9oQaCTicdzjf4X0kCLJXxEB7APQD+JIcoGMizxLPdioKCOfi9hEvkbs4Vp7Kbf/p169TkRE2wJjWpUc9vQ6x/gVAWA2KQ2uBy0BRtsIy6xhQugLJ7BZ5N79LQawTnryp91rZ7n8MsbQv7XWMu0ehvcGlBH3StPZCzINPIM8OFf6tS+Aw77gJwG2wn0Ag/MgVw3GlTxSBjYBMiVg3iG39aG8FqCs06OcBMop4zGJ1RyWzX44LuUBiVedQ3Xu1OA0QHYxR2DuRnwXY7L87zI6HmIF1tNAxXocQr80SKsKoInx3F1q0Y3LCY2vj0vHxJdqPr4QBwAE6zbUeaAKtOWiuADOoV/ScPzqtU6kIKVYX2S4R5vbQENlNcS0BGRW8EndVr5tYw0L06A0vt+oF0KKUd6k3SnqPzUnTJdJ9x9iSa8vdF30eZgf9HEoI+YJrB8pkvxRARuEdNucRtBi7By1G4mHx5GC1eWZglELsLPe4XUmAJ6Qnt/0nFgFz/Swwzm/3bs4LgHwfL6Pwny+15f5uQQdR5zMBuxhzPm5GPN8rU61ixFNbpTzR3I5KQEVAXjE+RRx3ZGvbh+EwHCslfZkbkcbXeis0XBnNlQQbYFnGdQNZcnkOQBrEKxdXDzwdeKihZD64j5Ys8+ekzXkFNJjEeVcdJ6ZVgHjng3nrB53Ms5RxlTnsiqgcgj+R84rjfeY26wua10/DyhYaDYuzyPTOn1Zw2QymUxERDT5Pzcp1/NWk4j+3NKsw00m07tAF/7KudL2MK7lqPvfmO/ZZHq36tx/vVz6p2PXcpwvTKb7kP2IYDKZTKdU6ccalK4RZXWi3BFNzjuiv9om+q7m/JNNJtMjqTPf36X4Qkyu4YgcUe1yjc78TxvUNqiiyfSuVfd7WpRcjMnVicgRJVcSuvK/XKIz39896aKZTqlsdwaTyWQ6rdrJqHaXaO/PJNT7z/jP0y537AcEk+ndrMnOhNIbKW38xQ3q/LkuERWWDJPJ9O5U2sto/GZK5364S1f+6hX+LDN+kun+deI/Iiyd50CG/3SpKZ6WQ+EHRPAB8R9NwBe03Dj+uvDntMW7pr1OVf6/0ue1wivp/bVHod93q8c+nZ54XC/BwyoeE/jwUQb4ukfK4zIYjeV67DW6K21yR177Yy4bPC5npRHwHh7HJfF7whOlWQjwDcFPBKG8Qf1xrLxOxLefiN/6YMR1uLXHiWhFLGjrLWEe9LaJiGj35c9ymcRbWN+4xN8LC0GXSfv9x+h/YRnU5TzCq0jXGa+TXrgXLnw+Ua3u+3gg3vVMkiq8aDF8m+IpQiTV4Y9LQ7YEPM/wuIJpceuA4+TGPrfhYxtdvo/011i4DRH8tvLq/ZcJ9ze8zfBWNuu1oO7gP4z3t+k0KiNHJG3tPcZS99e3domI6LVt9vevSr5A7LeVJ0573ZA/4EMcyxicOOljiYvRPt+nIW0PL17huTtu4uXvML4RT5rXAB910zNWxsH3VZO7z4H1hPLPDSknovY3tGhjjeMFLIQ1iT/krSo2ipb27uURcmJS4qjgO5+nJWbH8h657udffIOIiP7xF3gcplK1b3+Sy/iRy8JW6PP3PWGn5PATSrvD04oxgVf4Bscp1zVCvpjh3yYqWAiNM+f5eJX/BxTTzhHnqnOd0DeLfkW+1vlC/4GfYDim2CksMBA2JR/gPcqOvL4kF3ANlFHiasz5Ko/h98dcxeVADsUr2BiZ1Os0yTlHSRyX/ODePa78pbN8+0RFvGyJ113nA338SBhL4FckMRgKiiMSaY5B8d9V3vPdI84piC/vPfbxM9vzXOXLheLI0cF/7BPlRCu/o+3jMhJ/w0pLvLBxuE6J9XyDu6Zh3kCOnG7jqlxSZiPweIcXHdeaSFkaMp9vCfPmxt1bRFTk6eU6l70jeb/T4nkBTAvkae8HR/7wY2S2h9pFoW+4KHfI0EL5p1WMuzBfeyaJGoexE96DYmUkU2tNPh/zRybHh/3l1y2y1h2MkPv4us162M9VLA1o1vrvYVccOVpbavk6YgQ5sE/Ue7AQkjb+IifkCBTsozCHa+6F/kHO5yX5GHE2a6yW5mH5HOeC94R7LNWbwT3KCuuANbrnB/i5uUWHv9onyohWv6VLh0NwRvg+iJdY8pDmgJDUCcdjDPYl/vC80ldshfWV5alxpvNyGJvIw4j12PN9JPdI2fKhjIlEWGyKfaHZaJpxg7VzqtaZuH+R60bBey3NYJg+TuceXZYyC2E2O6WqjOh3zUCKVTx4yRr6oB9u54XnB8xpaSp8GslXxbw0W2ZnMJlMplOq/FMjyltE9L4T/z3YZDI9JDr4lUNyLUetD9tfJZlMJtbhfxiQqztaft6YSaYHI/sRwWQymU6rPjUm+nBCVKv6VwqTyfRuU+9XDmnp+SWKGrbEM5lMrMNfG9DyV7UoalleMD0YWSSZTCbTKVS+nRG9klL+Vcn8g00m07tCk50J9T8/oOVvsH9tNJlMrHQ/o/4LI2p/4/JJF8X0COnk/gbWOZrUGvTZ19nz9uY++4WfPbtKRETPbIgXeRB6leB99vsyw18m+7Rmsmcp/EN6X+jSPudz9hdNs9xfa6LYBjXx549S/hz+7E6zERyPPcrhOYR/dzAKywKve0+8SthvFayFVNVN7x+s5X1Z6Ww/j/Z95WlasAKkXbQ/Er797pj9Uj/8jc8REdEf+gB71OHX2ZDI2n3hP3JZxV/lPc3ilU7Eo4a2QT9rj+pUqbl84p2s5cI8OMJ+zofB0ZnyBYGlEO7VCj/b7PaE1wgeJe9lFA9ZLYafHv4p9jBhn9aWqgv680j6F72AGEUb+ffSNvA+wiOFvZET8bwPtm5LpbmcjbOXZtbnYRd7v9AX/IqxgTEBIU7gJ9ee6JGKfYwd7OsMFyj87TUZE2PF0PBevnt4Xj/oh7HnGryoj6ROTSmrjln4hccYi8o7hzq0XyA6IKKz39KherdBLRmzhcct9AlPeyNnqcpHXuzpnJb2gUfM633gwTLAuHxijev0HU9zrF5s8/Hf9PRlIiIavfElIiI62Nrke2JP7OVOUGbcx+cL2RMd8QE162GbIRcW+Ua82ZLDnfIbb+0dTfF3+FzEEmIF4xGqE9gpfJzfuxxtonyVyA8DyStgp+B+yG3Dnbt8XXjRJUZRB52j9yXuUD547uFxRZ1Pk/Iso3x4RGhxzeDw/BGpc1PN65Ewem7uCpNDcvrKahi3Om9k3tfO18XYa9WKMUFU5JNp33nV3uJHwjbqLnH/DXe5f2st6RfFKqpiK0Dab7z973eIcqKlr29RlmU+niLFVICtG2NoW8bs4Ej2f/d7uPP5YPzUknBd4eK45O/14wk18HlY/LpqrkUsD2QMvb7N6wyshbC2agsXBCyEFXkPDhBeNUsFYyRuCm9I+bsJXBMpj/YTo3zTObFYs4T94td3YBWM4T2XOke4Z9hmde+dljZS6zvEmHOIUb4Oct9oEq6RcTyk+wjl1vPDaVLsiFZqROMerz8LH7o8FyQ8ptB/WNd6popaH5Q87up7zVjS4x6cCuSP5Jg/ENTXRhnTAc+ZyGH1ePa/9Wr+B/I7GGy+Thhbv35ElBG1v2GJ8qm8gHyA62Xp7DwDdVoc9zgfDLdre3zfrT73QVvWIYPRmJaS4xdOmhNRV5wR9Jsbzl6jFOsCrqvnCkiujSMwF45vU8RFVvHMlKdgMQifSPHQpnN99XoqZN4gpjQ7xTMOZM6pq/UEvkeeQP4AwwBrqL4U6bbwxMBWwHNqos5DPGENjGe3KtlfIjzkqv/CiB7/Y0N6+juG9NR/PqKVXzoeqmQymR59Hf1Mjw7+MoMzd/4vd+joZ04fLM9kMj1Ybf2jHbr+Qwwlvf5nb9DuP9k74RKZTKaT1t7Pjujan+f1wus/9CZt/+Pdky2Q6ZGR/YjwEKv+CyNa/utDSm4TuZwouU104UdTWvrFyfyTTSbTI6mjn+nR3n+3TXTEv0BnN1La+++26eCn9+ecaTKZHlVt/aMdeuMvvElZT3aceXNCN//iLXtgMJnexdr72RFt/rUBZT35i9o3J/TGf32Ttv7RzgmXzPQoyH5EeIjV+rsjcuFuHBQNibp/z35EMJnerTr4f+4SDZT1ZpDTzt84nVt6mkymt64b/8Mm5f0wL+T9nG79j7dPqEQmk+mkdfdvDSlXu/3l/Zxu/A+bJ1Mg0yOlE2MiTLKM7h4c0a0e+3Dg74LPA96iPME+5PJ7h3wPH0fUDH8H8V4ktTen99Qon0rhddPXKXxBbhLus1746fkcvy/7Evtyusv8Otw9DM7zvj/xysHLBo+K97yLxyW6PdujH9/J6UyrTh3xJC2rV3ijcF/t84IKf0+ZnQD/bSJlbnTXg2NG4uN04pu5KF7jZnctuEfz/FUukxwPOcWq0L5OvTeq3oMZXrPhLv+aClaD/17KA59P6/wVIiJ6Y5/jba3J9+004pLPDfvzJhHHzNh7lsM9o+HLPLM0exstXFdfH36sFTm/h34SXxc8bJH3xsr+sRP4u2S/WBIehHjqsQdytMQeaHjVTpXyPNiXNlJ7Z8Mbi9c18RUnfkyGPjMIfrJxGgfv45KXF57/0M9cfC5jpJaUzvV7C0t/7ci+yT3x0KP/LnTYp9m/c5MvJQwEyHvkRuGPhYjL7OZsS9PkxoRWWo3KMQOfqGah+O/h2Svta1w+HsfCg1rsNd8KrnF0/RUiInp2/TwREX3Fh58ioiK24QeH7w7nJcIuaQrXQ+dt5Iu+9x3zaz2e7euFF9q3AcovfeXgkRV/eJpldHm9G1wDeUCzU9BfPT8+hdsC/gbYF6pMYFckUqa7h5KbJJ+I3dvn2vRIuDIyvqMzYd7eGnAd+hI3l7shC+FIpvvrt07jj0055Wnm5/EyJ0bWBbXQV478sa/4JMjdOl7Ql5m8Yj2B9UDT9714oeXzWPEGolpS8sqjLOmY/2UgH3J+Rt6erut0nRBP3jechusQaPzmmGZp/OaY8uERjcTrCvbCKOfrvnRri4iI9oU3o9diZ2U9g7bC+uZ45zQLdfZsBGkTl2HuCveiX+rw6/svbgTXQRsgz3tOVT/kVJHyVkdyXTAR4A8ei/8b8YK1E3zh/r6KH1Pk0NjnPAi5Q7NSIOR/CHMQYrHI18LrUflE5/XxMJxX6qouRdxIm4PzJXGAV7QNWB2nSXmWBUwhjIlaIjlSrfu19x6fF+vPkI0DIY7Rt+AUFW0cjlnPWEoW/3faXcn/4LwlnrsC3ouMT1nrehZCjy1LGdgWaINl5stNbs1+jhi/OQ7WWshlGJNok5pwJdBmSwnWWmGbgBOzJK9tYYbFUUSOwrWF5gLo9USu5meMw1zxGpL2ChERHcpYONyXOVL6BdwZkpw77oXjW68HPEMHz5+ad+K5ZyGLDe0Y1eolfkqxhg3XppptBxaCXufrZ1kcr/NDrvgbvTHf5+ZeaHXdAE9GXsHKAQeiv3mNX4VTNY+VYn+J8BArPz+bylL1uclkevRVuzT7t9/ksu3SYDK9W1U1/pNLpw+YZzKZHoxqF2c/5iWXT46rb3p0ZD8iPMQa/VdNytU/cucN/txkMr07tfHfbpBrKfJ2y9GFv3LuhEpkMplOWpf+6vnZeeEv6b90MJlM7xad+/MtcuqRwbUcXfzLG7NPMJnuQfZT1EOsyXfK9kR/Z0DR7Zyyc44Of7BO0XfOtieYTKZHX6t/gP9Mceuvb9H4zTEllxO69FfPU1c+N5lM7z6t/8EuETEbgfNCjS79lXO0+t2N4080mUyPrFa/h39BuPP/GtD4RurzwtrvXznhkpkeBdmPCA+5Jt9Zp6PfBZ8ue1dm7/JuMpneLVr9A6t06QfOBp9pDoTJZHp3af0Pdv2PCfDzap+/yWR6d2n1e5q08QP8l4qeL5CdPgaG6eHTif2I4JyjVr1GV1cZ2gFYRKcZ/iu7hgcBIuHfiyMjE0hVNNEQGpaHB0az4YhTdwyv7xzlE8CSBLqRhN7D9fYS10FAJ4CyaGAS4F4DAWCNBRKCV5QZQBKAjDRksC3ErU6T/4Whu8xJAUAUlMOD0jwwjc/XcBKAmqKk7tsFwBBcM6vzPZoCSMNxWKAAznN9m0GLO0dchg89+RzXcZ9hXrU2/2tp/bFniYjo1j7fJ91iOEwz4X4EJEhDRaCmtBH6FeVoXWCQI0CQ6IvfvM5wsk/dYCjN114+Q0REH338oodnAVwHod37AjzZPGAQ1p7037NnuS5rzdnwnoHk6D0BVgGo+MQa/wI8kTbxoKwEsEmOk9oSjw0NBWtJk6RSjlqH63JboDKDrV2+zgwg3sOvPAB8ArDTaXGbNNXYmD6PqPihDfkEihSkppUUAD2iIt7IA3bmlDLLpoAzAqYR6M5YAFsAKu4cMdQHMEgN58Er+htl1WC+rkz+iPVpKBLRVOaSwms4VBU4UavIG9Xxg+9wLdQJkMjGGc4TGPfDO7x3PRYwkxbni2UZp6MdAbVKLC9depw/F1pQ3XEbj/Z25L5StojbFJDaQRRCqRKBQKUDwMS47ZrrsH4IoE3OvyO58/KZVXLZRMoQwtzQqni/3+dPAEZEbD6+Lm0j/YR2xfgGJBjHb0rZUJc1iSMAszIpW6TglTcPAejl8pyvhyC+G0cAvfHrey+s02mTi2KqLS37NkTOxlhpJuFYhAo4IR+3JnNlU83hHoKb6/NDOG7dw87Gvlz8fv6CHMBCXOOO9FtH1iTLDUAgh0GZNUAXczPGAMYU4qqAlHEZEX/+e4mbF9/kMQe4NcBoOocWr+H8OBu4hSyk8m8tzEkehCjCmmUsoOYlWU9U5aACFqjAeFijyecY55s9vv5d1FXy/7lOCI0rvSqIZTaVUjVADWA0DYHE/H1T1jpNaeera1xHrHnQNhMXnteSWNVQSbwiphsSD5lA5DK/xpUxs78b1E2vT1vHTwsPpVxcmwEmLVTqRzUHetgp8oSch/hEH2PsIt8U649critwdAH8Ab5brK2LNaLOFX4NOx4EZVmRcZvLvQBixrpxImMlPeS1M2I/WWObQk3GUEPeI67Ahq2rMYm1PgQAq392knJjLkX+wfPP0xs8v1wS0CIAwcuNhNJhAZxlKduVWk9AyIEFJD5c9xdg3UzuFULm/RoJ15Ux6mH38kyGdcZI9R/WERijyFOAD6J/PYB1qXgWoqShypgH1/IgbjxnKJB2S+Y0rHmhsQK0Yi7D9QCPvb5zELTNecl1gE1qUOveS5/m8994mYiIGgLFj2VdWqXT+JRhMplMJpPJZDKZTCaT6QRkPyKYTCaTyWQymUwmk8lkWkj2I4LJZDKZTCaTyWQymUymhXRiTIRaFNF6e4lWxOucVUDBSp6lCH5PeOJCr3NU4aHT/r3Zfr5C8DzlWUqkvOrw88BfO9y9K2Xl4+BBOhqzOWVJPFvwWaEuffHKwCsPrwxeIe2xK3zhfJ7nFoxDDzTk/Viok3gwZx2P9oavBx5FtOqgxj6f1Huaua7wqB6O2Pd3bY9f94fsHfqGD31t0AavCjsBvvEz4p+C9x11vrnLvp5fu3aHiIh+6za3+TddZq7A77oAP6j4ArvhtjW9McfJJ9/YIiKil7e5zZ+/JJ61KX9a7GbHDpgVPfEswR+3Jt6iaQ8/UREHW3u7wflXu+wXf/psl4iIDq9/mYiKfkkkTsCdOBB/luc/jADI4uvvw8F3xJ9f7HKfwAdW+M9Oj/Kc+0RzO7zEkwZHrecISJtr327sFOMkCscaBF/ZKFFMFsUTKT6PyHMYpEzeMyj9gnvXa3wufHo4rnX20tS1Cm+i53uk4s8Tj/xoGHrqwQfwnmjx96E88A2WfYiI/UVBjM6XU5+DdocQe6NEGBbiqwMTAceD3wFdvXCFyyT9Dl9fPOdn7h3hELxwi9sC/u1nN5hX8v5LZ4NyoU18W4u/E+W90OE2Hu7cpUjGIWqImAOrIpJ+Rh7f7vMR4PzAe0jCVvC+SWn/seSN/QF7mPdkvPdl3sgS8eOLBx5x05S4uTbkcpzrcE6uH7E3Nl1mrsRNycGPrXfDNlBcodOijBwR2ATKk1zFJED4LCV6vhfGRkWewRyteUU+b6i5c5orpIUcciTxcbfHbB0wNL7uKc7bnush8XSuw/PF3suf5TIdhWMmEX6I9uZjPonxShzbmMuPKGS2XOqwpxksJsTz2M9zHF9F/lokb8xmI2hvOhgq45TLhvUBXj3rwHujs+D7sr8cnmkeg2/scxt/5uZ2cNwTa3xfkFFwHbRR4aXPgvdYF8WNDscjFT567XmOKIwheJPXZM4Cy0ozU8bjsE56TkMbxDJPYP0HcpL3ZIuGwpvR/KiDVzeDz12tHLsPu3IiGufFXKs99JD22pefK/g8tA3aZCzhq69fxV7BGC7YbbO9/tPCPXANcDowjx/duk5EBQvBx75iIvm6Sj9ibMHvfyhznV/nCqMJK6FIPefosVdiMYmFHzV7bH01qEek1kfT0pw3CP2CGPdrKgWHRZkiabvlRsgL0f0PjgzaDqyUL97i5wIw3DCvgM23IbyH+lixEBTTxeeH5VXPxBoI2wZq1sO84J8HpQWxHkCexfGIPaxt9POgZytQ+MyEZ7INyTNgV+g2333xN4moiNH1j/1nXE6sS+X5tkr2lwgmk8lkMplMJpPJZDKZFpL9iGAymUwmk8lkMplMJpNpIc39EcE593Hn3G3n3AsV3z/nnPsPzrmhc+4vPvgimkymh02WF0wmk5blBZPJpGV5wWR6NLUIE+ETRPRjRPSTFd9vE9EPE9H33dOd84zS4YAieEmUr6/wHGlv3WzPi/d5VNj1jtvznK83+8SM3NQ+n+whhG8fXh94jxK1tzF8Oqn3rrEvZ132X11vs6fRe10cvLahz7Nq3/bKfeCVj1vviZvP4UFMC55zeIejsfgypc6/vcmeIvgr7x7ycS/c4bpuDWRPYinDRy+y7//Js/yKtoVnFW1Va/B9d47YVwQWwuYB+AL8/Xif74+907WnMYu5rxoxt+0Hz3IbPCP3nxwdUl36bRDN9s8n0o5PrwsHQjxL2tOI9r25K7wH8TivtdhT+p7zvD/7YIu9iPCuNYWFAJ4DfHWIM9RpInXclzbZWKqH3/fFi5bci3f1vvUJejvyAuUzeQjgd8D/qX3A8NhhD13s71t4E8O9teFb1R7HSO0frz3O0yyVYs9z2TNe4gT33mhzGfWe5NAbW3vB+3PE/TraDT2sYGX4fYBlv2jsjw0WAvzGA/HYHcqe6Ggb7De+JH6/+jzgAM33zuPaFMErznVYkrLvLQnn43yYkzYP2Bf++Tvs31tvcdk+9r7HuWySB1A3jK36argn+M4WsxC+tMPX2x3CM8/3eUr4I6gJfIgTPtznt0Q8kwfXmd3QOn+V9JyTKR9novZ7xz7M8LL7/O29xnw95LwXb3A/f/oWx0G3yW0IjsPWb/6ytJl4FZ//FiIiek3i5umz7EEd7XMb7IkPHI7oS0vYfz70XOt54wHrE/S25AUeu94Tjz3U09ksBJ//MTal7ogn+JB1voBSlTuxZ7fffzyVNp3JSgnLgNjtSV6/tss57GnhdnhGhpSlS1zmnRf+IxERjYQngrrEsn6Il9rhvfU8L3XAfIOciT3QnzvP64+OzE/wwA5G4V7pyBeJC+sVrktm54p5c1C901XHV/OapoXvEQcFr4qFPH5X5uKtPh+PPIOcjDkWXCs/zxwKX0Q4FOBPIOdmU/WF97jweYOZxbkQef9ClzlOiT9V5hzFLoojMBSE26H2he9LPIyEdYB+bXrGDvcL8gLmkcPXv0RERGOpayxrOM/OUW34gPUJehvygstzquWpT9VV4VZeQ4frgRIzR76vqzWhzgsQ1mx4hf8cBZu1hsdchPGGa+O5AvN8KmuehvQvyjiQOBjvhJ51zzKQ3IT4wWsr4c89L0raDrGtnzM88ykFhy7MlfgczzfQBMfH0UxWzCLy/AfFJskbVWyckJmi8wjGSvFMlwfXafq8wDkRa/xxj6+zdPEJrpv0yVjGGNZoSbtD+72wHTzLTnKS5jsgBhEzYKBpFgLWH8jTkeJy7AobDc9iYNysSR1iFctg7SCu/u5LzNz48r/k3/l+9xO8kvi2Z6/ScZr7lwh5nn+SeIBXfX87z/PfIKK3dWViMpkeHlleMJlMWpYXTCaTluUFk+nR1DvKRHDO/aBz7lPOuU/d3arMJyaT6V2k6bywtW15wWQyqbywtXXSxTGZTA+BgueIbcsLJtNJ6h39ESHP85/I8/z5PM+f31g/807e2mQyPaSazgvrZywvmEwmlRfW10+6OCaT6SFQ8BxxxvKCyXSSst0ZTCaTyWQymUwmk8lkMi2kRcCKb5McuTguQBke1hP+rgFoTaaAJh63qM6L5wAUq6RhQQAvDUajEmBIw3wA7wAwYxjxcbf3Gb4BGNOSAPB2P/Orwb0ASALEB++bAvFonbvI91HwolgBefIoBPAAtFSAUNzM72cJ7QGgoj8HZZa6bggM5JXXbxER0Wducx1e3mZwye4Rt92b+0wy+4out8Xoxut8PQGuDAUWBdAZ4F/vv8SwwT8rkLrlhsBCmvw6OWIACuCCACShnCvr3Ee/77krRETUafLxjSMGokym7lmvzW4PxBSAaYCvIDbJ8XlbuwyJA7SlI/Fy5QwDtBAfAHACEjeR8wcSR03i6wLesi+gvETAOKvZQOrOx9daIbAPUJn7hdmcpJxzAdzQx7DEo4cJerCiwMCGIZyo6biPANrBcYDS1CXzAXqD43SbaegVxlCaFaMRACOcW4tDCNvZhgCO9neJiOiNfibfJ8H3vVd/m4iK/gPMayLQP+Sb9pUn+XoAUObcNl/c4ni5sc/HAy4IsOeGcNiaqLyCEuk6Fiq+1/m5lG+lXxC7bfl62OZ+Q4ba7nMdf+lVHhOHMjYORq8QEdEffY5hP0OBRjXXz8v9JT/LeAeEEBpLmzwuEFTkqZG0oQfyHkq+EOicB7ouATaWzGiHUIAxxdKcudS1PJdx+92Wfnlpky07bx7wPZ+/xG0D6Ozui58iogJ4VL/8FBERbR/xuL/aBjhVQJsCVDwj+T+TticZR4gnSIOxTovyLCtAWwqsXDo2xXhWoFQZz0cCAI4ENpVIjvWwMRwv75cBHwTAC9BiDzEO59jp8mGcHo5Cu3cBvuTP6z2O9SMF3vWwv4PQ6gWoZCTH4RXrkyOZY0nK2FjjubSrjstTnq+czEMrDbWuAOxQ5p/Z64YqEHYo5LBxj+dKSrhdM4H8NXy78ivAZwd9hhQCgCnTv8+9mA8wF+L6X/0Er52udPn6yFeAmCFPoS1zaZMM8DOZFxIFVEzz3McKgJi4tgaXIgd50LWar9FmWwJk+/xN/hN95MhnBcB5TqCQI8SHzDdLlxhGi/kHOROxefAlBqiNt/m8SO6fCjwyl7Z7m8GKb6s0YLV6bRuObw0/Rby5jMcEHjuwRtNwO/Q9gIo4H3M/rjML7F6AbvkcQD6zMecmAFWXHnuGiIheH/PxLYEYd688K688Pwy2bvOFpU5YNyzLerMjYE+sdSZ43hDYrF/RSB0iD5uuB6+l+QRrqFQ9y6kcOUtYr2mYfLk/JR/IWMIrxn0BZA1BjMXaLAnqEMvxeL7QeQtjGNc9dHz+5gG36cVVXpu1WtPrBaL9/oD2JVfFHrCPWkhsqdhMJP/WBd6L9RzycQx4r1qvoYzI+/0RXwfQWDybLft8znU8xLOX9AuAiv/gb3N+uHYZaypeI73v3AEdp7k/IjjnfoqIvpWINpxz14noR4goISLK8/zHnXMXiOhTxFDozDn354no/Xme78+7tslkOp2yvGAymbQsL5hMJi3LCybTo6m5PyLkef4Dc76/RURXHliJTCbTQy/LCyaTScvygslk0rK8YDI9mjImgslkMplMJpPJZDKZTKaFdHJMBOfIRfGUt3kxn2aasx8kUcdr77NWrpgK8P84eF/EgzPK+fOB+EuWmnXvfYU/ZnzIvpj+5jX+XHw4rUtPEBFRs8NeFHjoW1LU3VeZGzAR3/5YXqHG+atcN/Euwj+ItoHLEG0Q0/GeI+/XvI/vvUeM2J9VeIbZTwdvUUeO/8gV9tH0xSM2ypiBsNrkdm+LDxte5qM3vhTce+W5jxARUS8T/z9wA7vcZu1b3Na1NvsDR4+xH+zuhNvgknAjcH30J3xiG/BU3ebrDaU+9TV4ogqfm/bFgnEQR6EHcqR8W/DDrS1xTHeXW+F1wDaohf66pryfjLhMkYyJO72+XEe8iuLjhlcWfi8t9M2p9D67iOJGy/t1oZp4z9DmNVU39AnaFn2VTUJPIsZyKn0cK996UQzdti64fyz5i2jKM6j4CdEWexqPJNbaj7O38VKfvWfZPo+t/Z07XAfJB7HUFQIHIgI7ReIM8fDrdzkfffoWe1zPLXF5LqwIQ0E8cS3x7SXKWzcvd05zIJB76iXPKX+eDkOGCryJyZjLSMucMc60JH80+dov3+Tz//mXOG98z/ukLcUXCl94Yy2kcQ8kLzwptIVaW/gmYpqOapyLEU/j/R25XsgNQV4pmBtN79eE0G4juRZiIVHjDeeNJW98+c4uERWsig0Zz18jfm14pid9/r7z7Ffwe3giJVa7ifhwxRMbOX7fHBR8F6LCczmW/KHjNG6cwrwgOo7jM/29a4RzNnQIdkqO3Mtt4vOC6vOWzFvwOHsPtWKnHJdrNc/pAxc5hoc77H0f7/L4R0yufehriYhoIN734c3XgvNj8bS3LvB6oR9zWfbFU484gZrr57jMkp8wFuCZhp/XxbPbTPuTj1dVHi1yCFGxjkiHPN5T4UgdyHoMHvPNA/7+C3c4tx2MuCwfOMv+7m98+qpcB9wBxDrXabjLbdwdg2Ml603xqqMtwVLIhFM0ljxQ8Gj4vPF0W3huQ9i/ni1Qk3WaZw2E64r9PufKLwoj5aW7nM/3hly259Y534P7sv/K5+X6XBbMJ95bL3VE2/ZefYmIiv5cevoDwf3BffD9eyrXC4494bVwLqtSNUtFngey8HkAzI6BxGOxXuD7gGOFNSJ4WX79MaM4OoeMpB/AXBve4XUA+vOwwXHwU59mZtIo5br2Rvz69Zd5jvv291wmooKZhbkOr5r7FkucYB1Za4XrF9xnICyXZp2/rzewrg3Heh6F+QNt6OK4lB/jirGDczDfYxz78Qk+DBhHsr4A18FfR3EZYsX7cKqsuB7yCPpm3OD7fvnuLhERvbEnx8kaDGMTa4Hbd3fp7iFfA7EArg7YOPUSy252u+myoq0QW1ptmaM6wu8BYwNC3cb7nG+aT3+QiIj+xt9/kYiIVr/0CSIierz/e4iIaOer3xuUu0r2lwgmk8lkMplMJpPJZDKZFpL9iGAymUwmk8lkMplMJpNpIdmPCCaTyWQymUwmk8lkMpkW0skxEYi9HvB5pOIDqcehh04L/kKXhPvAQ+X3oQ9oLDYe3GfUC726r99h/1BH/End5WbhpxW/fV98uLnybQ/Ev1sTfw38OAfiSYLPZuWD7HnE3sPw4aKsI+VhguBH1qryMpc/z4PP4esp2j4m7XOCJ0m3Y1+Khv4712Hv0Mfex3sWf+Uu7y26N+A2urrGHsZs87XgOk75iXeOZP9XKeP5RsgVmPTYG3l7m/viC7d3+br5utxH9nNWe9lOxD+OesDjiD1WgzqrPWuhG7u8ry485sU+sPx+TRgI8M/C13l7n88DKwGepoba+9Y12Nu2J/vMYi/rXHyjrmIfZ+8DPo2exhlKs4wiz+uQcTrFIiCa2hdY8oTf770Gf1mVj0t8qguPmVBxwFIIxxOEfXhHW8zfSDq8p/DeS5/msqqYBgthIuNe9yPySCb7OiPPNGT/6DdeYU/1FWEgPLHGHsqNNt8H3jjv0fP7DIMXMZtvoH3M037ggikxO08jV3r/JbzIwv346OMXg+OfOcN1PxjxveBBfI+cN9q+FbRFc/18cP2h7IEOJkNvLNe5yZ+vSj5/7MrTXEMZU77G4vtDvpv2AWr+A9phf4/H6cYKj9OB7OveF9/m3V6Yy77+yUtEVOQL+GhHCfdPIr7PXNo28fHF73cFetBd5vP7Ege+DjImUmEvQMixmOxRx9OmjBzFyNe1cK9syKm8ofeBHwy432PhSWg+CIQ+w2tTrTeK62ueSHnuwDyLNcdaxOccCguhf/3LRES0/u3fT0REv/DSG0RE9C3PMKw+OXM+uGZDWAiTFq9Zbu7wWFtbCueH1nk+X/uBvVdZMZHKbZcFn2uFeS/MFZ7b5PlCefi53it9KHvad7rB5wOZ53/zFo+l//gqX/+JDR7nowm//+YnmPsAjgTGM/gASZvbCmwd72U/FC7NgMcy5t66zCNPShvWpBqjscxDkfNrUYxj7A+P/LAieReecn3c/iBkqzxzhsv2+Bku63rEn+/KvIEcunSJ11gFg0fmQBnnR7eu8/FS1+YzX8lt+AbnUOSzZy7xWql5JEyV3unbTTEnbr+64kMtyvVAm/n1BLgSkot3D0PGT72GOOc4Hk0QD3x/+NGPGzvFPcA4CtcqWOPi+eLFm8z1+NnP8b1uXONcdF5YSJ/6aow1ng/+8Ed4XYA5OJV1QybMHTA7PBPBl1F4cOOQS4JcCe5UXDH3Ix/4vFA7bp7R6zDFUvFrY25/8MSawi4itBGemYRld/uIxxh4QedkTZ4p9h3YCvq5BnkCOXNX5lKsL8FywtoKz4aZ3L83Gvu1wyjl7zDe2g15JpG1CPIHYgmMFOQJz74SIbbwXJANhH0x4X5eaYWMC7QpyhOpZ5/rklvzCZd9ee39RER08yqzUz62DsZbg46T/SWCyWQymUwmk8lkMplMpoVkPyKYTCaTyWQymUwmk8lkWkj2I4LJZDKZTCaTyWQymUymhXSiTIQ0y7x/LKrw4XlPnXxf7Lks+7qq8yD4juB5gf/oSPbwjKXmuM/1bfbYYI9P+Auzydj7aPQeok68JfW1DSIianTX/TlERP3bN7kM8ECJn6ctXmbcM+7z8WcbXBf49KMuX/eO99ZynZviaa3yJhWa/Tm8Nmj7Kl/odF39vqlyyG0pu2YerMZ8wMWI63R5VTxiE67DSNq7hv3Yl7hf4NNpiu93DE+j+HzIszC47hviC0o32c/3yl0uT1f6DT5w8AJwfe8blr6MGy0fQ7G0SzYeyjHsOTrXCb1rYB7AJ4t74dq7EkPwdcNT1BV/1qTPHrXcSZvKvu+peKG6y0XscZ3Ft7fgft3zfP2nQZrbAZU8dPAb18J8kWdVfn8o9P0vqioPHxHRuMccEHgZEXuDTWaotC49QUREy1eeIqLCu4rj9Xk18edBYKWAqQCv7fvOcl5ZFc8c+CRN730P99DWPsCyZvubkzgu1V97wpEnMN6Qh7GPcy6xXpfjv+4p3tv6w1fZ930bHkTpx2ZNfMXi//deRhkLueQHtOlwh/kSdfEjnpF88AXJEzfk+s+c5fwDf2Gs+nOcZn5O0nVFTGKuQOzpvcKfOX8meA8v9KvC3dFMFeQVz+BxfN2D3lFQVvi+0X8T8brCSwvvK+ZMxIvmU5wm5XlO4zQtzVmR5odUxLTOI816uJ977vfgFm+s9Cn8rMWYOT63+jE2latjiXkwcUZ7t4mIqP/Gy1wWid2/+cnPExHRl3fE5ytz4Pd85dcTEdHuS79FRES15VWpE3/f8vMQj3/nuK4F70dzjmT9olg6um7z55Eid2pft/9csRF0e4JdgPm4f0f2WJcY/bqnrqgr8vi+tsvn/cZN9vV+4CKvvTpS54zEqyz5p7It1NrprnjgeyMey2jbx9a5zeOoXE+wT3Q+gF8eaxnkAaxdrgj7AHka64LBHV43Hsl4BtugIRwY9J/O07lfn/L1dppdIiL6y//kc0RE9Iuf5vs/fpHr9me+jq//xz76Hj5vHPJFToMczWZ5IaZLbISK95oTcjjktkhz9B23KeaEkWKxVK0FjxtDqZpP/LMO1qgSD/1xyEK4+Jn/g4iIBj1eV2TRnyYiol9/mueJb3+GX9tYP4AbgPiQsZVIHsF8AAZCUackKCdy4nFroPk6fr0FFkGRR8N7vyn8l/U21jjcJq/e3iYiol9+jXPrtQPunyc6PFa+6fGzRET03gv8TIV1BPID5lz0P54X19v8qtf84F31e3yd5UuPERFRu15wIDLp11Yi+UBibCR5AuuF7SPOOTf2ud8QD2eW+J5rimmVSl4YYh3g8wELXAfMH2BZ1NNw/Xexy89sf/Sb+f1/evI7iYjoWx/n477pSpeIiC7IerJKp/9pw2QymUwmk8lkMplMJtM7IvsRwWQymUwmk8lkMplMJtNCsh8RTCaTyWQymUwmk8lkMi0k+xHBZDKZTCaTyWQymUwm00I6MbAiQEmASDQFPqEBF4B4AJc08DASgJBCUAegEZmCxAB2B7hFmvL3tSWGRox6DOwAxAKQIqLcX9PD/wRwsz8U4MmRwIB2Gay2Ia06FKDaeH87KNtwl+FAlzodKWsINLk+4Qtc+20GrwHMd2m1HdQ59lDJEBbjKsAnVUDFajBjGXC3dcCwFwAVAQfZESDR+nkGHE2OGO41lnZ1cQj5qq8x6CQWMBrAax2pioe8JFz35qXH+bpyvVjgVN/7wSe5PH0BuCmQTVQTIE6bXwFsAXxoGsQFCJST2AHsyUn/PHn2HBEVwEP0G+qYSt0+f4v7tyMwlicEygQgWn2VoW6IH0C+lmQMAOgI8JWHyJX6Ofxe67QCFsM+nA3v0SA0D/DyANYHXapZ5QCULewfD3WVfjnzkW8iIqJ/8SWGA9Z7bxAR0Xe+/wkiIupffyW4anKG80tDgK3oZwBz8D4V2NDjEl/IWQVkdnbbVYHUNKiryL3FdXQMlq8dqbLy+y2BA17b4VwIwNp7BD6Y794hIqJ1GXutcxeD69YFMqsFGNVY+h9jC2PygoypC+9l8NGbAoRF3sIrwElosygvrq3HO45dbfJrxwMtOT8DkFaTHPO56zzuBwI4Or/CYLULAjaqx2G+ngCo2JecKhAp1AlgNeQnALgyeY9y+vyB10kIkTpNyvICVEdUAM5i33Zh7BbHSd3lPWBheNXrDah+DGx4WsflWLR/5PgYAHP3b0l/ST/Vn/kIERF9/KdfJCKiXo/PewPg5ehVIiL63Y8/TURE40P+HBA3jFOAt/I5a6RM2iquhUCuewelFcfre8SVADVASmcD7vS6bdLnfgKA9f0XOQ9c3+G11v6AYaU7Aic7d4FzJyC0GpyGubXZCGFlGNOAnAKW2Gk25HwuVxIXS2a0O8bvhoCTAUDFtZ2C/BaxJuNdxi/WTE76JenyGglrVLyi/8bSVh72htx5lnPnP/i3LxAR0cv/789yXd74Ob7ts3+CiIheeJqPA/C1HZ/O9QK3o+RqCtfGGJ96OeDHpqwP8T3ep9ImWCOjjSFcv4V8Usf3soacC3Qu1ixYj+M9+XUdl+r5x3jdefVxjun8JZ4z6xnH9K7klXrMxyNP1gVe7u8HmLhAA5M2zz9YawPAt9RUoD4KIbNvB1AR3+P5zEPjAWSeYO7l9sZ6wsMGAdiO+bxbB9wWn7/Fdd7qM6z0O2S+f+Yct2FLro+5FcJ9IwU/PtrkZ7KhgJ4xVvsSB09210oQ+qLdWAMZp8iZGpDrQblNANkFLr3FzzxDyW0ewI1nKMlpgMhmKj8MtnaCsreknH/h6/kZ6gtP8fftBh//lKwrAQCv0mnNGiaTyWQymUwmk8lkMpneYdmPCCaTyWQymUwmk8lkMpkWkv2IYDKZTCaTyWQymUwmk2khnRgTASq8dOKVg7+7VDL+Pom114jPd4oPAA8c/CE98f3UxUeM49IBe+SePBv6hxIpVjYeeY/LMOLXL9xkX+8rW+zLOxCfzeMd9sJ943uu8L3hURGvPLxIVX6pvZRv+htvsqe+JWXdWA79e/BzVrMQQsEvBM8Vzj/e2xT2i/acww8M/w76Ef6qRNpM+289i0DaBj4/eNESx/6gZlYL7ltTbQe/uGcuCH8il+PG4qHG9Z3yyIFvcZzHG56itM9eoZGwLBAPiNUl4TW8tMlxsX3EdX5GYmq4E5632eOYgw8zEc/kZCheKfFjQd5zn4bOPrx3p9bLWKXC4+h9gsF35X6Dh057EvWYgF+4zA1x6n3V8WXBdwvPIXTmK7+eiIj+hnhT/+VL3L/PXkDdxOv8/ueJiGj/i58moiJOdB3wHjGdyOe1Cfs3R/v94HudZ6oYCFoYy8eNjXm8DdwbHsdDie0b++xl3JP38BM/1uLxiDE22BLP6dlLfJywDpCvi7JKOcA6iTmPwCcITQ54DF+MhEOyzj5TMBG0pn2ME8lp8CzXG3yvx9c41wx3mOdwJO1V2+Ay/8ornJN6Q77H1z/JHuTmmPspGkm8SM6CNzKT1+4St4lns6hxjjb2vAh5he8bjISS/7yCofIwK8szOhyOptgVUOgr9fOUUx79EjcAOZVftU8dWmT8zxNiKVX9URPP8r9/5U0iIlp9ib3xZ3Y4X1y/+zX8/VWe477zfU8QEVG2zYwN+P5bMt7R75jbNBhmlIbxBS92sR7QUmuztwCa0e2H+Z7Cqc63kc+BDV5TwQO9IhyIJ5OxfC/X6bB/9/Y+t+F6m99HQz6vmCtnr72Q81bEZ96WckW5rAEG4dycDgY0EpbB48s8frHWyXvcLyRcmH1JMaOUv0cMYi3alPGPftPzCD6Hx3osOSuphQwlzENgHHxuk8s8OmDmDmL89llen17pcJ3BcOjv3pzZNg+zcuK4hp8fr5H0p29jrNmicLxjfqojHhVTAW1cPKe44H0i6+B6BZtFn0dUxCJyFMblkXDG0N9YK9fv8DzyV76NY/rHlnldcUds/N98lePhW65yPkGOPBrL+rQTcoLAK8J90WbgOmgPf9Wa615UnT9VngbjyOcm4QsMuOwdOW59vUtERf+BS9SR/vjAWZ6r7wirDdc9HPGY+OKtreD4xza4jTAnIz/tC5cI8VCTvnGKJzOQ54/eK5/3nLfmhat8rszLnqkn/dqQmOkmwu1QLLZ0j9k3va3wGaom/eefieLwmQaxh/uAwTe8w/NMBgZLj69/+crTwXl4xvZsvzkMpUft6cNkMplMJpPJZDKZTCbT2yT7EcFkMplMJpPJZDKZTCbTQrIfEUwmk8lkMplMJpPJZDItpBNjImDf52Yd+zWzH2Se7wbeFL0fdJVwvXGay335tSv7h8MvEotPBF6psXhxoiShgeyT+luy3/e/eZ09b79xjb1IR2xBo6vr7GXpi8foO556joiIeq++RESFl6Xe6QZ1hv/vpRubQdkvC2PhUpe9L9gXuqqNtH8TLARo/j6vbuq72efCPwcPkuctqP6A70r7QLWvW3uX697fE3qOcrAU5Pw+mqARnj8UbxL2TMVeuNrfOe3RQrvBN+WwN+32KCj7aGtTri2MC6njYcbnvbbDMVTaMxv8BanreJdZGmjD4S77s3Rb+D2ux+E+9ZD3jcYhDwSq3qv44Zf2h0eeecLvS77u6PhU5s+raCPtYcTYLNpwFj8g9AridfnKU0RE9FP/6UtERPTjn+TPW2/wWV++wtdq19nn901PsYceXjowVHBvXBd+XD++xQuLV/Bfyv2ux/vx/IdSLafarHzt2dfCe4zn7hKX/ZLktHSXPYs74t99+qzs777bCq6CmMd4dkuadRGyWvz4VvuAY6wcSC4GewE8k7zEGyjeF17FQXAumAPY13vp0hNERPQbr/E+zHcOuW6/4ylmIdT2mZ2QST+NJXft9bgt4PfWzJs8DuMAXtlU4gT+zs0DLs/5FW7jDz3J5RkLswHlfyve1pOSc47qtdh7nLVvt8xOYemxGUlfIa4QJ1We3XtlIXh+SRyXOAt6DmwI7+O2LCAm2N/7iL2rK7u8P/edQ/bWwicMLyvq0FjnsePnXJ/LwrUScqnfR75WNT9UjenZmo4nz5jw7To7X/gySp2jNse0359dPr+5yzly84DZBvEuz7EfusJtt/fyZ4mIKBHfbr3N/mMwFM51hDcCrojK56niQ9RkbB3d4DEMjhXWK/mRrAX2d2i8y+Mql/wABlbn2a8gIqIvCzPr7iHf+9Iq1nE874ONoNckxTqAy4h95bHWgk8f3K6BsDHSPueRjsTDh85zXX7p6/8g30XWKd/9NVyHbxdGy+DWtaCNTpPSNKPdw36JbZP4fC7xJW2LvAEvPXgAem3cVKwvvbaGb1x/nymWU1zBHSIiiuRe4IqB23ZO+m94h2NwJAyUj733I0RE9L5zXSIq5k4w0548eyaow+39Q6kLzweYNzCXYtSCH1HmzYUslKp5Y5F1ZtXaQudXtGcchdw2/xwnXAfwYFAnzO8XZA69cuZicF3MfchLd4Vb9vo2Xy+9w9d77wVwhXgsLDd4rPr8IGOzLky2TK7bv87ckdHWJrWf435aOs95+7c3eX6u17i/8AzVkmabyLjFPbHe8G3SwrOSsFMUM03LCWNtuM91G8pzSy5r2uQMx1dTyoexsyYMpmXhwAwl7rBGqpL9JYLJZDKZTCaTyWQymUymhWQ/IphMJpPJZDKZTCaTyWRaSPYjgslkMplMJpPJZDKZTKaFdGJMBOfYswfP7KQv3vk09M6U91vVHtjjBd9gM2G/x90e3+cx2SccfhHs+QsPHPxBtVaXXhHP6Ut3+ZjP3WIPyYvX4DkMy/r6RdmvHV4W2bO4gX28xduWS9ngdekIB+CD5/j16hp7HLvLoU/YKX944SvSe9SGPuH5HsdZ34d7xuOasXjQ4eeBao1wz/OGeIewxzr8U/AweS/ZOOQP6OOctNEbW7tERPSZV9nHd2aJv/+otC24BbiOZzbkfJ96XI4bXzfxYaYyLLAXrIN/VnnUa8vcr9f3OC62ZJ/fFfG4IdbOXTpLRIW38UKXOQ2Drdt8XzAT5Lql/WLhZcZ+reBKSPlRLr2P/GmW9jjrvdbRRr7GnokgXIuK/KD3hR8ptoKbhN5K7M1Nchy4GXEUTcWu7CEu/fjGPpfx51/hmAcLYfmQfXd7OxwPe4Pw3j4OG82Zn+eK++B93hKnmplQPd6PZyFo7yPGZpTUZ7RrlRc9vCZ4Lk9tdIloqj91DsMYk6SK2IeQD8p72KNfw/KBbTFxkk+kjwY3XiOiglPT6GIMFR75UrvI+IMnfSK+zLp42wcyx7wp7IPLHX7v92Hv83nJGvf/yzf4OHjTsb83KcZJOgjbIKvzdf/1S68TEdHf+fVdIiL69Ct8na96hsv1Q1/L5/2u557g8qnceJpUiyLfjizE3ex9xrFemIjPGPEEDy30oLkxs7y/+jPEIGJvXTyo6ftlX/jhtxIR0fVzHCfftox9v3n8H2FMqLKD/1GwkMKxGfm5W7z1lYyk0Autx5TPR2nBmyjmoJCFUJWHy2sTCs5DXjgcctvc2GfGAebvDWElrHZ4f/eJeKVXZSzu9bnfkd+TJGQs6XWk97CrudjPucRrOeTCtN/zLATMScgDYCFcE37DpVU+9+oaz/vwdadZU+6JfB/Gsp6bNAthuMNsFs1o6YuX/nufY1/4Sj1kbT1/iddKHzrH65d94UogLk+TJlnm11lERK0EuVTGkrQZ8oJWwTTA2itkpaRjzfiI1HmKQ5aGfC3dp3mWlfz94HbsCDujLjHdFMYO+nUg/XpJ+ByXpLuy4S4REfWu82v7ypNERHQIxoJcX4/Rog2i4LVyTtccqnuQZqVUsVN0PtZsKuRvzSnSayfkDay5zwiT6fD6l4mIqC3Hvf8i8wHAUMHxNcyRQ/68gbwg64hE1v6TKFxX1Dpr1Hn6A0RE9FvXbhER0b48F1wVth3m+Yk8c2L9htcqfly5bcBMC+c45KPJ4X7wfbzM803SYXZGfXVN7sttOuwLb0Ke1dqPPcPl74frD61H56nDZDKZTCaTyWQymUwm09sq+xHBZDKZTCaTyWQymUwm00KyHxFMJpPJZDKZTCaTyWQyLST7EcFkMplMJpPJZDKZTCbTQjoxsGLkHDWT2hSYJARqvVXheoBKrHcZTgEIy81dht9sCAxnKHAagDsARdzvD+muAE9uHzF040A4Lrqowj2i9RZfY7S/G5YJEBEBl0z8Bfj9M+cZeNEEPMRDfXC/EDKpgYqQhlBCs6BP4XWm7wXw0GxQnb5WGYjEZQdQLW4UECaiMgykDPsSoIq02ZsCKfrZL75JRES/em1IRERfdYlhJF8rEBoPYqwEZoUgHS4DwHUCMpNmawp88+AVBqABhAWISmNtnYiI9jcZSNIfc11GKZf9tR2JsTYff0aYXgAqApizdOlxrrGAdgpwlbQNgG5HvaBNUEfAoHSdTyNAjYhjL8sAEwvHAoA6ENpiAhBjCcQaSrfJYMTXa9YB7JH7CLxu60DgiFKOZr1ImXrUJBIf114FUIc/3+7yOb0Wg9KiVS7r5Q5fYYkY5nigroPxC+AOxtRSMq//NRhJt8XxgFWMB0CKAHTsjyeUuBAcVQbc5lIWnZv48xUBXr1Hct1BX4MTpR8EmAT4UBnIGuYTLbTZVo/7b1+uc0HqlMp7ANkASvK1qRUAPpRJg6UQe2j/zX2+1+6Q+3NVXn0uleM8xE3aCLA4HesAKo4E4Ahwap/4vv/qVQY13vmnDEZbfuPniIjo5vt+kIiIfvkSH/f8Vckz0nYAL50q5Rmlw0Epv/s5UcVjVb7IM/4+KoH27rU4s6GD0Kz5x4OyZG2B+Hl6nePi+z/KGeDfrDDw6iNNjp8Pn2Mgl19PRGEdEOt6zob8GEVbyUJFH1e1PiiBIeV+AwAhKS76AfcUkHFT5SQ9XjUkuoAcS76VsmKM9AV0N1aLL5wH2GBX5u6qOuj7IatjGtH956FnUQE9c1grymvrLIMM777JIG6078VV7j/ApeudLhEVa9CBgHgBXOu0GkRUgC/rcn2M276sVUdSVwBeUZdRgz9/5snn+Loyt6E8FzocfwevvsTnKdjwaVIcOeo06x6giHjBfF6PZ9fJ54sYzwm8ngSoT8OqPRCwAkJc3XbVcy3WGkmDx/maANQB1MT6U8OFcR7mLsQF5pdRmgWvyIU6d2byPYCdZVhtHtxPr0uTtgDCx+E8N0uJjB+M41yBVwuAImD1ci1ZewAuqMGKpXzSYPjujoyt2wcMRtw55DZ88vwVIioAi4mU48IZBiwiLnLha3twowLz+udE4rFdExhm1GjSgUAdD2Vt2Wly3S8KUF3Pv7iWBl5qUC6+nQtUFNg9xnVticsYy7xTrC8pOB7z0qTF3+/Kc293OQR9a9lfIphMJpPJZDKZTCaTyWRaSPYjgslkMplMJpPJZDKZTKaFNPdHBOfcx51zt51zL1R875xzf8s599vOuc865z764ItpMpkeJlleMJlMWpYXTCaTluUFk+nR1CJMhE8Q0Y8R0U9WfP9dRPSM/O9riejvyOtcsUeLf8eA/7ZQ6Bste4u0fwfe/dAv7D1L4vs43ylYB0RE9RrftyueevhVb+6xZ/b2wRG9vM3/fX2frzUQm2VnSXy+LX798BUu67c+zZyFoxsvS93YqwRPHBR5rxv7bmLx+QwP2esKj0oaweet26LK6xx6mqq8jpkcNxAPTzOp+XvAP6cZBvAiwaN0q8/fv77Dvrw9aZwLwgH44BXxJkod4dvRfs7Cdxx6FeHHvi4epxuHbFYCf+L8cuFdJiq8SbUW+4DQn1UK2Ajy33V4PjPxY66zX2pw43W5x5ngHqN0J7jmwYiv86Vt9mOtNvn7D2b82nvxU0RE1Lj4BBERNYXLAY8b2AtL56/K9fl6LfFCgamgfeEuFg97Otsn/oD1CXrb8kJUyfXwHkV45OFdL7FU9BgI/Xw4/3DIYxIeSnx+NBjJ92NfJiKiJtX8e/j1MTZc1JGi8D3Xl7kMVy4L86DP769u8Pe/+0lmJMCfVxNfPuIKZd7ri3eyFuY05Ex4H0n6Hb7DedK+brxPwWCQHAkWQ5rl3q8LDyraRfv8tL9PM2pq8j18wKgDcmWmvIhFmdGPs2Mc+eLF65tERPRzv81jZaXO5fxTH7wUXF9r2vvqlPfcKR99LP0USy6E0P/bEkO39zlOzgkfhmQcgwsB3+5gazOoI3LtaJsZG076Jelw3Oz0+T7DvS8G948OXiUiot6Qr+/jZnya84IjF8clBoFmcuj5Ciq8rKEvuIppUKUqbz2uE16Px7vnBYAxImXEvP/eCxtERPT7JNdcavM8AX/uRy+ty/Eyd8oYQfxhLi7GcRq8L6+lQmn2km4bxDO8z7GsRyL5/nA4oP5oElwD+QHnLgsLpewhr2LX8D2Qb87LegIshPU2e5+zO9vB9VAX+HwLXkxYd3iwwR3BeVhz6fjBvIO2Ru4nKmIK9/JtIOcgx6XC48KccnOPy4j5/Uoc+vpRh6HEyVjYB6MdZjSlh/tBWX0+UuU4J0yGRJr66Nb18DzxTL9VTsgcfYLehryQxDFd7rb9+/J4nr3+0zyQseRazRdwc+ZSzSEqMxjK99f8BOSBhqz7/LOLlEH3C9hZWomsfd/c3pOyRMHxWGv7cS3zQTOZzXNAufT9wSfLtvg+GNux4+smik8xTlO/njoAK0Xy8XID6zg1t0Zh7sSzSqzaxK+9pN17slYBx25b1jB4Dnhsoxucn8oYa+TcFlEsn3tGn+TqtC/3CdefcZNzOto+G7YIM0RHxv0lic8kE3aE1PWWPNOkGfhxDWkTeSaSXOc5EuqZaFLjNmm2asH3keQyJ/MN1pMoq2faSMwfpnyd5RpfJ4mQt8JnqyrNnUHzPP8kEW0fc8j3EtFP5qxfI6Kuc+7iQnc3mUynUpYXTCaTluUFk8mkZXnBZHo09SCYCJeJ6NrU++vyWUnOuR90zn3KOfepra2tB3Brk8n0kMrygslk0rqvvHB32/KCyfQIy9YLJtMp1IP4EWHW36PN/BuiPM9/Is/z5/M8f359ff0B3NpkMj2ksrxgMpm07isvbJyxvGAyPcKy9YLJdAq1CBNhnq4T0dWp91eI6Ma8k3JiHyy8MmkOr9vyMWdNexBDL1KxRzJ8rOKBFP/HWDgD6132H9Zj9tTtD9gzA08ffH/w1NzqDei2+PBTSWnrYsG6vMYffOg83+uPfoiboS4shAz7b4rnDH4r7NOpWQklXoD3b872h1dxITQLQfvEUMcdqWMrCfdknnWvVO3bvi+7lv6Dz75BRESv7/E1v+4y1+n5q8xCyA92gjpqj5neIzVNw316D8TTBM/0hzb4+l9/icv6kcvcn/BOLwlnIBdv43gi/nG0ofKsTXur/X/XuO7Yp3nQlT1k4Um8w+E9lljCPszQ7jD0zb6xx2yE9054/+atX/1FIiJa+5pvJiKi9tMf4OuL33I34Xj5m/+a939/8Ta37bMbXJ4/8ZUcZxejcK9cp3xc7xAboUr3lReIuD6oC/yiMfYLbsE7V8UFIfV9+dpEhddufwA/mvjF5HvsawxfmN9/emrP7mLchryP8yucW57bYC+i956NhIXwNHvfvvos9/PhG9wsy1eeCso+lJiGz+9ii/cZzrGntbQJYjwcv0TVzBT51ucFPg77G8PPnElOrdeKMePzq/Jfw7/vj5OxsyOMlNGE2wi5hqTMyPsrLcXEgedQfH3IE1oFH4LzwrUdbvN//jLzBf7Bb/D3X/cePv6/fC/2zBYfZ6sdvJ+13zc+Q94e796Re4ccB+JuofWWxIj4MF/fljiQuICWG1y2LnEbHb3B8wbiCPedHPBfAUd1vs+67P/+4Qsco7/44R8gIqIr15iNcOODzxIR0ddc4rarj8VTra57QrrPvJBTnqbeb+pZKFQ1N8px2M+71VbfVOUHPWdWsVXEf1rpI3c+d2VgjeQyduQI9PPRJv8D7Ecf52bBvuJ9maevnOG4y4SNUWszOyXxHmrlmdV7p1ewlDQLAdKsJO0fx7yIXNBdalHsZB01Ds/xPADNTFExqN+jDsjLV9fC/mrJ4X2wcRTrQrOV9BoI8RO1w73YI2kjrN20kJPrnbVSzoPgi9+TuWWrx/P/GvKIcHg+Imskze9CDILPgLoh5uAD97GH6wqrqbl+TuooDBW57nCH1x+59Ht9bUOuNw7KcUK6v+eINKVxb/+emSdoY8/6go9cMdXKr8dfD6o6zkWR96aXrzF73Jb4biiL1BV8IfT73dduEhHRhy4zOyffl/mjFcZ6sV4I84JmLkGv3tkJzttY5vksUWtqzW6Lo2LuvnvAYwFMOlzrYldynOqH2Oc2xUpTbYXxPB7w9fGM05PnupZwH8AXGGAMydxdrP2lJWI9JpH3wVgJmVyYXyZEVJP1UkutGSd9XgfUO2F+vyFslI1lHodX17gtust8L6xV39xhhsKmtGEidXniDM8HK9JfKFvBygH/SxhNO9tyXe6fJ88yzyGqmBOr19gk5711/QwR/XGhq34dEe3leX7zAVzXZDKdXlleMJlMWpYXTCaTluUFk+kUau5fIjjnfoqIvpWINpxz14noR4goISLK8/zHiehfENHvIaLfJqIjIvov367Cmkymh0OWF0wmk5blBZPJpGV5wWR6NDX3R4Q8z39gzvc5Ef3ZB1Yik8n00Mvygslk0rK8YDKZtCwvmEyPph4EE+G+lGXMQ4AnFkwCv6dypfdIe9xk/1B1ODwt8KvivP4d/guppvjNOqvsBxnlfJ19ta9omud+v+YnVvkaLfG8PHuWvShPr7IXZe/F3+S6iQelvs5e+sLfK36axpLUIfQgwc+lvSzVHsfjvSra4wZPDF7Rxs16mYWgPV7+W79PM5fxO55m3xV8gE+d7fK1xQM56oXewsJLhL2VsXd26HmCxy2V+3mfueytDr9QLQ99YvB1Hx7wfeHnhjezVB/VttNC+8DfGT/xPq7TG1/ie73yAhERfeDpD/L3EidfuMP8DfgnLyyLV6kn3qTX3uTjm/+RiIjWv+n3cp3PXCAior//775ARET/7O9yrO5+8eNERPTK5d9JRES3/gxf98e/78NERDTYui1tMHvP9NOkPM+53aTtEKta6E/4zRbZn3la6NORePPhW72yynHWEM/cxa5wCCQ+wQSZHB3SRPbp9nsJCxthbYmZB1dX+HUkMJUrK1zm/+L59/I9f/OTXAfheOj9vW/KPsI+doWFACFHYV/mwru8GBsFx6GN62p/Z3APZjEXIuURB+sEnIi7sm38v/iixLrc+ivOdYmI6PF18f0tcZ2zI2lXv0+37HG8pHzBFZ7IsXT39pHwKeT9U+f5P77tCezvzuVrXnmaiIgaa+tyv7Dtp+MH94IHvS7jdHDzNSIiGm4xf2F5nS29GPev73O73ujxayPeJSKiawfcOHsDvsfXXea6/sAzzDrY/IX/L7cJ9uluYC9qzn3DXfY2f+sT7Gne+m6+f3/8DBERvW+d2+r3f4gZG4cvf4briP2il47nDj2ccuTieGpOk/FbwX1JGqF3db/PbdmsI1/MZh5M32/6+jhe+9H1XJx6/kHmxw2E/dhH2JNexgp8wPD3P7bB6wbwohpy76HMmVVzJ8qmvcy6Tj4vpKH3+VDmzsGAxyA4JZjXsJ182fMc+fl4KeWyIR+DheB992qhlqp1Rqz4Dvg+ktyG/sP+7rhelIR5AvJ8IOVtv7nLufvTb96V+3BdvudDnBcmPZ7DvWtcxnQaCTuh3vJrlEmPrzWWV3B0Xt3hnPbp68xQwXrxybNngrZB+9/a5zqBoQI/9xnZP/4p2eN+5UpHzpf8AL6LinnEVcGjEq/2+SvBe7ASTpiJcH9yYbnR3+W6zF4r+/WmjCnXCDkEaKMqxsH9FNjfa6mCdSD3QkziGamuxg6ObwgL4beu8TyA8RrJWoWQq+Dzl/Or1wvC3gArSZ6J1mSuxlivXmOVP8daog1GitQJ6zfk2QSxOw7Xfe4Yltm0Ysf36TQbweuVNV7H4fnPMxfAESitH9V11XNkOgxzJ16z8civk8A8ePEmj69nhD3gJE88Kf3/7LkrQZ2RK/OM2+rVO7tERPSfbvBOJAcjvvdzGzyfY/0XIUEnXOejMZ6p+XpjtLHU9bF1bhPPgVFjJJ7zfAk9qJFhMplMJpPJZDKZTCaT6RGX/YhgMplMJpPJZDKZTCaTaSHZjwgmk8lkMplMJpPJZDKZFpL9iGAymUwmk8lkMplMJpNpIZ0YWDFyjpr1mgdudJcASAwhH4CLALhTQGMYFgFISXGcC47z0JlMAF4CrRgJnGq4vRkcvyQQkmW57mOdhKjD5wJkM95lUM745ZeIiGhLADb1s5eIiKgloDQIUI5+zNccHzFQp5uEdQJEDJAwjQKsgjhp0JGGyAAqheMARgH4KZoCCFYBFdGO0MGrXPdnpG4AlHmgZXslOF7DY1BX9JsrwSP5uJU6twIgTwSY3QHXiQR2BqAiAHkQ6hypNpoGsyEmUEcPqpJ2BChl95DvufIkAxb7N17jIglo8ck2g5M+8KEniKiAdQJk0r/OcXLmaz7Kde8xOA9gpi/2+bj/4zMMRNkXoCK0++a/ISKif/vi1xIR0eD3CjhF4hLyYByp12mSc46SOPawP7QdoH+Il6gEOjoepKgFwF5L+vZuj8ckoFgdEuDrndlbVU+3eSRjoCaw1nGPQURnBbD4mMAav/oyj5HtT/8K163LYDwA+9Bvb+4yEKk/5vePrfP5KWBfMnYAUELO0zmwyJHh2NXAJhw/DU4kKkBOHl5KeQE2RN3l2hrehf565owAbJs8jgEHa0vuG+9vc1kBrPPQOG7TMsAuFL4fSi67tMqwoT/wHN//u5/hz99/iQGwyB/1KwIdlDgbIt6k3MkMphByUuvcRW4DaYvRnRtcJ/n+d72H5wFAJV+4w7GyN+RWO+iH131tj+/9+T3ur2e/4bv4+E//O74v2lTmF7TNUx2u65/4Cu6DNQG4Yl7Ze4HBrYDENS+F4LVTJeeCcmPuA3zQx7KAtVYERjeWHJhl95YfAPrKMBcogO/E8etAoGMawjstxBRAeoCzAnznq4i1jdwTwGPEWRn+ydKwx2pYJEk5JHclAL+GENuOtF0Bq9XXCdcZeZb6MnoQoSwjCvhjWIc7km93BIS6LMDEczJ+65IHNAQauWgkbYl8UeQJAPFmQ4axtvrV13jd96O/wnPwcxe5Lh97cj84PmqFEFLkyDTPfV3G+ztERDSQPPDeJ98b1O2zt/maL+9wjlx9nUHISxIXR5K7bh9xrB6MBCa9xPf6wFmuS19iubvcmVlnDxlVkDr0gc+V0t91gDGlHpiHTpOciyhuNgugYgmQFwJS/dgqwShng1ar1sPzxljVedM5zPlnmtnA4yKnhfM5YrPeYVDfNQH3Xtvl+Prdzz3G58tzSk2Auv6ZqAKo6Msecdx5+LS0XRmoqHNdVVukfj7V1/B1klyYx3huC+d9DV6v0hLWGfUuERX9DOip8J6pJrHugYkYOzV5HpG2StRxIxnruJ5/ZpM2S9odGu3vEhHRRpvP+dQ17geAVrEe/LqnGKjYu/5lvrfUDeDTL93me/0HOR/rhCdWuY6Pr3HZsGb1cQNgrvTfcqMRfi+5E6DuseTQ8YRbx4O65awqeDFkf4lgMplMJpPJZDKZTCaTaSHZjwgmk8lkMplMJpPJZDKZFpL9iGAymUwmk8lkMplMJpNpIZ0YE8ERUd3lFJW8a+x9gSfF+4L896E/w/sKxZMyGLOvA57puvjBtFcKnjn40VPxKY622FeUiW8k7R8Wfh3xhsCvUxNP85J45FtnQ68sPNLXt/kehyO+x+Prq8E94VkblyxF8OfcKwuB3x8KJ6ApfsO6autqz2NZqDM8QnDbw5e1LR+8vnmLiAoPNOraUPcu6sr/kShWAhRL28PfPxRPEtoWnshD9KN4X+FdxCvqmvnrFX7UKo8w2rfwhHE/oV3bV57kuvQ4DuCXOrrxOl9XypaLLwtepyf+1F8hIqK9z7FnGfGS1Pl+aR6WS8f82VXxMkqMjiSOvG9MPI/TdTw1ynNy2cT7clPlZW4ms1kI2oOofYZO+UPBRHhsg+P3tzfZm39thz2y8NafkzE9Fn4FVGu1C96K+OW2eofBMV/12Hk+dp89bXsv/iYfL2MokbGD6+wPuZ/hpb0qnjewELzfV3kbdRshxjULAd5nCF7LuuedzM4j09eBn67svw6/X5Yx842PMYug8EZzGcBQ8F7WKPRCok2Kexf+6+njIfgC62Nuu04jC85DHrmd8Xk7N7hP2nIezocfMM9SSgfCkmmGvm6UaekCj2fkoqPrr3AZhLPzRy5fJSKiP/nV7JF+9Q7nhx3x0UNrEuvnOstSlnNERNSQ+QVzlfZA12R8X21wPw1u8v3vCqslkxiHr1uff6qU50EejCW3or9gdsV6Yax8nDiuPOfNzh9gLUD1Brz2wkIY8RyA9Ya/LpgatZiaSTjnjPtYW3Bced+t5IFkjcfKgcQH/L2UK15QDJ9wOBbA8CG/Pgi9zwWXoBl8fnuX58418StrNsrUneU1zDcuikpzDXzVbhJyebYlt70uayIITISpK/DnMi49j6oXslc8Q6XZDM9W/Y/3mbTJ7SMu70Gf3z+3weXFHF5f59zdusBjGOsS72OfjGii+g9ryYNXv0hERF99+XEiItqQdn1hk699XXhO1w+ExyITfiPmsrz3DNflg+e6RET0zPkz8n243jsSZs7hMISsoP9qYG5JW2HNBc4QZRK7nS6dWgkrxfev4oNgTGC8ajYKnhM022S5oVk8Ovar/f9E5fgrsxpmXZvl1/cyP0fgw0ndMC988RZz3T5zk9cuX3mR4yQXFkIVH2SqtBWfs7DOLRgp8zhUM0BCJPlB8kBVnSHMrX5No5h4Puf58R+uD3welrIi96INwIfwZVO5FNfZ6/N5+wMeI8spj9mmrFtGW7fkepwXDht83eVGnSaSQ7qSZ7/tWc4hr2/xOm5HGHW/+NJrqHXwuveF60REdPOQY3J3yPGAvPAdz/K6YzWWuJDciLyONshVE2NthuM1W4vUHKk5IlWyv0QwmUwmk8lkMplMJpPJtJDsRwSTyWQymUwmk8lkMplMC8l+RDCZTCaTyWQymUwmk8m0kE6MiZDnGXtOxcpW9mmKVx42vxle9unzYP9I4pCNMJY9eL0nUvxr8INk8LOJ1wV+ETARpvdyhvc5Fh8M/DXw48Gfs3vI17hxgz1L8JZcXVvh43FteGyVv1h7GVPvSQn9QVUeZnif4Y0r712NfWfDvdnTLJu6tlxRMSrgn0P7wcf9+Zu89/F12QT9qTX+/qJ4y0s+yzT0fTkpo/ftSZGxHyv8PFVxAg8b9qeH7w+fa67ANG8gSkI/pve1yWsm5qL9UegRg7y3SOJAswwQW4ifN/a5Lk/+jt/D133lRSIi+vDVC0RE9Ec/yp62//XGf0tERI+/9OtERHTt2a8hIqL//uv5/vtf/DRfV/aN9uUFw2POnroPpdR+8OXYrdqjuPKC/P9R6A9FzGcH7F97/yX2I98UfzD2J7++zW3YljiKpsuDYSket5UW93+H+JzBrdeIqGBWJOJlxB7FyEWHGV9z84CPu9QVf10+Dmqsfbl6P2mMGVJjZF/8ngUbZTEWCnyJaS55Z6pv4PlMIxnHnjUBPkeY27Z6R8E1Oy3Zm1zGHpgnOpem3hMZ9jf6EeUYyRgbbm0G90dbH4hn/iXxJaNO52UvZ89UACun3y/G0ZFcS9ofORFlbK6fkzbga/Ve+wIRER2+8gLf+8VPERHRitR1rcPeVYzbWo25MfWx+Dgjmfuk7J61kco+8bJ/PLge2Kd+vMPzTXq4H1w/kfvBu30qJbHn1NyH/J4mIQsBXmfMLwVLZTYDQedKzNn7nk/QJSKimvAJMAc0lZff+1Gz1I8FxDZiFf2A8X+nx/PBYIf7rbsEb6swcobhmgfX00yWgXzeLDFOwnFeMFTCNpx3XqFwXZLmOSXwoMv6zPOEwDCQvLEia6enOBX6ebojuRPz/GQEj7u0neeRiFddcUIwFkv9mobXaSzx8d/0GBdgvcU+5W9/5jKXJ+Pyt84xC6cvYdEXj3SzLowlN8W0WF4NXsFVOJT93y9IGa8+xv3d6K7z9+I5R26rO2GbSA5Lj/g6k5syns8wpyGV/oYQi2jLkn8cfDDNlZla9xEV3vvTKMwHVV55tMkAzw8KF4U5FOvHqStX3XHmp4h/zWAqr+XJ+/31uh7xoGN5UuN+/pLwfF7Z4rh4bHWJiIieXBL2RY/jqrZ0fwwc3B/PTsvLiLfF8gGEOXaapVDM5/we/XQo4+xw/zAoA3KSf5apaXbK7PWhbjv/jKVOR3+BI4Yc+m9feZOIiL60zfnoD32A80MsvAnMsRN57QrPJqKcRmCVgZsg+eA9Zy8REVH9EjMSMK9v7vPa6O4hn9eWHPMVy9zfTwlX7lxN5rh9nuczWR9EUqfiWU3WEYh91UZYV/i2iXBc+OwHFkIz0W0eyv4SwWQymUwmk8lkMplMJtNCsh8RTCaTyWQymUwmk8lkMi0k+xHBZDKZTCaTyWQymUwm00I6MSaCcxHFzWbJr+N93ePQ1w3PyjSjgGjKI+c9uPw5PDSajYBXeG6iunhzG+wrakb6d5VpH1DZC0hE1BOv/P4++2PgbYGeOMOeFnic4ZWEN8X7p5TfG75M+DoLX/BsFgL8RtWe5/D4iZP9pcUHlMRxac/5wl8X7rs+Ek5AX85dlT2tse/6FfF1w6+HfWLhgSrqFHpV/Z6l8l4zMPz+8eJxAsPCeyrVvrKFR4pf/X70Ux7Kqr3noUTqfHP3gIgKv/zFbkfKEPIacO2CIxF6TdeWOObgt8Vx25/5VSIi+r9+/UeIiOgbr7L36Y2930FERO87y3H0xAHvI3v4ymtERNR+7iPBdbQP9LQp7IfQ41bFeUCdvTeyNI7BRpA+ghdf8gl8qBviN0267F+dxQUg4rGImE4HHIOTbd6vGTHpJEabnXCvcbBUdiVP9IYcB+CHtFK1R30HZRH+gHyO99M+7Ok6DlT/l/NCVT4JhZxJtZjihMcz/LPICqnkYexhDS/oq3fYD/jaNo8d5LCrkh8eW+/ypZNwX+5Su8t9kO81bwTsFPRnLG2M8tzYZd9hb8TzQSuRsVkL2SngDGTjcYltglyEvaG1kM9XZTwe3eJxCm9khrjwMVgPrqe9iqjLenv2/Zwcj7ZGHorkPcZC8/zV4Ppos9OmjNyUvxN5QeZ9+bTE3vFabF935Mx6zPlhR3L0aJPH9toSx/+5Dt8HjAScDy8/0ZRnXrgb8KgeyDU3d3hMYBxjrvScB4kXvOrxrVkIyZx5v1hnsPaF5YL7zfM8VynLMnKSTxFzqWIpYc0TSUx3JeZ97MKX7+d1juVSnRV3qGrfeXyPMYvrgVfwHlmnPPMYz6k12XP9zoTP27nNrATkq5bEFdhaOaW+bLEab0tLV4J7jYRVcnT9FSIi6r3yeS4b2Fh6jePnIM5d9bUNuT7XtSGvLtF1D8cEpL3SaBs/nygG12lTRo5SWcsW60co5H5gLsPaGnMifN/lMTSbJ4bzC984x0eUaA5BmRdQZprRzPdDeea5LZyAG3s8hvYGPN6vdnkMfWCNn12GuxxnmE8KfsjssVLu/7COUel5Qyv8PvZzd1Y+0rPr5Nmjz/MxOA87shbKcvSX9EcNnA9w3O5vTavzhV9PqufKuyO+/796lXPz/oDf/8mPhsyXRPgk4Nu4jNcVw72dYk6Scaxz2mCLr7Ekxz0pjwdPdKSOAoab9Lb4/TVeRwwr2EZYTxbrQ6xRSeoa5imsrSIV436d4/sfTJ7weVbL/hLBZDKZTCaTyWQymUwm00KyHxFMJpPJZDKZTCaTyWQyLST7EcFkMplMJpPJZDKZTCbTQrIfEUwmk8lkMplMJpPJZDItpBMDK+bO0cTFUxAIQF/4FWgOD9YRSkRE9eA6+FxD8SIFVAEIBWAVwCVGC4A6MgUbTPNMzuVrAd6Ia55fYdDJuQ4DL8Y7d+TeDNQo4GMt1BK1CcpaBipScByE+wO4o2F0rgRyEYDHDAAKQGZQrO4FAElDYC2AC6Ku6Ecc5yFzHv6WBcfpsupftTw0ROAeiYKJabhLAQsJ61rER/j5OCeq16rAUnKMAtTd3AvBZOsrArIZcRnHPYHIKQgUYnm1FcJ3BgJKGWxeIyKiW7/wD4mI6Am5/pPSdqPPM/xvW+BvS0+/n4iIGgJ5cartT69yKuA/6Ff5RsZGJWBRfQ7IZQHcDKF2cRYC1RBnHpYZh3llol6nhfGMGMU9ADgCkHOvx/0XO67VFQGvAsQFMN444vQ8kvMAG9LwU8StHue4XwHmqwI5zQZqYYxOw+rG0v4eJCXjdiyvmZT54JDHfW8o7Sp5peVBVrXgHrrffH7wOWo23AmgI4Ay0QfID3it1xhmd7mzFNx/Q6B3eD+ZFLDTYm5BrpGSKGhcAbaV3Cb9vXSBAWsAYxZlrc8sYxGjCnQk41nH8kCaLBE4cEsAioDYQbHkB8qPB8g+zMrz3Mce0RRoSwGYNbRSy6l1hr9+GsZfpyHzW4fHzs4Rx/PmAQPBDiWuMSaxzqgLKIyoWB+M5dy+QD0BD0skvtbbS8G1APf0sFDJTYgT5Bfhb3kYnAbkFeA0qaNaD8TqtRrEvLjQjmMBLzfbK1yHSQglPcz4+60720EZuktcx46Cl2pocRUcToPTirwu8NtDBiamRwJ6RM5+8gNERPSpazwH96XvLrS5PE+tc45eEiDrcGenlLMKULYAEGWdhzoX0FZZG6n3vo5SJuQNDVyFdP+ijhDmLsw/GrQLmOC8eeBhVxxFlKrxCwAf4hH5oLvMbYu50YP71Fq7KsdDA4Gp4zoA9HpAozQlstD0Gl7HDeJlJJC/AwGeArx9V+ZSQCA/cqVLRESdMcfPcJvXhQDuob89hFyNmQIqqXKg1BlAxwK4WgVYPD5u/PNFHPk6Ym2MfNCUsXFOoNKQhkVruCyAiPr5T+f9KsC2nlt9/nfcVqtNPu6DZ/l6yNHjK09zudfPEVExDwzHXJ726trUMw/fG88wxTMLC7lpLDlp4vO9wKElDzTWzwfvcZ2BIHLHfn0YQqf1XIf4KsNHKTiPZA2H+Bj3j39Gtr9EMJlMJpPJZDKZTCaTybSQ7EcEk8lkMplMJpPJZDKZTAvJfkQwmUwmk8lkMplMJpPJtJBOjIngiD0XufK8wrdBjv0etST0jx+IBwWcgmaNqwAvkvYb4b33KDVme+o0CwB+HvafZsE9Ifig4EXptNirAm/z8M6bXAfxxMBH470pc1kIVV5F1u199vXBr+MUO0H7gQovtbSd98SRvz/qnSgveOFFgoccXqIs/F6uif6CL8+/92Wq8lmFSsRTWVtaDu4zVTL5XPMdtP8rZDJ4X6hzU97C2e2NdkObwLsaq/bV3sd0wN4osBHgTUMZfGyK53HpsWf5c2nboy9/noiIhndvSpn5/u33fpiIiFpyPHXOBNeF1ypS/XsahXEZx2E8LaqCwSFcCeWdrMvYzBsqriuYC9N+8sJzGnrV4d1OU/HKj0OvKhgF8DyP9sXz2OkSUeGFjBXXReeqwtumx5ILziszUmb7POd5otM89z5vCByWuhN2RQ1lFT6MeMrBHmhJTMKbCk9iwQ3Rvu3Qo6oFnyBybl18yDr2te8cYxk5G/1dcGrKKvsrw/aG5xh5GW3gffNLq/K+PrNuxdX586jEapE5Kw/bwuds5bkcJOKpRJwcn2ofajnnAjZHVTz4eajkO9Z5I/TQa2FsXpD4OLfKcQW/suaSZJ6xJHEURX5+0OuEaGruISo4PqP9XSKawbSQfsUciHxTV+NT5zbtfdVe2alv5PsqhhI020sbRZGPfcyzibQ3ctmyzFHwkL++xT7gHfm+0+S2ASeiWec66vWfVtWcXXip+8F7rF/iJc774Am9fIfzxyu7/eA6Z4Rf1Kpz7CEu0uHAe569v1p5mX0ZFfukKGPY3lgX7h5yGQbI49K20/FPVMRNNmHWhudOpSEfBNfry3XAryp0OlkIRPT/b+/eYiSp7juO//5zH9jbMLusgAWMEQQcFCwbUIQsC9uKgp0H5MiJIluKhEgiKzLKSyJbfkgi5cV5Q1HsIGQhi4cYJUpiJRIxipwLKAYDllnMLhBtILLX2F7v7KzHO8POrU8ezvlXd52e3qltpqprdr8fCc12d3X3v+vyr+qiz6+kENTZWNNUdmy1mZZFJ8uB8DHz3X1j8UKl51fNXPIx8Uvn07K32B98We1J71NkL4xZsf17317OMlM848y992Dcb8zNxM/4zql4POiVzBy6pjS9L3df34rjQs+fy44b8n3w+VTHzJXlfWjec31e5PupsSIjKP1dPd8dz5+OhTd/HtfJ1bMLkrrHzsX+PP8u5LlBno3g3zvS37GiT2ydgeD8GGpsrPy9xPvEtfMxV+IP775JknQw5dt5n/mxxTqWf7JQet1ZX977r1DwnIVO2h6nPdevfLxY9IU0Tzop08Ll+Q4b6TvxQtqeZ9KXWj+G8fnvWTn5/qH/e2WUL/9i/ayYrcYvEQAAAAAAQCWcRAAAAAAAAJVwEgEAAAAAAFQyskyE0OkUY8el7niMKb8GZhoXFMbT9cjT+FEfb+xj7SZX0zjxNPZo72y8TvNYMcapPBaueD8fY51uT+Zj9tPjmz3jgPJrmvs4mo2VOL7vnXPxmsc+lmUmXd9zLfj4/Pha3euzXlwWgo9J8lyIqQHXh+4bQ5uNZepOX55uany8+NyDsgYsH5uehk31Zx7k8lr8muj5dbvL80TZtU3Hs7FvPg7R+bzPx4cWVWTv03up3HzMaD7ffFxkvq5pPa6LmxvlGjQgkqCvhjQOzK8rX1wPfC6Ow11b+GnpdWfTtWrt8I2SuuNMbeOd0vN34/XgI5OvH55lko+/W94sL3cfgzg2cOB3vH8q2667yzi90WRcphMD1uPeXIL1NP55My1/5+u012SduGJsrKTrOq/GMc8+DlCTcYxqMX64GDNfXg+993WvC1/uE35tbJ9HeeZJ/1jn7cbC+jaa1lOZpnyd9yl8DGmqbWM9fjafamba+0V5fF8+Dq+/xq3zXfwzOh9PODMZ82Z8DGx3XHK6Xn1aFvm1lIvxzEXeQDdvor8P5/PLx37m61J0Ll1L3F8zz0Lwz1I1L6Y/3yfPvIjPX+6U9yPFNlHk1Oy+/3fQ2VjXOz/7sabSuNH1dC3r5XW/pnlc46azceqDlZdpPv7Un+/brNLfvWm6osdmmT8uLssLX497c3VFkrSaXtuPh/IxzZ6F4P0izzbp279n17zP+TjuK6cH9Yfy+teflZCmSn1tamKy77jB121f5/14zvdVvm7uSdkH/tczU/wzmOXZTFvXkh+n+HGBj6F2U2mf6j1ycu5QrO8XP5EkHZiJ7+fr0VWp3+31ccfL8XUn9+wrclfy/CdlY8Jd3s+L8fSp7/s8mrtypvSeU8U6vfWY9Lx/hHTbx0YvnY+v77kwvl70Z0HtPhudoNMrazp9Lh6D70nr9HVzMWdqTHEby/t9vr0OykLIvz/47X1pW8y/j/i8LOZxyq+ZVHe8ebF9pvXFl/PetMvyx0PqD2tL8XvFuZ/GPI7p9L3C+8GgHuTrfrEvLJZ3efkX3x5S7Z5X5NvqbHpZH8vfzZOJD/i+3Lcpn0e+7ceMl7gy+rh+zwFz59P8WTwTl6PP133Z9jeV5Yq4wce6+TZoqaaV0vM8W+Hnr38vfuY079ZSxtLpuXhs/p0fnIp1pG1ydjI+/+b5+Hk2Vpa1sRKPgXyfspn6hM8fu6K8vfr9+fzt9ok4f9c3Y7/weZIf33n/GBtw3DLwe+Vmvk2kHp566HbHC7u3ewAAAAAAgEZxEgEAAAAAAFTCSQQAAAAAAFBJpZMIZna/mb1hZifM7AtbPD5nZv9kZq+Y2QtmdsfOlwqgTegLAHL0BQA5+gJw6dk2WNFiss2XJf2apJOSXjSzfw4hHO+Z7IuSXg4hfNLMbkvTf+yCrzs2ponZPVpbWpQkjU97SEcKDfS0jxTe45kyHir2znoMg1hcWU1/YxDG4c0YNnL1vhhW5uGHHrjVff8sCMnDazb7w2uKkCW/LwVReHDG1P4Y9uShIR64NpHCn2YGBF0UwTZ9gYpleZiYO3Clh4xsHcTVHyoyKLAxhYv1hBTmYS2DgkvyMKb+EMdymFD/ZyzXUoTIpXnof2dSqOF4mqeDgrOKerLleCGDQnXygLwrp8vhW4UU9pIvp0HhPYMC7jzcbWY+hsR5IM7G4etLt1fG4/stnYvhMDfM75ckrS3F5TedwqOKULAa1NUXgmIopofHeX/wbc7DShfSZ1/bKC8zDwvz7d/Dv/JApe56mUKwUvhdJwsxdB5W49vq1Ph4T+hj/Lt5PvagTgrC8eXhy82DuCZmY7/w8M/JtB7sy0ILe0McSzUMCFT07TcP6BkU0JoH6eT8df1zhc5mX6BcX2BtX8hYdv+2IV4X7iMeQpTPm/G0jU5m26LPE1/+a2k/UISiTcewMQ8lmpzoDau9cD/t1pbWifRcX47eL7pBSN67tg5Ic0VAWtaXiqAjX24pBPTsStzH+bbg79sNzsuCtGoMXK2rL6izqY1zS5qYjdv1qdW43/+/MzFsbDbN22v2pf3//jhdHsxa1NkXSrh1wGLf5/MgLu8n41vPy9Dp9IWyedBZDBrrHmtMz82nvwdLr+3rugeX9W+3UdEPBuxj8xDTmW2CmPNAxXz9y+fR6tmFvqC0Iqwr3fZ10beBfSkoLT8u8Md9mwqdckB297Pn4YDlkDdXBHGei+uJrz9T+w5I6gmzTcGOt1wVH5+diHUcmdsbp/dwsfS85dX1okYPOBt0/OA1er8vjm3Sbe8bcynQLt9uz2fHrtNZ0Fl+DOa311Nw44Er4ryezVbV7Y7FdlJdfaETgpZX1/T2UjzWKfbnaZ7fMH9AUn/g8uBg3/L2ne/f3Pq5X0iS9nsAZzoGGxh22rPPzo8DxzrlIDsPWPV11ve5M4euLd32/j9WbCvZcWx6fDMLVPR9XbE/0tY9zNeXvsDG7BhpZrIc8OvTn0+B4JN79nWPjf07UjqO933WqaU4Pxc9oDIdZ/n3vZnJcvi896A8MNNZdnxXbIvp++Dq4kJ5+rQcO6lHr5/9mSRp6qp4vPn6qXgc+tqZ+PypNC/nZ+PnuDbtd2x2ughv9WPV/j6+dYB7fgzq88Zr957Z3U7LAa6TfUH7F1ash4P2YR5qP7N1mKWr8kuEeySdCCG8GUJYk/SkpAeyad4n6VuSFEJ4XdJ7zOxwhdcGsDvRFwDk6AsAcvQF4BJU5STCdZJ+2HP7ZLqv11FJvylJZnaPpBslHclfyMz+wMxeMrOXFhYW8ocB7B70BQC5evrC4tl6qgXQhFr6wuLimZrKBVBFlZMIW/02Iv/d05ckzZnZy5IelvQ9dX/9331SCI+FEO4KIdw1Pz9/sbUCaA/6AoBcPX1h7sBO1wmgObX0hbm5q3a8UADVbZuJoHjG8Pqe20ckvd07QQhhSdKDkmRmJumt9N9ALx89enr/wYPLkk5fTMENO6j21kdtw2tzfXXUduMOv55UU184evTo6UOHD9MXhkdtw2tzfZd1X3jltTdOH7n7Q/SF4VHb8Npc32XdF44fe/X0+2+/lb4wPGobXpvra6wvVDmJ8KKkW8zsJkk/kvQ7kj7dO4GZHZC0ksY6/Z6kZ1JDGCiEcMjMXgoh3FWhhpFoc33UNrw219fm2jL0hRaituG1ub4215ahL7QQtQ2vzfW1ubYMfaGFqG14ba6vydq2PYkQQtgws89JelrSuKTHQwjHzOyz6fFHJd0u6Qkz25R0XNJDNdYMYMToCwBy9AUAOfoCcGmq8ksEhRCekvRUdt+jPf9+TtItO1sagDajLwDI0RcA5OgLwKWnSrBinR4b8ftvp831Udvw2lxfm2trStvnQZvro7bhtbm+NtfWlLbPgzbXR23Da3N9ba6tKW2fB22uj9qG1+b6GqvNQsgDUgEAAAAAAPqN+pcIAAAAAABgl+AkAgAAAAAAqKSRkwhmdr+ZvWFmJ8zsCxeY7m4z2zSzTzVRV9XazOw+M3vZzI6Z2X+1pTYz229m/2JmR1NtDzZY2+NmdsrMXh3wuJnZX6XaXzGzDzRVW8X6PpPqesXMvm1md7altp7pGt8emkRfqK++UfUG+kJ9tfVMR18QfWGY+ugLQ9dHXxgx+kJ99dEXhq6PvhBCqPU/xcu5/K+k90qaknRU0vsGTPfviumtn6q7rqq1STqgeLmZG9Ltq1tU2xcl/WX69yFJZyRNNVTfhyV9QNKrAx7/hKR/lWSSflXSd5qo6yLqu1fSXPr3x5usb7vaepZ/o9tDw8uHvlBvfSPpDfSF+mrrWfb0BfrCsPXRF4arj74wwv/oC7XXR18Yrr7Lvi808UuEeySdCCG8GUJYk/SkpAe2mO5hSf8g6VQDNV1MbZ+W9I8hhB9IUgihqfqq1BYk7TUzk7RHccPfaKK4EMIz6f0GeUDSEyF6XtIBM7umidqk7esLIXw7hLCYbj4v6UgjhanSvJNGsz00ib5Qb30j6Q30heHRFyTRF+quj76wBfpC69EX6q2PvrAF+sL2mjiJcJ2kH/bcPpnuK5jZdZI+KelRNWvb2iTdKmnOzP7TzL5rZr/botr+WtLtkt6W9H1JfxRC6DRT3raq1N8WDyme7WyFEW4PTaIvDG839wb6wpDoCxF9YSD6QjPoC82jLwyPvtCMy7IvTNT54oltcV9+XclHJH0+hLAZT4Q1pkptE5I+KOljkmYlPWdmz4cQ/qcFtf26pJclfVTSzZL+zcyeDSEs1VxbFVXqHzkz+4jixv+hUdfS4xGNZntoEn1heLu5N9AXhveI6AsSfWEQ+kLN6AsjQ18YHn2hZpdzX2jiJMJJSdf33D6ieLar112Snkwf9KCkT5jZRgjhGy2o7aSk0yGEZUnLZvaMpDsl1b3xV6ntQUlfCnHwywkze0vSbZJeqLm2KqrUP1Jm9iuSvirp4yGEhVHX02NU20OT6Av11tfW3kBfGB59IaIvDF8ffWFI9IWRoi/UWx99YUiXfV/YLjTh3f6neKLiTUk3qRvq8csXmP5rai4QZdvaFH/i86007RWSXpV0R0tq+xtJf57+fVjSjyQdbGLepfd8jwYHjvyGyoEoLzRVV8X6bpB0QtK9Tde1XW3ZdI1tDw1/fvpCvfWNrDfQF+qpLZuOvtDwfKAvvOv66As11JZNR19oeD7QF951ffSFGmrLpqtte6j9lwghhA0z+5ykpxWTIh8PIRwzs8+mx0c2jqtKbSGE18zsm5JekdSR9NUQwgUvqdFUbZL+QtLXzOz7ihvZ50MIp+uuTZLM7OuS7pN00MxOSvozSZM9tT2lmKx6QtKK4pnOxlSo708lzUv6SjpTtxFCuKsltV3y6Av11qcR9Qb6Qq21XfLoC/XWJ/rCsPXRF0aIvlBvfaIvDFvfZd8XLJ2lAAAAAAAAuKAmrs4AAAAAAAAuAZxEAAAAAAAAlXASAQAAAAAAVMJJBAAAAAAAUAknEYCWMrPHzeyUmVVK8TWz3zaz42Z2zMz+tu76ADSPvgAgR18AkKu7L3B1BqClzOzDks5JeiKEcMc2094i6e8kfTSEsGhmV4cQTjVRJ4Dm0BcA5OgLAHJ19wV+iQC0VAjhGUlneu8zs5vN7Jtm9l0ze9bMbksP/b6kL4cQFtNzOSAALkH0BQA5+gKAXN19gZMIwO7ymKSHQwgflPTHkr6S7r9V0q1m9t9m9ryZ3T+yCgE0jb4AIEdfAJDbsb4wUWORAHaQme2RdK+kvzczv3s6/Z2QdIuk+yQdkfSsmd0RQjjbcJkAGkRfAJCjLwDI7XRf4CQCsHuMSTobQnj/Fo+dlPR8CGFd0ltm9oZiM3ixwfoANI++ACBHXwCQ29G+wHAGYJcIISwpbti/JUkW3Zke/oakj6T7Dyr+LOnNUdQJoDn0BQA5+gKA3E73BU4iAC1lZl+X9JykXzKzk2b2kKTPSHrIzI5KOibpgTT505IWzOy4pP+Q9CchhIVR1A2gPvQFADn6AoBc3X2BSzwCAAAAAIBK+CUCAAAAAACohJMIAAAAAACgEk4iAAAAAACASjiJAAAAAAAAKuEkAgAAAAAAqISTCAAAAAAAoBJOIgAAAAAAgEr+H+VjI6O0DsPnAAAAAElFTkSuQmCC\n",
>>>>>>> updated example notebooks based on MITgcm
=======
      "image/png": "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\n",
>>>>>>> 496ab6eb83f621cecad47543189988d9da46342e
      "text/plain": [
       "<Figure size 1296x288 with 4 Axes>"
      ]
     },
     "metadata": {
      "needs_background": "light"
     },
     "output_type": "display_data"
    }
   ],
   "source": [
    "# To have a look at how the tracking performs, just pick an eddy and see whether it is tracked.\n",
    "ed1 = 25\n",
    "t = 0\n",
    "j = 4\n",
    "\n",
    "plt.figure(figsize=(18, 4))\n",
    "\n",
    "for i in np.arange(0, j):\n",
    "    plt.subplot(1, j, i + 1)\n",
    "    plt.pcolormesh(data_int.lon, data_int.lat, data_int.OW.sel(time=tracks[ed1]['time'][i]).sel(z=100, method='nearest').values,\n",
    "                   vmin=-1e-9, vmax=1e-9, cmap=cm.balance, shading='auto')\n",
    "    plt.plot(tracks[ed1]['lon'][t:t + i+1], tracks[ed1]['lat'][t:t + i+1], marker='o', color='m')"
   ]
  },
  {
   "cell_type": "code",
   "execution_count": null,
   "metadata": {},
   "outputs": [],
   "source": [
    "# We save the tracks for later use\n",
    "with open(datapath\n",
    "          + 'test_00610101_00611230_tracks_OW0.3'\n",
    "          + '_test.pickle', 'wb') as f:\n",
    "    pickle.dump(tracks, f, pickle.HIGHEST_PROTOCOL)\n",
    "f.close()"
   ]
  },
  {
   "cell_type": "code",
   "execution_count": 10,
   "metadata": {},
   "outputs": [],
   "source": [
    "# This is how to open the tracks-file again (no need to do that if we just saved it)\n",
    "with open(datapath\n",
    "          + 'test_00610101_00611230_tracks_OW0.3'\n",
    "          + '_test.pickle', 'rb') as f:\n",
    "    tracks = pickle.load(f)\n",
    "f.close()"
   ]
  },
  {
   "cell_type": "markdown",
   "metadata": {},
   "source": [
    "### SAMPLING"
   ]
  },
  {
   "cell_type": "markdown",
   "metadata": {},
   "source": [
    "Things to note for the setting of `sample_parameters`:  \n",
    "1. `'start_time'` is required to be no earlier than the earliest actual date of the tracked eddies. In our case here, for the year 0002 and a 5-day temporal resolution of the data, this is `'0002-01-05'` (The `MITgcm` stores the 5-daily averages at the end of the 5-day period).\n",
    "2. `'lon1'` and `'lon2'` need to be identical to `'lon1'` and `'lon2'` in `detection_parameters`.  \n",
    "3. Right now, the usage of `'range'` and `'split'` has not been thouroughly tested! It seems to work for most cases though.  \n",
    "\n",
    "`'range'`: Set to `True` if you only want to sample eddies within a certain range `'values_range'` of a property `'var_range'` in the dataset `'ds_range'`. `'var_range'` needs to be 2D (thus the `.isel(z=9)` in the example below) and interpolated to the same grid as `OW` used above. It is most likely that, if you follow this example, `'var_range'` is stored in the same dataset as `OW`. In the example below, only eddies that have a center temperature between 4 and 7 degrees C at depth level 10 (`z=9`) will be sampled and stored.  \n",
    "\n",
    "`'split'`: Set to `True` if you want to split the sampled eddies into two categories, above and below a certain threshold value `'value_split'` of a variable `'var_split'` in the dataset `'ds_split'`. As for `'range'`, `'var_split'` needs to be 2D and interpolated to the same grid as `OW` used above. In the example below the eddies will be put into two categories: In the first category, the eddies must have a center salinity above 34.0 and in the second category, below 34.0."
   ]
  },
  {
   "cell_type": "code",
   "execution_count": 32,
   "metadata": {},
   "outputs": [],
   "source": [
    "# For the sampling we again have to specify some parameters, defining when, where and which \n",
    "# eddies to sample.\n",
    "# Because the dataset containing the sampled eddies can grow huge for larger regions and/or\n",
    "# longer time periods, `eddytools.sample.sample()` writes the samples for each individual\n",
    "# eddy to individual netcdf-files on disk!\n",
    "sample_parameters = {'model': 'MITgcm',\n",
    "                     'grid': 'cartesian',\n",
    "                     'start_time': '0061-01-05', # time range start\n",
    "                     'end_time': '0061-12-30', # time range end\n",
    "                     'max_time': 146, # maximum length of tracks to consider\n",
    "                                     # (model time steps)\n",
    "                     'calendar': '360_day', # calendar, must be either 360_day or standard\n",
    "                     'dt': 5, # temporal resolution of the data in days\n",
    "                     'lon1': 0.6e6, # minimum longitude of detection region\n",
    "                     'lon2': 1.3e6, # maximum longitude\n",
    "                     'lat1': 1.0e6, # minimum latitude\n",
    "                     'lat2': 1.3e6, # maximum latitude\n",
    "                     'res': 10.,\n",
    "                     'type': 'anticyclonic', # type of eddy\n",
    "                     'lifetime': 5, # length of the eddy's track in days\n",
    "                     'size': 25, # eddy size (diameter in km)\n",
    "                     'd_surr': 1, # surroundings size\n",
    "                     'range': False, # sample eddy within a range of `var_range`\n",
    "                     'ds_range': data_int.isel(z=9), # dataset of `var_range`\n",
    "                     'var_range': ['THETA'], # variable to base the range on\n",
    "                     'value_range': [[4, 7],], # range of `var_range`\n",
    "                     'split': False, # split eddies at a threshold in below and above\n",
    "                     'ds_split': data_int.isel(z=9), # dataset of `var_split`\n",
    "                     'var_split': ['SALT'], # variable to base split on\n",
    "                     'value_split': [34.0,], # split eddies at this value\n",
    "                     'sample_vars': ['THETA'], # variables to sample\n",
    "                     'save_location': datapath, # where to store the netcdf files \n",
    "                     'save_name': 'test'}"
   ]
  },
  {
   "cell_type": "markdown",
   "metadata": {},
   "source": [
    "The sampling can take quite long as for every eddy that fits the criteria we need to read data from disk at every time step  \n",
    "The names of the files will be defined by `save_name`, the criteria you specify and the eddy number  \n",
    "For this sampling parameters, the file name of the first eddy will be  \n",
    "`test.anticyclonic.larger_25.longer_5.0000001.nc`  \n",
    "\n",
    "If you set `'split'` to `True`, the file names will differ for the two categories.  \n",
    "`test.anticyclonic.larger_25.longer_5.0000001.above_thr.nc` for eddies that are above `'value_split'`  \n",
    "`test.anticyclonic.larger_25.longer_5.0000001.below_thr.nc`\n",
    "for eddies that are below `'value_split'`."
   ]
  },
  {
   "cell_type": "code",
   "execution_count": 33,
   "metadata": {},
   "outputs": [
    {
     "name": "stdout",
     "output_type": "stream",
     "text": [
      "data prepared, now sampling\n",
      "sampling eddy number 0 of 56\n",
      "sampling eddy number 6 of 56\n",
      "sampling eddy number 12 of 56\n",
      "sampling eddy number 19 of 56\n",
      "sampling eddy number 25 of 56\n",
      "sampling eddy number 31 of 56\n",
      "sampling eddy number 37 of 56\n",
      "sampling eddy number 44 of 56\n",
      "sampling eddy number 50 of 56\n"
     ]
    }
   ],
   "source": [
    "et.sample.sample(tracks, data_int, sample_parameters)"
   ]
  },
  {
   "cell_type": "markdown",
   "metadata": {},
   "source": [
    "# AVERAGING"
   ]
  },
  {
   "cell_type": "markdown",
   "metadata": {},
   "source": [
    "We can now average over the sampled eddies.  \n",
    "As each eddy has its own file, we first need to find out how many files/samples there are, so we can loop over them and then store the datasets in a dictionary.  \n",
    "Note that for large region, i.e. a lot of samples the resulting dataset could be too large to fit into memory. The `chunks={}` argument to `xr.open_dataset()` is an attempt to overcome this, however I do not know yet whether this has a lot of effect! One could also split the samples into several parts and then work on each part seperately (the number of eddies going into each average is stored, so one could later do a weighted average over the different parts!)"
   ]
  },
  {
   "cell_type": "code",
   "execution_count": 34,
   "metadata": {},
   "outputs": [],
   "source": [
    "# Find out number of samples\n",
    "samples = {}\n",
    "num_samples = len(glob(sample_parameters['save_location']\n",
    "                       + sample_parameters['save_name'] + '.anticyclonic.larger_25.longer_5.*.nc'))"
   ]
  },
  {
   "cell_type": "code",
   "execution_count": 35,
   "metadata": {},
   "outputs": [],
   "source": [
    "# Now we load each stored sample\n",
    "for i in np.arange(1, num_samples + 1):\n",
    "    snum = \"%07d\" % (i,)\n",
    "    samples[i] = xr.open_dataset(sample_parameters['save_location'] + sample_parameters['save_name'] +\n",
    "                                 '.anticyclonic.larger_25.longer_5.' + str(snum) + '.nc', chunks={})"
   ]
  },
  {
   "cell_type": "markdown",
   "metadata": {},
   "source": [
    "First a \"preparation\" is performed: Basically, all eddies are interpolated onto a normalized (in length) section crossing them through the eddy center. This section's orientation can be defined by the argument `section`, which can be either `'zonal'` (default) or `'meridional'`. The length of this section can be defined with argument `interp_vec`. A larger number gives a finer resolution of the interpolated data, but might not necessarily be useful (if input data is coarser resolution for example).    \n",
    "For every variable specified, at every time step, the values and anomalies (with respect to surroundings) are interpolated (with method `method`) onto the normalized section and stored according to the month the eddy was first detected. The depth profile of the surroundings is stored as well.  \n",
    "For available interpolation methods please have a look in the documentation of the underlying function [`scipy.interpolate.interp1d`](https://docs.scipy.org/doc/scipy/reference/generated/scipy.interpolate.interp1d.html)."
   ]
  },
  {
   "cell_type": "code",
   "execution_count": 36,
   "metadata": {},
   "outputs": [
    {
     "name": "stdout",
     "output_type": "stream",
     "text": [
      "THETA\n"
     ]
    }
   ],
   "source": [
    "normalized_eddies = et.average.prepare(samples, ['THETA'], interp_vec=41, interp_method='nearest', section='meridional')"
   ]
  },
  {
   "cell_type": "code",
   "execution_count": 37,
   "metadata": {},
   "outputs": [
    {
     "data": {
      "text/plain": [
       "(1, 6, 55, 41)"
      ]
     },
     "execution_count": 37,
     "metadata": {},
     "output_type": "execute_result"
    }
   ],
   "source": [
    "normalized_eddies['THETA_anom']['12'].shape"
   ]
  },
  {
   "cell_type": "markdown",
   "metadata": {},
   "source": [
    "Here for example, 2 eddies originating in December have been stored with a maximum length of 8 time steps. 55 is the length of the depth dimension, 41 the length of the normalized section."
   ]
  },
  {
   "cell_type": "markdown",
   "metadata": {},
   "source": [
    "Next we can average these samples in different ways.  \n",
    "Three possibilities are given with `average`  \n",
    "1. seasonal -> bins the samples (of all available years) into four seasons (DJF, MAM, JJA, SON) and averages them into a seasonal climatology  \n",
    "2. monthly  -> does the same for each month (so you end up with a monthly climatology)  \n",
    "3. total    -> averages over all available eddies  \n",
    "The three methods all return the means, standard deviations (across eddies), and the number of eddies that went into the derived quantities for a) the variables specified, b) their anomalies to the surroundings, c) the surroundings. These results are stored in the output dictionary under `output['ave']['mean'][period]['variable']`, `output['ave']['mean'][period]['variable_anom']`, `output['ave']['mean'][period]['variable_around']`, respectively. `period` refers to 1. `DJF`, `MAM`, `JJA` or `SON`, 2. `01`, `02`, `03`, etc., representing the month, or in case of the total average thie layer in the dictionary does not exist.  \n",
    "Additionally, the averaged temporal evolution of the eddy centers will be stored under `output['evo'][...]`."
   ]
  },
  {
   "cell_type": "code",
   "execution_count": 38,
   "metadata": {},
   "outputs": [],
   "source": [
    "season_eddies = et.average.seasonal(normalized_eddies, ['THETA'])"
   ]
  },
  {
   "cell_type": "code",
   "execution_count": 39,
   "metadata": {},
   "outputs": [
    {
     "data": {
      "text/plain": [
       "<matplotlib.colorbar.Colorbar at 0x7f919e8e4fa0>"
      ]
     },
     "execution_count": 39,
     "metadata": {},
     "output_type": "execute_result"
    },
    {
     "data": {
      "image/png": "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\n",
      "text/plain": [
       "<Figure size 432x288 with 2 Axes>"
      ]
     },
     "metadata": {
      "needs_background": "light"
     },
     "output_type": "display_data"
    }
   ],
   "source": [
    "plt.pcolormesh(season_eddies['ave']['mean']['MAM']['THETA_anom'], vmin=-1, vmax=1, cmap=cm.balance)\n",
    "plt.colorbar()"
   ]
  },
  {
   "cell_type": "code",
   "execution_count": 40,
   "metadata": {},
   "outputs": [],
   "source": [
    "monthly_eddies = et.average.monthly(normalized_eddies, ['THETA'])"
   ]
  },
  {
   "cell_type": "code",
   "execution_count": 41,
   "metadata": {},
   "outputs": [
    {
     "data": {
      "text/plain": [
       "<matplotlib.colorbar.Colorbar at 0x7f919e7838b0>"
      ]
     },
     "execution_count": 41,
     "metadata": {},
     "output_type": "execute_result"
    },
    {
     "data": {
      "image/png": "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\n",
      "text/plain": [
       "<Figure size 432x288 with 2 Axes>"
      ]
     },
     "metadata": {
      "needs_background": "light"
     },
     "output_type": "display_data"
    }
   ],
   "source": [
    "plt.pcolormesh(monthly_eddies['ave']['mean']['03']['THETA_anom'], vmin=-1, vmax=1, cmap=cm.balance)\n",
    "plt.colorbar()"
   ]
  },
  {
   "cell_type": "code",
   "execution_count": 42,
   "metadata": {},
   "outputs": [],
   "source": [
    "total_eddies = et.average.total(normalized_eddies, ['THETA'])"
   ]
  },
  {
   "cell_type": "code",
   "execution_count": 43,
   "metadata": {},
   "outputs": [
    {
     "data": {
      "text/plain": [
       "<matplotlib.colorbar.Colorbar at 0x7f919ea4ab50>"
      ]
     },
     "execution_count": 43,
     "metadata": {},
     "output_type": "execute_result"
    },
    {
     "data": {
      "image/png": "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\n",
      "text/plain": [
       "<Figure size 432x288 with 2 Axes>"
      ]
     },
     "metadata": {
      "needs_background": "light"
     },
     "output_type": "display_data"
    }
   ],
   "source": [
    "plt.pcolormesh(total_eddies['ave']['mean']['THETA_anom'], vmin=-1, vmax=1, cmap=cm.balance)\n",
    "plt.colorbar()"
   ]
  },
  {
   "cell_type": "code",
   "execution_count": null,
   "metadata": {},
   "outputs": [],
   "source": []
  },
  {
   "cell_type": "code",
   "execution_count": null,
   "metadata": {},
   "outputs": [],
   "source": []
  }
 ],
 "metadata": {
  "kernelspec": {
   "display_name": "Python [conda env:py3_eddy_new]",
   "language": "python",
   "name": "conda-env-py3_eddy_new-py"
  },
  "language_info": {
   "codemirror_mode": {
    "name": "ipython",
    "version": 3
   },
   "file_extension": ".py",
   "mimetype": "text/x-python",
   "name": "python",
   "nbconvert_exporter": "python",
   "pygments_lexer": "ipython3",
   "version": "3.8.10"
  }
 },
 "nbformat": 4,
 "nbformat_minor": 4
}
