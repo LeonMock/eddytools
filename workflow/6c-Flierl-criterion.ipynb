{
 "cells": [
  {
   "cell_type": "code",
   "execution_count": null,
   "id": "d0ce76bf",
   "metadata": {},
   "outputs": [],
   "source": [
    "import xarray as xr\n",
    "import numpy as np\n",
    "from tqdm import tqdm\n",
    "import os\n",
    "from geopy.distance import geodesic\n",
    "from datetime import timedelta\n",
    "import pickle"
   ]
  },
  {
   "cell_type": "code",
   "execution_count": 2,
   "id": "4305d06c",
   "metadata": {
    "tags": [
     "parameters"
    ]
   },
   "outputs": [],
   "source": [
    "tracking_start, tracking_end = \"2012-01-01\", \"2012-12-31\"\n",
    "\n",
    "experiment_name = 'INALT20r.L120-KRS006'#'INALT60.L120-KRS0020'\n",
    "data_resolution = '1d'\n",
    "\n",
    "OW_thr_factor =-0.3"
   ]
  },
  {
   "cell_type": "code",
   "execution_count": 3,
   "id": "cf9bc6db",
   "metadata": {},
   "outputs": [],
   "source": [
    "if experiment_name.startswith(\"INALT60\"):\n",
    "    prefix = \"2_\"\n",
    "    Npix_min, Npix_max = 720, 18000\n",
    "    sigma = 15\n",
    "    wx = 600\n",
    "elif experiment_name.startswith(\"INALT20\"):\n",
    "    prefix = \"1_\"\n",
    "    Npix_min, Npix_max = 80, 2000\n",
    "    sigma = 5\n",
    "    wx = 200"
   ]
  },
  {
   "cell_type": "code",
   "execution_count": 4,
   "id": "5643be5a",
   "metadata": {},
   "outputs": [
    {
     "name": "stdout",
     "output_type": "stream",
     "text": [
      "48 [(0, 0), (21, 10), (54, 18), (91, 24), (132, 29), (173, 33), (210, 36), (253, 39), (286, 41), (323, 43), (365, 45), (412, 47), (465, 49), (525, 51), (592, 53), (668, 55), (753, 57), (848, 59), (952, 61), (1066, 63), (1189, 65), (1321, 67), (1461, 69), (1608, 71), (1762, 73), (1922, 75), (2086, 77), (2255, 79), (2428, 81), (2603, 83), (2782, 85), (2963, 87), (3146, 89), (3331, 91), (3518, 93), (3706, 95), (3896, 97), (4086, 99), (4279, 101), (4472, 103), (4666, 105), (4861, 107), (5057, 109), (5254, 111), (5452, 113), (5651, 115), (5850, 117), (6050, 119)]\n"
     ]
    }
   ],
   "source": [
    "#depth= 0  #corresponding to... \n",
    "#depth_index = 0 \n",
    "\n",
    "mesh_mask = xr.open_dataset(f'/gxfs_work/geomar/smomw523/smoothed_data/{experiment_name}/{prefix}{experiment_name}_mesh_mask.nc') \n",
    "indices = np.concatenate((range(0, 11, 10),range(18, 25, 6),range(29, 34, 4),range(36, 40, 3),range(41, 120, 2)))\n",
    "depth_information = [(round(mesh_mask.nav_lev.values[i]), i) for i in indices]\n",
    "print(len(depth_information),depth_information)"
   ]
  },
  {
   "cell_type": "code",
   "execution_count": null,
   "id": "c085d4c9",
   "metadata": {},
   "outputs": [
    {
     "name": "stderr",
     "output_type": "stream",
     "text": [
      "100%|██████████| 48/48 [01:00<00:00,  1.26s/it]\n"
     ]
    }
   ],
   "source": [
    "#min_diameter, min_duration = 50, 50\n",
    "filename = f'Tracks-crossed_{tracking_start.replace(\"-\", \"\")}_{tracking_end.replace(\"-\", \"\")}_OW{np.abs(OW_thr_factor)}_Npix-{Npix_min}-{Npix_max}_rolling-{wx}.pickle'\n",
    "\n",
    "for (depth, depth_index) in tqdm(depth_information[:2]): # depth_information\n",
    "    datapath = f'/gxfs_work/geomar/smomw523/eddytools/results/{experiment_name}/smoothed/{sigma}/{data_resolution}/depth-{depth}/'\n",
    "    filepath = datapath + filename\n",
    "    if not os.path.exists(filepath):\n",
    "        print(f\"File not found: {filepath}\")\n",
    "        continue\n",
    "\n",
    "    tracks = np.load(datapath + filename, allow_pickle=True)\n",
    "    for track in tracks:\n",
    "        #if track['scale'].max() < min_diameter or len(track['time']) < min_duration:\n",
    "        #    continue\n",
    "        #else:\n",
    "        speeds = [0]\n",
    "        times, lons, lats = track['time'], track['lon'], track['lat']\n",
    "        for i in range(1, len(times)):\n",
    "            dist_km = geodesic((lats[i-1], lons[i-1]), (lats[i], lons[i])).km\n",
    "            time_diff_h = (times[i] - times[i-1]) / np.timedelta64(1, 'h')\n",
    "            speed = dist_km / time_diff_h * 3.6\n",
    "            speeds.append(speed)\n",
    "        track['speed'] = np.array(speeds)\n",
    "    with open(filepath, \"wb\") as f:\n",
    "        pickle.dump(tracks, f)"
   ]
  }
 ],
 "metadata": {
  "kernelspec": {
   "display_name": "py3-eddytools",
   "language": "python",
   "name": "python3"
  },
  "language_info": {
   "codemirror_mode": {
    "name": "ipython",
    "version": 3
   },
   "file_extension": ".py",
   "mimetype": "text/x-python",
   "name": "python",
   "nbconvert_exporter": "python",
   "pygments_lexer": "ipython3",
   "version": "3.10.8"
  }
 },
 "nbformat": 4,
 "nbformat_minor": 5
}
