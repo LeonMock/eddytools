{
 "cells": [
  {
   "cell_type": "code",
   "execution_count": 15,
   "metadata": {},
   "outputs": [],
   "source": [
    "from glob import glob\n",
    "import numpy as np\n",
    "import xarray as xr\n",
    "from matplotlib import pyplot as plt\n",
    "import xgcm\n",
    "from xorca.lib import load_xorca_dataset\n",
    "import pickle\n",
    "import eddytools as et\n",
    "from cmocean import cm\n",
    "from scipy.signal import convolve\n",
    "from tqdm import tqdm\n",
    "import os\n",
    "import pandas as pd\n",
    "\n",
    "\n",
    "import warnings\n",
    "warnings.simplefilter(action='ignore', category=RuntimeWarning)\n",
    "# Obviously it is not a great idea to ignore warnings, however there are quite many\n",
    "# RuntimeWarnings because of division by 0 in some parts of this notebook. To keep\n",
    "# the instructive nature of this example notebook, these warnings are ignored."
   ]
  },
  {
   "cell_type": "code",
   "execution_count": 2,
   "metadata": {},
   "outputs": [],
   "source": [
    "import time\n",
    "start_time = time.time()"
   ]
  },
  {
   "cell_type": "code",
   "execution_count": 3,
   "metadata": {},
   "outputs": [],
   "source": [
    "# detection parameters\n",
    "Npix_min = 20*6*5\n",
    "Npix_max = 500*6*5\n",
    "OW_thr_factor =-0.2\n",
    "\n",
    "sigma = 9 # smoothing parameter"
   ]
  },
  {
   "cell_type": "code",
   "execution_count": 4,
   "metadata": {},
   "outputs": [],
   "source": [
    "datestart, dateend = \"2012-04-10\", \"2012-05-04\"\n",
    "#periods = [\n",
    "#    (\"2012-01-01\", \"2012-01-25\"), (\"2012-01-26\", \"2012-02-19\"), (\"2012-02-20\", \"2012-03-15\"),\n",
    "#    (\"2012-03-16\", \"2012-04-09\"), (\"2012-04-10\", \"2012-05-04\"), (\"2012-05-05\", \"2012-05-29\"),\n",
    "#    (\"2012-05-30\", \"2012-06-28\"), (\"2012-10-27\", \"2012-11-20\"), (\"2012-11-21\", \"2012-12-15\"),\n",
    "#    \n",
    "#    (\"2012-06-29\", \"2012-07-28\"), (\"2012-07-29\", \"2012-08-27\"), (\"2012-08-28\", \"2012-09-26\"), (\"2012-09-27\", \"2012-10-26\"),\n",
    "#]"
   ]
  },
  {
   "cell_type": "code",
   "execution_count": 5,
   "metadata": {},
   "outputs": [
    {
     "name": "stdout",
     "output_type": "stream",
     "text": [
      "48 [(0, 0), (21, 10), (54, 18), (91, 24), (132, 29), (173, 33), (210, 36), (253, 39), (286, 41), (323, 43), (365, 45), (412, 47), (465, 49), (525, 51), (592, 53), (668, 55), (753, 57), (848, 59), (952, 61), (1066, 63), (1189, 65), (1321, 67), (1461, 69), (1608, 71), (1762, 73), (1922, 75), (2086, 77), (2255, 79), (2428, 81), (2603, 83), (2782, 85), (2963, 87), (3146, 89), (3331, 91), (3518, 93), (3706, 95), (3896, 97), (4086, 99), (4279, 101), (4472, 103), (4666, 105), (4861, 107), (5057, 109), (5254, 111), (5452, 113), (5651, 115), (5850, 117), (6050, 119)]\n"
     ]
    }
   ],
   "source": [
    "#depth= 0  #corresponding to... \n",
    "#depth_index = 0 \n",
    "\n",
    "mesh_mask = xr.open_dataset('/gxfs_work/geomar/smomw355/model_data/ocean-only/INALT60.L120-KRS0020/nemo/suppl/2_INALT60.L120-KRS0020_mesh_mask.nc') \n",
    "indices = np.concatenate((range(0, 11, 10),range(18, 25, 6),range(29, 34, 4),range(36, 40, 3),range(41, 120, 2)))\n",
    "depth_information = [(round(mesh_mask.nav_lev.values[i]), i) for i in indices]\n",
    "print(len(depth_information),depth_information)"
   ]
  },
  {
   "cell_type": "code",
   "execution_count": 6,
   "metadata": {},
   "outputs": [],
   "source": [
    "experiment_name = 'INALT60.L120-KRS0020'\n",
    "data_resolution = '1d'"
   ]
  },
  {
   "cell_type": "markdown",
   "metadata": {},
   "source": [
    "### Detection"
   ]
  },
  {
   "cell_type": "markdown",
   "metadata": {},
   "source": [
    "Things to note for the setting of `detection_parameters`:  \n",
    "1. `'lon1'` and `'lon2'` need to be in the range (-180, 180). `'lon2'` can be smaller than `'lon1'` if you want to extract work in a region extending across the dateline (e.g. `'lon1': 160`, `'lon2': -170`). \n",
    "2. `'OW_thr': data_int` if the field `OW_std` in `data_int` is 2D, i.e. we have a spatially varying standard deviation of the Okubo-Weiss parameter. `'OW_thr': data_int['OW_std'].values` if the field `OW_std` in `data_int` is 1D.  \n",
    "3. `'OW_thr_factor'` is usually chosen in the range `(-0.5, -0.2)` ([Chelton et al., 2007](https://doi.org/10.1029/2007GL030812); [Isern-Fontanet et al., 2003](https://doi.org/10.1175/1520-0426(2003)20<772:IOMEFA>2.0.CO;2))."
   ]
  },
  {
   "cell_type": "code",
   "execution_count": 7,
   "metadata": {},
   "outputs": [],
   "source": [
    "# Specify parameters for eddy detection\n",
    "detection_parameters = {'model': 'ORCA',\n",
    "                        'grid': 'latlon',\n",
    "                        'start_time': datestart, # time range start\n",
    "                        'end_time': dateend, # time range end\n",
    "                        'calendar': 'standard', # calendar, must be either 360_day or standard\n",
    "                        'lon1': 0, # minimum longitude of detection region\n",
    "                        'lon2': 40, # maximum longitude\n",
    "                        'lat1': -45, # minimum latitude\n",
    "                        'lat2': -25, # maximum latitude\n",
    "                        'min_dep': 100, # minimum ocean depth where to look for eddies in m, masking out areas shallower than value\n",
    "                        'res': 1./60., # resolution of the fields in degree\n",
    "                        #'OW_thr': data_int,#['OW_std'].values, # \n",
    "                        'OW_thr_name': 'OW_std', # Okubo-Weiss threshold for eddy detection\n",
    "                        'OW_thr_factor': OW_thr_factor, # Okubo-Weiss parameter threshold\n",
    "                        'Npix_min': Npix_min, # minimum number of pixels (grid cells) to be considered as eddy\n",
    "                        'Npix_max': Npix_max, # maximum number of pixels (grid cells)\n",
    "                        'no_long': False, # If True, elongated shapes will not be considered\n",
    "                        'no_two': False # If True, eddies with two minima in the OW\n",
    "                                        # parameter and a OW > OW_thr in between  will not\n",
    "                                        # be considered\n",
    "                       }"
   ]
  },
  {
   "cell_type": "code",
   "execution_count": 8,
   "metadata": {},
   "outputs": [],
   "source": [
    "def plot_eddies(data_int, eddies, detection_parameters, datestart, depth):\n",
    "    \"\"\"Plot a single time step to see what the detection method detected\"\"\"\n",
    "    t = 0 \n",
    "    d_p = detection_parameters\n",
    "    plot_lon = data_int['lon'].where(data_int['lon'].values > 0, other=data_int['lon'].values + 360)\n",
    "    plt.figure(figsize=(8, 6))\n",
    "    plt.pcolormesh(plot_lon, data_int['lat'].values, data_int.OW.isel(time=t).values,\n",
    "                   vmin=-1e-9, vmax=1e-9, cmap=cm.balance, shading='auto')\n",
    "    for c, l in zip(['whitesmoke', 'dimgray'], ['-', '--']):\n",
    "        plt.plot([d_p['lon1'], d_p['lon2'], d_p['lon2'], d_p['lon1'], d_p['lon1']],\n",
    "                 [d_p['lat1'], d_p['lat1'], d_p['lat2'], d_p['lat2'], d_p['lat1']],\n",
    "                 color=c, linestyle=l)\n",
    "    \n",
    "    for i in np.arange(0, len(eddies[t])):\n",
    "        if eddies[t][i]['lon'] < 0:\n",
    "            eddy_lon = eddies[t][i]['lon'] + 360\n",
    "        else:\n",
    "            eddy_lon = eddies[t][i]['lon']\n",
    "        if eddies[t][i]['type'] == 'cyclonic':\n",
    "            for s, c in zip([7, 6], ['k', 'gold']):\n",
    "                plt.plot(eddy_lon, eddies[t][i]['lat'], marker='o', color=c, markersize=s)\n",
    "        elif eddies[t][i]['type'] == 'anticyclonic':\n",
    "            for s, c in zip([7, 6], ['k', 'silver']):\n",
    "                plt.plot(eddy_lon, eddies[t][i]['lat'], marker='o', color=c, markersize=s)\n",
    "\n",
    "    plt.title(datestart + ' - ' + str(depth) + 'm')\n",
    "    plt.show()"
   ]
  },
  {
   "cell_type": "code",
   "execution_count": 19,
   "metadata": {},
   "outputs": [
    {
     "name": "stderr",
     "output_type": "stream",
     "text": [
      "  0%|          | 0/48 [00:00<?, ?it/s]"
     ]
    },
    {
     "name": "stdout",
     "output_type": "stream",
     "text": [
      "> Starting: 20120410, 0m ...\n",
      "Last file (2012-05-04) already exists, skipping...\n",
      "> Starting: 20120410, 21m ...\n",
      "Last file (2012-05-04) already exists, skipping...\n",
      "> Starting: 20120410, 54m ...\n",
      "Last file (2012-05-04) already exists, skipping...\n",
      "> Starting: 20120410, 91m ...\n",
      "Last file (2012-05-04) already exists, skipping...\n",
      "> Starting: 20120410, 132m ...\n",
      "Last file (2012-05-04) already exists, skipping...\n",
      "> Starting: 20120410, 173m ...\n",
      "Last file (2012-05-04) already exists, skipping...\n",
      "> Starting: 20120410, 210m ...\n",
      "Last file (2012-05-04) already exists, skipping...\n",
      "> Starting: 20120410, 253m ...\n",
      "Last file (2012-05-04) already exists, skipping...\n",
      "> Starting: 20120410, 286m ...\n",
      "Last file (2012-05-04) already exists, skipping...\n",
      "> Starting: 20120410, 323m ...\n",
      "Last file (2012-05-04) already exists, skipping...\n",
      "> Starting: 20120410, 365m ...\n",
      "Last file (2012-05-04) already exists, skipping...\n",
      "> Starting: 20120410, 412m ...\n",
      "Last file (2012-05-04) already exists, skipping...\n",
      "> Starting: 20120410, 465m ...\n",
      "Last file (2012-05-04) already exists, skipping...\n",
      "> Starting: 20120410, 525m ...\n",
      "Last file (2012-05-04) already exists, skipping...\n",
      "> Starting: 20120410, 592m ...\n",
      "Last file (2012-05-04) already exists, skipping...\n",
      "> Starting: 20120410, 668m ...\n",
      "Last file (2012-05-04) already exists, skipping...\n",
      "> Starting: 20120410, 753m ...\n",
      "Last file (2012-05-04) already exists, skipping...\n",
      "> Starting: 20120410, 848m ...\n",
      "Last file (2012-05-04) already exists, skipping...\n",
      "> Starting: 20120410, 952m ...\n",
      "Last file (2012-05-04) already exists, skipping...\n",
      "> Starting: 20120410, 1066m ...\n",
      "Last file (2012-05-04) already exists, skipping...\n",
      "> Starting: 20120410, 1189m ...\n",
      "Last file (2012-05-04) already exists, skipping...\n",
      "> Starting: 20120410, 1321m ...\n",
      "Last file (2012-05-04) already exists, skipping...\n",
      "> Starting: 20120410, 1461m ...\n",
      "Last file (2012-05-04) already exists, skipping...\n",
      "> Starting: 20120410, 1608m ...\n",
      "Last file (2012-05-04) already exists, skipping...\n",
      "> Starting: 20120410, 1762m ...\n",
      "Last file (2012-05-04) already exists, skipping...\n",
      "> Starting: 20120410, 1922m ...\n",
      "Last file (2012-05-04) already exists, skipping...\n",
      "> Starting: 20120410, 2086m ...\n",
      "Last file (2012-05-04) already exists, skipping...\n",
      "> Starting: 20120410, 2255m ...\n",
      "Last file (2012-05-04) already exists, skipping...\n",
      "> Starting: 20120410, 2428m ...\n",
      "Last file (2012-05-04) already exists, skipping...\n",
      "> Starting: 20120410, 2603m ...\n",
      "Last file (2012-05-04) already exists, skipping...\n",
      "> Starting: 20120410, 2782m ...\n",
      "Last file (2012-05-04) already exists, skipping...\n",
      "> Starting: 20120410, 2963m ...\n",
      "Last file (2012-05-04) already exists, skipping...\n",
      "> Starting: 20120410, 3146m ...\n",
      "Last file (2012-05-04) already exists, skipping...\n",
      "> Starting: 20120410, 3331m ...\n",
      "Last file (2012-05-04) already exists, skipping...\n",
      "> Starting: 20120410, 3518m ...\n",
      "Last file (2012-05-04) already exists, skipping...\n",
      "> Starting: 20120410, 3706m ...\n",
      "Last file (2012-05-04) already exists, skipping...\n",
      "> Starting: 20120410, 3896m ...\n",
      "Last file (2012-05-04) already exists, skipping...\n",
      "> Starting: 20120410, 4086m ...\n",
      "Last file (2012-05-04) already exists, skipping...\n",
      "> Starting: 20120410, 4279m ...\n",
      "Last file (2012-05-04) already exists, skipping...\n",
      "> Starting: 20120410, 4472m ...\n",
      "Last file (2012-05-04) already exists, skipping...\n",
      "> Starting: 20120410, 4666m ...\n",
      "Last file (2012-05-04) already exists, skipping...\n",
      "> Starting: 20120410, 4861m ...\n",
      "Last file (2012-05-04) already exists, skipping...\n",
      "> Starting: 20120410, 5057m ...\n",
      "Last file (2012-05-04) already exists, skipping...\n",
      "> Starting: 20120410, 5254m ...\n",
      "Last file (2012-05-04) already exists, skipping...\n",
      "> Starting: 20120410, 5452m ...\n",
      "Last file (2012-05-04) already exists, skipping...\n",
      "> Starting: 20120410, 5651m ...\n",
      "Last file (2012-05-04) already exists, skipping...\n",
      "> Starting: 20120410, 5850m ...\n",
      "preparing data for eddy detection (masking and region extracting etc.)\n",
      "Detecting eddies in Okubo-Weiss parameter fields\n"
     ]
    },
    {
     "data": {
      "image/png": "[encoded data removed]",
      "text/plain": [
       "<Figure size 800x600 with 1 Axes>"
      ]
     },
     "metadata": {},
     "output_type": "display_data"
    },
    {
     "name": "stderr",
     "output_type": "stream",
     "text": [
      " 98%|█████████▊| 47/48 [01:26<00:01,  1.84s/it]"
     ]
    },
    {
     "name": "stdout",
     "output_type": "stream",
     "text": [
      "No eddies detected for 2012-04-10. Skip ...\n",
      "No eddies detected for 2012-04-11. Skip ...\n",
      "No eddies detected for 2012-04-12. Skip ...\n",
      "No eddies detected for 2012-04-20. Skip ...\n",
      "No eddies detected for 2012-04-21. Skip ...\n",
      "No eddies detected for 2012-04-26. Skip ...\n",
      "No eddies detected for 2012-04-27. Skip ...\n",
      "No eddies detected for 2012-04-28. Skip ...\n",
      "No eddies detected for 2012-04-29. Skip ...\n",
      "No eddies detected for 2012-04-30. Skip ...\n",
      "No eddies detected for 2012-05-01. Skip ...\n",
      "No eddies detected for 2012-05-02. Skip ...\n",
      "No eddies detected for 2012-05-03. Skip ...\n",
      "No eddies detected for 2012-05-04. Skip ...\n",
      "> Starting: 20120410, 6050m ...\n",
      "preparing data for eddy detection (masking and region extracting etc.)\n",
      "Detecting eddies in Okubo-Weiss parameter fields\n"
     ]
    },
    {
     "data": {
      "image/png": "[encoded data removed]",
      "text/plain": [
       "<Figure size 800x600 with 1 Axes>"
      ]
     },
     "metadata": {},
     "output_type": "display_data"
    },
    {
     "name": "stderr",
     "output_type": "stream",
     "text": [
      "100%|██████████| 48/48 [02:49<00:00,  3.54s/it]"
     ]
    },
    {
     "name": "stdout",
     "output_type": "stream",
     "text": [
      "No eddies detected for 2012-04-10. Skip ...\n",
      "No eddies detected for 2012-04-11. Skip ...\n",
      "No eddies detected for 2012-04-12. Skip ...\n",
      "No eddies detected for 2012-04-13. Skip ...\n",
      "No eddies detected for 2012-04-14. Skip ...\n",
      "No eddies detected for 2012-04-15. Skip ...\n",
      "No eddies detected for 2012-04-16. Skip ...\n",
      "No eddies detected for 2012-04-17. Skip ...\n",
      "No eddies detected for 2012-04-18. Skip ...\n",
      "No eddies detected for 2012-04-19. Skip ...\n",
      "No eddies detected for 2012-04-20. Skip ...\n",
      "No eddies detected for 2012-04-21. Skip ...\n",
      "No eddies detected for 2012-04-22. Skip ...\n",
      "No eddies detected for 2012-04-23. Skip ...\n",
      "No eddies detected for 2012-04-24. Skip ...\n",
      "No eddies detected for 2012-04-25. Skip ...\n",
      "No eddies detected for 2012-04-26. Skip ...\n",
      "No eddies detected for 2012-04-27. Skip ...\n",
      "No eddies detected for 2012-04-28. Skip ...\n",
      "No eddies detected for 2012-04-29. Skip ...\n",
      "No eddies detected for 2012-04-30. Skip ...\n",
      "No eddies detected for 2012-05-01. Skip ...\n",
      "No eddies detected for 2012-05-02. Skip ...\n",
      "No eddies detected for 2012-05-03. Skip ...\n",
      "No eddies detected for 2012-05-04. Skip ...\n"
     ]
    },
    {
     "name": "stderr",
     "output_type": "stream",
     "text": [
      "\n"
     ]
    }
   ],
   "source": [
    "#for (datestart, dateend) in tqdm(periods):\n",
    "#    print(f\"> Starting: {datestart.replace(\"-\", \"\")}-{dateend.replace(\"-\", \"\")} ...\")\n",
    "dates = pd.date_range(start=datestart, end=dateend)\n",
    "dates_array = dates.to_numpy()\n",
    "for (depth, depth_index) in tqdm(depth_information):\n",
    "    print(f\"> Starting: {datestart.replace('-', '')}, {depth}m ...\")\n",
    "    outpath = f'/gxfs_work/geomar/smomw523/eddytools/results/{experiment_name}/smoothed/{sigma}/{data_resolution}/depth-{depth}/'   ## !! SMOOTHED !!\n",
    "    if os.path.exists(outpath + f'Eddies_{dateend}_OW{np.abs(OW_thr_factor)}_Npix-{Npix_min}-{Npix_max}.pickle'):\n",
    "        print(f'Last file ({dateend}) already exists, skipping...')\n",
    "        continue\n",
    "    data_int = xr.open_dataset(outpath + f'OW_{datestart.replace(\"-\", \"\")}_{dateend.replace(\"-\", \"\")}.nc')\n",
    "    detection_parameters['OW_thr'] = data_int\n",
    "\n",
    "    # We detect eddies at level XX (as we only calculated the Okubo-Weiss parameter at this level)\n",
    "    eddies = et.detection.detect_OW(data_int.isel(z=depth_index), detection_parameters, 'OW', 'vort', regrid_avoided=False,     \n",
    "                                    use_bags=False, use_mp=True,mp_cpu=12)\n",
    "    \n",
    "    # Plot\n",
    "    plot_eddies(data_int, eddies, detection_parameters, datestart,depth)\n",
    "\n",
    "    # Save\n",
    "    for i in np.arange(0, len(eddies)):\n",
    "        if not eddies[i]:\n",
    "            print(f\"No eddies detected for {str(dates_array[i])[0:10]}. Skip ...\")\n",
    "            continue \n",
    "        datestring = str(eddies[i][0]['time'])[0:10] #[0:13] YYYY-MM-DDTHH, e.g. 2012-06-30T02 for 2am at 30 June 2012\n",
    "        with open(outpath + 'Eddies_' + str(datestring) + f'_OW{np.abs(OW_thr_factor)}_Npix-{Npix_min}-{Npix_max}.pickle', 'wb') as f:\n",
    "            pickle.dump(eddies[i], f, pickle.HIGHEST_PROTOCOL)\n",
    "        f.close()\n"
   ]
  },
  {
   "cell_type": "code",
   "execution_count": 20,
   "metadata": {},
   "outputs": [
    {
     "name": "stdout",
     "output_type": "stream",
     "text": [
      "Execution time: 01:56:16\n"
     ]
    }
   ],
   "source": [
    "end_time = time.time()\n",
    "\n",
    "execution_time = end_time - start_time\n",
    "hours = int(execution_time // 3600)\n",
    "minutes = int((execution_time % 3600) // 60)\n",
    "seconds = int(execution_time % 60)\n",
    "\n",
    "print(f\"Execution time: {hours:02}:{minutes:02}:{seconds:02}\")"
   ]
  },
  {
   "cell_type": "code",
   "execution_count": null,
   "metadata": {},
   "outputs": [],
   "source": []
  }
 ],
 "metadata": {
  "kernelspec": {
   "display_name": "py3-eddytools",
   "language": "python",
   "name": "python3"
  },
  "language_info": {
   "codemirror_mode": {
    "name": "ipython",
    "version": 3
   },
   "file_extension": ".py",
   "mimetype": "text/x-python",
   "name": "python",
   "nbconvert_exporter": "python",
   "pygments_lexer": "ipython3",
   "version": "3.10.8"
  }
 },
 "nbformat": 4,
 "nbformat_minor": 4
}
