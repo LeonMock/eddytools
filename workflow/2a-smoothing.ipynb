{
 "cells": [
  {
   "cell_type": "code",
   "execution_count": null,
   "metadata": {},
   "outputs": [],
   "source": [
    "import os\n",
    "import xarray as xr\n",
    "import numpy as np\n",
    "from glob import glob\n",
    "from tqdm import tqdm\n",
    "from scipy.ndimage import gaussian_filter"
   ]
  },
  {
   "cell_type": "code",
   "execution_count": 2,
   "metadata": {},
   "outputs": [],
   "source": [
    "experiment_name = \"INALT60.L120-KRS0020\"  \n",
    "data_resolution = \"1d\" "
   ]
  },
  {
   "cell_type": "code",
   "execution_count": 3,
   "metadata": {},
   "outputs": [],
   "source": [
    "datestart, dateend = \"2012-01-01\", \"2012-01-25\"\n",
    "periods = [\n",
    "    #(20120101, 20120125), (20120126, 20120219), (20120220, 20120315),\n",
    "    #(20120316, 20120409), (20120410, 20120504), (20120505, 20120529),\n",
    "    #(20120530, 20120628), (20121027, 20121120), (20121121, 20121215),\n",
    "    #(20120629, 20120728), (20120729, 20120827), (20120828, 20120926), (20120927, 20121026),\n",
    "]"
   ]
  },
  {
   "cell_type": "code",
   "execution_count": 4,
   "metadata": {
    "tags": [
     "parameters"
    ]
   },
   "outputs": [],
   "source": [
    "sigma = 15 #15 INALT60, 5 for INALT20"
   ]
  },
  {
   "cell_type": "code",
   "execution_count": 5,
   "metadata": {},
   "outputs": [],
   "source": [
    "datapath = f'/gxfs_work/geomar/smomw523/smoothed_data/{experiment_name}/'\n",
    "if experiment_name.startswith(\"INALT60\"):\n",
    "    prefix = \"2_\"\n",
    "elif experiment_name.startswith(\"INALT20\"):\n",
    "    prefix = \"1_\"\n",
    "meshpath = [datapath + f'{prefix}{experiment_name}_mesh_mask.nc']\n",
    "\n",
    "output_path = f\"/gxfs_work/geomar/smomw523/smoothed_data/{experiment_name}/\"\n",
    "\n",
    "os.makedirs(output_path, exist_ok=True)"
   ]
  },
  {
   "cell_type": "code",
   "execution_count": null,
   "metadata": {},
   "outputs": [],
   "source": [
    "grid_vars = {\n",
    "        \"T\": \"sossheig\",\n",
    "        \"U\": \"vozocrtx\",\n",
    "        \"V\": \"vomecrty\"\n",
    "    }\n",
    "\n",
    "#for (datestart, dateend) in periods:\n",
    "print(f\"Starting: {datestart}-{dateend} ...\")\n",
    "    \n",
    "filename_pattern = f'{prefix}{experiment_name}_{data_resolution}_{datestart.replace(\"-\", \"\")}_{dateend.replace(\"-\", \"\")}_grid_[TUV].nc' #TUV\n",
    "data_in = sorted(glob(datapath + filename_pattern))\n",
    "    \n",
    "for file in tqdm(data_in):\n",
    "    grid_key = file.split(\"_grid_\")[-1][0]\n",
    "    var_name = grid_vars.get(grid_key)\n",
    "\n",
    "    new_filename = os.path.basename(file).replace(\"_grid_\", f\"_smoothed_{sigma}_grid_\")\n",
    "    new_filepath = os.path.join(output_path, new_filename)\n",
    "\n",
    "    if os.path.exists(new_filepath):\n",
    "        print(f\"Skipping {new_filename} (already exists)\")\n",
    "        continue\n",
    "\n",
    "    ds = xr.open_dataset(file)\n",
    "\n",
    "    if var_name in ds:\n",
    "        dims = ds[var_name].dims\n",
    "        sigma_tuple = (0, 0, sigma, sigma) if any(d in dims for d in [\"depthu\", \"depthv\"]) else (0, sigma, sigma)\n",
    "            \n",
    "        smoothed_var = gaussian_filter(ds[var_name], sigma=sigma_tuple)\n",
    "        ds[var_name] = (dims, smoothed_var)   \n",
    "\n",
    "        ds.to_netcdf(new_filepath)\n",
    "\n",
    "    ds.close()"
   ]
  }
 ],
 "metadata": {
  "kernelspec": {
   "display_name": "py3-eddytools",
   "language": "python",
   "name": "python3"
  },
  "language_info": {
   "codemirror_mode": {
    "name": "ipython",
    "version": 3
   },
   "file_extension": ".py",
   "mimetype": "text/x-python",
   "name": "python",
   "nbconvert_exporter": "python",
   "pygments_lexer": "ipython3",
   "version": "3.10.8"
  }
 },
 "nbformat": 4,
 "nbformat_minor": 2
}
