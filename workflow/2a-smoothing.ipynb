{
 "cells": [
  {
   "cell_type": "code",
   "execution_count": 1,
   "metadata": {},
   "outputs": [],
   "source": [
    "import os\n",
    "import xarray as xr\n",
    "import numpy as np\n",
    "from scipy.ndimage import gaussian_filter\n",
    "from glob import glob\n",
    "from tqdm import tqdm\n",
    "import os"
   ]
  },
  {
   "cell_type": "code",
   "execution_count": 2,
   "metadata": {},
   "outputs": [],
   "source": [
    "experiment_name = \"INALT60.L120-KRS0020\"  \n",
    "data_resolution = \"1d\" \n",
    "datapath = '/gxfs_work/geomar/smomw523/inalt60/data/INALT60.L120-KRS0020/OW-prep/'\n",
    "meshpath = [datapath + '2_INALT60.L120-KRS0020_mesh_mask.nc']\n",
    "output_path = \"/gxfs_work/geomar/smomw523/smoothed_data/INALT60.L120-KRS0020/\"\n",
    "\n",
    "os.makedirs(output_path, exist_ok=True)"
   ]
  },
  {
   "cell_type": "code",
   "execution_count": 3,
   "metadata": {},
   "outputs": [],
   "source": [
    "sigma = 3 #9 INALT 60, 3 for INALT20, corresponds to 66.6km  "
   ]
  },
  {
   "cell_type": "code",
   "execution_count": 4,
   "metadata": {},
   "outputs": [],
   "source": [
    "periods = [\n",
    "    #(20120101, 20120125), (20120126, 20120219), (20120220, 20120315),\n",
    "    #(20120316, 20120409),\n",
    "    (20120410, 20120504),\n",
    "    #(20120505, 20120529),\n",
    "    #(20120530, 20120628), (20121027, 20121120), (20121121, 20121215),\n",
    "    #(20120629, 20120728),\n",
    "    #(20120729, 20120827), (20120828, 20120926), (20120927, 20121026),\n",
    "]"
   ]
  },
  {
   "cell_type": "code",
   "execution_count": 5,
   "metadata": {},
   "outputs": [
    {
     "name": "stdout",
     "output_type": "stream",
     "text": [
      "Starting: 20120410-20120504 ...\n"
     ]
    },
    {
     "name": "stderr",
     "output_type": "stream",
     "text": [
      "  0%|          | 0/3 [00:00<?, ?it/s]"
     ]
    },
    {
     "name": "stderr",
     "output_type": "stream",
     "text": [
      "100%|██████████| 3/3 [10:06<00:00, 202.30s/it]\n"
     ]
    }
   ],
   "source": [
    "grid_vars = {\n",
    "        \"T\": \"sossheig\",\n",
    "        \"U\": \"vozocrtx\",\n",
    "        \"V\": \"vomecrty\"\n",
    "    }\n",
    "\n",
    "for (datestart, dateend) in periods:\n",
    "    print(f\"Starting: {datestart}-{dateend} ...\")\n",
    "    \n",
    "    filename_pattern = f'2_{experiment_name}_{data_resolution}_{datestart}_{dateend}_grid_[TUV].nc' #TUV\n",
    "    data_in = sorted(glob(datapath + filename_pattern))\n",
    "    \n",
    "    for file in tqdm(data_in):\n",
    "        grid_key = file.split(\"_grid_\")[-1][0]\n",
    "        var_name = grid_vars.get(grid_key)\n",
    "\n",
    "        ds = xr.open_dataset(file)\n",
    "\n",
    "        if var_name in ds:\n",
    "            dims = ds[var_name].dims\n",
    "            sigma_tuple = (0, 0, sigma, sigma) if any(d in dims for d in [\"depthu\", \"depthv\"]) else (0, sigma, sigma)\n",
    "            \n",
    "            smoothed_var = gaussian_filter(ds[var_name], sigma=sigma_tuple)\n",
    "            ds[var_name] = (dims, smoothed_var)  \n",
    "\n",
    "            new_filename = os.path.basename(file).replace(\"_grid_\", f\"_smoothed_{sigma}_grid_\")\n",
    "            ds.to_netcdf(os.path.join(output_path, new_filename))\n",
    "\n",
    "        ds.close()"
   ]
  },
  {
   "cell_type": "code",
   "execution_count": null,
   "metadata": {},
   "outputs": [],
   "source": []
  }
 ],
 "metadata": {
  "kernelspec": {
   "display_name": "py3-eddytools",
   "language": "python",
   "name": "python3"
  },
  "language_info": {
   "codemirror_mode": {
    "name": "ipython",
    "version": 3
   },
   "file_extension": ".py",
   "mimetype": "text/x-python",
   "name": "python",
   "nbconvert_exporter": "python",
   "pygments_lexer": "ipython3",
   "version": "3.10.8"
  }
 },
 "nbformat": 4,
 "nbformat_minor": 2
}
