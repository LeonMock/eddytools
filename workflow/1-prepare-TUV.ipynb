{
 "cells": [
  {
   "cell_type": "code",
   "execution_count": null,
   "id": "0adc86d4-8bc7-4852-807c-276de6af9865",
   "metadata": {},
   "outputs": [
    {
     "name": "stdout",
     "output_type": "stream",
     "text": [
      "ncks -7 -L 0 -d time_counter,0,24 --cnk_dmn time_counter,25 --cnk_dmn y,1483 --cnk_dmn x,2404 /gxfs_work/geomar/smomw355/model_data/ocean-only/INALT60.L120-KRS0020/nemo/output/2_INALT60.L120-KRS0020_1d_20120101_20120125_grid_T.nc /gxfs_work/geomar/smomw523/inalt60/data/INALT60.L120-KRS0020/OW-prep/2_INALT60.L120-KRS0020_1d_20120101_20120125_grid_T.nc\n",
      "ncks -7 -L 0 -d time_counter,0,24 --cnk_dmn time_counter,25 --cnk_dmn y,1483 --cnk_dmn x,2404 /gxfs_work/geomar/smomw355/model_data/ocean-only/INALT60.L120-KRS0020/nemo/output/2_INALT60.L120-KRS0020_1d_20120126_20120219_grid_T.nc /gxfs_work/geomar/smomw523/inalt60/data/INALT60.L120-KRS0020/OW-prep/2_INALT60.L120-KRS0020_1d_20120126_20120219_grid_T.nc\n",
      "ncks -7 -L 0 -d time_counter,0,24 --cnk_dmn time_counter,25 --cnk_dmn y,1483 --cnk_dmn x,2404 /gxfs_work/geomar/smomw355/model_data/ocean-only/INALT60.L120-KRS0020/nemo/output/2_INALT60.L120-KRS0020_1d_20120220_20120315_grid_T.nc /gxfs_work/geomar/smomw523/inalt60/data/INALT60.L120-KRS0020/OW-prep/2_INALT60.L120-KRS0020_1d_20120220_20120315_grid_T.nc\n",
      "ncks -7 -L 0 -d time_counter,0,24 --cnk_dmn time_counter,25 --cnk_dmn y,1483 --cnk_dmn x,2404 /gxfs_work/geomar/smomw355/model_data/ocean-only/INALT60.L120-KRS0020/nemo/output/2_INALT60.L120-KRS0020_1d_20120316_20120409_grid_T.nc /gxfs_work/geomar/smomw523/inalt60/data/INALT60.L120-KRS0020/OW-prep/2_INALT60.L120-KRS0020_1d_20120316_20120409_grid_T.nc\n",
      "ncks -7 -L 0 -d time_counter,0,24 --cnk_dmn time_counter,25 --cnk_dmn y,1483 --cnk_dmn x,2404 /gxfs_work/geomar/smomw355/model_data/ocean-only/INALT60.L120-KRS0020/nemo/output/2_INALT60.L120-KRS0020_1d_20120410_20120504_grid_T.nc /gxfs_work/geomar/smomw523/inalt60/data/INALT60.L120-KRS0020/OW-prep/2_INALT60.L120-KRS0020_1d_20120410_20120504_grid_T.nc\n",
      "ncks -7 -L 0 -d time_counter,0,24 --cnk_dmn time_counter,25 --cnk_dmn y,1483 --cnk_dmn x,2404 /gxfs_work/geomar/smomw355/model_data/ocean-only/INALT60.L120-KRS0020/nemo/output/2_INALT60.L120-KRS0020_1d_20120505_20120529_grid_T.nc /gxfs_work/geomar/smomw523/inalt60/data/INALT60.L120-KRS0020/OW-prep/2_INALT60.L120-KRS0020_1d_20120505_20120529_grid_T.nc\n",
      "ncks -7 -L 0 -d time_counter,0,24 --cnk_dmn time_counter,25 --cnk_dmn y,1483 --cnk_dmn x,2404 /gxfs_work/geomar/smomw355/model_data/ocean-only/INALT60.L120-KRS0020/nemo/output/2_INALT60.L120-KRS0020_1d_20120530_20120628_grid_T.nc /gxfs_work/geomar/smomw523/inalt60/data/INALT60.L120-KRS0020/OW-prep/2_INALT60.L120-KRS0020_1d_20120530_20120628_grid_T.nc\n",
      "ncks -7 -L 0 -d time_counter,0,24 --cnk_dmn time_counter,25 --cnk_dmn y,1483 --cnk_dmn x,2404 /gxfs_work/geomar/smomw355/model_data/ocean-only/INALT60.L120-KRS0020/nemo/output/2_INALT60.L120-KRS0020_1d_20121027_20121120_grid_T.nc /gxfs_work/geomar/smomw523/inalt60/data/INALT60.L120-KRS0020/OW-prep/2_INALT60.L120-KRS0020_1d_20121027_20121120_grid_T.nc\n",
      "ncks -7 -L 0 -d time_counter,0,24 --cnk_dmn time_counter,25 --cnk_dmn y,1483 --cnk_dmn x,2404 /gxfs_work/geomar/smomw355/model_data/ocean-only/INALT60.L120-KRS0020/nemo/output/2_INALT60.L120-KRS0020_1d_20121121_20121215_grid_T.nc /gxfs_work/geomar/smomw523/inalt60/data/INALT60.L120-KRS0020/OW-prep/2_INALT60.L120-KRS0020_1d_20121121_20121215_grid_T.nc\n",
      "ncks -7 -L 0 -d time_counter,0,24 --cnk_dmn time_counter,25 --cnk_dmn y,1483 --cnk_dmn x,2404 /gxfs_work/geomar/smomw355/model_data/ocean-only/INALT60.L120-KRS0020/nemo/output/2_INALT60.L120-KRS0020_1d_20120101_20120125_grid_U.nc /gxfs_work/geomar/smomw523/inalt60/data/INALT60.L120-KRS0020/OW-prep/2_INALT60.L120-KRS0020_1d_20120101_20120125_grid_U.nc\n",
      "ncks -7 -L 0 -d time_counter,0,24 --cnk_dmn time_counter,25 --cnk_dmn y,1483 --cnk_dmn x,2404 /gxfs_work/geomar/smomw355/model_data/ocean-only/INALT60.L120-KRS0020/nemo/output/2_INALT60.L120-KRS0020_1d_20120126_20120219_grid_U.nc /gxfs_work/geomar/smomw523/inalt60/data/INALT60.L120-KRS0020/OW-prep/2_INALT60.L120-KRS0020_1d_20120126_20120219_grid_U.nc\n",
      "ncks -7 -L 0 -d time_counter,0,24 --cnk_dmn time_counter,25 --cnk_dmn y,1483 --cnk_dmn x,2404 /gxfs_work/geomar/smomw355/model_data/ocean-only/INALT60.L120-KRS0020/nemo/output/2_INALT60.L120-KRS0020_1d_20120220_20120315_grid_U.nc /gxfs_work/geomar/smomw523/inalt60/data/INALT60.L120-KRS0020/OW-prep/2_INALT60.L120-KRS0020_1d_20120220_20120315_grid_U.nc\n",
      "ncks -7 -L 0 -d time_counter,0,24 --cnk_dmn time_counter,25 --cnk_dmn y,1483 --cnk_dmn x,2404 /gxfs_work/geomar/smomw355/model_data/ocean-only/INALT60.L120-KRS0020/nemo/output/2_INALT60.L120-KRS0020_1d_20120316_20120409_grid_U.nc /gxfs_work/geomar/smomw523/inalt60/data/INALT60.L120-KRS0020/OW-prep/2_INALT60.L120-KRS0020_1d_20120316_20120409_grid_U.nc\n",
      "ncks -7 -L 0 -d time_counter,0,24 --cnk_dmn time_counter,25 --cnk_dmn y,1483 --cnk_dmn x,2404 /gxfs_work/geomar/smomw355/model_data/ocean-only/INALT60.L120-KRS0020/nemo/output/2_INALT60.L120-KRS0020_1d_20120410_20120504_grid_U.nc /gxfs_work/geomar/smomw523/inalt60/data/INALT60.L120-KRS0020/OW-prep/2_INALT60.L120-KRS0020_1d_20120410_20120504_grid_U.nc\n",
      "ncks -7 -L 0 -d time_counter,0,24 --cnk_dmn time_counter,25 --cnk_dmn y,1483 --cnk_dmn x,2404 /gxfs_work/geomar/smomw355/model_data/ocean-only/INALT60.L120-KRS0020/nemo/output/2_INALT60.L120-KRS0020_1d_20120505_20120529_grid_U.nc /gxfs_work/geomar/smomw523/inalt60/data/INALT60.L120-KRS0020/OW-prep/2_INALT60.L120-KRS0020_1d_20120505_20120529_grid_U.nc\n",
      "ncks -7 -L 0 -d time_counter,0,24 --cnk_dmn time_counter,25 --cnk_dmn y,1483 --cnk_dmn x,2404 /gxfs_work/geomar/smomw355/model_data/ocean-only/INALT60.L120-KRS0020/nemo/output/2_INALT60.L120-KRS0020_1d_20120530_20120628_grid_U.nc /gxfs_work/geomar/smomw523/inalt60/data/INALT60.L120-KRS0020/OW-prep/2_INALT60.L120-KRS0020_1d_20120530_20120628_grid_U.nc\n",
      "ncks -7 -L 0 -d time_counter,0,24 --cnk_dmn time_counter,25 --cnk_dmn y,1483 --cnk_dmn x,2404 /gxfs_work/geomar/smomw355/model_data/ocean-only/INALT60.L120-KRS0020/nemo/output/2_INALT60.L120-KRS0020_1d_20121027_20121120_grid_U.nc /gxfs_work/geomar/smomw523/inalt60/data/INALT60.L120-KRS0020/OW-prep/2_INALT60.L120-KRS0020_1d_20121027_20121120_grid_U.nc\n",
      "ncks -7 -L 0 -d time_counter,0,24 --cnk_dmn time_counter,25 --cnk_dmn y,1483 --cnk_dmn x,2404 /gxfs_work/geomar/smomw355/model_data/ocean-only/INALT60.L120-KRS0020/nemo/output/2_INALT60.L120-KRS0020_1d_20121121_20121215_grid_U.nc /gxfs_work/geomar/smomw523/inalt60/data/INALT60.L120-KRS0020/OW-prep/2_INALT60.L120-KRS0020_1d_20121121_20121215_grid_U.nc\n",
      "ncks -7 -L 0 -d time_counter,0,24 --cnk_dmn time_counter,25 --cnk_dmn y,1483 --cnk_dmn x,2404 /gxfs_work/geomar/smomw355/model_data/ocean-only/INALT60.L120-KRS0020/nemo/output/2_INALT60.L120-KRS0020_1d_20120101_20120125_grid_V.nc /gxfs_work/geomar/smomw523/inalt60/data/INALT60.L120-KRS0020/OW-prep/2_INALT60.L120-KRS0020_1d_20120101_20120125_grid_V.nc\n",
      "ncks -7 -L 0 -d time_counter,0,24 --cnk_dmn time_counter,25 --cnk_dmn y,1483 --cnk_dmn x,2404 /gxfs_work/geomar/smomw355/model_data/ocean-only/INALT60.L120-KRS0020/nemo/output/2_INALT60.L120-KRS0020_1d_20120126_20120219_grid_V.nc /gxfs_work/geomar/smomw523/inalt60/data/INALT60.L120-KRS0020/OW-prep/2_INALT60.L120-KRS0020_1d_20120126_20120219_grid_V.nc\n",
      "ncks -7 -L 0 -d time_counter,0,24 --cnk_dmn time_counter,25 --cnk_dmn y,1483 --cnk_dmn x,2404 /gxfs_work/geomar/smomw355/model_data/ocean-only/INALT60.L120-KRS0020/nemo/output/2_INALT60.L120-KRS0020_1d_20120220_20120315_grid_V.nc /gxfs_work/geomar/smomw523/inalt60/data/INALT60.L120-KRS0020/OW-prep/2_INALT60.L120-KRS0020_1d_20120220_20120315_grid_V.nc\n",
      "ncks -7 -L 0 -d time_counter,0,24 --cnk_dmn time_counter,25 --cnk_dmn y,1483 --cnk_dmn x,2404 /gxfs_work/geomar/smomw355/model_data/ocean-only/INALT60.L120-KRS0020/nemo/output/2_INALT60.L120-KRS0020_1d_20120316_20120409_grid_V.nc /gxfs_work/geomar/smomw523/inalt60/data/INALT60.L120-KRS0020/OW-prep/2_INALT60.L120-KRS0020_1d_20120316_20120409_grid_V.nc\n",
      "ncks -7 -L 0 -d time_counter,0,24 --cnk_dmn time_counter,25 --cnk_dmn y,1483 --cnk_dmn x,2404 /gxfs_work/geomar/smomw355/model_data/ocean-only/INALT60.L120-KRS0020/nemo/output/2_INALT60.L120-KRS0020_1d_20120410_20120504_grid_V.nc /gxfs_work/geomar/smomw523/inalt60/data/INALT60.L120-KRS0020/OW-prep/2_INALT60.L120-KRS0020_1d_20120410_20120504_grid_V.nc\n",
      "ncks -7 -L 0 -d time_counter,0,24 --cnk_dmn time_counter,25 --cnk_dmn y,1483 --cnk_dmn x,2404 /gxfs_work/geomar/smomw355/model_data/ocean-only/INALT60.L120-KRS0020/nemo/output/2_INALT60.L120-KRS0020_1d_20120505_20120529_grid_V.nc /gxfs_work/geomar/smomw523/inalt60/data/INALT60.L120-KRS0020/OW-prep/2_INALT60.L120-KRS0020_1d_20120505_20120529_grid_V.nc\n",
      "ncks -7 -L 0 -d time_counter,0,24 --cnk_dmn time_counter,25 --cnk_dmn y,1483 --cnk_dmn x,2404 /gxfs_work/geomar/smomw355/model_data/ocean-only/INALT60.L120-KRS0020/nemo/output/2_INALT60.L120-KRS0020_1d_20120530_20120628_grid_V.nc /gxfs_work/geomar/smomw523/inalt60/data/INALT60.L120-KRS0020/OW-prep/2_INALT60.L120-KRS0020_1d_20120530_20120628_grid_V.nc\n",
      "ncks -7 -L 0 -d time_counter,0,24 --cnk_dmn time_counter,25 --cnk_dmn y,1483 --cnk_dmn x,2404 /gxfs_work/geomar/smomw355/model_data/ocean-only/INALT60.L120-KRS0020/nemo/output/2_INALT60.L120-KRS0020_1d_20121027_20121120_grid_V.nc /gxfs_work/geomar/smomw523/inalt60/data/INALT60.L120-KRS0020/OW-prep/2_INALT60.L120-KRS0020_1d_20121027_20121120_grid_V.nc\n",
      "ncks -7 -L 0 -d time_counter,0,24 --cnk_dmn time_counter,25 --cnk_dmn y,1483 --cnk_dmn x,2404 /gxfs_work/geomar/smomw355/model_data/ocean-only/INALT60.L120-KRS0020/nemo/output/2_INALT60.L120-KRS0020_1d_20121121_20121215_grid_V.nc /gxfs_work/geomar/smomw523/inalt60/data/INALT60.L120-KRS0020/OW-prep/2_INALT60.L120-KRS0020_1d_20121121_20121215_grid_V.nc\n"
     ]
    },
    {
     "name": "stderr",
     "output_type": "stream",
     "text": [
      "sh: 1: module: not found\n"
     ]
    }
   ],
   "source": [
    "import os\n",
    "os.system('module load nco')\n",
    "periods = [\n",
    "    (20120101, 20120125), (20120126, 20120219), (20120220, 20120315),\n",
    "    (20120316, 20120409), (20120410, 20120504), (20120505, 20120529),\n",
    "    (20120530, 20120628), (20121027, 20121120), (20121121, 20121215),\n",
    "\n",
    "    #(20120629, 20120728), (20120729, 20120827), (20120828, 20120926), (20120927, 20121026),\n",
    "\n",
    "]\n",
    "\n",
    "grids = [\"grid_T\", \"grid_U\", \"grid_V\"]\n",
    "\n",
    "for grid in grids:\n",
    "    for start, end in periods:\n",
    "        input_file = f\"/gxfs_work/geomar/smomw355/model_data/ocean-only/INALT60.L120-KRS0020/nemo/output/2_INALT60.L120-KRS0020_1d_{start}_{end}_{grid}.nc\"\n",
    "        output_file = f\"/gxfs_work/geomar/smomw523/inalt60/data/INALT60.L120-KRS0020/OW-prep/2_INALT60.L120-KRS0020_1d_{start}_{end}_{grid}.nc\"\n",
    "        \n",
    "        command = (\n",
    "            f\"ncks -7 -L 0 -d time_counter,0,24 \"\n",
    "            f\"--cnk_dmn time_counter,25 --cnk_dmn y,1483 --cnk_dmn x,2404 \"\n",
    "            f\"{input_file} {output_file}\"\n",
    "        )\n",
    "        \n",
    "        print(f\"{command}\")\n",
    "        #os.system(command)"
   ]
  }
 ],
 "metadata": {
  "kernelspec": {
   "display_name": "Python 3 (ipykernel)",
   "language": "python",
   "name": "python3"
  },
  "language_info": {
   "codemirror_mode": {
    "name": "ipython",
    "version": 3
   },
   "file_extension": ".py",
   "mimetype": "text/x-python",
   "name": "python",
   "nbconvert_exporter": "python",
   "pygments_lexer": "ipython3",
   "version": "3.10.5"
  }
 },
 "nbformat": 4,
 "nbformat_minor": 5
}
