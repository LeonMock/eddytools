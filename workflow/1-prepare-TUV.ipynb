{
 "cells": [
  {
   "cell_type": "code",
   "execution_count": 7,
   "id": "0adc86d4-8bc7-4852-807c-276de6af9865",
   "metadata": {},
   "outputs": [
    {
     "name": "stdout",
     "output_type": "stream",
     "text": [
      "ncks -7 -L 0 -d time_counter,0,15 --cnk_dmn time_counter,16 --cnk_dmn y,1483 --cnk_dmn x,2404 -v sossheig /gxfs_work/geomar/smomw355/model_data/ocean-only/INALT60.L120-KRS0020/nemo/output/2_INALT60.L120-KRS0020_1d_20121216_20121231_grid_T.nc /gxfs_work/geomar/smomw523/smoothed_data/INALT60.L120-KRS0020/2_INALT60.L120-KRS0020_1d_20121216_20121231_grid_T.nc\n",
      "ncks -7 -L 0 -d time_counter,0,15 --cnk_dmn time_counter,16 --cnk_dmn y,1483 --cnk_dmn x,2404 -v vozocrtx /gxfs_work/geomar/smomw355/model_data/ocean-only/INALT60.L120-KRS0020/nemo/output/2_INALT60.L120-KRS0020_1d_20121216_20121231_grid_U.nc /gxfs_work/geomar/smomw523/smoothed_data/INALT60.L120-KRS0020/2_INALT60.L120-KRS0020_1d_20121216_20121231_grid_U.nc\n",
      "ncks -7 -L 0 -d time_counter,0,15 --cnk_dmn time_counter,16 --cnk_dmn y,1483 --cnk_dmn x,2404 -v vomecrty /gxfs_work/geomar/smomw355/model_data/ocean-only/INALT60.L120-KRS0020/nemo/output/2_INALT60.L120-KRS0020_1d_20121216_20121231_grid_V.nc /gxfs_work/geomar/smomw523/smoothed_data/INALT60.L120-KRS0020/2_INALT60.L120-KRS0020_1d_20121216_20121231_grid_V.nc\n"
     ]
    }
   ],
   "source": [
    "#import os\n",
    "#os.system('module load nco')\n",
    "periods = [ #INALT60\n",
    "    #(20120101, 20120125), (20120126, 20120219), (20120220, 20120315), # 25 days\n",
    "    #(20120316, 20120409), (20120410, 20120504), (20120505, 20120529),\n",
    "    #(20120530, 20120628), (20121027, 20121120), (20121121, 20121215),\n",
    "    #(20120629, 20120728), (20120729, 20120827), (20120828, 20120926), (20120927, 20121026),\n",
    "    (20121216, 20121231), #16 days\n",
    "]\n",
    "\n",
    "grids = [\"grid_T\", \"grid_U\", \"grid_V\"]\n",
    "variables = [\"sossheig\", \"vozocrtx\", \"vomecrty\"]\n",
    "\n",
    "for i, grid in enumerate(grids):\n",
    "    for start, end in periods:\n",
    "        input_file = f\"/gxfs_work/geomar/smomw355/model_data/ocean-only/INALT60.L120-KRS0020/nemo/output/2_INALT60.L120-KRS0020_1d_{start}_{end}_{grid}.nc\"\n",
    "        output_file = f\"/gxfs_work/geomar/smomw523/smoothed_data/INALT60.L120-KRS0020/2_INALT60.L120-KRS0020_1d_{start}_{end}_{grid}.nc\"\n",
    "        \n",
    "        command = (\n",
    "            f\"ncks -7 -L 0 -d time_counter,0,15 \"\n",
    "            f\"--cnk_dmn time_counter,16 --cnk_dmn y,1483 --cnk_dmn x,2404 -v {variables[i]} \"\n",
    "            f\"{input_file} {output_file}\"\n",
    "        )\n",
    "        \n",
    "        print(f\"{command}\")\n",
    "        #os.system(command)"
   ]
  },
  {
   "cell_type": "code",
   "execution_count": 3,
   "id": "bd500746",
   "metadata": {},
   "outputs": [],
   "source": [
    "import xarray\n",
    "a = xarray.open_dataset(\"/gxfs_work/geomar/smomw355/model_data/ocean-only/INALT20r.L120-KRS006/nemo/output/1_INALT20r.L120-KRS006_1d_20121116_20121231_grid_T.nc\")"
   ]
  },
  {
   "cell_type": "code",
   "execution_count": 6,
   "id": "d4caef4b",
   "metadata": {},
   "outputs": [
    {
     "data": {
      "text/plain": [
       "array([[-49.866188 , -49.866188 , -49.866188 , ..., -49.866188 ,\n",
       "        -49.866188 , -49.866188 ],\n",
       "       [-49.83395  , -49.83395  , -49.83395  , ..., -49.83395  ,\n",
       "        -49.83395  , -49.83395  ],\n",
       "       [-49.80169  , -49.80169  , -49.80169  , ..., -49.80169  ,\n",
       "        -49.80169  , -49.80169  ],\n",
       "       ...,\n",
       "       [ -6.63512  ,  -6.63512  ,  -6.63512  , ...,  -6.63512  ,\n",
       "         -6.63512  ,  -6.63512  ],\n",
       "       [ -6.585452 ,  -6.585452 ,  -6.585452 , ...,  -6.585452 ,\n",
       "         -6.585452 ,  -6.585452 ],\n",
       "       [ -6.5357795,  -6.5357795,  -6.5357795, ...,  -6.5357795,\n",
       "         -6.5357795,  -6.5357795]], dtype=float32)"
      ]
     },
     "execution_count": 6,
     "metadata": {},
     "output_type": "execute_result"
    }
   ],
   "source": [
    "a.nav_lat.values"
   ]
  },
  {
   "cell_type": "code",
   "execution_count": 2,
   "id": "36f6f35c",
   "metadata": {},
   "outputs": [
    {
     "name": "stdout",
     "output_type": "stream",
     "text": [
      "ncks -7 -L 0 -d time_counter,0,45 --cnk_dmn time_counter,46 --cnk_dmn y,1024 --cnk_dmn x,1804 -v sossheig /gxfs_work/geomar/smomw355/model_data/ocean-only/INALT20r.L120-KRS006/nemo/output/1_INALT20r.L120-KRS006_1d_20121116_20121231_grid_T.nc /gxfs_work/geomar/smomw523/smoothed_data/INALT20r.L120-KRS006/1_INALT20r.L120-KRS006_1d_20121116_20121231_grid_T.nc\n",
      "ncks -7 -L 0 -d time_counter,0,45 --cnk_dmn time_counter,46 --cnk_dmn y,1024 --cnk_dmn x,1804 -v vozocrtx /gxfs_work/geomar/smomw355/model_data/ocean-only/INALT20r.L120-KRS006/nemo/output/1_INALT20r.L120-KRS006_1d_20121116_20121231_grid_U.nc /gxfs_work/geomar/smomw523/smoothed_data/INALT20r.L120-KRS006/1_INALT20r.L120-KRS006_1d_20121116_20121231_grid_U.nc\n",
      "ncks -7 -L 0 -d time_counter,0,45 --cnk_dmn time_counter,46 --cnk_dmn y,1024 --cnk_dmn x,1804 -v vomecrty /gxfs_work/geomar/smomw355/model_data/ocean-only/INALT20r.L120-KRS006/nemo/output/1_INALT20r.L120-KRS006_1d_20121116_20121231_grid_V.nc /gxfs_work/geomar/smomw523/smoothed_data/INALT20r.L120-KRS006/1_INALT20r.L120-KRS006_1d_20121116_20121231_grid_V.nc\n"
     ]
    }
   ],
   "source": [
    "periods = [ #INALT20r\n",
    "    #(20120101, 20120219), # 50 days\n",
    "    #(20120220, 20120404), (20120405, 20120519), #45 days\n",
    "    #(20120520, 20120703), (20120704, 20120817), (20120818, 20121001), (20121002, 20121115),\n",
    "    (20121116, 20121231), # 46 days\n",
    "]\n",
    "grids = [\"grid_T\", \"grid_U\", \"grid_V\"]\n",
    "variables = [\"sossheig\", \"vozocrtx\", \"vomecrty\"]\n",
    "\n",
    "for i, grid in enumerate(grids):\n",
    "    for start, end in periods:\n",
    "        input_file = f\"/gxfs_work/geomar/smomw355/model_data/ocean-only/INALT20r.L120-KRS006/nemo/output/1_INALT20r.L120-KRS006_1d_{start}_{end}_{grid}.nc\"\n",
    "        output_file = f\"/gxfs_work/geomar/smomw523/smoothed_data/INALT20r.L120-KRS006/1_INALT20r.L120-KRS006_1d_{start}_{end}_{grid}.nc\"\n",
    "        \n",
    "        command = (\n",
    "            f\"ncks -7 -L 0 -d time_counter,0,45 \"\n",
    "            f\"--cnk_dmn time_counter,46 --cnk_dmn y,1024 --cnk_dmn x,1804 -v {variables[i]} \"\n",
    "            f\"{input_file} {output_file}\"\n",
    "        )\n",
    "        \n",
    "        print(f\"{command}\")"
   ]
  },
  {
   "cell_type": "code",
   "execution_count": null,
   "id": "819e7e4b",
   "metadata": {},
   "outputs": [],
   "source": []
  }
 ],
 "metadata": {
  "kernelspec": {
   "display_name": "py3-eddytools",
   "language": "python",
   "name": "python3"
  },
  "language_info": {
   "codemirror_mode": {
    "name": "ipython",
    "version": 3
   },
   "file_extension": ".py",
   "mimetype": "text/x-python",
   "name": "python",
   "nbconvert_exporter": "python",
   "pygments_lexer": "ipython3",
   "version": "3.10.8"
  }
 },
 "nbformat": 4,
 "nbformat_minor": 5
}
