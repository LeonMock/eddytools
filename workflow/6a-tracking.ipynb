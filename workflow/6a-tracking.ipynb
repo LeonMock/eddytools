{
 "cells": [
  {
   "cell_type": "code",
   "execution_count": 1,
   "metadata": {},
   "outputs": [],
   "source": [
    "from glob import glob\n",
    "import numpy as np\n",
    "import xarray as xr\n",
    "from matplotlib import pyplot as plt\n",
    "import xgcm\n",
    "from xorca.lib import load_xorca_dataset\n",
    "import pickle\n",
    "import eddytools as et\n",
    "from cmocean import cm\n",
    "from scipy.signal import convolve\n",
    "from tqdm import tqdm\n",
    "\n",
    "import warnings\n",
    "warnings.simplefilter(action='ignore', category=RuntimeWarning)\n",
    "# Obviously it is not a great idea to ignore warnings, however there are quite many\n",
    "# RuntimeWarnings because of division by 0 in some parts of this notebook. To keep\n",
    "# the instructive nature of this example notebook, these warnings are ignored."
   ]
  },
  {
   "cell_type": "code",
   "execution_count": 2,
   "metadata": {},
   "outputs": [],
   "source": [
    "experiment_name = 'INALT20r.L120-KRS006'#'INALT60.L120-KRS0020'\n",
    "data_resolution = '1d'\n",
    "\n",
    "OW_thr_factor =-0.3"
   ]
  },
  {
   "cell_type": "code",
   "execution_count": 3,
   "metadata": {
    "tags": [
     "parameters"
    ]
   },
   "outputs": [],
   "source": [
    "tracking_start, tracking_end = \"2012-01-01\", \"2012-12-31\"\n",
    "#periods = [\n",
    "#    (\"2012-01-01\", \"2012-01-25\"), (\"2012-01-26\", \"2012-02-19\"), (\"2012-02-20\", \"2012-03-15\"),\n",
    "#    (\"2012-03-16\", \"2012-04-09\"), (\"2012-04-10\", \"2012-05-04\"), (\"2012-05-05\", \"2012-05-29\"),\n",
    "#    (\"2012-05-30\", \"2012-06-28\"), (\"2012-10-27\", \"2012-11-20\"), (\"2012-11-21\", \"2012-12-15\"),\n",
    "#    \n",
    "#    (\"2012-06-29\", \"2012-07-28\"), (\"2012-07-29\", \"2012-08-27\"), (\"2012-08-28\", \"2012-09-26\"), (\"2012-09-27\", \"2012-10-26\"),\n",
    "#]"
   ]
  },
  {
   "cell_type": "code",
   "execution_count": 4,
   "metadata": {},
   "outputs": [],
   "source": [
    "if experiment_name.startswith(\"INALT60\"):\n",
    "    Npix_min, Npix_max = 720, 18000\n",
    "    sigma = 15\n",
    "    wx = 600\n",
    "elif experiment_name.startswith(\"INALT20\"):\n",
    "    Npix_min, Npix_max = 80, 2000\n",
    "    sigma = 5\n",
    "    wx = 200"
   ]
  },
  {
   "cell_type": "code",
   "execution_count": 5,
   "metadata": {},
   "outputs": [],
   "source": [
    "datapath = f'/gxfs_work/geomar/smomw523/eddytools/results/{experiment_name}/smoothed/{sigma}/{data_resolution}/depth-0/'   # depth = surface !!!"
   ]
  },
  {
   "cell_type": "code",
   "execution_count": 6,
   "metadata": {},
   "outputs": [],
   "source": [
    "# Specify parameters for eddy tracking\n",
    "tracking_parameters = {'model': 'ORCA',\n",
    "                       'grid': 'latlon',\n",
    "                       'start_time': tracking_start, # time range start\n",
    "                       'end_time': tracking_end, # time range end\n",
    "                       'calendar': 'standard', # calendar, must be either 360_day or standard\n",
    "                       'dt': 1, # temporal resolution of the data in days\n",
    "                       'lon1': 0, # minimum longitude of detection region\n",
    "                       'lon2': 40, # maximum longitude\n",
    "                       'lat1': -45, # minimum latitude\n",
    "                       'lat2': -25, # maximum latitude\n",
    "                       'search_dist': 100., # maximum distance of search ellipse/circle from eddy center in km\n",
    "                                          # if ellipse: towards the east (if set to 0, it\n",
    "                                          # will be calculated as (150. / (7. / dt)))\n",
    "                       # max vel 3.5 m/s --> 50km in 4 hours\n",
    "                       'search_circle': True, # if True, search in a circle. otherwise use ellipse\n",
    "                       'eddy_scale_min': 0.5, # minimum factor by which eddy amplitude and area are allowed to change in one timestep\n",
    "                       'eddy_scale_max': 1.5, # maximum factor by which eddy amplitude and area are allowed to change in one timestep\n",
    "                       'dict': 0, # eddies dictionary containing detected eddies to be used when not stored in files (set to 0 otherwise)\n",
    "                       'data_path': datapath, # path to the detected eddies pickle files\n",
    "                       'file_root': 'Eddies',\n",
    "                       'file_spec': f'OW{np.abs(OW_thr_factor)}_Npix-{Npix_min}-{Npix_max}_rolling-{wx}',\n",
    "                       'ross_path': '/gxfs_work/geomar/smomw523/eddytools/'} # path to rossrad.dat containing Chelton et a1. 1998 Rossby radii\n",
    "\n",
    "# detected eddies are loaded from file with the filename\n",
    "# 'trac_param['data_path'] + trac_param['file_root'] + '_'\n",
    "# + str(datestring) + '_' + trac_param['file_spec'] + '.pickle'\n",
    "# `datestring` is created from the `time` value of the eddy"
   ]
  },
  {
   "cell_type": "code",
   "execution_count": 7,
   "metadata": {},
   "outputs": [],
   "source": [
    "if experiment_name.startswith(\"INALT60\"):\n",
    "    prefix = \"2_\"\n",
    "    tracking_parameters['lon1'], tracking_parameters['lon2'] = 0, 40\n",
    "    tracking_parameters['lat1'], tracking_parameters['lat2'] = -45, -25\n",
    "elif experiment_name.startswith(\"INALT20\"):\n",
    "    prefix = \"1_\"\n",
    "    tracking_parameters['lon1'], tracking_parameters['lon2'] = -19, 40\n",
    "    tracking_parameters['lat1'], tracking_parameters['lat2'] = -49, -7"
   ]
  },
  {
   "cell_type": "code",
   "execution_count": 8,
   "metadata": {},
   "outputs": [
    {
     "name": "stdout",
     "output_type": "stream",
     "text": [
      "48 [(0, 0), (21, 10), (54, 18), (91, 24), (132, 29), (173, 33), (210, 36), (253, 39), (286, 41), (323, 43), (365, 45), (412, 47), (465, 49), (525, 51), (592, 53), (668, 55), (753, 57), (848, 59), (952, 61), (1066, 63), (1189, 65), (1321, 67), (1461, 69), (1608, 71), (1762, 73), (1922, 75), (2086, 77), (2255, 79), (2428, 81), (2603, 83), (2782, 85), (2963, 87), (3146, 89), (3331, 91), (3518, 93), (3706, 95), (3896, 97), (4086, 99), (4279, 101), (4472, 103), (4666, 105), (4861, 107), (5057, 109), (5254, 111), (5452, 113), (5651, 115), (5850, 117), (6050, 119)]\n"
     ]
    }
   ],
   "source": [
    "#depth= 0  #corresponding to... \n",
    "#depth_index = 0 \n",
    "\n",
    "mesh_mask = xr.open_dataset(f'/gxfs_work/geomar/smomw523/smoothed_data/{experiment_name}/{prefix}{experiment_name}_mesh_mask.nc') \n",
    "indices = np.concatenate((range(0, 11, 10),range(18, 25, 6),range(29, 34, 4),range(36, 40, 3),range(41, 120, 2)))\n",
    "depth_information = [(round(mesh_mask.nav_lev.values[i]), i) for i in indices]\n",
    "print(len(depth_information),depth_information)"
   ]
  },
  {
   "cell_type": "markdown",
   "metadata": {
    "jp-MarkdownHeadingCollapsed": true,
    "tags": []
   },
   "source": [
    "# TRACKING"
   ]
  },
  {
   "cell_type": "markdown",
   "metadata": {},
   "source": [
    "Things to note for the setting of `tracking_parameters`:  \n",
    "1. `'start_time'` is required to be no earlier than the earliest actual date of the detected eddies. In our case here, for the year 0002 and a 5-day temporal resolution of the data, this is `'0002-01-05'` (The `MITgcm` stores the 5-daily averages at the end of the 5-day period).\n",
    "2. `'lon1'` and `'lon2'` need to be identical to `'lon1'` and `'lon2'` in `detection_parameters`.  \n",
    "3. If you stored the detected eddies in files and want to track these, set `'dict': 0`, make sure `'data_path'`, `'file_root'` and `'file_spec'` are set accordingly and use `in_file=True` as an argument to `et.tracking.track()`.. The method will look for files `datapath + file_root + 'YYYYMMDD' + file_spec + '.pickle'`, the date `'YYYYMMDD'` is automatically calculated from `'start_time'`, `'dt'`, and `'end_time'`. You have to make sure that the stored, detected eddies contain that date in their filename (e.g. as defined in the cell above)!  \n",
    "\n",
    "Some notes on the search distance `search_dist` that is used to determine in what radius to look for a similar eddy at the next time step.  \n",
    "    - If `search_circle: True`, the algorithm simply searches for similar eddies within a radius of `search_dist` kilometers around the center of the current eddy. This is the simplest method.\n",
    "    - If `search_circle: False`, the algorithm will determine where to look for similar eddies based on an ellipse with a minor axis of `search_dist` kilometers. If `search_dist: 0`, the minor and major axes of the ellipse are calculated based on the propagation of Rossby waves to account for the fact that eddies will move towards the West (see [Chelton et al., 2011](https://www.sciencedirect.com/science/article/pii/S0079661111000036) for details). In regions with strong currents this might lead to a loss of a lot of tracks, but no sensitivity studies have been conducted... "
   ]
  },
  {
   "cell_type": "raw",
   "metadata": {
    "vscode": {
     "languageId": "raw"
    }
   },
   "source": [
    "data_int = xr.open_dataset(datapath + f'OW_{datestart.replace(\"-\", \"\")}_{dateend.replace(\"-\", \"\")}_rolling-{wx}.nc')"
   ]
  },
  {
   "cell_type": "code",
   "execution_count": 9,
   "metadata": {},
   "outputs": [
    {
     "name": "stderr",
     "output_type": "stream",
     "text": [
      "  0%|          | 0/48 [00:00<?, ?it/s]"
     ]
    },
    {
     "name": "stdout",
     "output_type": "stream",
     "text": [
      "tracking at time step  42  of  365\n",
      "tracking at time step  82  of  365\n",
      "tracking at time step  123  of  365\n",
      "tracking at time step  163  of  365\n",
      "tracking at time step  204  of  365\n",
      "tracking at time step  244  of  365\n",
      "tracking at time step  285  of  365\n",
      "tracking at time step  325  of  365\n"
     ]
    },
    {
     "name": "stderr",
     "output_type": "stream",
     "text": [
      "  2%|▏         | 1/48 [00:59<46:50, 59.79s/it]"
     ]
    },
    {
     "name": "stdout",
     "output_type": "stream",
     "text": [
      "tracking at time step  42  of  365\n",
      "tracking at time step  82  of  365\n",
      "tracking at time step  123  of  365\n",
      "tracking at time step  163  of  365\n",
      "tracking at time step  204  of  365\n",
      "tracking at time step  244  of  365\n",
      "tracking at time step  285  of  365\n",
      "tracking at time step  325  of  365\n"
     ]
    },
    {
     "name": "stderr",
     "output_type": "stream",
     "text": [
      "  4%|▍         | 2/48 [01:59<45:54, 59.88s/it]"
     ]
    },
    {
     "name": "stdout",
     "output_type": "stream",
     "text": [
      "tracking at time step  42  of  365\n",
      "tracking at time step  82  of  365\n",
      "tracking at time step  123  of  365\n",
      "tracking at time step  163  of  365\n",
      "tracking at time step  204  of  365\n",
      "tracking at time step  244  of  365\n",
      "tracking at time step  285  of  365\n",
      "tracking at time step  325  of  365\n"
     ]
    },
    {
     "name": "stderr",
     "output_type": "stream",
     "text": [
      "  6%|▋         | 3/48 [02:56<43:53, 58.52s/it]"
     ]
    },
    {
     "name": "stdout",
     "output_type": "stream",
     "text": [
      "tracking at time step  42  of  365\n",
      "tracking at time step  82  of  365\n",
      "tracking at time step  123  of  365\n",
      "tracking at time step  163  of  365\n",
      "tracking at time step  204  of  365\n",
      "tracking at time step  244  of  365\n",
      "tracking at time step  285  of  365\n",
      "tracking at time step  325  of  365\n"
     ]
    },
    {
     "name": "stderr",
     "output_type": "stream",
     "text": [
      "  8%|▊         | 4/48 [03:52<42:05, 57.39s/it]"
     ]
    },
    {
     "name": "stdout",
     "output_type": "stream",
     "text": [
      "tracking at time step  42  of  365\n",
      "tracking at time step  82  of  365\n",
      "tracking at time step  123  of  365\n",
      "tracking at time step  163  of  365\n",
      "tracking at time step  204  of  365\n",
      "tracking at time step  244  of  365\n",
      "tracking at time step  285  of  365\n",
      "tracking at time step  325  of  365\n"
     ]
    },
    {
     "name": "stderr",
     "output_type": "stream",
     "text": [
      " 10%|█         | 5/48 [04:47<40:33, 56.58s/it]"
     ]
    },
    {
     "name": "stdout",
     "output_type": "stream",
     "text": [
      "tracking at time step  42  of  365\n",
      "tracking at time step  82  of  365\n",
      "tracking at time step  123  of  365\n",
      "tracking at time step  163  of  365\n",
      "tracking at time step  204  of  365\n",
      "tracking at time step  244  of  365\n",
      "tracking at time step  285  of  365\n",
      "tracking at time step  325  of  365\n"
     ]
    },
    {
     "name": "stderr",
     "output_type": "stream",
     "text": [
      " 12%|█▎        | 6/48 [05:44<39:46, 56.82s/it]"
     ]
    },
    {
     "name": "stdout",
     "output_type": "stream",
     "text": [
      "tracking at time step  42  of  365\n",
      "tracking at time step  82  of  365\n",
      "tracking at time step  123  of  365\n",
      "tracking at time step  163  of  365\n",
      "tracking at time step  204  of  365\n",
      "tracking at time step  244  of  365\n",
      "tracking at time step  285  of  365\n",
      "tracking at time step  325  of  365\n"
     ]
    },
    {
     "name": "stderr",
     "output_type": "stream",
     "text": [
      " 15%|█▍        | 7/48 [06:37<37:59, 55.60s/it]"
     ]
    },
    {
     "name": "stdout",
     "output_type": "stream",
     "text": [
      "tracking at time step  42  of  365\n",
      "tracking at time step  82  of  365\n",
      "tracking at time step  123  of  365\n",
      "tracking at time step  163  of  365\n",
      "tracking at time step  204  of  365\n",
      "tracking at time step  244  of  365\n",
      "tracking at time step  285  of  365\n",
      "tracking at time step  325  of  365\n"
     ]
    },
    {
     "name": "stderr",
     "output_type": "stream",
     "text": [
      " 17%|█▋        | 8/48 [07:30<36:24, 54.61s/it]"
     ]
    },
    {
     "name": "stdout",
     "output_type": "stream",
     "text": [
      "tracking at time step  42  of  365\n",
      "tracking at time step  82  of  365\n",
      "tracking at time step  123  of  365\n",
      "tracking at time step  163  of  365\n",
      "tracking at time step  204  of  365\n",
      "tracking at time step  244  of  365\n",
      "tracking at time step  285  of  365\n",
      "tracking at time step  325  of  365\n"
     ]
    },
    {
     "name": "stderr",
     "output_type": "stream",
     "text": [
      " 19%|█▉        | 9/48 [08:21<34:47, 53.53s/it]"
     ]
    },
    {
     "name": "stdout",
     "output_type": "stream",
     "text": [
      "tracking at time step  42  of  365\n",
      "tracking at time step  82  of  365\n",
      "tracking at time step  123  of  365\n",
      "tracking at time step  163  of  365\n",
      "tracking at time step  204  of  365\n",
      "tracking at time step  244  of  365\n",
      "tracking at time step  285  of  365\n",
      "tracking at time step  325  of  365\n"
     ]
    },
    {
     "name": "stderr",
     "output_type": "stream",
     "text": [
      " 21%|██        | 10/48 [09:10<33:02, 52.17s/it]"
     ]
    },
    {
     "name": "stdout",
     "output_type": "stream",
     "text": [
      "tracking at time step  42  of  365\n",
      "tracking at time step  82  of  365\n",
      "tracking at time step  123  of  365\n",
      "tracking at time step  163  of  365\n",
      "tracking at time step  204  of  365\n",
      "tracking at time step  244  of  365\n",
      "tracking at time step  285  of  365\n",
      "tracking at time step  325  of  365\n"
     ]
    },
    {
     "name": "stderr",
     "output_type": "stream",
     "text": [
      " 23%|██▎       | 11/48 [09:58<31:25, 50.97s/it]"
     ]
    },
    {
     "name": "stdout",
     "output_type": "stream",
     "text": [
      "tracking at time step  42  of  365\n",
      "tracking at time step  82  of  365\n",
      "tracking at time step  123  of  365\n",
      "tracking at time step  163  of  365\n",
      "tracking at time step  204  of  365\n",
      "tracking at time step  244  of  365\n",
      "tracking at time step  285  of  365\n",
      "tracking at time step  325  of  365\n"
     ]
    },
    {
     "name": "stderr",
     "output_type": "stream",
     "text": [
      " 25%|██▌       | 12/48 [10:48<30:22, 50.62s/it]"
     ]
    },
    {
     "name": "stdout",
     "output_type": "stream",
     "text": [
      "tracking at time step  42  of  365\n",
      "tracking at time step  82  of  365\n",
      "tracking at time step  123  of  365\n",
      "tracking at time step  163  of  365\n",
      "tracking at time step  204  of  365\n",
      "tracking at time step  244  of  365\n",
      "tracking at time step  285  of  365\n",
      "tracking at time step  325  of  365\n"
     ]
    },
    {
     "name": "stderr",
     "output_type": "stream",
     "text": [
      " 27%|██▋       | 13/48 [11:36<29:05, 49.87s/it]"
     ]
    },
    {
     "name": "stdout",
     "output_type": "stream",
     "text": [
      "tracking at time step  42  of  365\n",
      "tracking at time step  82  of  365\n",
      "tracking at time step  123  of  365\n",
      "tracking at time step  163  of  365\n",
      "tracking at time step  204  of  365\n",
      "tracking at time step  244  of  365\n",
      "tracking at time step  285  of  365\n",
      "tracking at time step  325  of  365\n"
     ]
    },
    {
     "name": "stderr",
     "output_type": "stream",
     "text": [
      " 29%|██▉       | 14/48 [12:28<28:31, 50.35s/it]"
     ]
    },
    {
     "name": "stdout",
     "output_type": "stream",
     "text": [
      "tracking at time step  42  of  365\n",
      "tracking at time step  82  of  365\n",
      "tracking at time step  123  of  365\n",
      "tracking at time step  163  of  365\n",
      "tracking at time step  204  of  365\n",
      "tracking at time step  244  of  365\n",
      "tracking at time step  285  of  365\n",
      "tracking at time step  325  of  365\n"
     ]
    },
    {
     "name": "stderr",
     "output_type": "stream",
     "text": [
      " 31%|███▏      | 15/48 [13:19<27:51, 50.64s/it]"
     ]
    },
    {
     "name": "stdout",
     "output_type": "stream",
     "text": [
      "tracking at time step  42  of  365\n",
      "tracking at time step  82  of  365\n",
      "tracking at time step  123  of  365\n",
      "tracking at time step  163  of  365\n",
      "tracking at time step  204  of  365\n",
      "tracking at time step  244  of  365\n",
      "tracking at time step  285  of  365\n",
      "tracking at time step  325  of  365\n"
     ]
    },
    {
     "name": "stderr",
     "output_type": "stream",
     "text": [
      " 33%|███▎      | 16/48 [14:09<26:57, 50.54s/it]"
     ]
    },
    {
     "name": "stdout",
     "output_type": "stream",
     "text": [
      "tracking at time step  42  of  365\n",
      "tracking at time step  82  of  365\n",
      "tracking at time step  123  of  365\n",
      "tracking at time step  163  of  365\n",
      "tracking at time step  204  of  365\n",
      "tracking at time step  244  of  365\n",
      "tracking at time step  285  of  365\n",
      "tracking at time step  325  of  365\n"
     ]
    },
    {
     "name": "stderr",
     "output_type": "stream",
     "text": [
      " 35%|███▌      | 17/48 [15:04<26:40, 51.62s/it]"
     ]
    },
    {
     "name": "stdout",
     "output_type": "stream",
     "text": [
      "tracking at time step  42  of  365\n",
      "tracking at time step  82  of  365\n",
      "tracking at time step  123  of  365\n",
      "tracking at time step  163  of  365\n",
      "tracking at time step  204  of  365\n",
      "tracking at time step  244  of  365\n",
      "tracking at time step  285  of  365\n",
      "tracking at time step  325  of  365\n"
     ]
    },
    {
     "name": "stderr",
     "output_type": "stream",
     "text": [
      " 38%|███▊      | 18/48 [16:02<26:47, 53.59s/it]"
     ]
    },
    {
     "name": "stdout",
     "output_type": "stream",
     "text": [
      "tracking at time step  42  of  365\n",
      "tracking at time step  82  of  365\n",
      "tracking at time step  123  of  365\n",
      "tracking at time step  163  of  365\n",
      "tracking at time step  204  of  365\n",
      "tracking at time step  244  of  365\n",
      "tracking at time step  285  of  365\n",
      "tracking at time step  325  of  365\n"
     ]
    },
    {
     "name": "stderr",
     "output_type": "stream",
     "text": [
      " 40%|███▉      | 19/48 [17:02<26:53, 55.65s/it]"
     ]
    },
    {
     "name": "stdout",
     "output_type": "stream",
     "text": [
      "tracking at time step  42  of  365\n",
      "tracking at time step  82  of  365\n",
      "tracking at time step  123  of  365\n",
      "tracking at time step  163  of  365\n",
      "tracking at time step  204  of  365\n",
      "tracking at time step  244  of  365\n",
      "tracking at time step  285  of  365\n",
      "tracking at time step  325  of  365\n"
     ]
    },
    {
     "name": "stderr",
     "output_type": "stream",
     "text": [
      " 42%|████▏     | 20/48 [18:05<27:02, 57.94s/it]"
     ]
    },
    {
     "name": "stdout",
     "output_type": "stream",
     "text": [
      "tracking at time step  42  of  365\n",
      "tracking at time step  82  of  365\n",
      "tracking at time step  123  of  365\n",
      "tracking at time step  163  of  365\n",
      "tracking at time step  204  of  365\n",
      "tracking at time step  244  of  365\n",
      "tracking at time step  285  of  365\n",
      "tracking at time step  325  of  365\n"
     ]
    },
    {
     "name": "stderr",
     "output_type": "stream",
     "text": [
      " 44%|████▍     | 21/48 [19:07<26:35, 59.09s/it]"
     ]
    },
    {
     "name": "stdout",
     "output_type": "stream",
     "text": [
      "tracking at time step  42  of  365\n",
      "tracking at time step  82  of  365\n",
      "tracking at time step  123  of  365\n",
      "tracking at time step  163  of  365\n",
      "tracking at time step  204  of  365\n",
      "tracking at time step  244  of  365\n",
      "tracking at time step  285  of  365\n",
      "tracking at time step  325  of  365\n"
     ]
    },
    {
     "name": "stderr",
     "output_type": "stream",
     "text": [
      " 46%|████▌     | 22/48 [20:07<25:38, 59.19s/it]"
     ]
    },
    {
     "name": "stdout",
     "output_type": "stream",
     "text": [
      "tracking at time step  42  of  365\n",
      "tracking at time step  82  of  365\n",
      "tracking at time step  123  of  365\n",
      "tracking at time step  163  of  365\n",
      "tracking at time step  204  of  365\n",
      "tracking at time step  244  of  365\n",
      "tracking at time step  285  of  365\n",
      "tracking at time step  325  of  365\n"
     ]
    },
    {
     "name": "stderr",
     "output_type": "stream",
     "text": [
      " 48%|████▊     | 23/48 [21:09<25:07, 60.30s/it]"
     ]
    },
    {
     "name": "stdout",
     "output_type": "stream",
     "text": [
      "tracking at time step  42  of  365\n",
      "tracking at time step  82  of  365\n",
      "tracking at time step  123  of  365\n",
      "tracking at time step  163  of  365\n",
      "tracking at time step  204  of  365\n",
      "tracking at time step  244  of  365\n",
      "tracking at time step  285  of  365\n",
      "tracking at time step  325  of  365\n"
     ]
    },
    {
     "name": "stderr",
     "output_type": "stream",
     "text": [
      " 50%|█████     | 24/48 [22:13<24:30, 61.26s/it]"
     ]
    },
    {
     "name": "stdout",
     "output_type": "stream",
     "text": [
      "tracking at time step  42  of  365\n",
      "tracking at time step  82  of  365\n",
      "tracking at time step  123  of  365\n",
      "tracking at time step  163  of  365\n",
      "tracking at time step  204  of  365\n",
      "tracking at time step  244  of  365\n",
      "tracking at time step  285  of  365\n",
      "tracking at time step  325  of  365\n"
     ]
    },
    {
     "name": "stderr",
     "output_type": "stream",
     "text": [
      " 52%|█████▏    | 25/48 [23:20<24:07, 62.94s/it]"
     ]
    },
    {
     "name": "stdout",
     "output_type": "stream",
     "text": [
      "tracking at time step  42  of  365\n",
      "tracking at time step  82  of  365\n",
      "tracking at time step  123  of  365\n",
      "tracking at time step  163  of  365\n",
      "tracking at time step  204  of  365\n",
      "tracking at time step  244  of  365\n",
      "tracking at time step  285  of  365\n",
      "tracking at time step  325  of  365\n"
     ]
    },
    {
     "name": "stderr",
     "output_type": "stream",
     "text": [
      " 54%|█████▍    | 26/48 [24:24<23:13, 63.36s/it]"
     ]
    },
    {
     "name": "stdout",
     "output_type": "stream",
     "text": [
      "tracking at time step  42  of  365\n",
      "tracking at time step  82  of  365\n",
      "tracking at time step  123  of  365\n",
      "tracking at time step  163  of  365\n",
      "tracking at time step  204  of  365\n",
      "tracking at time step  244  of  365\n",
      "tracking at time step  285  of  365\n",
      "tracking at time step  325  of  365\n"
     ]
    },
    {
     "name": "stderr",
     "output_type": "stream",
     "text": [
      " 56%|█████▋    | 27/48 [25:30<22:25, 64.09s/it]"
     ]
    },
    {
     "name": "stdout",
     "output_type": "stream",
     "text": [
      "tracking at time step  42  of  365\n",
      "tracking at time step  82  of  365\n",
      "tracking at time step  123  of  365\n",
      "tracking at time step  163  of  365\n",
      "tracking at time step  204  of  365\n",
      "tracking at time step  244  of  365\n",
      "tracking at time step  285  of  365\n",
      "tracking at time step  325  of  365\n"
     ]
    },
    {
     "name": "stderr",
     "output_type": "stream",
     "text": [
      " 58%|█████▊    | 28/48 [26:37<21:38, 64.95s/it]"
     ]
    },
    {
     "name": "stdout",
     "output_type": "stream",
     "text": [
      "tracking at time step  42  of  365\n",
      "tracking at time step  82  of  365\n",
      "tracking at time step  123  of  365\n",
      "tracking at time step  163  of  365\n",
      "tracking at time step  204  of  365\n",
      "tracking at time step  244  of  365\n",
      "tracking at time step  285  of  365\n",
      "tracking at time step  325  of  365\n"
     ]
    },
    {
     "name": "stderr",
     "output_type": "stream",
     "text": [
      " 60%|██████    | 29/48 [27:40<20:23, 64.38s/it]"
     ]
    },
    {
     "name": "stdout",
     "output_type": "stream",
     "text": [
      "tracking at time step  42  of  365\n",
      "tracking at time step  82  of  365\n",
      "tracking at time step  123  of  365\n",
      "tracking at time step  163  of  365\n",
      "tracking at time step  204  of  365\n",
      "tracking at time step  244  of  365\n",
      "tracking at time step  285  of  365\n",
      "tracking at time step  325  of  365\n"
     ]
    },
    {
     "name": "stderr",
     "output_type": "stream",
     "text": [
      " 62%|██████▎   | 30/48 [28:46<19:25, 64.75s/it]"
     ]
    },
    {
     "name": "stdout",
     "output_type": "stream",
     "text": [
      "tracking at time step  42  of  365\n",
      "tracking at time step  82  of  365\n",
      "tracking at time step  123  of  365\n",
      "tracking at time step  163  of  365\n",
      "tracking at time step  204  of  365\n",
      "tracking at time step  244  of  365\n",
      "tracking at time step  285  of  365\n",
      "tracking at time step  325  of  365\n"
     ]
    },
    {
     "name": "stderr",
     "output_type": "stream",
     "text": [
      " 65%|██████▍   | 31/48 [29:47<18:04, 63.79s/it]"
     ]
    },
    {
     "name": "stdout",
     "output_type": "stream",
     "text": [
      "tracking at time step  42  of  365\n",
      "tracking at time step  82  of  365\n",
      "tracking at time step  123  of  365\n",
      "tracking at time step  163  of  365\n",
      "tracking at time step  204  of  365\n",
      "tracking at time step  244  of  365\n",
      "tracking at time step  285  of  365\n",
      "tracking at time step  325  of  365\n"
     ]
    },
    {
     "name": "stderr",
     "output_type": "stream",
     "text": [
      " 67%|██████▋   | 32/48 [30:46<16:38, 62.42s/it]"
     ]
    },
    {
     "name": "stdout",
     "output_type": "stream",
     "text": [
      "tracking at time step  42  of  365\n",
      "tracking at time step  82  of  365\n",
      "tracking at time step  123  of  365\n",
      "tracking at time step  163  of  365\n",
      "tracking at time step  204  of  365\n",
      "tracking at time step  244  of  365\n",
      "tracking at time step  285  of  365\n",
      "tracking at time step  325  of  365\n"
     ]
    },
    {
     "name": "stderr",
     "output_type": "stream",
     "text": [
      " 69%|██████▉   | 33/48 [31:43<15:09, 60.64s/it]"
     ]
    },
    {
     "name": "stdout",
     "output_type": "stream",
     "text": [
      "tracking at time step  42  of  365\n",
      "tracking at time step  82  of  365\n",
      "tracking at time step  123  of  365\n",
      "tracking at time step  163  of  365\n",
      "tracking at time step  204  of  365\n",
      "tracking at time step  244  of  365\n",
      "tracking at time step  285  of  365\n",
      "tracking at time step  325  of  365\n"
     ]
    },
    {
     "name": "stderr",
     "output_type": "stream",
     "text": [
      " 71%|███████   | 34/48 [32:39<13:50, 59.33s/it]"
     ]
    },
    {
     "name": "stdout",
     "output_type": "stream",
     "text": [
      "tracking at time step  42  of  365\n",
      "tracking at time step  82  of  365\n",
      "tracking at time step  123  of  365\n",
      "tracking at time step  163  of  365\n",
      "tracking at time step  204  of  365\n",
      "tracking at time step  244  of  365\n",
      "tracking at time step  285  of  365\n",
      "tracking at time step  325  of  365\n"
     ]
    },
    {
     "name": "stderr",
     "output_type": "stream",
     "text": [
      " 73%|███████▎  | 35/48 [33:27<12:08, 56.04s/it]"
     ]
    },
    {
     "name": "stdout",
     "output_type": "stream",
     "text": [
      "tracking at time step  42  of  365\n",
      "tracking at time step  82  of  365\n",
      "tracking at time step  123  of  365\n",
      "tracking at time step  163  of  365\n",
      "tracking at time step  204  of  365\n",
      "tracking at time step  244  of  365\n",
      "tracking at time step  285  of  365\n",
      "tracking at time step  325  of  365\n"
     ]
    },
    {
     "name": "stderr",
     "output_type": "stream",
     "text": [
      " 75%|███████▌  | 36/48 [34:09<10:21, 51.76s/it]"
     ]
    },
    {
     "name": "stdout",
     "output_type": "stream",
     "text": [
      "tracking at time step  42  of  365\n",
      "tracking at time step  82  of  365\n",
      "tracking at time step  123  of  365\n",
      "tracking at time step  163  of  365\n",
      "tracking at time step  204  of  365\n",
      "tracking at time step  244  of  365\n",
      "tracking at time step  285  of  365\n",
      "tracking at time step  325  of  365\n"
     ]
    },
    {
     "name": "stderr",
     "output_type": "stream",
     "text": [
      " 77%|███████▋  | 37/48 [34:46<08:38, 47.11s/it]"
     ]
    },
    {
     "name": "stdout",
     "output_type": "stream",
     "text": [
      "tracking at time step  42  of  365\n",
      "tracking at time step  82  of  365\n",
      "tracking at time step  123  of  365\n",
      "tracking at time step  163  of  365\n",
      "tracking at time step  204  of  365\n",
      "tracking at time step  244  of  365\n",
      "tracking at time step  285  of  365\n",
      "tracking at time step  325  of  365\n"
     ]
    },
    {
     "name": "stderr",
     "output_type": "stream",
     "text": [
      " 79%|███████▉  | 38/48 [35:19<07:09, 42.97s/it]"
     ]
    },
    {
     "name": "stdout",
     "output_type": "stream",
     "text": [
      "tracking at time step  42  of  365\n",
      "tracking at time step  82  of  365\n",
      "tracking at time step  123  of  365\n",
      "tracking at time step  163  of  365\n",
      "tracking at time step  204  of  365\n",
      "tracking at time step  244  of  365\n",
      "tracking at time step  285  of  365\n",
      "tracking at time step  325  of  365\n"
     ]
    },
    {
     "name": "stderr",
     "output_type": "stream",
     "text": [
      " 81%|████████▏ | 39/48 [35:51<05:56, 39.64s/it]"
     ]
    },
    {
     "name": "stdout",
     "output_type": "stream",
     "text": [
      "tracking at time step  42  of  365\n",
      "tracking at time step  82  of  365\n",
      "tracking at time step  123  of  365\n",
      "tracking at time step  163  of  365\n",
      "tracking at time step  204  of  365\n",
      "tracking at time step  244  of  365\n",
      "tracking at time step  285  of  365\n",
      "tracking at time step  325  of  365\n"
     ]
    },
    {
     "name": "stderr",
     "output_type": "stream",
     "text": [
      " 83%|████████▎ | 40/48 [36:20<04:51, 36.44s/it]"
     ]
    },
    {
     "name": "stdout",
     "output_type": "stream",
     "text": [
      "tracking at time step  42  of  365\n",
      "tracking at time step  82  of  365\n",
      "tracking at time step  123  of  365\n",
      "tracking at time step  163  of  365\n",
      "tracking at time step  204  of  365\n",
      "tracking at time step  244  of  365\n",
      "tracking at time step  285  of  365\n",
      "tracking at time step  325  of  365\n"
     ]
    },
    {
     "name": "stderr",
     "output_type": "stream",
     "text": [
      " 85%|████████▌ | 41/48 [36:45<03:51, 33.08s/it]"
     ]
    },
    {
     "name": "stdout",
     "output_type": "stream",
     "text": [
      "tracking at time step  42  of  365\n",
      "tracking at time step  82  of  365\n",
      "tracking at time step  123  of  365\n",
      "tracking at time step  163  of  365\n",
      "tracking at time step  204  of  365\n",
      "tracking at time step  244  of  365\n",
      "tracking at time step  285  of  365\n",
      "tracking at time step  325  of  365\n"
     ]
    },
    {
     "name": "stderr",
     "output_type": "stream",
     "text": [
      " 88%|████████▊ | 42/48 [37:08<03:00, 30.06s/it]"
     ]
    },
    {
     "name": "stdout",
     "output_type": "stream",
     "text": [
      "tracking at time step  42  of  365\n",
      "tracking at time step  82  of  365\n",
      "tracking at time step  123  of  365\n",
      "tracking at time step  163  of  365\n",
      "tracking at time step  204  of  365\n",
      "tracking at time step  244  of  365\n",
      "tracking at time step  285  of  365\n",
      "tracking at time step  325  of  365\n"
     ]
    },
    {
     "name": "stderr",
     "output_type": "stream",
     "text": [
      " 90%|████████▉ | 43/48 [37:26<02:12, 26.54s/it]"
     ]
    },
    {
     "name": "stdout",
     "output_type": "stream",
     "text": [
      "tracking at time step  42  of  365\n",
      "tracking at time step  82  of  365\n",
      "tracking at time step  123  of  365\n",
      "tracking at time step  163  of  365\n",
      "tracking at time step  204  of  365\n",
      "tracking at time step  244  of  365\n",
      "tracking at time step  285  of  365\n",
      "tracking at time step  325  of  365\n"
     ]
    },
    {
     "name": "stderr",
     "output_type": "stream",
     "text": [
      " 92%|█████████▏| 44/48 [37:41<01:31, 22.85s/it]"
     ]
    },
    {
     "name": "stdout",
     "output_type": "stream",
     "text": [
      "tracking at time step  42  of  365\n",
      "tracking at time step  82  of  365\n",
      "tracking at time step  123  of  365\n",
      "tracking at time step  163  of  365\n",
      "tracking at time step  204  of  365\n",
      "tracking at time step  244  of  365\n",
      "tracking at time step  285  of  365\n",
      "tracking at time step  325  of  365\n"
     ]
    },
    {
     "name": "stderr",
     "output_type": "stream",
     "text": [
      " 94%|█████████▍| 45/48 [37:54<00:59, 19.90s/it]"
     ]
    },
    {
     "name": "stdout",
     "output_type": "stream",
     "text": [
      "tracking at time step  42  of  365\n",
      "tracking at time step  82  of  365\n",
      "tracking at time step  123  of  365\n",
      "tracking at time step  163  of  365\n",
      "tracking at time step  204  of  365\n",
      "tracking at time step  244  of  365\n",
      "tracking at time step  285  of  365\n",
      "tracking at time step  325  of  365\n"
     ]
    },
    {
     "name": "stderr",
     "output_type": "stream",
     "text": [
      " 96%|█████████▌| 46/48 [38:04<00:34, 17.18s/it]"
     ]
    },
    {
     "name": "stdout",
     "output_type": "stream",
     "text": [
      "tracking at time step  42  of  365\n",
      "tracking at time step  82  of  365\n",
      "tracking at time step  123  of  365\n",
      "tracking at time step  163  of  365\n",
      "tracking at time step  204  of  365\n",
      "tracking at time step  244  of  365\n",
      "tracking at time step  285  of  365\n",
      "tracking at time step  325  of  365\n"
     ]
    },
    {
     "name": "stderr",
     "output_type": "stream",
     "text": [
      "100%|██████████| 48/48 [38:14<00:00, 47.81s/it]"
     ]
    },
    {
     "name": "stdout",
     "output_type": "stream",
     "text": [
      "no eddies found to track\n"
     ]
    },
    {
     "name": "stderr",
     "output_type": "stream",
     "text": [
      "\n"
     ]
    }
   ],
   "source": [
    "# Now we track the eddies, all information needed has to be added to `tracking_parameters`\n",
    "for (depth, depth_index) in tqdm(depth_information):\n",
    "    datapath = f'/gxfs_work/geomar/smomw523/eddytools/results/{experiment_name}/smoothed/{sigma}/{data_resolution}/depth-{depth}/'\n",
    "    tracking_parameters['data_path'] = datapath\n",
    "    tracks = et.tracking.track(tracking_parameters)\n",
    "    with open(datapath\n",
    "            + f'Tracks_{tracking_start.replace(\"-\", \"\")}_{tracking_end.replace(\"-\", \"\")}_OW{np.abs(OW_thr_factor)}_Npix-{Npix_min}-{Npix_max}_rolling-{wx}.pickle', 'wb') as f:\n",
    "        pickle.dump(tracks, f, pickle.HIGHEST_PROTOCOL)\n",
    "    f.close()"
   ]
  },
  {
   "cell_type": "raw",
   "metadata": {
    "vscode": {
     "languageId": "raw"
    }
   },
   "source": [
    "tracks = et.tracking.track(tracking_parameters)\n",
    "with open(datapath\n",
    "        + f'Tracks_{tracking_start.replace(\"-\", \"\")}_{tracking_end.replace(\"-\", \"\")}_OW{np.abs(OW_thr_factor)}_Npix-{Npix_min}-{Npix_max}_rolling-{wx}.pickle', 'wb') as f:\n",
    "    pickle.dump(tracks, f, pickle.HIGHEST_PROTOCOL)\n",
    "f.close()"
   ]
  },
  {
   "cell_type": "markdown",
   "metadata": {},
   "source": [
    "We now have tracked all eddies that met the criteria specified in `tracking_parameters`. Every entry `i` in `tracks[i]` corresponds to one complete track."
   ]
  },
  {
   "cell_type": "raw",
   "metadata": {
    "vscode": {
     "languageId": "raw"
    }
   },
   "source": [
    "# The entries in `track` look like this\n",
    "tracks[1]"
   ]
  },
  {
   "cell_type": "raw",
   "metadata": {
    "vscode": {
     "languageId": "raw"
    }
   },
   "source": [
    "# To have a look at how the tracking performs, just pick two eddies and see whether they are tracked.\n",
    "ed1 = 0\n",
    "ed2 = 4\n",
    "t = 0\n",
    "j = 5\n",
    "\n",
    "plt.figure(figsize=(18, j))\n",
    "\n",
    "#plot_lon = data_int['lon'].where(data_int['lon'].values > 0, other=data_int['lon'].values + 360)\n",
    "\n",
    "ed1_lon = tracks[ed1]['lon']\n",
    "ed1_lon[ed1_lon < 0] = ed1_lon[ed1_lon < 0] + 360\n",
    "ed2_lon = tracks[ed2]['lon']\n",
    "ed2_lon[ed2_lon < 0] = ed2_lon[ed2_lon < 0] + 360\n",
    "\n",
    "for i in np.arange(0, j):\n",
    "    plt.subplot(1, j, i + 1)\n",
    "    #plt.pcolormesh(plot_lon, data_int.lat, data_int.OW.isel(time=t + i).values,\n",
    "    #               vmin=-5e-10, vmax=5e-10, cmap=cm.balance, shading='auto')\n",
    "    plt.plot(ed1_lon[t:t + i+1], tracks[ed1]['lat'][t:t + i+1], marker='o', color='m')\n",
    "    plt.plot(ed2_lon[t:t + i+1], tracks[ed2]['lat'][t:t + i+1], marker='o', color='y')"
   ]
  },
  {
   "cell_type": "raw",
   "metadata": {
    "vscode": {
     "languageId": "raw"
    }
   },
   "source": [
    "# This is how to open the tracks-file again (no need to do that if we just saved it)\n",
    " # We save the tracks for later use\n",
    "with open(datapath\n",
    "          + f'Tracks_{tracking_start.replace(\"-\", \"\")}_{tracking_end.replace(\"-\", \"\")}_OW{np.abs(OW_thr_factor)}_Npix-{Npix_min}-{Npix_max}_rolling-{wx}.pickle', 'rb') as f:\n",
    "    tracks = pickle.load(f)\n",
    "f.close()"
   ]
  },
  {
   "cell_type": "markdown",
   "metadata": {},
   "source": [
    "# Rest"
   ]
  },
  {
   "cell_type": "markdown",
   "metadata": {
    "tags": []
   },
   "source": [
    "### Split up the tracking\n",
    "If detecting and tracking in larger regions, the tracking can take very long. Because computations are often limited in duration on high-performance computing clusters, an option to split up the tracking into several chunks has been added. Note that the tracking still needs to be done serially, one chunk after the other.\n",
    "\n",
    "We first track the first half of the month, using the function `split_track()`."
   ]
  },
  {
   "cell_type": "raw",
   "metadata": {},
   "source": [
    "tracking_parameters_split = tracking_parameters\n",
    "tracking_parameters_split['start_time'] = '1976-01-03'\n",
    "tracking_parameters_split['end_time'] =  '1976-01-15'"
   ]
  },
  {
   "cell_type": "raw",
   "metadata": {},
   "source": [
    "tmp_split1, tracks_split1, terminated1 = et.tracking.split_track(tracking_parameters_split, \n",
    "                                                                 in_file=False, continuing=False)"
   ]
  },
  {
   "cell_type": "markdown",
   "metadata": {},
   "source": [
    "The file `tmp_split1` contains the tracks for the first time span as if they were tracked with `track()`. `tracks_split` additionally contains all unfinished tracks and needs to be passed on to the next round of tracking. `terminated1` contains all tracks that have been already terminated and needs to passed on to the next round as well to make sure they don't get tracked again."
   ]
  },
  {
   "cell_type": "raw",
   "metadata": {},
   "source": [
    "tracking_parameters_split['start_time'] = '1976-01-18'\n",
    "tracking_parameters_split['end_time'] =  '1976-01-31'"
   ]
  },
  {
   "cell_type": "raw",
   "metadata": {},
   "source": [
    "tracks_from_split, tracks_split2, terminated2 = et.tracking.split_track(tracking_parameters_split, \n",
    "                                                                        in_file=False, continuing=True,\n",
    "                                                                        tracks=tracks_split1,\n",
    "                                                                        terminated_set=terminated1)"
   ]
  },
  {
   "cell_type": "markdown",
   "metadata": {},
   "source": [
    "The variable `tracks_from_split` now contains the same tracks as the variable `tracks` from the normal tracking function `track()`. `tracks_split2` and `terminated2` are only needed when another period of tracking is to be added."
   ]
  }
 ],
 "metadata": {
  "kernelspec": {
   "display_name": "py3-eddytools",
   "language": "python",
   "name": "python3"
  },
  "language_info": {
   "codemirror_mode": {
    "name": "ipython",
    "version": 3
   },
   "file_extension": ".py",
   "mimetype": "text/x-python",
   "name": "python",
   "nbconvert_exporter": "python",
   "pygments_lexer": "ipython3",
   "version": "3.10.8"
  }
 },
 "nbformat": 4,
 "nbformat_minor": 4
}
